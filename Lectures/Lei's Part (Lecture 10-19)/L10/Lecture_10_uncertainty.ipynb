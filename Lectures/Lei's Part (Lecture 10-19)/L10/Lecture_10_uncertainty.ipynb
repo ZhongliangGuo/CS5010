{
 "cells": [
  {
   "cell_type": "code",
   "execution_count": 1,
   "id": "c063a788",
   "metadata": {
    "slideshow": {
     "slide_type": "skip"
    }
   },
   "outputs": [],
   "source": [
    "import matplotlib.pyplot as plt\n",
    "from scipy.stats import binom\n",
    "import numpy as np\n",
    "import math\n",
    "import scipy.stats as stats\n",
    "from scipy.special import logsumexp\n",
    " \n",
    "def hide_code_in_slideshow():   \n",
    "    from IPython import display\n",
    "    import binascii\n",
    "    import os\n",
    "    uid = binascii.hexlify(os.urandom(8)).decode()    \n",
    "    html = \"\"\"<div id=\"%s\"></div>\n",
    "    <script type=\"text/javascript\">\n",
    "        $(function(){\n",
    "            var p = $(\"#%s\");\n",
    "            if (p.length==0) return;\n",
    "            while (!p.hasClass(\"cell\")) {\n",
    "                p=p.parent();\n",
    "                if (p.prop(\"tagName\") ==\"body\") return;\n",
    "            }\n",
    "            var cell = p;\n",
    "            cell.find(\".input\").addClass(\"hide-in-slideshow\")\n",
    "        });\n",
    "    </script>\"\"\" % (uid, uid)\n",
    "    display.display_html(html, raw=True)\n",
    "#  a hack to hide code from cell: https://github.com/damianavila/RISE/issues/32    "
   ]
  },
  {
   "cell_type": "code",
   "execution_count": 2,
   "id": "e1722260",
   "metadata": {
    "slideshow": {
     "slide_type": "skip"
    }
   },
   "outputs": [
    {
     "data": {
      "text/plain": "<IPython.core.display.HTML object>",
      "text/html": "<style>\n .container.slides .celltoolbar, .container.slides .hide-in-slideshow {\n    display: None ! important;\n}\n</style>\n\n"
     },
     "metadata": {},
     "output_type": "display_data"
    }
   ],
   "source": [
    "%%html\n",
    "<style>\n",
    " .container.slides .celltoolbar, .container.slides .hide-in-slideshow {\n",
    "    display: None ! important;\n",
    "}\n",
    "</style>"
   ]
  },
  {
   "cell_type": "code",
   "execution_count": 3,
   "id": "cdfb14fa",
   "metadata": {
    "slideshow": {
     "slide_type": "skip"
    }
   },
   "outputs": [
    {
     "data": {
      "text/plain": "<IPython.core.display.HTML object>",
      "text/html": "\n<style>\n.output_png {\n    display: table-cell;\n    text-align: center;\n    vertical-align: middle;\n}\n</style>\n"
     },
     "execution_count": 3,
     "metadata": {},
     "output_type": "execute_result"
    }
   ],
   "source": [
    "from IPython.core.display import HTML\n",
    "HTML(\"\"\"\n",
    "<style>\n",
    ".output_png {\n",
    "    display: table-cell;\n",
    "    text-align: center;\n",
    "    vertical-align: middle;\n",
    "}\n",
    "</style>\n",
    "\"\"\")"
   ]
  },
  {
   "cell_type": "markdown",
   "id": "ac1bf393-5670-4d7e-9012-5248377bdd5e",
   "metadata": {
    "slideshow": {
     "slide_type": "slide"
    }
   },
   "source": [
    "# CS5010 Artificial Intelligence Principles\n",
    "### Lecture 10 Uncertainty\n",
    "#### Probability theory\n",
    "Lei Fang\n",
    "\n",
    "University of St Andrews"
   ]
  },
  {
   "cell_type": "markdown",
   "id": "3ed413e1",
   "metadata": {
    "slideshow": {
     "slide_type": "slide"
    }
   },
   "source": [
    "# About me (the other lecturer)\n",
    "\n",
    "Lei (pronounced as ``Lay``) Fang\n",
    "\n",
    "* Lecturer in School of Computer Science, St Andrews\n",
    "  * Background in Computer Science (1st degree)\n",
    "  * Ph.D. in statistical learning stuff\n",
    "* Mostly working on statistical learning, Bayesian machine learning etc nowadays\n",
    "* Office in Jack Cole Building, School of Computer Science\n",
    "* Email: lf28@st-andrews.ac.uk\n",
    "* Office hour by appointment, either in-person or on Teams, just email me"
   ]
  },
  {
   "cell_type": "markdown",
   "id": "77f84863",
   "metadata": {
    "slideshow": {
     "slide_type": "slide"
    }
   },
   "source": [
    "# What to cover for the rest of the course"
   ]
  },
  {
   "cell_type": "markdown",
   "id": "9d0d2cee",
   "metadata": {
    "slideshow": {
     "slide_type": "subslide"
    }
   },
   "source": [
    "## Uncertainty (coming two-three weeks)"
   ]
  },
  {
   "cell_type": "markdown",
   "id": "55254369",
   "metadata": {
    "slideshow": {
     "slide_type": "fragment"
    }
   },
   "source": [
    "In a nutshell, use **probability theory** to\n",
    "- equip machine with some uncertainty reasoning capability \n",
    "- human intelligence unconciously does it all the time, e.g.\n",
    "  * we judge how likely to win a lottery and invest accordingly \n",
    "  * bring an umbrella or not by weighing the likelihood of raining"
   ]
  },
  {
   "cell_type": "markdown",
   "id": "2a2f49a4",
   "metadata": {
    "slideshow": {
     "slide_type": "fragment"
    }
   },
   "source": [
    "- Human also known to be notoriously bad at uncertainty reasoning\n",
    "  * we will see a few examples\n",
    "  \n",
    "- We will have a revision on probability theory today\n",
    "- Practical 2 is about uncertainty and AI\n",
    "  * shall we use AI to replace some uncertainty management in society?\n",
    "  * more about this later ..."
   ]
  },
  {
   "cell_type": "markdown",
   "id": "d8797806",
   "metadata": {
    "slideshow": {
     "slide_type": "subslide"
    }
   },
   "source": [
    "## Searching (next next two weeks)"
   ]
  },
  {
   "cell_type": "markdown",
   "id": "36c7a9ee",
   "metadata": {
    "slideshow": {
     "slide_type": "fragment"
    }
   },
   "source": [
    "Equip machine with some problem solving skills via **searching**"
   ]
  },
  {
   "cell_type": "markdown",
   "id": "2dc0db56",
   "metadata": {
    "slideshow": {
     "slide_type": "fragment"
    }
   },
   "source": [
    "- It turns out a lot of problems are just searching problem\n",
    "  * with some modelling/transformation process (abstraction)\n",
    "  * e.g.\n",
    "    * finding a route from St Andrews to Edinburgh\n",
    "    * solving a sudoku puzzle \n",
    "- Again, human uncontiously does it sometimes\n",
    "  * machine is probably better than us at this for certain problems"
   ]
  },
  {
   "cell_type": "markdown",
   "id": "430c6eb1",
   "metadata": {
    "slideshow": {
     "slide_type": "fragment"
    }
   },
   "source": [
    "- We will learn a range of searching algorithms\n",
    "  * search is a field well studied in CS, maths and beyond\n",
    "  * learning objective: be able to compare and constrast them \n",
    "    * pick a suitable algorithm for your problem\n",
    "- More on this in the last two weeks"
   ]
  },
  {
   "cell_type": "markdown",
   "id": "5664f56b",
   "metadata": {
    "slideshow": {
     "slide_type": "slide"
    }
   },
   "source": [
    "# This lecture"
   ]
  },
  {
   "cell_type": "markdown",
   "id": "624549c5",
   "metadata": {
    "slideshow": {
     "slide_type": "fragment"
    }
   },
   "source": [
    "- Notion of uncertainty\n",
    "- Probability theory"
   ]
  },
  {
   "cell_type": "markdown",
   "id": "16982eca",
   "metadata": {
    "slideshow": {
     "slide_type": "fragment"
    }
   },
   "source": [
    "## Relevant book chapters of AI-AMA\n",
    "\n",
    "- Chapter 13 Quantifying uncertainty\n",
    "- Chapter 14 Probabilistic reasoning"
   ]
  },
  {
   "cell_type": "markdown",
   "id": "6bb97cdc",
   "metadata": {
    "slideshow": {
     "slide_type": "slide"
    }
   },
   "source": [
    "# Why we need probability theory and uncertainty reasoning ?"
   ]
  },
  {
   "cell_type": "markdown",
   "id": "c3dd5f95",
   "metadata": {
    "slideshow": {
     "slide_type": "slide"
    }
   },
   "source": [
    "# Let's start with a sad but relevant story \n",
    "### The case of Sally Clark - \"one of the great miscarriages of justice in modern British legal history\"\n",
    "\n",
    "![Sally Clark](http://newsimg.bbc.co.uk/media/images/38744000/jpg/_38744329_clark300.jpg)\n",
    "- Sally Clark, a solictor in Cheshire, also a mother of two"
   ]
  },
  {
   "cell_type": "markdown",
   "id": "f5b52e69",
   "metadata": {
    "slideshow": {
     "slide_type": "fragment"
    }
   },
   "source": [
    "- Sadly, both of Sally's children died out of sudden infant death syndrome (SIDS), a rare desease with a chance at $1/8543$\n",
    "- In Nov 1999, following the death of her second child, Sally Clark was convicted of murder at Chester Crown Court"
   ]
  },
  {
   "cell_type": "markdown",
   "id": "20c70e13",
   "metadata": {
    "slideshow": {
     "slide_type": "subslide"
    }
   },
   "source": [
    "A key arugment in  court: a peaedistrician professor, Sir Roy Meadow, testifying the chance of two children from an affluent family suffering cot death was 1 in 73 million $\\frac{1}{8543} \\times \\frac{1}{8543}$\n",
    "- the jurors swayed by the professor and gave a guilty verdict in 1999\n",
    "- and the uncertainty reasoning (statistics) used was completely wrong \n",
    "\n",
    "Sally was convicted of murdering both of her infant kids"
   ]
  },
  {
   "cell_type": "markdown",
   "id": "64533079",
   "metadata": {
    "slideshow": {
     "slide_type": "subslide"
    }
   },
   "source": [
    "Sally Clark was eventually exonerated and freed after serving 3 years in prison\n",
    "\n",
    "She suffered a number of severe psychiatric problems and died sadly in 2007"
   ]
  },
  {
   "cell_type": "markdown",
   "id": "fd2d7255",
   "metadata": {
    "slideshow": {
     "slide_type": "slide"
    }
   },
   "source": [
    "# Uncertain reasoning done by human intelligence"
   ]
  },
  {
   "cell_type": "markdown",
   "id": "be72939e",
   "metadata": {
    "slideshow": {
     "slide_type": "fragment"
    }
   },
   "source": [
    "- Clearly, there are some uncertainty reasoning in Sally Clark's case\n",
    "\n",
    "- The chance of a SIDS happening in an affuent family is \n",
    "$$\\frac{1}{8541}$$\n",
    "  * it means 1 out of 8541 middle class families with a child death, and the death is attributed to SIDS\n",
    "  * which is the level of uncertainty or _degree of belief_\n",
    "\n",
    "- The professor believes the chance of two children died from both SIDS is\n",
    "  $$\\frac{1}{8541} \\times \\frac{1}{8541}$$ 1 in 73 million chance\n",
    "- At a surface level, this uncertainty reasoning seems \"reasonable\" \n",
    "- But **very wrong**, we will see why later and do the inference properly at a later lecture "
   ]
  },
  {
   "cell_type": "markdown",
   "id": "d50e9c26",
   "metadata": {
    "slideshow": {
     "slide_type": "slide"
    }
   },
   "source": [
    "# Another example bad example: COVID vaccine protection rate\n",
    "### uncertainty inference by humans"
   ]
  },
  {
   "cell_type": "markdown",
   "id": "734c3fe6",
   "metadata": {
    "slideshow": {
     "slide_type": "fragment"
    }
   },
   "source": [
    "- Deaths counts due to COVID in the UK in two age groups (I cited from government SAGE report between week 32 and week 35 2021 )\n",
    "\n",
    "| age/death | Not Vaccinated | Double Vaccinated |\n",
    "| --- | --- | --- |\n",
    "| 70-79 | 129 | 428 |\n",
    "| 80+   | 155 | 928 |"
   ]
  },
  {
   "cell_type": "markdown",
   "id": "d8608f4d",
   "metadata": {
    "slideshow": {
     "slide_type": "fragment"
    }
   },
   "source": [
    "- Anti-vac argue COVID vaccine are useless\n",
    "- They claim: double vaccinated is more likely to die !\n",
    "    * age 70-79, double vac death rate is $\\frac{428}{428+129} = 77\\%$ \n",
    "    * age 80+, $\\frac{928}{928+155} = 86\\%$ \n",
    "    \n",
    "- Another uncertainty reasoning done by human and awfully **wrong**\n",
    "  * which again looks reasonable at surface level\n",
    "  * we will see how to do it properly next lecture"
   ]
  },
  {
   "cell_type": "markdown",
   "id": "43573d46",
   "metadata": {
    "slideshow": {
     "slide_type": "slide"
    }
   },
   "source": [
    "# But what exactly done wrong ?"
   ]
  },
  {
   "cell_type": "markdown",
   "id": "6ae407b8",
   "metadata": {
    "slideshow": {
     "slide_type": "fragment"
    }
   },
   "source": [
    "# AND how to do it properly ?"
   ]
  },
  {
   "cell_type": "markdown",
   "id": "b4d45116",
   "metadata": {
    "slideshow": {
     "slide_type": "fragment"
    }
   },
   "source": [
    "## Hope the two examples have motivated you enough"
   ]
  },
  {
   "cell_type": "markdown",
   "id": "6476a006",
   "metadata": {
    "slideshow": {
     "slide_type": "fragment"
    }
   },
   "source": [
    "We will see how to use **probability theory** to do uncertainty reasoning properly\n",
    "* find the correct probability that Sally's guilty and the protection rate of COVID vaccine\n",
    "* you can appreciate the importance of **probability theory** in proper reasoning"
   ]
  },
  {
   "cell_type": "markdown",
   "id": "30f20c1f",
   "metadata": {
    "slideshow": {
     "slide_type": "subslide"
    }
   },
   "source": [
    "## _Before we start, something to reflect though ..._\n",
    "* how easy homo-sapiens can be misled and how un-intelligent we are\n",
    "* the worst: we donot realise our igorance but hold it (mostly just predudice) dearly and firmly\n",
    "  * even a well respected professor made such a mistake \n",
    "* how to train a \"humble\" AI ? \n",
    "  * admit one's ignorance is actually intelligent!\n",
    "  * same applies to AI\n",
    "  * \"not very sure about this case\" is better than a 100\\% confident but wrong answer"
   ]
  },
  {
   "cell_type": "markdown",
   "id": "355dfa6e",
   "metadata": {
    "slideshow": {
     "slide_type": "slide"
    }
   },
   "source": [
    "# Probability theory"
   ]
  },
  {
   "cell_type": "markdown",
   "id": "dc81f523",
   "metadata": {
    "slideshow": {
     "slide_type": "slide"
    }
   },
   "source": [
    "# Probability space (the axioms)"
   ]
  },
  {
   "cell_type": "markdown",
   "id": "577c1fad",
   "metadata": {
    "slideshow": {
     "slide_type": "fragment"
    }
   },
   "source": [
    "A probability space consists of three elements $(\\Omega, \\mathcal{F}, P)$, _a triple_\n",
    "\n",
    "**Sample space** $\\Omega$: the set of all possible worlds\n",
    "  * e.g. the result of rolling a 6 facet die $\\Omega = \\{1,2,3,4,5,6\\}$\n",
    "  ![](https://encrypted-tbn0.gstatic.com/images?q=tbn:ANd9GcTNZbujbNicg3RtVNQOyUxfz7HBHTWrZEbAWwCWWGakE3Plkl82Np4BxZyoaBoB6UNGHT8&usqp=CAU)"
   ]
  },
  {
   "cell_type": "markdown",
   "id": "15e195c2",
   "metadata": {
    "slideshow": {
     "slide_type": "fragment"
    }
   },
   "source": [
    "* e.g. the experiment of flipping a coin twice $\\Omega = \\{HH, HT, TH, TT\\}$\n",
    "* $\\Omega$ needs to be **exhaustive** and **mutually exclusive**\n",
    "  * **exhaustive**: $\\Omega$ should contain all the possibilities\n",
    "  * **mutually exclusive**: only one of the outcome is possible at a time"
   ]
  },
  {
   "cell_type": "markdown",
   "id": "8add20af",
   "metadata": {
    "slideshow": {
     "slide_type": "subslide"
    }
   },
   "source": [
    "An **event** $E_i \\subset \\Omega$ and its collection **event space** $\\mathcal{F}=\\{E_i\\}$\n",
    "  * e.g. for the dice case, $E = \\{2,4,6\\}$ means the outcome is an even number\n",
    "  * e.g. for the coin case, we can define an $E$ as at least one head turning up: $E=\\{HH, HT, TH\\}$"
   ]
  },
  {
   "cell_type": "markdown",
   "id": "46a2b0f3",
   "metadata": {
    "slideshow": {
     "slide_type": "fragment"
    }
   },
   "source": [
    " * $\\Omega$ is an event, called **certain event**\n",
    " * $\\emptyset$ is also an event, **null event**\n",
    " * the collection of events we *care about* is called **event space** $\\mathcal{F}=\\{E_i\\}$\n",
    "   * for a discrete sample space, the event space can simply be $2^\\Omega$\n",
    "     * 6 facet die example, $\\mathcal{F} = \\{\\emptyset, \\{1\\}, \\{2\\}, \\ldots, \\{1,2,3,4,5,6\\}\\}$\n",
    "     * coin tossing (one toss) example, $\\mathcal{F} = \\{\\emptyset, \\{H\\}, \\{T\\}, \\{H,T\\}\\}$\n"
   ]
  },
  {
   "cell_type": "markdown",
   "id": "5aae8fce",
   "metadata": {
    "slideshow": {
     "slide_type": "subslide"
    }
   },
   "source": [
    "A **probability measure** $P(\\cdot)$: that assigns event $E_i \\in \\mathcal{F}$ a probability \n",
    "  * $P$ must satisfy: \n",
    "    * $P(\\Omega) = 1$ (certain event) and \n",
    "    * $0\\leq P(E) \\leq 1$ for any $E$\n",
    "    * $P(E_1 \\cup E_2)=P(E_1) + P(E_2)$ if $E_1$ and $E_2$ are mutually exclusive"
   ]
  },
  {
   "cell_type": "code",
   "execution_count": 4,
   "id": "6ec4c7b7",
   "metadata": {
    "scrolled": true,
    "slideshow": {
     "slide_type": "skip"
    }
   },
   "outputs": [],
   "source": [
    "# hide_code_in_slideshow()\n",
    "# v = venn2([set(['A', 'B']), set(['D', 'E'])], set_labels=(\"E1\", \"E2\"), alpha=1) \n",
    "# for idx, subset in enumerate(v.subset_labels):\n",
    "#     if v.subset_labels[idx] is not None:\n",
    "#         v.subset_labels[idx].set_text(\"P(E\"+ str(idx+1) +\")\")\n",
    "#         v.subset_labels[idx].set_visible(False)\n",
    "# Change Backgroud\n",
    "# plt.gca().set_facecolor('skyblue')\n",
    "# plt.gca().set_axis_on(); plt.title(\"mutually exclusive events\"); \n",
    "# plt.show();\n",
    "# plt.savefig('mutexclusive.png', bbox_inches='tight')"
   ]
  },
  {
   "cell_type": "markdown",
   "id": "e27c2650",
   "metadata": {
    "slideshow": {
     "slide_type": "fragment"
    }
   },
   "source": [
    "<center><img src=\"./figs/mutexclusive.png\" width = \"600\" height=\"600\"/></center>"
   ]
  },
  {
   "cell_type": "markdown",
   "id": "1ef936bd",
   "metadata": {
    "slideshow": {
     "slide_type": "subslide"
    }
   },
   "source": [
    "If $E_1$ and $E_2$ are not mutually exclusive, \n",
    "\n",
    "$$P(E_1 \\cup E_2) = P(E_1) + P(E_2) - P(E_1 \\cap E_2)$$"
   ]
  },
  {
   "cell_type": "code",
   "execution_count": 5,
   "id": "7969ae47",
   "metadata": {
    "slideshow": {
     "slide_type": "skip"
    }
   },
   "outputs": [],
   "source": [
    "# hide_code_in_slideshow()\n",
    "# v2 = venn2([set(['A', 'C', 'D']), set(['D', 'F', 'E'])], set_labels=(\"E1\", \"E2\"), alpha=1) \n",
    "# v2.subset_labels[0].set_text(\"P(E1)\")\n",
    "# v2.subset_labels[1].set_text(\"P(E2)\")\n",
    "# v2.subset_labels[2].set_text(\"P(E1^E2)\");\n",
    "# plt.gca().set_facecolor('skyblue');\n",
    "# plt.gca().set_axis_on();\n",
    "# plt.title(\"counter case mutually inclusive\");\n",
    "# plt.show()\n",
    "# plt.savefig('notmutexclusive1.png', bbox_inches='tight')"
   ]
  },
  {
   "cell_type": "markdown",
   "id": "9a609ceb",
   "metadata": {
    "slideshow": {
     "slide_type": "fragment"
    }
   },
   "source": [
    "<center><img src=\"./figs/notmutexclusive.png\" width = \"500\" height=\"400\"/></center>"
   ]
  },
  {
   "cell_type": "markdown",
   "id": "efe529a7",
   "metadata": {
    "slideshow": {
     "slide_type": "subslide"
    }
   },
   "source": [
    "# Caculate event's probability based on the triple \n",
    "\n",
    "For the experiment of die throwing \n",
    "  * $\\Omega = \\{1,2,3,4,5,6\\}$\n",
    "  * Events: elements of the power set of $\\Omega$: $\\mathcal{F} = \\{\\emptyset,  \\{1\\}, \\{2\\}, \\{3\\}, \\ldots, \\Omega\\}$ ($2^6$ elements!)\n",
    "  * Probability measure: if the die is fair, the singleton events' probabilities are $P(\\{1\\}) = P(\\{2\\}) = ... =P(\\{6\\})=1/6$\n",
    "  <center><img src=\"https://leo.host.cs.st-andrews.ac.uk/figs/dievenn.png\" width = \"600\" height=\"600\"/></center>"
   ]
  },
  {
   "cell_type": "markdown",
   "id": "78edf5ba",
   "metadata": {
    "slideshow": {
     "slide_type": "fragment"
    }
   },
   "source": [
    "* What's the probability that an even number showing up:\n",
    "  * $E_{even}=\\{2,4,6\\} = \\{2\\} \\cup \\{4\\} \\cup \\{6\\}$; and the singleton events are disjoint\n",
    "\n",
    "$P(\\text{Even number}) = P(\\{2,4,6\\}) = P(\\{2\\})+P(\\{4\\}) + P(\\{6\\}) = 1/6 + 1/6 +1/6 = 1/2$  "
   ]
  },
  {
   "cell_type": "markdown",
   "id": "11d91d51",
   "metadata": {
    "slideshow": {
     "slide_type": "subslide"
    }
   },
   "source": [
    "$P(\\text{Odd number}) = P(\\{1,3,5\\}) = P(\\{1\\}) + P(\\{3\\}) + P(\\{5\\}) = 1/6 + 1/6 +1/6 = 1/2$"
   ]
  },
  {
   "cell_type": "markdown",
   "id": "ee7f2d71",
   "metadata": {
    "slideshow": {
     "slide_type": "subslide"
    }
   },
   "source": [
    "$P(\\text{Even number} \\cup \\text{Odd number}) = P(\\text{Even number}) + P(\\text{Odd number}) = 1/2 +1/2=1$\n",
    "  * the two events,$\\{2,4,6\\}$ (orange cells) and $\\{1,3,5\\}$ (green cells) are disjoint\n",
    "  <center><img src=\"https://leo.host.cs.st-andrews.ac.uk/figs/dievenn2.png\" width = \"600\" height=\"600\"/></center>"
   ]
  },
  {
   "cell_type": "markdown",
   "id": "8ee1b18a",
   "metadata": {
    "slideshow": {
     "slide_type": "slide"
    }
   },
   "source": [
    "# Calculate event's probability based on probability triple\n",
    "\n",
    "The axioms, or probability triple, are not the most convenient tool to use in practice\n",
    "  * for example, tossing a coin 10,000 times and calculate the probability $E=\\{\\omega: \\text{the heads turn up more than half}\\}$ or $E=\\{\\omega: \\text{the number of heads turns up is an even number}\\}$\n",
    "  * the sample space $\\Omega$ has $2^{10000}$ elements, from $HHHH\\ldots$ to $TTTT\\ldots$"
   ]
  },
  {
   "cell_type": "markdown",
   "id": "ffc74814",
   "metadata": {
    "slideshow": {
     "slide_type": "fragment"
    }
   },
   "source": [
    "We need more convenient tool: namely _random variables_ \n",
    "  * if we are interested in the total count of 10000 tosses, assume $H=1$ and $T=0$\n",
    "  and $$X_i =\\begin{cases} 1, & \\text{the ith toss is Head} \\\\ 0, & \\text{the ith toss is Tail}\\end{cases}$$\n",
    "  * $X = \\sum_{i=1}^{10000} X_i$ is the _random variable_ we want to work with\n",
    "  * more on this next ..."
   ]
  },
  {
   "cell_type": "markdown",
   "id": "0d95d19f",
   "metadata": {
    "slideshow": {
     "slide_type": "slide"
    }
   },
   "source": [
    "# Random variable and probability distribution\n",
    "\n",
    "- Formally, a random variable $X$ is a mapping from $\\Omega$ to some possible value range $\\mathcal{A}_x$\n",
    "  * if $\\mathcal{A}_x$ is discrete, $X$ is called a *discrete random variable*, e.g. result of one coin tossing 0 (tail),1 (head)\n",
    "  * if $\\mathcal{A}_x$ is continuous, $X$ is called a *continuous random variable*, e.g. Gaussian \n",
    "- A random variable $X$ is also associated with a probability distribution $P(X)$, which satisfies\n",
    "$$P(X=x) \\geq 0 \\;\\text{for all}\\; x\\in \\mathcal{A}_x,\\; \\text{and} \\sum_{x\\in \\mathcal{A}_x} P(X=x) =1$$"
   ]
  },
  {
   "cell_type": "markdown",
   "id": "76af7687",
   "metadata": {
    "slideshow": {
     "slide_type": "fragment"
    }
   },
   "source": [
    "- Notation: $P(x)$  is a shorthand notation for $P(X=x)$\n",
    "- Capital letter $X,Y, \\texttt{Pass}, \\texttt{Weather}$ are random variables; \n",
    "- smaller letters $x,y, true, false, cloudy, sunny$ are particular values r.v.s can take  "
   ]
  },
  {
   "cell_type": "markdown",
   "id": "c35460b5",
   "metadata": {
    "slideshow": {
     "slide_type": "subslide"
    }
   },
   "source": [
    "Example 1 \n",
    "  * For a coin tossing example, $\\Omega=\\{H, T\\}$, let random variable $$X = \\begin{cases} 1 & \\omega = H \\\\ 0 & \\omega =T,\\end{cases}$$ in other words, $X(H) = 1$ and $X(T) = 0$ are mappings \n",
    "    * $X$: a _mapping_ from $\\Omega$ to $\\mathcal{A}_x =\\{0,1\\}$\n",
    "    * the associated probability distrbution is $P(X=1) = p$ and $P(X=0) = 1-p$, for some $0\\leq p \\leq 1$\n",
    "    * e.g. $p=0.7$, a bent coin "
   ]
  },
  {
   "cell_type": "code",
   "execution_count": 6,
   "id": "cadb2afe",
   "metadata": {
    "slideshow": {
     "slide_type": "fragment"
    }
   },
   "outputs": [
    {
     "data": {
      "text/plain": "<Figure size 432x288 with 1 Axes>",
      "image/png": "[encoded data removed]"
     },
     "metadata": {
      "needs_background": "light"
     },
     "output_type": "display_data"
    }
   ],
   "source": [
    "# hide_code_in_slideshow()\n",
    "names = ['X=0', 'X=1']; p =0.7;\n",
    "values = [1-p, p]\n",
    "plt.bar(names, values); plt.show();"
   ]
  },
  {
   "cell_type": "markdown",
   "id": "6d3d0ce9",
   "metadata": {
    "slideshow": {
     "slide_type": "subslide"
    }
   },
   "source": [
    "Example 2\n",
    "\n",
    "Toss a coin 3 times, $\\Omega = \\{HHH, HHT, HTH, THH, HTT, THT, TTH, TTT\\}$ \n",
    "\n",
    "Define a r.v. $X$ as the number of times head turns up \n",
    "  * then $X(TTT) =0$, $X(THT) = 1$, $X(TTH) = 1, \\ldots$\n",
    "  * the possible value for $X$: $\\mathcal{A}_x = \\{0,1,2,3\\}$  "
   ]
  },
  {
   "cell_type": "markdown",
   "id": "2f1ec39b",
   "metadata": {
    "slideshow": {
     "slide_type": "fragment"
    }
   },
   "source": [
    "  * the probability distribution is \n",
    "    $P(X = 0) = P(\\{TTT\\}) = (1-p)^3$; $P(X = 1) = P(\\{HTT, THT, TTH\\}) = 3 \\times (1-p)^2 p$; $P(X = 2) = P(\\{HHT, HTH, THH\\}) = 3 \\times (1-p) p^2$; \n",
    "  * note that $X=x$ actually defines an event, e.g. $X=3$ is $\\{HTT, THT, TTH\\}$ which is an event  \n",
    "  * note that $$P (X) \\geq 0\\; \\text{and}\\; P(X = 0) + P(X = 1) + P(X = 2) + P(X=3) = 1$$"
   ]
  },
  {
   "cell_type": "markdown",
   "id": "4d15bbd1",
   "metadata": {
    "slideshow": {
     "slide_type": "subslide"
    }
   },
   "source": [
    "  * for a bent coin with $p=0.7$, the distribution looks like below"
   ]
  },
  {
   "cell_type": "code",
   "execution_count": 7,
   "id": "4f870a17",
   "metadata": {
    "slideshow": {
     "slide_type": "fragment"
    }
   },
   "outputs": [
    {
     "data": {
      "text/plain": "<Figure size 432x288 with 1 Axes>",
      "image/png": "[encoded data removed]"
     },
     "metadata": {
      "needs_background": "light"
     },
     "output_type": "display_data"
    }
   ],
   "source": [
    "p = 0.7; n=3; names = [\"X=\" + str(number) for number in range(n+1)]; \n",
    "values = binom.pmf(np.arange(n+1), n, p).tolist()\n",
    "plt.bar(names, values); plt.show();"
   ]
  },
  {
   "cell_type": "markdown",
   "id": "4f1353c6",
   "metadata": {
    "slideshow": {
     "slide_type": "subslide"
    }
   },
   "source": [
    "In general, the number of heads $X$ showing up for $n$ tosses of a coin with a head probabilty $p$ is a **Binomial distribution** $$P(X=x) = \\binom{n}{x} (1-p)^{n-x} p^{x}$$\n",
    "  * $\\binom{n}{x}$ is binomial coefficient, e.g. $\\binom{3}{2} = 3$: i.e. out of the three tosses, how many ways to see head twice: HHT, HTH, THH\n",
    "  * the plot below is tossing $n= 10$ times with each success probability $p=0.7$\n",
    "  * key intuition: $P$ tells how likely you are going to see a result of $X=x$\n",
    "    * in this example, the most likely result, called *mode* is 7\n",
    "    * you are almost impossible to observe $X=0$, i.e. all 10 tosses are tail, the probability is $0.3^{10}$"
   ]
  },
  {
   "cell_type": "code",
   "execution_count": 8,
   "id": "d751b53c",
   "metadata": {
    "slideshow": {
     "slide_type": "fragment"
    }
   },
   "outputs": [
    {
     "data": {
      "text/plain": "<Figure size 432x288 with 1 Axes>",
      "image/png": "[encoded data removed]"
     },
     "metadata": {
      "needs_background": "light"
     },
     "output_type": "display_data"
    }
   ],
   "source": [
    "p = 0.7; n=10; names = [str(number) for number in range(n+1)]; \n",
    "values = binom.pmf(np.arange(n+1), n, p).tolist()\n",
    "plt.bar(names, values); plt.show();"
   ]
  },
  {
   "cell_type": "markdown",
   "id": "026cf06f",
   "metadata": {
    "slideshow": {
     "slide_type": "subslide"
    }
   },
   "source": [
    "For the 10000 tossing case, \n",
    "\n",
    "- what's probability of more head than tail ?\n",
    " $$P(\\text{more heads than tail}) = P(X > 5000) = \\sum_{x > 5000}P(X=x)$$\n",
    " \n",
    "- what's the probability of even number of head shows up ?\n",
    " $$P(\\text{even toss}) = P(X = \\{2,4,6,\\ldots, 10000\\}) = \\sum_{x\\in \\{2,4,\\ldots, 10000\\}} P(X=x)$$"
   ]
  },
  {
   "cell_type": "code",
   "execution_count": 9,
   "id": "675b7854",
   "metadata": {
    "slideshow": {
     "slide_type": "skip"
    }
   },
   "outputs": [],
   "source": [
    "p = 0.7; n=10000; \n",
    "# using log probability to avoid underflow, imagine timing 0.7 or 0.3 10k times! \n",
    "values = binom.logpmf(np.arange(n+1), n, p)\n",
    "# calculate back the probability in normal sense\n",
    "# logsumexp calculates log \\sum_{i} exp(x_i) more numerically stably \n",
    "p_moreheads = np.exp(logsumexp(values[5001:]))\n",
    "p_even = np.exp(logsumexp(values[::2]))"
   ]
  },
  {
   "cell_type": "markdown",
   "id": "ede6e6ad",
   "metadata": {
    "slideshow": {
     "slide_type": "slide"
    }
   },
   "source": [
    "Example 3 (Continuous random variable, Gaussian)\n",
    "\n",
    "Remember if $\\mathcal{A}_x$ is continuous, the random variable is called a continuous r.v.\n",
    "   * For example Gaussian random variable $x$ has a distribution $$p(X=x) = N(x; \\mu, \\sigma^2) = \\frac{1}{\\sigma \\sqrt{2\\pi}} e^{-\\frac{1}{2} \\left(\\frac{x-\\mu}{\\sigma} \\right)^2}$$\n",
    "   * Note that $p(x)>0$ and $\\int_{-\\infty}^{\\infty} p(x) dx = 1$ (need to do some integration here)\n",
    "   * One can calculate the probability by integration\n",
    "   $p(X\\in (a, b)) = \\int_{a}^{b} p(x) dx$"
   ]
  },
  {
   "cell_type": "code",
   "execution_count": 10,
   "id": "aed346b9",
   "metadata": {
    "slideshow": {
     "slide_type": "fragment"
    }
   },
   "outputs": [
    {
     "data": {
      "text/plain": "<Figure size 432x288 with 1 Axes>",
      "image/png": "[encoded data removed]"
     },
     "metadata": {
      "needs_background": "light"
     },
     "output_type": "display_data"
    }
   ],
   "source": [
    "mu = 0; variance = 1; sigma = math.sqrt(variance)\n",
    "x = np.linspace(mu - 4*sigma, mu + 4*sigma, 100)\n",
    "plt.plot(x, stats.norm.pdf(x, mu, sigma)); plt.show();"
   ]
  },
  {
   "cell_type": "markdown",
   "id": "7b9eaefb",
   "metadata": {
    "slideshow": {
     "slide_type": "slide"
    }
   },
   "source": [
    "# In practice, we don't need to worry about the probability triple\n",
    "\n",
    "* We care about the r.v. and its distribution (rather than the implied probability triple)\n",
    "* Previous Gaussian r.v. is an example, we didn't specify its $(\\Omega, P_\\omega, \\mathcal{F})$\n",
    "* Here is another example of categorical random variable, $X\\in \\mathcal{A}_x$ where $\\mathcal{A}_x = \\{a,b,c\\ldots, z, \\_\\}$\n",
    "  - the English alphabet plus empty space \"\\_\"\n",
    "  - the following is the probability distribution of alphabet in an English text\n",
    "  - it basically tells you $\\_$, e, i, n, o are more likely to be used than e.g. letter z"
   ]
  },
  {
   "cell_type": "markdown",
   "id": "f6310da5",
   "metadata": {
    "slideshow": {
     "slide_type": "subslide"
    }
   },
   "source": [
    "<center><img src=\"https://leo.host.cs.st-andrews.ac.uk/figs/figure21.png\" width = \"800\" height=\"1000\"/></center>\n",
    "\n",
    "* as expected, letters $\\texttt{a, e, i} \\ldots$ are among the most popular letters used in English text"
   ]
  },
  {
   "cell_type": "markdown",
   "id": "c0b3e31b",
   "metadata": {
    "slideshow": {
     "slide_type": "slide"
    }
   },
   "source": [
    "# Joint probability and random variables \n",
    "\n",
    "- It is common to work multiple random variables at the same time\n",
    "  * e.g. $X$, $Y$ are the random variables of two die tossing \n",
    "  * or bigrams, $X$ is the first letter $Y$ is the following letter \n",
    "    * e.g. \"student\" has following bigrams: st, tu, de, en, nt\n",
    "    * for bigram \"$st$\", $X=s$ and $Y=t$"
   ]
  },
  {
   "cell_type": "markdown",
   "id": "3719ad21",
   "metadata": {
    "slideshow": {
     "slide_type": "fragment"
    }
   },
   "source": [
    "- A joint event: denotd as $X,Y$: seperated by \",\", means when X, Y are jointly true\n",
    "  * some write : $X \\wedge Y$\n",
    "  * dice example: $X = 3$, $Y = 6$: the first toss is 3 and second toss is 6\n",
    " \n",
    "<!--   * Bigram: $X = s, Y = t$, denotes the bigram observed is \"$st$\" -->\n",
    "\n",
    "- The probability distribution of the joint random variable then is\n",
    "$$P(X, Y)$$\n",
    "  * it gives the probability of the joint event is true\n",
    "  * dice example, $P(X =3, Y=6) = \\frac{1}{36}$\n",
    " \n",
    "- Joint distribution is a valid probability distribution: satisfies \n",
    "$$P(X, Y) \\geq 0 \\text{ and } \\sum_{x}\\sum_{y} P(X=x, Y=y) = 1$$"
   ]
  },
  {
   "cell_type": "markdown",
   "id": "b1e73d78",
   "metadata": {
    "slideshow": {
     "slide_type": "subslide"
    }
   },
   "source": [
    "  * $6\\times 6$ entries for $P(X, Y)$ of two dice tossing\n",
    "  \n",
    "|X, Y       | 1   | 2    | 3 | 4 | 5  |  6  |\n",
    "| ---   | --- |  --- |---|---|--- | --- |\n",
    "| 1   | 1/36 |  1/36 |1/36|1/36|1/36 | 1/36 |\n",
    "| 2   | 1/36 |  1/36 |1/36|1/36|1/36 | 1/36 |\n",
    "| 3   | 1/36 |  1/36 |1/36|1/36|1/36 | 1/36 |\n",
    "| 4   | 1/36 |  1/36 |1/36|1/36|1/36 | 1/36 |\n",
    "| 5   | 1/36 |  1/36 |1/36|1/36|1/36 | 1/36 |\n",
    "| 6   | 1/36 |  1/36 |1/36|1/36|1/36 | 1/36 |\n",
    "  \n",
    "  * it is a valid probability distribution\n",
    "    * all positive $P(X, Y) \\geq 0$\n",
    "    * and $\\sum_{x,y\\in \\{1,\\ldots,6\\} } P(X=x, Y=y) = 36 \\times \\frac{1}{36} = 1$"
   ]
  },
  {
   "cell_type": "markdown",
   "id": "1dc69a31",
   "metadata": {
    "slideshow": {
     "slide_type": "subslide"
    }
   },
   "source": [
    "* For the bigram case: \n",
    "  * remember $X,Y$ represents the first and second letter,\n",
    "  * so $X = s, Y = t$, denotes a bigram \"$st$\""
   ]
  },
  {
   "cell_type": "markdown",
   "id": "c42cce44",
   "metadata": {
    "slideshow": {
     "slide_type": "fragment"
    }
   },
   "source": [
    "<center><img src=\"https://leo.host.cs.st-andrews.ac.uk/figs/figure19.png\" width = \"600\" height=\"600\"/></center>"
   ]
  },
  {
   "cell_type": "markdown",
   "id": "42ee8236",
   "metadata": {
    "slideshow": {
     "slide_type": "fragment"
    }
   },
   "source": [
    "  * there are $27 \\times 27$ entries\n",
    "  * very common bigrams are \"in\", \"re\", \"he\", \"th\", \"\\_a\" (starting with \"a\")\n",
    "  * uncommon bigrams are \"aa\", \"az\", \"tb\", \"j\\_\" (ending with \"j\")\n",
    "  * sum all $27\\times 27$ entries will be 1"
   ]
  },
  {
   "cell_type": "markdown",
   "id": "a1348491",
   "metadata": {
    "slideshow": {
     "slide_type": "slide"
    }
   },
   "source": [
    "# Probability rule 1: marginal probability\n",
    "\n",
    "There are only two rules\n",
    "\n",
    "* summation rule or marginalisation\n",
    "$$P(X) = \\sum_{y}P(X, Y=y);\\;\\; P(Y) = \\sum_{x}P(X=x, Y),$$\n",
    "  * $P(X), P(Y)$ are called marginal probability"
   ]
  },
  {
   "cell_type": "markdown",
   "id": "140c1cc2",
   "metadata": {
    "slideshow": {
     "slide_type": "subslide"
    }
   },
   "source": [
    "| X, Y       | 1   | 2    | 3 | 4 | 5  |  6  | P(X)|\n",
    "| ---   | --- |  --- |---|---|--- | --- | --- |\n",
    "| 1   | <span style=\"color:blue\">1/36</span> |  <span style=\"color:blue\">1/36</span>  |<span style=\"color:blue\">1/36</span>|<span style=\"color:blue\">1/36</span>|<span style=\"color:blue\">1/36</span> | <span style=\"color:blue\">1/36</span> |  <span style=\"color:blue\">1/6</span>|\n",
    "| 2   |<span style=\"color:black\">1/36</span> |  1/36 |1/36|1/36|1/36 | 1/36 |  1/6|\n",
    "| 3   | <span style=\"color:black\">1/36</span> |  1/36 |1/36|1/36|1/36 | 1/36 |  1/6|\n",
    "| 4   | <span style=\"color:black\">1/36</span> |  1/36 |1/36|1/36|1/36 | 1/36 |  1/6|\n",
    "| 5   | <span style=\"color:black\">1/36</span> |  1/36 |1/36|1/36|1/36 | 1/36 |  1/6|\n",
    "| 6   | <span style=\"color:black\">1/36</span> |  1/36 |1/36|1/36|1/36 | 1/36 |  1/6|\n",
    "|P(Y) | <span style=\"color:black\">1/6</span>  | 1/6   | 1/6  | 1/6 | 1/6 | 1/6|   \n",
    "\n",
    "\n",
    "* the marginal distribution of the first throw is $P(X)$\n",
    "$$P(\\color{blue} {X = 1} ) = \\sum_{y= \\{1,2,\\ldots,6\\}} \\color{blue} {P(X=1, Y=y)} = 6 \\times \\color{blue} {\\frac{1}{36}} = \\color{blue} {\\frac{1}{6}}$$\n",
    "  * sum over the first row  \n",
    "\n",
    "  \n",
    "* the marginalisation is also called: summing over\n",
    "  * collapsing the other dimension"
   ]
  },
  {
   "cell_type": "markdown",
   "id": "25d78100",
   "metadata": {
    "slideshow": {
     "slide_type": "subslide"
    }
   },
   "source": [
    "| X, Y       | 1   | 2    | 3 | 4 | 5  |  6  | P(X)|\n",
    "| ---   | --- |  --- |---|---|--- | --- | --- |\n",
    "| 1   | <span style=\"color:red\">1/36</span> |  <span style=\"color:black\">1/36</span>  |<span style=\"color:black\">1/36</span>|<span style=\"color:black\">1/36</span>|<span style=\"color:black\">1/36</span> | <span style=\"color:black\">1/36</span> |  <span style=\"color:black\">1/6</span>|\n",
    "| 2   |<span style=\"color:red\">1/36</span> |  1/36 |1/36|1/36|1/36 | 1/36 |  1/6|\n",
    "| 3   | <span style=\"color:red\">1/36</span> |  1/36 |1/36|1/36|1/36 | 1/36 |  1/6|\n",
    "| 4   | <span style=\"color:red\">1/36</span> |  1/36 |1/36|1/36|1/36 | 1/36 |  1/6|\n",
    "| 5   | <span style=\"color:red\">1/36</span> |  1/36 |1/36|1/36|1/36 | 1/36 |  1/6|\n",
    "| 6   | <span style=\"color:red\">1/36</span> |  1/36 |1/36|1/36|1/36 | 1/36 |  1/6|\n",
    "|P(Y) | <span style=\"color:red\">1/6</span>  | 1/6   | 1/6  | 1/6 | 1/6 | 1/6|   \n",
    "\n",
    "* the marginal distribution of the second throw is $P(Y)$\n",
    "\n",
    "\n",
    "$$P(\\color{red} {Y = 1}) = \\sum_{x= \\{1,2,\\ldots,6\\}} \\color{red} {P(X=x, Y=1)} = 6 \\times \\color{red} {\\frac{1}{36}} = \\color{red} {\\frac{1}{6}}$$\n",
    "  * sum over the first column"
   ]
  },
  {
   "cell_type": "markdown",
   "id": "f7d6b02d",
   "metadata": {
    "slideshow": {
     "slide_type": "subslide"
    }
   },
   "source": [
    "<center><img src=\"https://leo.host.cs.st-andrews.ac.uk/figs//Figure_2.3.png\" width = \"600\" height=\"600\"/></center>"
   ]
  },
  {
   "cell_type": "markdown",
   "id": "3ed4b085",
   "metadata": {
    "slideshow": {
     "slide_type": "slide"
    }
   },
   "source": [
    "# Conditional probability \n",
    "\n",
    "Before we introduce the second rule, we need a concept called conditional probability, denoted as \n",
    "\n",
    "$$P(X|Y=y):$$ \n",
    "\n",
    "* the probability of event X occurring given that we know event Y=y to have occurred\n",
    "* in short, the probability of X given Y\n",
    "\n",
    "Conditional probability is a very useful concept for probabilistic inference\n",
    "\n",
    "* inference: $P(\\texttt{Burglar}|\\texttt{Alarm})$, $P(\\text{COVID}|\\texttt{Test} = positive)$, \n",
    "* prediction (inference over a future event): $P(\\texttt{Rain_today}|\\texttt{Rain_yesterday})$"
   ]
  },
  {
   "cell_type": "markdown",
   "id": "33ad8e68",
   "metadata": {
    "slideshow": {
     "slide_type": "subslide"
    }
   },
   "source": [
    "Conditional probability of $X$ given $Y$ can be calculated:\n",
    "\n",
    "$$P(X=x|Y=y) = \\frac{P(X=x, Y=y)}{P(Y=y)} = \\frac{P(X=x, Y=y)}{\\sum_x P(X=x, Y=y)}$$\n",
    "\n",
    "  * the ratio between joint and marginal probability"
   ]
  },
  {
   "cell_type": "code",
   "execution_count": 11,
   "id": "50517675",
   "metadata": {
    "slideshow": {
     "slide_type": "skip"
    }
   },
   "outputs": [],
   "source": [
    "# hide_code_in_slideshow()\n",
    "# v3 = venn2([set(['A', 'B', 'D']), set(['D', 'C', 'E'])], set_labels=(\"\", \"\"), alpha=1) \n",
    "# v3.subset_labels[0].set_text(\"P(X=x)\")\n",
    "# v3.subset_labels[1].set_text(\"P(Y=y)\")\n",
    "# v3.subset_labels[2].set_text(\"P(X=x,Y=y)\");plt.gca().set_facecolor('skyblue');plt.gca().set_axis_on();plt.title(\"counter case mutually inclusive\");\n",
    "# plt.show()\n",
    "# plt.savefig('conditionalprob.png', bbox_inches='tight')"
   ]
  },
  {
   "cell_type": "markdown",
   "id": "8c9b7dc5",
   "metadata": {
    "slideshow": {
     "slide_type": "fragment"
    }
   },
   "source": [
    "<center><img src=\"E:\\郭重良\\St Andrews\\CS5010\\Lecture\\L10\\figs\\conditionalprob.png\" width = \"600\" height=\"600\"/></center>"
   ]
  },
  {
   "cell_type": "markdown",
   "id": "12e607c1",
   "metadata": {
    "slideshow": {
     "slide_type": "fragment"
    }
   },
   "source": [
    "  * note that $P(X|Y=y)$ is a valid distribution of $X$:\n",
    "  $$P(X|Y=y) >0\\;\\; \\text{and}\\;\\; \\sum_{x}P(X=x|Y=y) = 1$$\n",
    "  * given a joint distribution, the conditional is just the normalised row/column!"
   ]
  },
  {
   "cell_type": "markdown",
   "id": "c549e3b2",
   "metadata": {
    "slideshow": {
     "slide_type": "subslide"
    }
   },
   "source": [
    "# Conditional probability example COVID vaccine\n",
    "\n",
    "| age/death | Not Vaccinated | Double Vaccinated |\n",
    "| --- | --- | --- |\n",
    "| 80+   | 155 | 928 |\n",
    "\n",
    "Define \n",
    "* `Vac` $\\in \\{true, false\\}$: random variable whether a 80+ is double vaccinated or not\n",
    "* `Death` $\\in \\{true, false\\}$: r.v. a 80+ died due to COVID\n",
    "\n",
    "The true protection rate is actually: $$P(\\texttt{Death}=true|\\texttt{Vac}=true) = \\frac{P(\\texttt{Death}=true, \\texttt{Vac}=true)}{P(\\texttt{Vac}=true)}$$\n"
   ]
  },
  {
   "cell_type": "markdown",
   "id": "28ac40b0",
   "metadata": {
    "slideshow": {
     "slide_type": "fragment"
    }
   },
   "source": [
    "<center><img src=\"./figs/covidvac.png\" width = \"800\" height=\"600\"/></center>"
   ]
  },
  {
   "cell_type": "markdown",
   "id": "ed7556e4",
   "metadata": {
    "slideshow": {
     "slide_type": "fragment"
    }
   },
   "source": [
    "$$P(\\texttt{Death}=true|\\texttt{Vac}=true) = \\frac{P(\\texttt{Death}=true, \\texttt{Vac}=true)}{P(\\texttt{Vac}=true)} = \\frac{\\frac{928}{3 \\times 10^6}}{\\frac{2.94\\times 10^6}{3 \\times 10^6}}= 0.032\\%$$\n",
    "\n",
    "$$P(\\texttt{Death}=true|\\texttt{Vac}=false) = \\frac{P(\\texttt{Death}=true, \\texttt{Vac}=false)}{P(\\texttt{Vac}=false)} = \\frac{\\frac{155}{3 \\times 10^6}}{\\frac{0.06\\times 10^6}{3 \\times 10^6}}= 0.26\\%$$"
   ]
  },
  {
   "cell_type": "markdown",
   "id": "1967aa0d",
   "metadata": {
    "slideshow": {
     "slide_type": "subslide"
    }
   },
   "source": [
    "# Conditional probability example \n",
    "\n",
    "Bigram example\n",
    " * left: $P(y|x)$: conditional probability of the second letter given the first letter\n",
    "    * each row sum to one\n",
    "    * e.g. check $P(y|x = \\texttt{q})$: the 17th row \n",
    "      * it tells us it is very likely to see $\\texttt{u}$ following $\\texttt{q}$: i.e. $\\texttt{qu}$\n",
    "      * also very likely to see $\\texttt{q}\\_$: i.e. bigrams end with $\\texttt{q}$, say Iraq, BBQ?\n",
    "\n",
    "<center><img src=\"https://leo.host.cs.st-andrews.ac.uk/figs/figure20.png\" width = \"1000\" height=\"600\"/></center>"
   ]
  },
  {
   "cell_type": "markdown",
   "id": "7917d280",
   "metadata": {
    "slideshow": {
     "slide_type": "fragment"
    }
   },
   "source": [
    "* right $P(x|y)$: conditional probability of the first letter given second \n",
    "  * each column sum to one\n",
    "  * e.g. check $P(x|y = \\texttt{q})$: the 17th column\n",
    "    * conditional probability of the first letter given the second letter is $\\texttt{q}$\n",
    "    * the top three entries are ${x} = \\texttt{a}, \\texttt{e}, \\_$: i.e. $\\texttt{aq, eq}$ and bigrams start with $\\texttt{q}$"
   ]
  },
  {
   "cell_type": "markdown",
   "id": "b0bc233a",
   "metadata": {
    "slideshow": {
     "slide_type": "slide"
    }
   },
   "source": [
    "# Probability rule 2: product rule\n",
    "\n",
    "Product rule or chain rule \n",
    "$$P(X, Y) = P(X)P(Y|X);\\;\\; P(X, Y) = P(Y)P(X|Y)$$\n",
    "\n",
    "  * the chain order doesn't matter\n",
    "  * joint distribution factorised as a product\n",
    "  "
   ]
  },
  {
   "cell_type": "markdown",
   "id": "4b7f2fc5",
   "metadata": {
    "slideshow": {
     "slide_type": "fragment"
    }
   },
   "source": [
    "For joint distribution for more than two r.v.s  \n",
    "\n",
    "$$P(X, Y, Z) = P(X)P(Y|X)P(Z|X, Y)$$"
   ]
  },
  {
   "cell_type": "markdown",
   "id": "8d4880df",
   "metadata": {
    "slideshow": {
     "slide_type": "slide"
    }
   },
   "source": [
    "# Independence and independent random variables\n",
    "\n",
    "If $X,Y$ are independent, then $$P(X,Y) = P(X)P(Y)$$\n",
    "\n",
    "One can show that if $X,Y$ are independent, then $$P(X|Y) = P(X)$$\n",
    "  * intuition: knowing (conditional on $Y$) does not change the probability\n",
    "  * can you prove it by using the probability probability rules ?"
   ]
  },
  {
   "cell_type": "markdown",
   "id": "8327e957",
   "metadata": {
    "slideshow": {
     "slide_type": "subslide"
    }
   },
   "source": [
    "#### Let's go back to Sally Clark's case\n",
    "- The professor believes the chance of two children died from both SIDS is\n",
    "  $$\\frac{1}{8541} \\times \\frac{1}{8541}$$ 1 in 73 million chance\n",
    "  \n",
    "- He has assumed the two events are independent, let $C_1 = \\text{SIDs}$ (and $C_2$) be the first (second) child's cause of death is SIDS, $C_1 = murder$ means dies from murder, the expert has assumed\n",
    "$$P(C_1= \\text{SIDs}, C_2= \\text{SIDs}) = P(C_1= \\text{SIDs}) P(C_2= \\text{SIDs})$$\n",
    "  * do you agree ?"
   ]
  },
  {
   "cell_type": "markdown",
   "id": "fd85b3e5",
   "metadata": {
    "slideshow": {
     "slide_type": "fragment"
    }
   },
   "source": [
    "Not really!\n",
    "- genetic runs in family\n",
    "- environment factors also have a play (they breathe the same air, eat the same food etc.)\n",
    "\n",
    "If the first child dies from one disease, the second's risk is increased!\n",
    "- same as parents have diabetes, you are more likely to have it\n",
    "\n",
    "Rather, we should use chain rule:\n",
    "$$P(C_1, C_2) = P(C_1) P(C_2|C_1)$$\n",
    "\n",
    "- $P(C_2=\\text{SIDs}|C_1=\\text{SIDs})$ turns out to be 10 times larger !\n",
    "\n",
    "$$P(C_1=\\text{SIDs}, C_2=\\text{SIDs}) = P(C_1=\\text{SIDs}) P(C_2=\\text{SIDs}|C_1=\\text{SIDs}) = 10\\times r^2$$\n"
   ]
  },
  {
   "cell_type": "markdown",
   "id": "dba7b240",
   "metadata": {
    "slideshow": {
     "slide_type": "slide"
    }
   },
   "source": [
    "# Verify independence from joint distribution\n",
    "\n",
    "Independence : $$P(X,Y) = P(X)P(Y)$$\n",
    "\n",
    "| X,Y       | 1   | 2    | 3 | 4 | 5  |  6  | P(X)|\n",
    "| ---   | --- |  --- |---|---|--- | --- | --- |\n",
    "| 1   | <span style=\"color:black\">1/36</span> |  <span style=\"color:black\">1/36</span>  |<span style=\"color:black\">1/36</span>|<span style=\"color:black\">1/36</span>|<span style=\"color:black\">1/36</span> | <span style=\"color:black\">1/36</span> |  <span style=\"color:black\">1/6</span>|\n",
    "| 2   |<span style=\"color:black\">1/36</span> |  1/36 |1/36|1/36|1/36 | 1/36 |  1/6|\n",
    "| 3   | <span style=\"color:black\">1/36</span> |  1/36 |1/36|1/36|1/36 | 1/36 |  1/6|\n",
    "| 4   | <span style=\"color:black\">1/36</span> |  1/36 |1/36|1/36|1/36 | 1/36 |  1/6|\n",
    "| 5   | <span style=\"color:black\">1/36</span> |  1/36 |1/36|1/36|1/36 | 1/36 |  1/6|\n",
    "| 6   | <span style=\"color:black\">1/36</span> |  1/36 |1/36|1/36|1/36 | 1/36 |  1/6|\n",
    "|P(Y) | <span style=\"color:black\">1/6</span>  | 1/6   | 1/6  | 1/6 | 1/6 | 1/6|   \n",
    "\n",
    "\n",
    "  * marginalisation: find $P(X)$ and $P(Y)$\n",
    "  * check $P(X=x, Y=y) = P(X=x)P(Y=y)$"
   ]
  },
  {
   "cell_type": "markdown",
   "id": "89764ab2",
   "metadata": {
    "slideshow": {
     "slide_type": "subslide"
    }
   },
   "source": [
    "# Verify indepedence from conditional distribution \n",
    "\n",
    "\n",
    "We can also check indepedence from the conditional distribution\n",
    "\n",
    "Note that if $X,Y$ are independent, then $P(X|Y) = P(X)$\n",
    "\n",
    "Question, is the bigram model independent ?\n",
    "\n",
    "<center><img src=\"https://leo.host.cs.st-andrews.ac.uk/figs/figure20.png\" width = \"900\" height=\"600\"/></center>"
   ]
  },
  {
   "cell_type": "markdown",
   "id": "9190abc4",
   "metadata": {
    "slideshow": {
     "slide_type": "fragment"
    }
   },
   "source": [
    "* No! the column of $P(x|y)$ are all drastically different!\n",
    "  * knowing the second letter changes the distribution of the first $\\Rightarrow$ NOT Independent\n",
    "  * if independent, we'd expect all columns are the same $P(x|y) = P(x)$\n",
    "  * the rows of $P(x|y)$ are also drastically different"
   ]
  },
  {
   "cell_type": "markdown",
   "id": "9185a419",
   "metadata": {
    "slideshow": {
     "slide_type": "slide"
    }
   },
   "source": [
    "# Summary \n",
    "\n",
    "* Probability theory\n",
    "* Random variables and their distributions\n",
    "* Two rules \n",
    "  * sum rule\n",
    "  * product rule "
   ]
  },
  {
   "cell_type": "markdown",
   "id": "b9ae870b",
   "metadata": {
    "slideshow": {
     "slide_type": "slide"
    }
   },
   "source": [
    "# Next time \n",
    "\n",
    "- Baye's rule\n",
    "  * just conditional probability \n",
    "  * tackle the two problems: Sally Clark and COVID case\n",
    "- Probabilistic inference \n",
    "  * as an inverse problem \n",
    "- Some simple uncertainty based machine intelligence examples \n",
    "  * Naive Baye's classifier: classify spam emails \n",
    "  * Concept learning machine: can machine mimic your prediction ?"
   ]
  }
 ],
 "metadata": {
  "celltoolbar": "Slideshow",
  "kernelspec": {
   "name": "python3",
   "language": "python",
   "display_name": "Python 3"
  },
  "language_info": {
   "codemirror_mode": {
    "name": "ipython",
    "version": 3
   },
   "file_extension": ".py",
   "mimetype": "text/x-python",
   "name": "python",
   "nbconvert_exporter": "python",
   "pygments_lexer": "ipython3",
   "version": "3.9.2"
  },
  "rise": {
   "autolaunch": true,
   "enable_chalkboard": true
  }
 },
 "nbformat": 4,
 "nbformat_minor": 5
}