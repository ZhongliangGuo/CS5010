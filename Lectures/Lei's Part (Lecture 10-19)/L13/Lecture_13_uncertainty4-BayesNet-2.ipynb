{
 "cells": [
  {
   "cell_type": "code",
   "execution_count": 1,
   "id": "2f5d0fbc",
   "metadata": {
    "slideshow": {
     "slide_type": "skip"
    }
   },
   "outputs": [],
   "source": [
    "import matplotlib.pyplot as plt\n",
    "from scipy.stats import binom\n",
    "import numpy as np\n",
    "import math\n",
    "import scipy.stats as stats\n",
    "from scipy.special import logsumexp\n",
    "import random\n",
    "import pandas as pd\n",
    "import hedgehog as hh\n",
    "from IPython.display import Markdown as md\n",
    "\n",
    "\n",
    "def hide_code_in_slideshow():\n",
    "    from IPython import display\n",
    "    import binascii\n",
    "    import os\n",
    "    uid = binascii.hexlify(os.urandom(8)).decode()\n",
    "    html = \"\"\"<div id=\"%s\"></div>\n",
    "    <script type=\"text/javascript\">\n",
    "        $(function(){\n",
    "            var p = $(\"#%s\");\n",
    "            if (p.length==0) return;\n",
    "            while (!p.hasClass(\"cell\")) {\n",
    "                p=p.parent();\n",
    "                if (p.prop(\"tagName\") ==\"body\") return;\n",
    "            }\n",
    "            var cell = p;\n",
    "            cell.find(\".input\").addClass(\"hide-in-slideshow\")\n",
    "        });\n",
    "    </script>\"\"\" % (uid, uid)\n",
    "    display.display_html(html, raw=True)\n",
    "\n",
    "#  a hack to hide code from cell: https://github.com/damianavila/RISE/issues/32"
   ]
  },
  {
   "cell_type": "code",
   "execution_count": 2,
   "id": "ab557735",
   "metadata": {
    "slideshow": {
     "slide_type": "skip"
    }
   },
   "outputs": [
    {
     "data": {
      "text/plain": "<IPython.core.display.HTML object>",
      "text/html": "<style>\n .container.slides .celltoolbar, .container.slides .hide-in-slideshow {\n    display: None ! important;\n}\n</style>\n\n"
     },
     "metadata": {},
     "output_type": "display_data"
    }
   ],
   "source": [
    "%%html\n",
    "<style>\n",
    " .container.slides .celltoolbar, .container.slides .hide-in-slideshow {\n",
    "    display: None ! important;\n",
    "}\n",
    "</style>"
   ]
  },
  {
   "cell_type": "code",
   "execution_count": 3,
   "id": "92ccd2dd",
   "metadata": {
    "slideshow": {
     "slide_type": "skip"
    }
   },
   "outputs": [
    {
     "data": {
      "text/plain": "<IPython.core.display.HTML object>",
      "text/html": "\n<style>\n.output_png {\n    display: table-cell;\n    text-align: center;\n    vertical-align: middle;\n}\n</style>\n"
     },
     "execution_count": 3,
     "metadata": {},
     "output_type": "execute_result"
    }
   ],
   "source": [
    "from IPython.core.display import HTML\n",
    "\n",
    "HTML(\"\"\"\n",
    "<style>\n",
    ".output_png {\n",
    "    display: table-cell;\n",
    "    text-align: center;\n",
    "    vertical-align: middle;\n",
    "}\n",
    "</style>\n",
    "\"\"\")"
   ]
  },
  {
   "cell_type": "markdown",
   "id": "2e4d7080",
   "metadata": {
    "slideshow": {
     "slide_type": "slide"
    }
   },
   "source": [
    "# CS5010 Artificial Intelligence Principles\n",
    "### Lecture 13 Uncertainty 4\n",
    "#### More on Bayesian (Belief) Networks \n",
    "\n",
    "Lei Fang\n",
    "\n",
    "University of St Andrews"
   ]
  },
  {
   "cell_type": "markdown",
   "id": "a5eefd83",
   "metadata": {
    "slideshow": {
     "slide_type": "slide"
    }
   },
   "source": [
    "# Last time\n",
    "\n",
    "\n",
    "* Bayesian networks\n",
    "* How to construct a BN"
   ]
  },
  {
   "cell_type": "markdown",
   "id": "ffc4f42a",
   "metadata": {
    "slideshow": {
     "slide_type": "slide"
    }
   },
   "source": [
    "# This time\n",
    "\n",
    "Exact inference algorithm for a BN: enumeration algorithm\n",
    "\n",
    "Software package for Bayesian Networks: a Python package (hedgehog https://github.com/MaxHalford/hedgehog)\n",
    "  * create a BN\n",
    "  * make inference \n",
    "\n",
    "More examples on Bayesian networks\n",
    "  * walk through of Bayesian network for Sally Clark's case\n"
   ]
  },
  {
   "cell_type": "markdown",
   "id": "f117883f",
   "metadata": {
    "slideshow": {
     "slide_type": "slide"
    }
   },
   "source": [
    "# Inference based on Baye's net\n",
    "\n",
    "<center><img src=\"./figs/burglar.png\" width = \"400\" height=\"400\"/></center>\n",
    "\n",
    "In general, we can do two kinds of inference:\n",
    "* bottom-up: given evidence (observations, data) infer the cause; opposite the direction of edges, \n",
    "  * Burglary example: $P(B|J,M)$"
   ]
  },
  {
   "cell_type": "markdown",
   "id": "23e48047",
   "metadata": {
    "slideshow": {
     "slide_type": "fragment"
    }
   },
   "source": [
    "* top-down: given cause infer the observations (follow the direction of edge), \n",
    "  * prediction of future data\n",
    "  * Burglary example: $P(J|B, E)$"
   ]
  },
  {
   "cell_type": "markdown",
   "id": "6cf17ea1",
   "metadata": {
    "slideshow": {
     "slide_type": "slide"
    }
   },
   "source": [
    "# Exact inference based on Baye's net\n",
    "\n",
    "Some top-down inference simply is reading off entries from the CPTs\n",
    "\n",
    "<center><img src=\"./figs/burglarCPTs.png\" width = \"600\" height=\"400\"/></center>\n",
    "\n",
    "e.g. $P(A=T|B=T, E=F), P(J|A=T), P(M|A=F)$"
   ]
  },
  {
   "cell_type": "markdown",
   "id": "a4eb2233",
   "metadata": {
    "slideshow": {
     "slide_type": "fragment"
    }
   },
   "source": [
    "For others, we need to apply probability rules on the Baye's network\n",
    "  * with the help of BN, automated algorithmic inference can be implemented\n",
    "  * from the algorithm's perspective, bottom-up and top-down are the same "
   ]
  },
  {
   "cell_type": "markdown",
   "id": "bddf78fe",
   "metadata": {
    "slideshow": {
     "slide_type": "slide"
    }
   },
   "source": [
    "# Top down case: $P(J|B,E)$\n",
    "\n",
    "<center><img src=\"./figs/burglarCPTs.png\" width = \"600\" height=\"400\"/></center>\n",
    "\n",
    "$P(J|B,E) = \\alpha P(J,B,E)\\;\\;\\; \\text{conditional probability rule}$"
   ]
  },
  {
   "cell_type": "markdown",
   "id": "a95f6e98",
   "metadata": {
    "slideshow": {
     "slide_type": "fragment"
    }
   },
   "source": [
    "$= \\alpha \\sum_{a}\\sum_{m} P(B,E,A=a,J,M=m)\\;\\;\\; \\text{summation rule}$"
   ]
  },
  {
   "cell_type": "markdown",
   "id": "1b76adb9",
   "metadata": {
    "slideshow": {
     "slide_type": "fragment"
    }
   },
   "source": [
    "$= \\alpha \\sum_{a}\\sum_{m} P(B)P(E)P(A=a|B,E)P(J|A=a)P(M=m|A=a)\\;\\;\\; \\text{factoring property of BN!}$ \n",
    "\n",
    "A naive algorithm actually can be implemented at this stage: \n",
    "  * 5-3=2 nested sums (or loops): 5 is the total number of nodes, 3 is the size of ``query`` $\\cup$ ``Evidence``={B,E,J}, 2 size of nuiance r.v.s {A, M} in this case\n",
    "    * in general, the nested summation depends on the inference: i.e. how many nuiance r.v.s to sum-out\n",
    "  * this week's tutorial questioin is on this naive algorithm (we resort to recursion or backtracking)"
   ]
  },
  {
   "cell_type": "markdown",
   "id": "cb56f6bb",
   "metadata": {
    "slideshow": {
     "slide_type": "subslide"
    }
   },
   "source": [
    "However, we can simplify the computation further "
   ]
  },
  {
   "cell_type": "markdown",
   "id": "3c47fc0d",
   "metadata": {
    "slideshow": {
     "slide_type": "fragment"
    }
   },
   "source": [
    "Remember $\\sum_{i=1}^n ax_i =ax_1 + a x_2 + \\ldots + ax_n= a(\\sum_{i=1}^n x_i)$\n",
    "  * $a$ is a common factor can be taken out (saves some computation) or equivalently pushing summation $\\Sigma$ inwards\n",
    "\n",
    "$P(B)P(E)$ above is a common factor\n",
    "  $$P(J|B,E)= \\alpha \\sum_{a}\\sum_{m} P(B)P(E)P(A=a|B,E)P(J|A=a)P(M=m|A=a) \\\\\n",
    "  = \\alpha P(B)P(E)\\sum_{a}\\sum_{m}P(A=a|B,E)P(J|A=a)P(M=m|A=a)$$"
   ]
  },
  {
   "cell_type": "markdown",
   "id": "d0fa15e5",
   "metadata": {
    "slideshow": {
     "slide_type": "fragment"
    }
   },
   "source": [
    "$P(A=a|B,E)P(J|a)$ together is also a common factor (from $m$'s perspective), so we push $\\Sigma_m$ inwards\n",
    "  $$P(J|B,E)\n",
    "  = \\alpha P(B)P(E)\\sum_{a}P(A=a|B,E)P(J|A=a)\\sum_{m}P(M=m|A=a)$$"
   ]
  },
  {
   "cell_type": "markdown",
   "id": "67836090",
   "metadata": {
    "slideshow": {
     "slide_type": "subslide"
    }
   },
   "source": [
    "Finally note that conditional distributions are distributions\n",
    "$$\\sum_{m}P(M=m|a)=1$$\n",
    "\n",
    "$$\\Rightarrow P(J|B,E)\n",
    "  = \\alpha P(B)P(E)\\sum_{a}P(A=a|B,E)P(J|A=a)\\underbrace{\\sum_{m}P(M=m|A=a)}_{1}$$\n",
    "\n",
    "So we have \n",
    "$$P(J|B,E)\n",
    "  = \\alpha P(B)P(E)\\sum_{a}P(A=a|B,E)P(J|A=a)$$\n",
    "  * 2 nested sums to 1 summation\n",
    "  * the algorithm is called: enumeration algorithm\n",
    "    * enumerate all possible scenarios of the other nuiance r.v.s (sum rule)"
   ]
  },
  {
   "cell_type": "markdown",
   "id": "c29bc5ca",
   "metadata": {
    "slideshow": {
     "slide_type": "subslide"
    }
   },
   "source": [
    "<center><img src=\"./figs/burglarCPTs.png\" width = \"600\" height=\"400\"/></center>"
   ]
  },
  {
   "cell_type": "markdown",
   "id": "16bff07a",
   "metadata": {
    "slideshow": {
     "slide_type": "fragment"
    }
   },
   "source": [
    "To find $P(J|B=t, E=f)$, for $J=t$: $$P(J=t|B=t,E=f) = \\alpha P(B=t)P(E=f)\\sum_{a}P(A=a|B=t,E=f)P(J=t|A=a)\\\\\n",
    "= \\alpha* .001 * (1-.002) * (.94* .9 + (1-.94)*.05) = \\alpha 0.0008473$$\n",
    "\n",
    "For $J=f$: $$P(J=f|B=t, E=f) = \\alpha P(B=t)P(E=f)\\sum_{a}P(A=a|B=t,E=f)P(J=f|A=a)\\\\\n",
    "= \\alpha* .001 * (1-.002) * (.94* (1-.9) + (1-.94)*(1-.05)) = \\alpha 0.0001507$$\n",
    "\n",
    "Normalise to find $\\alpha = \\frac{1}{0.0008473+ 0.0001507}$\n",
    "$$P(J|B=t, E=f) = \\begin{cases} 0.849 & True \\\\ 0.151 &False \\end{cases}$$"
   ]
  },
  {
   "cell_type": "markdown",
   "id": "12d45273",
   "metadata": {
    "slideshow": {
     "slide_type": "slide"
    }
   },
   "source": [
    "# Bottom-up inference with example $P(B|J,M)$\n",
    "\n",
    "$$\\begin{align}P(B|J,M) &= \\alpha P(B,J,M)\\;\\;\\; \\text{conditional probability rule} \\\\\n",
    "&= \\alpha \\sum_{e}\\sum_{a} P(B,e,a,J,M)\\;\\;\\; \\text{summation rule} \\\\\n",
    "&= \\alpha \\sum_{e}\\sum_{a} P(B)P(e)P(a|B,e)P(J|a)P(M|a) \\;\\;\\; \\text{factoring CPTs} \\\\\n",
    "&= \\alpha P(B)\\sum_{e}P(e)\\sum_{a} P(a|B,e)P(J|a)P(M|a)\\;\\;\\; \\text{simplification} \\end{align}$$"
   ]
  },
  {
   "cell_type": "markdown",
   "id": "f2f763da",
   "metadata": {
    "slideshow": {
     "slide_type": "subslide"
    }
   },
   "source": [
    "For the inference $P(B|J=t,M=t)$:\n",
    "\n",
    "If sub-in the numbers and run the enumeration algorithm, \n",
    "\n",
    "$$P(B|J=t, M=t) = \\begin{cases} 0.284 & true \\\\ 0.716 &false \\end{cases}$$"
   ]
  },
  {
   "cell_type": "markdown",
   "id": "4508d5cd",
   "metadata": {
    "slideshow": {
     "slide_type": "fragment"
    }
   },
   "source": [
    "Both top-down and bottom-up inference: enumerating and sum-out all other nuiance r.v.s\n",
    "\n",
    "For this example, we have 2 loops (summations), $\\sum_e$ and $\\sum_a$\n",
    "  * the `ENUMERATION-ASK` in the book implements the algorithm"
   ]
  },
  {
   "cell_type": "markdown",
   "id": "20d3bf90",
   "metadata": {
    "slideshow": {
     "slide_type": "slide"
    }
   },
   "source": [
    "# Software packages for Bayesian networks\n",
    "\n",
    "A lot of software packages for Bayesian networks\n",
    "\n",
    "Some of them are commercial (so we will not cover them here)\n",
    "  * probably better user interface \n",
    "  * but also less freedom to customise (useless for research) \n",
    "  \n",
    "A wide range of free open-source and general purpose packages available\n",
    "  * Stan: MCMC (NUTS sampler) and variational inference\n",
    "  * PyMC3, JAGS, OpenBUGS: MCMC only\n",
    "\n",
    "We will use hedgehog (https://github.com/MaxHalford/hedgehog) as an example\n",
    "  * simple to use and good for toy examples\n",
    "  * not flexible enough for complicated models"
   ]
  },
  {
   "cell_type": "markdown",
   "id": "128bf698",
   "metadata": {
    "slideshow": {
     "slide_type": "slide"
    }
   },
   "source": [
    "# Installation of hedgehog\n",
    "\n",
    "The installation steps are detailed in the package's Github website\n",
    "\n",
    "Assume `pip` are installed (`pip3` on school server) \n",
    "\n",
    "`$ pip install git+https://github.com/MaxHalford/vose`\n",
    "\n",
    "`$ pip install git+https://github.com/MaxHalford/hedgehog`\n",
    "\n",
    "\n",
    "After installation, import the package \n",
    "`import hedgehog as hh`\n",
    "\n",
    "\n",
    "You also need the following packages\n",
    "  * ``panda``: ``import pandas as pd``"
   ]
  },
  {
   "cell_type": "markdown",
   "id": "96b49359",
   "metadata": {
    "slideshow": {
     "slide_type": "slide"
    }
   },
   "source": [
    "# A toy example: coin tossing\n",
    "\n",
    "Your friend has two coins, one fair and the other bent (with $p_2=0.2$). Your friend randomly picks one and flipping that coin three times and records the result. \n",
    "\n",
    "The random variables: `CoinChoice`, `Y1`, `Y2`, and `Y3`"
   ]
  },
  {
   "cell_type": "markdown",
   "id": "636fa109",
   "metadata": {
    "slideshow": {
     "slide_type": "fragment"
    }
   },
   "source": [
    "The Bayesian network is:\n",
    "\n",
    "<center><img src=\"./figs/coinBN.png\" width = \"1000\" height=\"500\"/></center>"
   ]
  },
  {
   "cell_type": "markdown",
   "id": "f5a6f50b",
   "metadata": {
    "slideshow": {
     "slide_type": "slide"
    }
   },
   "source": [
    "# Translate the BN to BayesNet object in Python\n",
    "\n",
    "\n",
    "Step 1: create a BayesNet object with the four random variables\n",
    "  * it also tells `Coin Choice` is the parent of `Y1`, `Y2` and `Y3`\n",
    "\n",
    "\n",
    "```python\n",
    "diceExamplebn = hh.BayesNet(('Coin Choice', 'Y1') ,('Coin Choice', 'Y2'), ('Coin Choice' , 'Y3'))\n",
    "```\n",
    "\n",
    "\n",
    "or equivalently, use list `[]`: \n",
    "\n",
    "```python\n",
    "diceExamplebn = hh.BayesNet(('Coin Choice', ['Y1', 'Y2', 'Y3']))\n",
    "```"
   ]
  },
  {
   "cell_type": "markdown",
   "id": "c04623c4",
   "metadata": {
    "slideshow": {
     "slide_type": "subslide"
    }
   },
   "source": [
    "Step 2: add CPTs for each node\n",
    "\n",
    "\n",
    "```python\n",
    "diceExamplebn.P['Coin Choice'] = pd.Series({'Coin 1': 0.5, 'Coin 2': 0.5})\n",
    "\n",
    "diceExamplebn.P['Y1'] = pd.Series({\n",
    "    ('Coin 1', 'Head') : 0.5,\n",
    "    ('Coin 1', 'Tail') : 0.5,\n",
    "    ('Coin 2', 'Head') : 0.2,\n",
    "    ('Coin 2', 'Tail') : 0.8\n",
    "})\n",
    "...\n",
    "```"
   ]
  },
  {
   "cell_type": "markdown",
   "id": "6efa51d2",
   "metadata": {
    "slideshow": {
     "slide_type": "subslide"
    }
   },
   "source": [
    "Step 3 `prepare` the network \n",
    "\n",
    "```python\n",
    "diceExamplebn.prepare()\n",
    "```\n",
    "\n",
    "You may also plot the network object to verify visually\n",
    "\n",
    "```python\n",
    "dot = diceExamplebn.graphviz()\n",
    "path = dot.render('diceExample', directory='figs', format='png', cleanup=True)\n",
    "```"
   ]
  },
  {
   "cell_type": "markdown",
   "id": "18799de2",
   "metadata": {
    "slideshow": {
     "slide_type": "subslide"
    }
   },
   "source": [
    "<center><img src=\"./figs/coinExample.png\" width = \"400\" height=\"500\"/></center>"
   ]
  },
  {
   "cell_type": "code",
   "execution_count": 4,
   "id": "f7e0baff",
   "metadata": {
    "slideshow": {
     "slide_type": "subslide"
    }
   },
   "outputs": [
    {
     "ename": "AttributeError",
     "evalue": "module 'hedgehog' has no attribute 'BayesNet'",
     "output_type": "error",
     "traceback": [
      "\u001B[1;31m---------------------------------------------------------------------------\u001B[0m",
      "\u001B[1;31mAttributeError\u001B[0m                            Traceback (most recent call last)",
      "\u001B[1;32m<ipython-input-4-1ed4d3a861f8>\u001B[0m in \u001B[0;36m<module>\u001B[1;34m\u001B[0m\n\u001B[1;32m----> 1\u001B[1;33m \u001B[0mdiceExamplebn\u001B[0m \u001B[1;33m=\u001B[0m \u001B[0mhh\u001B[0m\u001B[1;33m.\u001B[0m\u001B[0mBayesNet\u001B[0m\u001B[1;33m(\u001B[0m\u001B[1;33m(\u001B[0m\u001B[1;34m'Coin Choice'\u001B[0m\u001B[1;33m,\u001B[0m \u001B[1;33m[\u001B[0m\u001B[1;34m'Y1'\u001B[0m\u001B[1;33m,\u001B[0m \u001B[1;34m'Y2'\u001B[0m\u001B[1;33m,\u001B[0m \u001B[1;34m'Y3'\u001B[0m\u001B[1;33m]\u001B[0m\u001B[1;33m)\u001B[0m\u001B[1;33m)\u001B[0m\u001B[1;33m\u001B[0m\u001B[1;33m\u001B[0m\u001B[0m\n\u001B[0m\u001B[0;32m      2\u001B[0m \u001B[0mdiceExamplebn\u001B[0m\u001B[1;33m.\u001B[0m\u001B[0mP\u001B[0m\u001B[1;33m[\u001B[0m\u001B[1;34m'Coin Choice'\u001B[0m\u001B[1;33m]\u001B[0m \u001B[1;33m=\u001B[0m \u001B[0mpd\u001B[0m\u001B[1;33m.\u001B[0m\u001B[0mSeries\u001B[0m\u001B[1;33m(\u001B[0m\u001B[1;33m{\u001B[0m\u001B[1;34m'Coin 1'\u001B[0m\u001B[1;33m:\u001B[0m \u001B[1;36m0.5\u001B[0m\u001B[1;33m,\u001B[0m \u001B[1;34m'Coin 2'\u001B[0m\u001B[1;33m:\u001B[0m \u001B[1;36m0.5\u001B[0m\u001B[1;33m}\u001B[0m\u001B[1;33m)\u001B[0m\u001B[1;33m\u001B[0m\u001B[1;33m\u001B[0m\u001B[0m\n\u001B[0;32m      3\u001B[0m diceExamplebn.P['Y1'] = pd.Series({\n\u001B[0;32m      4\u001B[0m     \u001B[1;33m(\u001B[0m\u001B[1;34m'Coin 1'\u001B[0m\u001B[1;33m,\u001B[0m \u001B[1;34m'Head'\u001B[0m\u001B[1;33m)\u001B[0m \u001B[1;33m:\u001B[0m \u001B[1;36m0.5\u001B[0m\u001B[1;33m,\u001B[0m\u001B[1;33m\u001B[0m\u001B[1;33m\u001B[0m\u001B[0m\n\u001B[0;32m      5\u001B[0m     \u001B[1;33m(\u001B[0m\u001B[1;34m'Coin 1'\u001B[0m\u001B[1;33m,\u001B[0m \u001B[1;34m'Tail'\u001B[0m\u001B[1;33m)\u001B[0m \u001B[1;33m:\u001B[0m \u001B[1;36m0.5\u001B[0m\u001B[1;33m,\u001B[0m\u001B[1;33m\u001B[0m\u001B[1;33m\u001B[0m\u001B[0m\n",
      "\u001B[1;31mAttributeError\u001B[0m: module 'hedgehog' has no attribute 'BayesNet'"
     ]
    }
   ],
   "source": [
    "diceExamplebn = hh.BayesNet(('Coin Choice', ['Y1', 'Y2', 'Y3']))\n",
    "diceExamplebn.P['Coin Choice'] = pd.Series({'Coin 1': 0.5, 'Coin 2': 0.5})\n",
    "diceExamplebn.P['Y1'] = pd.Series({\n",
    "    ('Coin 1', 'Head'): 0.5,\n",
    "    ('Coin 1', 'Tail'): 0.5,\n",
    "    ('Coin 2', 'Head'): 0.2,\n",
    "    ('Coin 2', 'Tail'): 0.8\n",
    "})\n",
    "\n",
    "diceExamplebn.P['Y2'] = pd.Series({\n",
    "    ('Coin 1', 'Head'): 0.5,\n",
    "    ('Coin 1', 'Tail'): 0.5,\n",
    "    ('Coin 2', 'Head'): 0.2,\n",
    "    ('Coin 2', 'Tail'): 0.8\n",
    "})\n",
    "\n",
    "diceExamplebn.P['Y3'] = pd.Series({\n",
    "    ('Coin 1', 'Head'): 0.5,\n",
    "    ('Coin 1', 'Tail'): 0.5,\n",
    "    ('Coin 2', 'Head'): 0.2,\n",
    "    ('Coin 2', 'Tail'): 0.8\n",
    "})\n",
    "\n",
    "diceExamplebn.prepare()\n",
    "# dot5 = diceExamplebn.graphviz()\n",
    "# path5 = dot5.render('coinExample', directory='figs', format='png', cleanup=True)"
   ]
  },
  {
   "cell_type": "markdown",
   "id": "448b1689",
   "metadata": {
    "slideshow": {
     "slide_type": "subslide"
    }
   },
   "source": [
    "### Last step: make probabilistic inference \n",
    "\n",
    "Bottom-up inference: \n",
    "\n",
    "$P(C|Y1, Y2, Y3)$"
   ]
  },
  {
   "cell_type": "code",
   "execution_count": null,
   "id": "d9354eec",
   "metadata": {
    "slideshow": {
     "slide_type": "fragment"
    }
   },
   "outputs": [],
   "source": [
    "diceExamplebn.query('Coin Choice', event={'Y1': 'Head', 'Y2': 'Head', 'Y3': 'Head'})"
   ]
  },
  {
   "cell_type": "code",
   "execution_count": null,
   "id": "9cee8049",
   "metadata": {
    "slideshow": {
     "slide_type": "fragment"
    }
   },
   "outputs": [],
   "source": [
    "diceExamplebn.query('Coin Choice', event={'Y1': 'Tail', 'Y2': 'Tail', 'Y3': 'Tail'})"
   ]
  },
  {
   "cell_type": "markdown",
   "id": "7cc9fb19",
   "metadata": {
    "slideshow": {
     "slide_type": "subslide"
    }
   },
   "source": [
    "Prediction inference: e.g. \n",
    "\n",
    "$P(Y_3|Y_1, Y_2)$\n",
    "\n",
    "Remember, marginally, the tosses are not independent\n",
    "  * more likely to see a Tail if previous is a Tail as the it is more likely the bent coin has been used !"
   ]
  },
  {
   "cell_type": "markdown",
   "id": "366b7405",
   "metadata": {
    "slideshow": {
     "slide_type": "subslide"
    }
   },
   "source": [
    "Marginal prediction (conditional on nothing): \n",
    "\n",
    "$P(Y_3)$"
   ]
  },
  {
   "cell_type": "code",
   "execution_count": null,
   "id": "7d2bccf2",
   "metadata": {
    "slideshow": {
     "slide_type": "fragment"
    }
   },
   "outputs": [],
   "source": [
    "# top-down inference, predict data given previous data\n",
    "diceExamplebn.query('Y3', event={})"
   ]
  },
  {
   "cell_type": "markdown",
   "id": "2eec8d2a",
   "metadata": {
    "slideshow": {
     "slide_type": "fragment"
    }
   },
   "source": [
    "Prediction based on one observation: \n",
    "\n",
    "$P(Y_3|Y_1=t)$"
   ]
  },
  {
   "cell_type": "code",
   "execution_count": null,
   "id": "f8f1aa85",
   "metadata": {
    "slideshow": {
     "slide_type": "fragment"
    }
   },
   "outputs": [],
   "source": [
    "diceExamplebn.query('Y3', event={'Y1': 'Tail'})"
   ]
  },
  {
   "cell_type": "markdown",
   "id": "88fc9d90",
   "metadata": {
    "slideshow": {
     "slide_type": "fragment"
    }
   },
   "source": [
    "Prediction based on two previous observations: \n",
    "\n",
    "$P(Y_3|Y_1=t, Y_2=t)$"
   ]
  },
  {
   "cell_type": "code",
   "execution_count": null,
   "id": "7cc352a1",
   "metadata": {
    "scrolled": true,
    "slideshow": {
     "slide_type": "fragment"
    }
   },
   "outputs": [],
   "source": [
    "diceExamplebn.query('Y3', event={'Y1': 'Tail', 'Y2': 'Tail'})"
   ]
  },
  {
   "cell_type": "markdown",
   "id": "4771b2d5",
   "metadata": {
    "slideshow": {
     "slide_type": "slide"
    }
   },
   "source": [
    "# Another example: Burglary\n",
    "\n",
    "\n",
    "\n",
    "<center><img src=\"./figs/burglarCPTs.png\" width = \"600\" height=\"400\"/></center>"
   ]
  },
  {
   "cell_type": "code",
   "execution_count": null,
   "id": "4e6a1532",
   "metadata": {
    "slideshow": {
     "slide_type": "subslide"
    }
   },
   "outputs": [],
   "source": [
    "burglarybn = hh.BayesNet(('Burglary', 'Alarm'),\n",
    "                         ('Earthquake', 'Alarm'),\n",
    "                         ('Alarm', 'John calls'),\n",
    "                         ('Alarm', 'Mary calls'))\n",
    "# P(Burglary)\n",
    "burglarybn.P['Burglary'] = pd.Series({False: .999, True: .001})\n",
    "# P(Earthquake)\n",
    "burglarybn.P['Earthquake'] = pd.Series({False: .998, True: .002})\n",
    "# P(Alarm | Burglary, Earthquake)\n",
    "burglarybn.P['Alarm'] = pd.Series({\n",
    "    (True, True, True): .95,\n",
    "    (True, True, False): .05,\n",
    "\n",
    "    (True, False, True): .94,\n",
    "    (True, False, False): .06,\n",
    "\n",
    "    (False, True, True): .29,\n",
    "    (False, True, False): .71,\n",
    "\n",
    "    (False, False, True): .001,\n",
    "    (False, False, False): .999\n",
    "})\n",
    "\n",
    "# P(John calls | Alarm)\n",
    "burglarybn.P['John calls'] = pd.Series({\n",
    "    (True, True): .9,\n",
    "    (True, False): .1,\n",
    "    (False, True): .05,\n",
    "    (False, False): .95\n",
    "})\n",
    "\n",
    "# P(Mary calls | Alarm)\n",
    "burglarybn.P['Mary calls'] = pd.Series({\n",
    "    (True, True): .7,\n",
    "    (True, False): .3,\n",
    "    (False, True): .01,\n",
    "    (False, False): .99\n",
    "})\n",
    "burglarybn.prepare()"
   ]
  },
  {
   "cell_type": "markdown",
   "id": "f199de56",
   "metadata": {
    "slideshow": {
     "slide_type": "subslide"
    }
   },
   "source": [
    "### Make probabilistic inferences\n",
    "\n",
    "$P(Burglary |M =true, J=true)$"
   ]
  },
  {
   "cell_type": "code",
   "execution_count": null,
   "id": "bd43e578",
   "metadata": {
    "slideshow": {
     "slide_type": "fragment"
    }
   },
   "outputs": [],
   "source": [
    "burglarybn.query('Burglary', event={'Mary calls': True, 'John calls': True})"
   ]
  },
  {
   "cell_type": "markdown",
   "id": "bb8943d8",
   "metadata": {
    "slideshow": {
     "slide_type": "fragment"
    }
   },
   "source": [
    "$P(J |E =false, B=true)$"
   ]
  },
  {
   "cell_type": "code",
   "execution_count": null,
   "id": "7e3aa97c",
   "metadata": {
    "slideshow": {
     "slide_type": "fragment"
    }
   },
   "outputs": [],
   "source": [
    "burglarybn.query('John calls', event={'Earthquake': False, 'Burglary': True})"
   ]
  },
  {
   "cell_type": "markdown",
   "id": "a0b6c8b7",
   "metadata": {
    "slideshow": {
     "slide_type": "slide"
    }
   },
   "source": [
    "# Sally Clark's case \n",
    "\n",
    "Problem can be summarised: Sally Clark a middle class mother whose two children died. The causes of the deaths are assumed either SIDS (a rare disease for infants) or murder. \n",
    "\n",
    "More details in the motivation lecture."
   ]
  },
  {
   "cell_type": "markdown",
   "id": "a97172a3",
   "metadata": {
    "slideshow": {
     "slide_type": "subslide"
    }
   },
   "source": [
    "Step 1: identify random variables\n",
    "\n",
    "`Child 1 death cause` $\\in \\{SIDS, murder\\}$: cause of death for child one\n",
    "\n",
    "`Child 2 death cause` $\\in \\{SIDS, murder\\}$: cause of death for child two\n",
    "\n",
    "`Findings` $\\in \\{either Child Muder, both Child Murder, none Murder\\}$\n",
    "\n",
    "`Guilty` $\\in \\{true, false\\}$: i.e. Sally is guilty or not"
   ]
  },
  {
   "cell_type": "markdown",
   "id": "f6898cf9",
   "metadata": {
    "slideshow": {
     "slide_type": "fragment"
    }
   },
   "source": [
    "`Sign of disease for Child 1` $\\in \\{true, false\\}$: has sign of disease/history\n",
    "\n",
    "`Sign of disease for Child 2` $\\in \\{true, false\\}$: has sign of disease/history\n",
    "\n",
    "`Injury for Child 1` $\\in \\{true, false\\}$: has any sign of injury\n",
    "\n",
    "`Injury for Child 2` $\\in \\{true, false\\}$: has any sign of injury"
   ]
  },
  {
   "cell_type": "markdown",
   "id": "bae249fc",
   "metadata": {
    "slideshow": {
     "slide_type": "subslide"
    }
   },
   "source": [
    "An order: causes precede effects :\n",
    "\n",
    "[`Child 1 Death Cause`, `Child 2 Death Cause`,  `Sign of disease C1`, `Injury C1`, `Sign of disease C2`, `Injury C2`, `Findings`, `Guilty`]\n",
    "\n",
    "  * we already known SIDS are genetically linked and environment factor is a key\n",
    "  * the death causes are not independent: Child 2 depends on Child 1"
   ]
  },
  {
   "cell_type": "markdown",
   "id": "f0aea6f7",
   "metadata": {
    "slideshow": {
     "slide_type": "subslide"
    }
   },
   "source": [
    "###  [`Child 1 Death Cause`, `Child 2 Death Cause`]\n",
    "\n",
    "Consider the first two r.v.s\n",
    "  * they are not independent \n",
    "  * the chance of second SIDS is 10 times higher (genetic/environment factors)"
   ]
  },
  {
   "cell_type": "markdown",
   "id": "0349c5fc",
   "metadata": {
    "slideshow": {
     "slide_type": "fragment"
    }
   },
   "source": [
    "<center><img src=\"./figs/sallyclark1.png\" width = \"2500\" height=\"3000\"/></center>\n",
    "\n",
    "CPTs for `C1` and `C2`\n",
    "* P(C1 = murder) = 0.02; P(C1 = SIDS) = 0.98"
   ]
  },
  {
   "cell_type": "markdown",
   "id": "f00c45bb",
   "metadata": {
    "slideshow": {
     "slide_type": "fragment"
    }
   },
   "source": [
    "* P(C2 = SIDS|C1 = SIDS) = 0.99; P(C2 = murder|C1 = SIDS) = 0.01\n",
    "* P(C2 = SIDS|C1 = murder) = 0.01; P(C2 = murder|C1 = murder) = 0.99"
   ]
  },
  {
   "cell_type": "markdown",
   "id": "11a71032",
   "metadata": {
    "slideshow": {
     "slide_type": "subslide"
    }
   },
   "source": [
    "###  [`Child 1 Death Cause`, `Child 2 Death Cause`, `Sign of disease C1`, `Injury C1`]\n",
    "\n",
    "Add another two r.v.s `Sign of disease C1` and `Injury C1`\n",
    "  * they clearly only depends on the cause of death for child 1 "
   ]
  },
  {
   "cell_type": "markdown",
   "id": "90977ee4",
   "metadata": {
    "slideshow": {
     "slide_type": "fragment"
    }
   },
   "source": [
    "<center><img src=\"./figs/sallyclark2.png\" width = \"2500\" height=\"1000\"/></center>"
   ]
  },
  {
   "cell_type": "markdown",
   "id": "e5cb1d59",
   "metadata": {
    "slideshow": {
     "slide_type": "fragment"
    }
   },
   "source": [
    "CPTs for `Sign of disease: C1` (D1) and `Sign of injury: C1` (I1)\n",
    "\n",
    "CPT for D1:\n",
    "* P(D1=true| C1= murder) = 0.1; P(D1=false|C1=murder) = 0.9\n",
    "* P(D1=true| C1= SIDS) = 0.95; P(D1=false|C1= SIDS) = 0.05"
   ]
  },
  {
   "cell_type": "markdown",
   "id": "3cd785d1",
   "metadata": {
    "slideshow": {
     "slide_type": "fragment"
    }
   },
   "source": [
    "CPT for I1 (i.e. Bruising):\n",
    "* P(I1=true| C1= murder) = 0.9; P(I1=false|C1=murder) = 0.1\n",
    "* P(I1=true| C1= SIDS) = 0.15; P(I1=false|C1= SIDS) = 0.85"
   ]
  },
  {
   "cell_type": "markdown",
   "id": "ef9633c1",
   "metadata": {
    "slideshow": {
     "slide_type": "subslide"
    }
   },
   "source": [
    "###  [`Child 1 Death Cause`, `Child 2 Death Cause`, `Sign of disease C1`, `Injury C1`, `Sign of disease C2`, `Injury C2`]\n",
    "\n",
    "\n",
    "Add another two r.v.s `Sign of disease C2` and `Injury C2`\n",
    "  * they clearly only depends on the cause of death for child 2 "
   ]
  },
  {
   "cell_type": "markdown",
   "id": "cbdf123e",
   "metadata": {
    "slideshow": {
     "slide_type": "fragment"
    }
   },
   "source": [
    "<center><img src=\"./figs/sallyclark3.png\" width = \"2500\" height=\"1000\"/></center>"
   ]
  },
  {
   "cell_type": "markdown",
   "id": "275835be",
   "metadata": {
    "slideshow": {
     "slide_type": "fragment"
    }
   },
   "source": [
    "CPTs for `Sign of disease: C1` (D1) and `Sign of injury: C1` (I1) are the same for child ones'"
   ]
  },
  {
   "cell_type": "markdown",
   "id": "302555a7",
   "metadata": {
    "slideshow": {
     "slide_type": "subslide"
    }
   },
   "source": [
    "### [`Child 1 Death Cause`, `Child 2 Death Cause`,  `Sign of disease C1`, `Injury C1`, `Sign of disease C2`, `Injury C2`, `Guilty`]\n",
    "\n",
    "An alternative model without $\\require{cancel}\\cancel{Findings}$: add `Guilty` directly\n",
    "  * depends on both children's causes of deaths\n",
    "  * a deterministic function a if-elseif-else is enough\n",
    "    * e.g. if $C1 \\neq murder\\; \\&\\& \\;C2 \\neq murder$, then $P(Guilty = guilty|\\ldots) = 0$ else $P(Guilty = innocent|\\cdots) = 1$"
   ]
  },
  {
   "cell_type": "markdown",
   "id": "e3dcfb8c",
   "metadata": {},
   "source": [
    "<center><img src=\"./figs/sallyclark4.png\" width = \"2500\" height=\"1000\"/></center>"
   ]
  },
  {
   "cell_type": "markdown",
   "id": "8bf23868",
   "metadata": {
    "slideshow": {
     "slide_type": "subslide"
    }
   },
   "source": [
    "### [`Child 1 Death Cause`, `Child 2 Death Cause`,  `Sign of disease C1`, `Injury C1`, `Sign of disease C2`, `Injury C2`, `Findings`, `Guilty`]\n",
    "\n",
    "With both `Findings` and `Guilty`"
   ]
  },
  {
   "cell_type": "markdown",
   "id": "f19c44e3",
   "metadata": {
    "slideshow": {
     "slide_type": "fragment"
    }
   },
   "source": [
    "<center><img src=\"./figs/sallyclark5.png\" width = \"2500\" height=\"1000\"/></center>"
   ]
  },
  {
   "cell_type": "markdown",
   "id": "17728030",
   "metadata": {
    "slideshow": {
     "slide_type": "subslide"
    }
   },
   "source": [
    "Two deterministic transformations CPTs\n",
    "\n",
    "`Findings`: \n",
    "  * if $C1 = murder\\; \\&\\& \\;C2 = murder$, then $P(F = bothMurder |\\ldots) = 1$ \n",
    "  * elseif $C1 = \\text{SIDS}\\; \\&\\& \\;C2  = \\text{SIDS}$, then $P(F = neitherMurder |\\ldots) = 1$ \n",
    "  * else  $P(F = eitherMurder |\\ldots) = 1$ \n",
    "  \n",
    "`Guilty`: another demerministic transformation based on the `Findings`  "
   ]
  },
  {
   "cell_type": "markdown",
   "id": "21c1f9d7",
   "metadata": {
    "slideshow": {
     "slide_type": "slide"
    }
   },
   "source": [
    "# In Python with hedgehog\n",
    "\n",
    "Network arthitecture "
   ]
  },
  {
   "cell_type": "code",
   "execution_count": null,
   "id": "6523c8b5",
   "metadata": {
    "slideshow": {
     "slide_type": "fragment"
    }
   },
   "outputs": [],
   "source": [
    "sallybn = hh.BayesNet(\n",
    "    ('Child 1 Death Cause', 'Child 2 Death Cause'),\n",
    "    ('Child 1 Death Cause', 'Child 1 Bruising'),\n",
    "    ('Child 1 Death Cause', 'Child 1 Sign of Disease'),\n",
    "    ('Child 2 Death Cause', 'Child 2 Bruising'),\n",
    "    ('Child 2 Death Cause', 'Child 2 Sign of Disease'),\n",
    "    (['Child 1 Death Cause', 'Child 2 Death Cause'], 'Findings'),\n",
    "    ('Findings', 'Guilty'))"
   ]
  },
  {
   "cell_type": "markdown",
   "id": "ce12fe78",
   "metadata": {
    "slideshow": {
     "slide_type": "subslide"
    }
   },
   "source": [
    "CPTs specifications"
   ]
  },
  {
   "cell_type": "code",
   "execution_count": null,
   "id": "2dc68c2c",
   "metadata": {
    "slideshow": {
     "slide_type": "fragment"
    }
   },
   "outputs": [],
   "source": [
    "# P('Child 1 Death Cause')\n",
    "sallybn.P['Child 1 Death Cause'] = pd.Series({'SIDS': .92, 'Murder': .08})\n",
    "\n",
    "# P(Child 2 Death Cause|'Child 1 Death Cause')\n",
    "sallybn.P['Child 2 Death Cause'] = pd.Series({\n",
    "    ('SIDS', 'SIDS'): 0.99,\n",
    "    ('SIDS', 'Murder'): 0.01,\n",
    "    ('Murder', 'SIDS'): 0.01,\n",
    "    ('Murder', 'Murder'): 0.99\n",
    "})\n",
    "\n",
    "# P(Child 1 Bruising|'Child 1 Death Cause')\n",
    "sallybn.P['Child 1 Bruising'] = pd.Series({\n",
    "    ('SIDS', True): 0.15,\n",
    "    ('SIDS', False): 0.85,\n",
    "    ('Murder', True): 0.9,\n",
    "    ('Murder', False): 0.1\n",
    "})\n",
    "\n",
    "# P(Child 1 Sign of Disease|'Child 1 Death Cause') \n",
    "sallybn.P['Child 1 Sign of Disease'] = pd.Series({\n",
    "    ('SIDS', True): 0.95,\n",
    "    ('SIDS', False): 0.05,\n",
    "    ('Murder', True): 0.1,\n",
    "    ('Murder', False): 0.9\n",
    "})\n",
    "\n",
    "# P(Child 2 Bruising|'Child 2 Death Cause')\n",
    "sallybn.P['Child 2 Bruising'] = pd.Series({\n",
    "    ('SIDS', True): 0.15,\n",
    "    ('SIDS', False): 0.85,\n",
    "    ('Murder', True): 0.9,\n",
    "    ('Murder', False): 0.1\n",
    "})\n",
    "\n",
    "# P(Child 2 Sign of Disease|'Child 2 Death Cause')\n",
    "sallybn.P['Child 2 Sign of Disease'] = pd.Series({\n",
    "    ('SIDS', True): 0.95,\n",
    "    ('SIDS', False): 0.05,\n",
    "    ('Murder', True): 0.1,\n",
    "    ('Murder', False): 0.9\n",
    "})"
   ]
  },
  {
   "cell_type": "code",
   "execution_count": null,
   "id": "bfafcf6f",
   "metadata": {
    "slideshow": {
     "slide_type": "subslide"
    }
   },
   "outputs": [],
   "source": [
    "# P(Findings| Child 1 Death Cause, Child 2 Death Cause)\n",
    "sallybn.P['Findings'] = pd.Series({\n",
    "    ('SIDS', 'SIDS', 'Both Murdered'): 0.0,\n",
    "    ('SIDS', 'SIDS', 'Either Murdered'): 0.0,\n",
    "    ('SIDS', 'SIDS', 'Neither Murdered'): 1.0,\n",
    "    ('SIDS', 'Murder', 'Both Murdered'): 0.0,\n",
    "    ('SIDS', 'Murder', 'Either Murdered'): 1.0,\n",
    "    ('SIDS', 'Murder', 'Neither Murdered'): 0.0,\n",
    "    ('Murder', 'SIDS', 'Both Murdered'): 0.0,\n",
    "    ('Murder', 'SIDS', 'Either Murdered'): 1.0,\n",
    "    ('Murder', 'SIDS', 'Neither Murdered'): 0.0,\n",
    "    ('Murder', 'Murder', 'Both Murdered'): 1.0,\n",
    "    ('Murder', 'Murder', 'Either Murdered'): 0.0,\n",
    "    ('Murder', 'Murder', 'Neither Murdered'): 0.0\n",
    "})\n",
    "\n",
    "# P(Guilty|Findings)\n",
    "sallybn.P['Guilty'] = pd.Series({\n",
    "    ('Both Murdered', True): 1.0,\n",
    "    ('Both Murdered', False): 0.0,\n",
    "    ('Either Murdered', True): 1.0,\n",
    "    ('Either Murdered', False): 0.0,\n",
    "    ('Neither Murdered', True): 0.0,\n",
    "    ('Neither Murdered', False): 1.0,\n",
    "})\n",
    "sallybn.prepare()"
   ]
  },
  {
   "cell_type": "markdown",
   "id": "7c2f177f",
   "metadata": {
    "slideshow": {
     "slide_type": "slide"
    }
   },
   "source": [
    "# Making queries over `sallybn`\n",
    "\n",
    "\n",
    "Exact inference on whether Sally is guilty without any evidence\n",
    "\n",
    "\n",
    "$$\\begin{align}P(\\text{Guilty}) &= \\sum_{c_1}\\sum_{c_2}\\sum_{d_1}\\sum_{i_1}\\sum_{d_1}\\sum_{i_2}\\sum_{f} P(c_1, c_2,  d_1, i_1, d_2, i_2, f, G) \\\\\n",
    "&= \\sum_{c_1}\\sum_{c_2}\\sum_{d_1}\\sum_{i_1}\\sum_{d_2}\\sum_{i_2}\\sum_{f} P(c_1) P(c_2|c_1)  P(d_1|c_1) P(i_1|c_1) P(d_2|c_2)  P(i_2|c_2) P(f|c_1, c_2) P(G|f) \\\\\n",
    "&= \\sum_{c_1}P(c_1) \\sum_{c_2}P(c_2|c_1) \\sum_{d_1}P(d_1|c_1) \\sum_{i_1}P(i_1|c_1)  \\sum_{d_2}P(d_2|c_2)\\sum_{i_2}P(i_2|c_2)\\sum_{f} P(f|c_1, c_2) P(G|f) \\end{align}$$\n",
    "\n",
    "\n",
    "Enumeration algorithm \n",
    "* step 1 enumerate and sum out nuiance/hidden r.v.s \n",
    "* step 2 Bayesian network's semantic (factoring property)\n",
    "* step 3 simplication"
   ]
  },
  {
   "cell_type": "code",
   "execution_count": null,
   "id": "f888c2b0",
   "metadata": {
    "slideshow": {
     "slide_type": "subslide"
    }
   },
   "outputs": [],
   "source": [
    "sallybn.query('Guilty', event={})"
   ]
  },
  {
   "cell_type": "markdown",
   "id": "382934e6",
   "metadata": {
    "slideshow": {
     "slide_type": "subslide"
    }
   },
   "source": [
    "Another query, conditional on evidence that both children have bruises but also signs of diseases \n",
    "\n",
    "$$P(G| \\text{Bruising } C_1 = true, \\text{Disease } C_1 = true, \\text{Bruising } C_2 = true,  \\text{Disease } C_2 = true)$$"
   ]
  },
  {
   "cell_type": "code",
   "execution_count": null,
   "id": "0abe6193",
   "metadata": {
    "slideshow": {
     "slide_type": "fragment"
    }
   },
   "outputs": [],
   "source": [
    "sallybn.query('Guilty', event={'Child 1 Bruising': True, 'Child 1 Sign of Disease': True, 'Child 2 Bruising': True,\n",
    "                               'Child 2 Sign of Disease': True})"
   ]
  },
  {
   "cell_type": "markdown",
   "id": "0a9f8325",
   "metadata": {
    "slideshow": {
     "slide_type": "subslide"
    }
   },
   "source": [
    "Another query, conditional on evidence that both children have bruises but no signs of diseases \n",
    "\n",
    "$$P(G| \\text{Bruising } C_1 = true, \\text{Disease } C_1 = false, \\text{Bruising } C_2 = true,  \\text{Disease } C_2 = fasle)$$"
   ]
  },
  {
   "cell_type": "code",
   "execution_count": null,
   "id": "316df901",
   "metadata": {
    "slideshow": {
     "slide_type": "fragment"
    }
   },
   "outputs": [],
   "source": [
    "sallybn.query('Guilty', event={'Child 1 Bruising': False, 'Child 1 Sign of Disease': True})"
   ]
  },
  {
   "cell_type": "markdown",
   "id": "b24ee478",
   "metadata": {
    "slideshow": {
     "slide_type": "slide"
    }
   },
   "source": [
    "# Summary\n",
    "\n",
    "* Exact inference over BN\n",
    "* Use software package to construct a BN\n",
    "* Walk through of the construction process a BN for Sally Clark's case"
   ]
  }
 ],
 "metadata": {
  "celltoolbar": "Slideshow",
  "kernelspec": {
   "display_name": "Python 3",
   "language": "python",
   "name": "python3"
  },
  "language_info": {
   "codemirror_mode": {
    "name": "ipython",
    "version": 3
   },
   "file_extension": ".py",
   "mimetype": "text/x-python",
   "name": "python",
   "nbconvert_exporter": "python",
   "pygments_lexer": "ipython3",
   "version": "3.9.2"
  },
  "rise": {
   "autolaunch": true,
   "enable_chalkboard": true
  }
 },
 "nbformat": 4,
 "nbformat_minor": 5
}