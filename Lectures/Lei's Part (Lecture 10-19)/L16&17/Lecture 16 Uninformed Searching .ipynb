{
 "cells": [
  {
   "cell_type": "code",
   "execution_count": 1,
   "id": "4c22df6b",
   "metadata": {
    "slideshow": {
     "slide_type": "skip"
    }
   },
   "outputs": [],
   "source": [
    "import matplotlib.pyplot as plt\n",
    "from scipy.stats import binom\n",
    "import numpy as np\n",
    "import math\n",
    "import scipy.stats as stats\n",
    "# to use hedgehog, one needs to install two packages vose and hedgehog\n",
    "# pip install git+https://github.com/MaxHalford/vose\n",
    "# pip install git+https://github.com/MaxHalford/hedgehog\n",
    "# you may also need to install graphviz to plot PGM\n",
    "# conda install -c conda-forge python-graphviz \n",
    "import hedgehog as hh\n",
    "import pandas as pd\n",
    "from scipy.special import logsumexp\n",
    "from IPython.display import Markdown as md\n",
    "def hide_code_in_slideshow():   \n",
    "    from IPython import display\n",
    "    import binascii\n",
    "    import os\n",
    "    uid = binascii.hexlify(os.urandom(8)).decode()    \n",
    "    html = \"\"\"<div id=\"%s\"></div>\n",
    "    <script type=\"text/javascript\">\n",
    "        $(function(){\n",
    "            var p = $(\"#%s\");\n",
    "            if (p.length==0) return;\n",
    "            while (!p.hasClass(\"cell\")) {\n",
    "                p=p.parent();\n",
    "                if (p.prop(\"tagName\") ==\"body\") return;\n",
    "            }\n",
    "            var cell = p;\n",
    "            cell.find(\".input\").addClass(\"hide-in-slideshow\")\n",
    "        });\n",
    "    </script>\"\"\" % (uid, uid)\n",
    "    display.display_html(html, raw=True)\n",
    "#  a hack to hide code from cell: https://github.com/damianavila/RISE/issues/32    "
   ]
  },
  {
   "cell_type": "code",
   "execution_count": 2,
   "id": "b51cd1ec",
   "metadata": {
    "slideshow": {
     "slide_type": "skip"
    }
   },
   "outputs": [
    {
     "data": {
      "text/html": [
       "<style>\n",
       " .container.slides .celltoolbar, .container.slides .hide-in-slideshow {\n",
       "    display: None ! important;\n",
       "}\n",
       "    \n",
       "table, th, td {\n",
       "  border: 1px solid black;\n",
       "  border-collapse: collapse;\n",
       "}\n",
       "th, td {\n",
       "  padding: 5px;\n",
       "}\n",
       "th {\n",
       "  text-align: left;\n",
       "}\n",
       "</style>\n"
      ],
      "text/plain": [
       "<IPython.core.display.HTML object>"
      ]
     },
     "metadata": {},
     "output_type": "display_data"
    }
   ],
   "source": [
    "%%html\n",
    "<style>\n",
    " .container.slides .celltoolbar, .container.slides .hide-in-slideshow {\n",
    "    display: None ! important;\n",
    "}\n",
    "    \n",
    "table, th, td {\n",
    "  border: 1px solid black;\n",
    "  border-collapse: collapse;\n",
    "}\n",
    "th, td {\n",
    "  padding: 5px;\n",
    "}\n",
    "th {\n",
    "  text-align: left;\n",
    "}\n",
    "</style>"
   ]
  },
  {
   "cell_type": "code",
   "execution_count": 3,
   "id": "a4625dcd",
   "metadata": {
    "slideshow": {
     "slide_type": "skip"
    }
   },
   "outputs": [
    {
     "data": {
      "text/html": [
       "\n",
       "<style>\n",
       ".output_png {\n",
       "    display: table-cell;\n",
       "    text-align: center;\n",
       "    vertical-align: middle;\n",
       "}\n",
       "</style>\n"
      ],
      "text/plain": [
       "<IPython.core.display.HTML object>"
      ]
     },
     "execution_count": 3,
     "metadata": {},
     "output_type": "execute_result"
    }
   ],
   "source": [
    "from IPython.core.display import HTML\n",
    "HTML(\"\"\"\n",
    "<style>\n",
    ".output_png {\n",
    "    display: table-cell;\n",
    "    text-align: center;\n",
    "    vertical-align: middle;\n",
    "}\n",
    "</style>\n",
    "\"\"\")"
   ]
  },
  {
   "cell_type": "markdown",
   "id": "a8339414",
   "metadata": {
    "slideshow": {
     "slide_type": "skip"
    }
   },
   "source": [
    "# Foreword \n",
    "\n",
    "The following code are used for this lecture\n",
    "  * most of the code have been adapted from https://github.com/aimacode/aima-python"
   ]
  },
  {
   "cell_type": "code",
   "execution_count": 4,
   "id": "ae4bbb2b",
   "metadata": {
    "slideshow": {
     "slide_type": "skip"
    }
   },
   "outputs": [],
   "source": [
    "%matplotlib inline\n",
    "import matplotlib.pyplot as plt\n",
    "import random\n",
    "import heapq\n",
    "import math\n",
    "import sys\n",
    "from collections import defaultdict, deque, Counter\n",
    "from itertools import combinations\n",
    "\n",
    "\n",
    "class Problem(object):\n",
    "    \"\"\"The abstract class for a formal problem. A new domain subclasses this,\n",
    "    overriding `actions` and `results`, and perhaps other methods.\n",
    "    The default heuristic is 0 and the default action cost is 1 for all states.\n",
    "    When yiou create an instance of a subclass, specify `initial`, and `goal` states \n",
    "    (or give an `is_goal` method) and perhaps other keyword args for the subclass.\"\"\"\n",
    "\n",
    "    def __init__(self, initial=None, goal=None, **kwds): \n",
    "        self.__dict__.update(initial=initial, goal=goal, **kwds) \n",
    "        \n",
    "    def actions(self, state):        raise NotImplementedError\n",
    "    def result(self, state, action): raise NotImplementedError\n",
    "    def is_goal(self, state):        return state == self.goal\n",
    "    def action_cost(self, s, a, s1): return 1\n",
    "    def h(self, node):               return 0\n",
    "    \n",
    "    def __str__(self):\n",
    "        return '{}({!r}, {!r})'.format(\n",
    "            type(self).__name__, self.initial, self.goal)\n",
    "    \n",
    "\n",
    "class Node:\n",
    "    \"A Node in a search tree.\"\n",
    "    def __init__(self, state, parent=None, action=None, path_cost=0):\n",
    "        self.__dict__.update(state=state, parent=parent, action=action, path_cost=path_cost)\n",
    "\n",
    "    def __repr__(self): return '<{}>'.format(self.state)\n",
    "    def __len__(self): return 0 if self.parent is None else (1 + len(self.parent))\n",
    "    def __lt__(self, other): return self.path_cost < other.path_cost\n",
    "    \n",
    "    \n",
    "failure = Node('failure', path_cost=math.inf) # Indicates an algorithm couldn't find a solution.\n",
    "cutoff  = Node('cutoff',  path_cost=math.inf) # Indicates iterative deepening search was cut off.\n",
    "    \n",
    "    \n",
    "def expand(problem, node):\n",
    "    \"Expand a node, generating the children nodes.\"\n",
    "    s = node.state\n",
    "    for action in problem.actions(s):\n",
    "        s1 = problem.result(s, action)\n",
    "        cost = node.path_cost + problem.action_cost(s, action, s1)\n",
    "        yield Node(s1, node, action, cost)\n",
    "        \n",
    "\n",
    "def path_actions(node):\n",
    "    \"The sequence of actions to get to this node.\"\n",
    "    if node.parent is None:\n",
    "        return []  \n",
    "    return path_actions(node.parent) + [node.action]\n",
    "\n",
    "\n",
    "def path_states(node):\n",
    "    \"The sequence of states to get to this node.\"\n",
    "    if node in (cutoff, failure, None): \n",
    "        return []\n",
    "    return path_states(node.parent) + [node.state]\n",
    "\n",
    "\n",
    "\n",
    "def is_cycle(node, k=30):\n",
    "    \"Does this node form a cycle of length k or less?\"\n",
    "    def find_cycle(ancestor, k):\n",
    "        return (ancestor is not None and k > 0 and\n",
    "                (ancestor.state == node.state or find_cycle(ancestor.parent, k - 1)))\n",
    "    return find_cycle(node.parent, k)"
   ]
  },
  {
   "cell_type": "code",
   "execution_count": 5,
   "id": "a8e93d87",
   "metadata": {
    "slideshow": {
     "slide_type": "skip"
    }
   },
   "outputs": [],
   "source": [
    "FIFOQueue = deque\n",
    "\n",
    "LIFOQueue = list\n",
    "\n",
    "StackAgenda = list\n",
    "\n",
    "class PriorityQueue:\n",
    "    \"\"\"A queue in which the item with minimum f(item) is always popped first.\"\"\"\n",
    "\n",
    "    def __init__(self, items=(), key=lambda x: x): \n",
    "        self.key = key\n",
    "        self.items = [] # a heap of (score, item) pairs\n",
    "        for item in items:\n",
    "            self.add(item)\n",
    "         \n",
    "    def add(self, item):\n",
    "        \"\"\"Add item to the queuez.\"\"\"\n",
    "        pair = (self.key(item), item)\n",
    "        heapq.heappush(self.items, pair)\n",
    "\n",
    "    def pop(self):\n",
    "        \"\"\"Pop and return the item with min f(item) value.\"\"\"\n",
    "        return heapq.heappop(self.items)[1]\n",
    "    \n",
    "    def top(self): return self.items[0][1]\n",
    "\n",
    "    def __len__(self): return len(self.items)"
   ]
  },
  {
   "cell_type": "code",
   "execution_count": 6,
   "id": "29e3af4b",
   "metadata": {
    "slideshow": {
     "slide_type": "skip"
    }
   },
   "outputs": [],
   "source": [
    "class RouteProblem(Problem):\n",
    "    \"\"\"A problem to find a route between locations on a `Map`.\n",
    "    Create a problem with RouteProblem(start, goal, map=Map(...)}).\n",
    "    States are the vertexes in the Map graph; actions are destination states.\"\"\"\n",
    "    \n",
    "    def actions(self, state): \n",
    "        \"\"\"The places neighboring `state`.\"\"\"\n",
    "        return self.map.neighbors[state]\n",
    "    \n",
    "    def result(self, state, action):\n",
    "        \"\"\"Go to the `action` place, if the map says that is possible.\"\"\"\n",
    "        return action if action in self.map.neighbors[state] else state\n",
    "    \n",
    "    def action_cost(self, s, action, s1):\n",
    "        \"\"\"The distance (cost) to go from s to s1.\"\"\"\n",
    "        return self.map.distances[s, s1]\n",
    "    \n",
    "    def h(self, node):\n",
    "        \"Straight-line distance between state and the goal.\"\n",
    "        locs = self.map.locations\n",
    "        return straight_line_distance(locs[node.state], locs[self.goal])\n",
    "    \n",
    "    \n",
    "def straight_line_distance(A, B):\n",
    "    \"Straight-line distance between two points.\"\n",
    "    return sum(abs(a - b)**2 for (a, b) in zip(A, B)) ** 0.5"
   ]
  },
  {
   "cell_type": "code",
   "execution_count": 7,
   "id": "239ff6d1",
   "metadata": {
    "slideshow": {
     "slide_type": "skip"
    }
   },
   "outputs": [],
   "source": [
    "class Map:\n",
    "    \"\"\"A map of places in a 2D world: a graph with vertexes and links between them. \n",
    "    In `Map(links, locations)`, `links` can be either [(v1, v2)...] pairs, \n",
    "    or a {(v1, v2): distance...} dict. Optional `locations` can be {v1: (x, y)} \n",
    "    If `directed=False` then for every (v1, v2) link, we add a (v2, v1) link.\"\"\"\n",
    "\n",
    "    def __init__(self, links, locations=None, directed=False):\n",
    "        if not hasattr(links, 'items'): # Distances are 1 by default\n",
    "            links = {link: 1 for link in links}\n",
    "        if not directed:\n",
    "            for (v1, v2) in list(links):\n",
    "                links[v2, v1] = links[v1, v2]\n",
    "        self.distances = links\n",
    "        self.neighbors = multimap(links)\n",
    "        self.locations = locations or defaultdict(lambda: (0, 0))\n",
    "\n",
    "        \n",
    "def multimap(pairs) -> dict:\n",
    "    \"Given (key, val) pairs, make a dict of {key: [val,...]}.\"\n",
    "    result = defaultdict(list)\n",
    "    for key, val in pairs:\n",
    "        result[key].append(val)\n",
    "    return result"
   ]
  },
  {
   "cell_type": "code",
   "execution_count": 8,
   "id": "b8b096a4",
   "metadata": {
    "slideshow": {
     "slide_type": "skip"
    }
   },
   "outputs": [],
   "source": [
    "# Some specific RouteProblems\n",
    "\n",
    "romania = Map(\n",
    "    {('O', 'Z'):  71, ('O', 'S'): 151, ('A', 'Z'): 75, ('A', 'S'): 140, ('A', 'T'): 118, \n",
    "     ('L', 'T'): 111, ('L', 'M'):  70, ('D', 'M'): 75, ('C', 'D'): 120, ('C', 'R'): 146, \n",
    "     ('C', 'P'): 138, ('R', 'S'):  80, ('F', 'S'): 99, ('B', 'F'): 211, ('B', 'P'): 101, \n",
    "     ('B', 'G'):  90, ('B', 'U'):  85, ('H', 'U'): 98, ('E', 'H'):  86, ('U', 'V'): 142, \n",
    "     ('I', 'V'):  92, ('I', 'N'):  87, ('P', 'R'): 97},\n",
    "    {'A': ( 76, 497), 'B': (400, 327), 'C': (246, 285), 'D': (160, 296), 'E': (558, 294), \n",
    "     'F': (285, 460), 'G': (368, 257), 'H': (548, 355), 'I': (488, 535), 'L': (162, 379),\n",
    "     'M': (160, 343), 'N': (407, 561), 'O': (117, 580), 'P': (311, 372), 'R': (227, 412),\n",
    "     'S': (187, 463), 'T': ( 83, 414), 'U': (471, 363), 'V': (535, 473), 'Z': (92, 539)})\n",
    "\n",
    "\n",
    "r0 = RouteProblem('A', 'A', map=romania)\n",
    "# r1 = RouteProblem('A', 'B', map=romania)\n",
    "# r2 = RouteProblem('N', 'L', map=romania)\n",
    "# r3 = RouteProblem('E', 'T', map=romania)\n",
    "# r4 = RouteProblem('O', 'M', map=romania)"
   ]
  },
  {
   "cell_type": "markdown",
   "id": "6b330035",
   "metadata": {
    "slideshow": {
     "slide_type": "slide"
    }
   },
   "source": [
    "# CS5010 Artificial Intelligence Principles\n",
    "### Lecture 16-17 Uninformed Search \n",
    "\n",
    "Lei Fang\n",
    "\n",
    "University of St Andrews"
   ]
  },
  {
   "cell_type": "markdown",
   "id": "40e452be",
   "metadata": {
    "slideshow": {
     "slide_type": "slide"
    }
   },
   "source": [
    "# Today\n",
    "\n",
    "* Searching problem in general\n",
    "\n",
    "* Performance measurements of a searching algorithm\n",
    "\n",
    "* Two searching algorithms\n",
    "  * Depth First search (DFS)\n",
    "  * Breath First search (BFS)\n",
    "  * Performance analysis on them"
   ]
  },
  {
   "cell_type": "markdown",
   "id": "4a33b5da",
   "metadata": {
    "slideshow": {
     "slide_type": "slide"
    }
   },
   "source": [
    "# Searching \n",
    "\n",
    "\n",
    "* Uninformed search\n",
    "  * e.g. you are dropped to Mars and need to find the base-station\n",
    "    * no extra information/heuristic at all\n",
    "    * the best you can do is to blindly try all options available to you\n",
    "\n",
    "\n",
    "* Informed search also called *heuristic search* (next week's topic)\n",
    "  * e.g. from St Andrews to London  (assume you know  a tiny bit about the UK's geography)\n",
    "    * Aberdeen or Shetland are probably not good choices for your next stop! you are making some *informed* search\n",
    "    * Edinburgh makes better sense (as you know it is closer to London)"
   ]
  },
  {
   "cell_type": "markdown",
   "id": "452c2c49",
   "metadata": {
    "slideshow": {
     "slide_type": "slide"
    }
   },
   "source": [
    "# A searching problem: route finding\n",
    "\n",
    "Find the route from a starting point (Arad) to a destination (Bucharest)\n",
    "\n",
    "<center><img src=\"https://leo.host.cs.st-andrews.ac.uk/figs/figs4CS5010/searching/romania.png\" width = \"900\" height=\"400\"/></center>\n",
    "\n",
    "The problems can be distilled as the following ingredients:\n",
    "* a set of possible **states** that are reachable: for exmaple, ``Arad``, ``Sibiu``\n",
    "* The **initial state** to start with; for example `Arad`\n",
    "* A set of one or more **goal states**; for example `Bucharest`"
   ]
  },
  {
   "cell_type": "markdown",
   "id": "28d2769f",
   "metadata": {
    "slideshow": {
     "slide_type": "fragment"
    }
   },
   "source": [
    "* The **actions** and **transition model** at a given state. \n",
    "  * for example, `ACTIONS(Arad) = {ToSibiu, ToTimisoara, ToZerind}`\n",
    "  * `RESULT(Arad, ToSibiu) = Sibiu`"
   ]
  },
  {
   "cell_type": "markdown",
   "id": "18cc5428",
   "metadata": {
    "slideshow": {
     "slide_type": "subslide"
    }
   },
   "source": [
    "* **Action cost function**, denoted by `ACTION-COST(s, a, s')`, that returns the cost of the action\n",
    "  * need both start $s$, $a$ and ending state $s'$ because there might be multiple actions between two states\n",
    "    * for example, both train or bus are available to travel from Edinburgh to London\n",
    "  * problem dependent, could be miles, time, ticket price  "
   ]
  },
  {
   "cell_type": "markdown",
   "id": "2bf02fce",
   "metadata": {
    "slideshow": {
     "slide_type": "fragment"
    }
   },
   "source": [
    "* A **path** or **solution**: a set of states interleaved with actions that start with initial and end with the goal state\n",
    "  * for example: Arad - Sibliu - Fagaras - Bucharest\n",
    "  * **optimal solution**: solution with the lowest path cost"
   ]
  },
  {
   "cell_type": "markdown",
   "id": "6fb87dd8",
   "metadata": {
    "slideshow": {
     "slide_type": "slide"
    }
   },
   "source": [
    "# Abstraction\n",
    "\n",
    "\n",
    "Abstraction is the process of removing irrelevant or trivial details of the problem domain\n",
    "\n",
    "A searching problem is abstracted as : **states**, **initial state**, **goal state**, **actions and transitions**, \n",
    "**action cost function**\n",
    "  "
   ]
  },
  {
   "cell_type": "markdown",
   "id": "17aab3d6",
   "metadata": {
    "slideshow": {
     "slide_type": "subslide"
    }
   },
   "source": [
    "All other details are not included \n",
    "  * e.g. the weather when the agent travels; road between states might be blocked/delayed/closed\n",
    "\n",
    "Abstraction is a mathematical model: `all models are wrong but some are useful`\n",
    "  * it provides us with the essentials to solve the problem"
   ]
  },
  {
   "cell_type": "markdown",
   "id": "4123a1c9",
   "metadata": {
    "slideshow": {
     "slide_type": "slide"
    }
   },
   "source": [
    "# State space graph\n",
    "\n",
    "The abstraction is a collection of: **states**, **initial state**, **goal state**, **actions and transitions**, \n",
    "**action cost function**\n",
    "\n",
    "The collection can also be explicitly represented as a **state space graph**, like the Romania map \n",
    "  * **states** are the nodes; we may want to denote initial and goal states with double circle \n",
    "  * **state space**: the set of all possible states, i.e. the number of nodes in the graph\n",
    "  * **edges** are the **actions** between nodes\n",
    "  * weighted edges denote the **action cost**\n",
    "  \n",
    "  \n",
    "<center><img src=\"https://leo.host.cs.st-andrews.ac.uk/figs/figs4CS5010/searching/romania.png\" width = \"800\" height=\"400\"/></center>  \n"
   ]
  },
  {
   "cell_type": "markdown",
   "id": "d01badfb",
   "metadata": {
    "slideshow": {
     "slide_type": "subslide"
    }
   },
   "source": [
    "However, in general it is not **feasible** to do so\n",
    "  * state space size too large ! \n",
    "    * graph would be too large to draw in one go! usually exponentially large \n",
    "  * or real-time searching problem (transition models not available apriori)\n",
    "\n",
    "Graph is usually created on the fly while we do the searching"
   ]
  },
  {
   "cell_type": "markdown",
   "id": "cabd9e15",
   "metadata": {
    "slideshow": {
     "slide_type": "slide"
    }
   },
   "source": [
    "# Another searching problem: 8 puzzle \n",
    "\n",
    "You are allowed to slide the blank tile to its adjacent tile to reach the final state\n",
    "\n",
    "<center><img src=\"https://leo.host.cs.st-andrews.ac.uk/figs/figs4CS5010/searching/eightpuzzle.png\" width = \"600\" height=\"400\"/></center>\n",
    "\n"
   ]
  },
  {
   "cell_type": "markdown",
   "id": "938feba3",
   "metadata": {
    "slideshow": {
     "slide_type": "subslide"
    }
   },
   "source": [
    "We can find the same ingredients:\n",
    "\n",
    "* The **initial state** and **goal/destination state** are above\n",
    "* State space: $9!$ possible states! too many to plot everything in a graph like Romamia map example\n",
    "  * blank tile has 9 choices, then the rest 1 to 8 have $8!$ possible choices, \n",
    "  * together we have $9 \\times 8! = 9!$ states\n",
    "* **Action and transitions**: move the blank tile, e.g.\n",
    "\n",
    "<center><img src=\"https://ece.uwaterloo.ca/~dwharder/aads/Algorithms/N_puzzles/images/puz3.png\" width = \"600\" height=\"400\"/></center>\n",
    "\n",
    "* **action cost function**: each transition cost the same; uniform cost\n",
    "* **optimal solution**: a path with the least number of transitions"
   ]
  },
  {
   "cell_type": "markdown",
   "id": "d93a494c",
   "metadata": {
    "slideshow": {
     "slide_type": "subslide"
    }
   },
   "source": [
    "Again, a lot of other trivial details are not modelled\n",
    "  * e.g. tile gets stuck etc\n",
    "  \n",
    "  \n",
    "Thanks to abstraction, **8 puzzle** and **route finding** are the same \n",
    "  * the same ingredients in the abstraction\n",
    "  * one algorithm can deal with both of them"
   ]
  },
  {
   "cell_type": "markdown",
   "id": "6a04957e",
   "metadata": {
    "slideshow": {
     "slide_type": "slide"
    }
   },
   "source": [
    "# Searching algorithm performance measures\n",
    "\n",
    "\n",
    "We measure a searching algorithm by the following measures\n",
    "\n",
    "* **completeness**: if there exists a solution to the search problem, is the algorithm guaranteed to find it\n",
    "* **optimality**: is the algorithm guaranteed to find the optimal solution "
   ]
  },
  {
   "cell_type": "markdown",
   "id": "961401a1",
   "metadata": {
    "slideshow": {
     "slide_type": "fragment"
    }
   },
   "source": [
    "* **time complexity** how long does the algorithm take to find a solution ?\n",
    "* **space complexity** how much memory is needed to perform the search ?"
   ]
  },
  {
   "cell_type": "markdown",
   "id": "eeacf7f2",
   "metadata": {
    "slideshow": {
     "slide_type": "fragment"
    }
   },
   "source": [
    "* we will use big-O notation to measure complexity\n",
    "  * it provides the worst case scenario's performance\n",
    "  * computer scientists care about the worst possible perfomance: it is a guarantee\n",
    "  \n",
    "    \n"
   ]
  },
  {
   "cell_type": "markdown",
   "id": "b2d79991",
   "metadata": {
    "slideshow": {
     "slide_type": "subslide"
    }
   },
   "source": [
    "* **branching factor** (written as $b$) is used a lot in complexity analysis\n",
    "  * the maximum number of possible actions/edges for the searching problem\n",
    "  * e.g. $b=4$ for the Romania map problem: Sibiu has 4 actions available \n",
    "  * $b=4$ for 8-puzzle, up, down, left, right (4 transitions)"
   ]
  },
  {
   "cell_type": "markdown",
   "id": "aed20606",
   "metadata": {
    "slideshow": {
     "slide_type": "slide"
    }
   },
   "source": [
    "# Searching algorithm in general\n",
    "\n",
    "\n",
    "All searching algorithms we consider in this week (and next week) has the following paradigm\n",
    "\n",
    "* superimpose a **search tree** over the state space graph\n",
    "* the **root** of the tree is set as the initial state\n",
    "\n"
   ]
  },
  {
   "cell_type": "markdown",
   "id": "5b5985c1",
   "metadata": {
    "slideshow": {
     "slide_type": "fragment"
    }
   },
   "source": [
    "For example, our initial tree looks like this\n",
    "  * initial state is the root\n",
    "\n",
    "State space graph        |  Superimposed search tree (starting point)\n",
    ":-------------------------:|:-------------------------:\n",
    "![](https://leo.host.cs.st-andrews.ac.uk/figs/figs4CS5010/searching/romania.png) |  ![](https://leo.host.cs.st-andrews.ac.uk/figs/figs4CS5010/searching/tree2.png)"
   ]
  },
  {
   "cell_type": "markdown",
   "id": "17644afe",
   "metadata": {
    "slideshow": {
     "slide_type": "slide"
    }
   },
   "source": [
    "# Tree node is different from graph state "
   ]
  },
  {
   "cell_type": "markdown",
   "id": "72ff3a37",
   "metadata": {
    "slideshow": {
     "slide_type": "fragment"
    }
   },
   "source": [
    "We can expand the tree to expect to find a goal node somewhere down the tree\n",
    "\n",
    "\n",
    "State space graph        |  Superimposed search tree (starting point)\n",
    ":-------------------------:|:-------------------------:\n",
    "![](https://leo.host.cs.st-andrews.ac.uk/figs/figs4CS5010/searching/romania.png) |  ![](https://leo.host.cs.st-andrews.ac.uk/figs/figs4CS5010/searching/tree3_3.png)"
   ]
  },
  {
   "cell_type": "markdown",
   "id": "d2630924",
   "metadata": {
    "slideshow": {
     "slide_type": "fragment"
    }
   },
   "source": [
    "<div class=\"alert alert-block alert-info\">\n",
    "    <b>!!! Note a node in the searching tree (right hand side) is different from the a state in the graph</b> \n",
    "</div>\n"
   ]
  },
  {
   "cell_type": "markdown",
   "id": "cba3f596",
   "metadata": {
    "slideshow": {
     "slide_type": "subslide"
    }
   },
   "source": [
    "State space graph        |  Superimposed search tree (starting point)\n",
    ":-------------------------:|:-------------------------:\n",
    "![](https://leo.host.cs.st-andrews.ac.uk/figs/figs4CS5010/searching/romania.png) |  ![](https://leo.host.cs.st-andrews.ac.uk/figs/figs4CS5010/searching/tree3_3.png)\n",
    "\n",
    "Each node in the tree actually represent **a partial solution** !\n",
    "  * e.g. Oradea (left one) actually represents a (partial) solution path: Arad -> Sibiu -> Oradea\n",
    "    * the red arrow traces back to its parent nodes\n",
    "  * which is of course different from the other Oradea on the right\n",
    "\n",
    "\n",
    "Therefore, each tree **node** contains some extra information\n",
    "  * link to its parent; and cost to reach from its parent\n",
    "  * check `expand` method and `Node` class in the text book"
   ]
  },
  {
   "cell_type": "markdown",
   "id": "396a9a63",
   "metadata": {
    "slideshow": {
     "slide_type": "slide"
    }
   },
   "source": [
    "# Different searching algorithms are different ways to expand the trees\n",
    "\n",
    "Different searching algorithm basically are \n",
    "  * just different strategies to expand the tree\n",
    "  * different strategies have different pros and cons "
   ]
  },
  {
   "cell_type": "markdown",
   "id": "297011c2",
   "metadata": {
    "slideshow": {
     "slide_type": "slide"
    }
   },
   "source": [
    "# First search strategy: breath first search\n",
    "\n",
    "Our first searching strategy is **breath first search (BFS)**: a method that pushes uniformly to all directions of the tree\n",
    "  * explore the nodes 1 step away from root first \n",
    "  * then 2 hops away \n",
    "  * 3 hops away\n",
    "  \n",
    "  \n",
    "<center><img src=\"https://leo.host.cs.st-andrews.ac.uk/figs/figs4CS5010/searching/bfsilla.png\" width = \"400\" height=\"400\"/></center>  "
   ]
  },
  {
   "cell_type": "markdown",
   "id": "b72b3e49",
   "metadata": {
    "slideshow": {
     "slide_type": "slide"
    }
   },
   "source": [
    "# Breadth First Search Algorithm\n",
    "\n",
    "An interative algorithm with the help of a First In First Out (FIFO) data structure **queue** (called **agenda** in the algorithm)\n",
    "  * **initialise**: as a queue with only the root (starting state's node)\n",
    "  * repeat adding extended paths to the **agenda** (some call it *frontier* or *open list*)\n",
    "  * to stress a node in the tree represents a path, \n",
    "    * I have used `path`: list of nodes of the path to the agenda \n",
    "    * the book has actually used a data structure **linked list** to represent the path (node can back trace its parent)\n",
    "    * just different levels of data structure (abstract data types): Linked list (AIAMA book) vs List (algorithm below)\n",
    "\n"
   ]
  },
  {
   "cell_type": "markdown",
   "id": "2351e2cd",
   "metadata": {
    "slideshow": {
     "slide_type": "subslide"
    }
   },
   "source": [
    "Pseudo-code of BFS, \n",
    "* normally known as BFS tree search (tree is acyclic; so no need to do cycle check)\n",
    "\n",
    "<!-- <div style=\"background-color:rgba(0, 0, 0, 0.0470588); padding:10px 0;font-family:monospace;\">\n",
    "    \n",
    "step 0: Initialize\n",
    "   \n",
    "    agenda = FIFOQueue();\n",
    "    agenda.push([start]);\n",
    "    \n",
    "while agenda is not empty:\n",
    "    \n",
    "    1. path = agenda.pop()\n",
    "    2. if is-path-to-goal(path, goal)\n",
    "        return path\n",
    "    3. otherwise extend the current path \n",
    "        for each connected node (child node of the ending node of path)\n",
    "            make a new_path that extends the connected node\n",
    "            agenda.push(new_path)\n",
    "fail  \n",
    "</div> -->\n",
    "\n",
    "<center><img src=\"https://leo.host.cs.st-andrews.ac.uk/figs/figs4CS5010/searching/bfstreepseudo.png\" width = \"800\" height=\"400\"/></center>  "
   ]
  },
  {
   "cell_type": "code",
   "execution_count": 9,
   "id": "5a4ffa58",
   "metadata": {
    "slideshow": {
     "slide_type": "subslide"
    }
   },
   "outputs": [],
   "source": [
    "# Python implementation of Breath first search \n",
    "def my_breadth_first_tree_search(problem):\n",
    "    agenda = FIFOQueue([Node(problem.initial)])\n",
    "    while agenda:\n",
    "        node = agenda.pop()\n",
    "        if problem.is_goal(node.state):\n",
    "            return node\n",
    "        for child in expand(problem, node):\n",
    "#           no cyclic checking \n",
    "            agenda.appendleft(child)\n",
    "    return failure    "
   ]
  },
  {
   "cell_type": "markdown",
   "id": "661011b0",
   "metadata": {
    "slideshow": {
     "slide_type": "slide"
    }
   },
   "source": [
    "# Why FIFO Queue ?\n",
    "\n",
    "\n",
    "\n",
    "Invariant condition: at all times, paths ending with shallower nodes are at front of the queue\n",
    "    <center><img src=\"https://leo.host.cs.st-andrews.ac.uk/figs/figs4CS5010/searching/queue.png\" width = \"600\" height=\"400\"/></center>  \n"
   ]
  },
  {
   "cell_type": "markdown",
   "id": "a1c3079d",
   "metadata": {
    "slideshow": {
     "slide_type": "fragment"
    }
   },
   "source": [
    "Shallower nodes will be popped first\n",
    "  * so will be goal tested first as well\n",
    "\n",
    "\n",
    "<center><img src=\"https://leo.host.cs.st-andrews.ac.uk/figs/figs4CS5010/searching/dequeue.png\" width = \"800\" height=\"400\"/></center>  "
   ]
  },
  {
   "cell_type": "markdown",
   "id": "dda1879d",
   "metadata": {
    "slideshow": {
     "slide_type": "subslide"
    }
   },
   "source": [
    "Next levels $l+1$ are always pushed to the end of the queue\n",
    "  * won't be considered until all paths ending with level $l$'s paths have been popped and considered \n",
    "\n",
    "<center><img src=\"https://leo.host.cs.st-andrews.ac.uk/figs/figs4CS5010/searching/enqueue.png\" width = \"800\" height=\"400\"/></center>  "
   ]
  },
  {
   "cell_type": "markdown",
   "id": "12c02a36",
   "metadata": {
    "slideshow": {
     "slide_type": "slide"
    }
   },
   "source": [
    "# An example \n",
    "\n",
    "Consider the following state space graph \n",
    "  * a $3\\times 3$ grid\n",
    "  * actions: use 0,1,2,3 to denote right, down, left, up (clock-wise) \n",
    "  * initial state: A; goal state: G\n",
    "  \n",
    "  \n",
    "<center><img src=\"https://leo.host.cs.st-andrews.ac.uk/figs/figs4CS5010/searching/grid.png\" width = \"300\" height=\"400\"/></center>    "
   ]
  },
  {
   "cell_type": "markdown",
   "id": "31e3ab60",
   "metadata": {
    "slideshow": {
     "slide_type": "subslide"
    }
   },
   "source": [
    "<font color='blue'><b>Step 0</b></font>: **initialisation:**\n",
    "\n",
    "    agenda = Queue();\n",
    "    agenda.push([A])\n",
    "    \n",
    "---------------------------------------    \n",
    "<font color='blue'><b>Agenda status</b></font>: \n",
    "\n",
    "|iteration | agenda|\n",
    "| :-| :-|\n",
    "|   <font color='blue'><b>0:</b></font>     |    <font color='blue'><b>[A]</b></font>   |\n",
    "\n",
    "\n",
    "\n"
   ]
  },
  {
   "cell_type": "markdown",
   "id": "52433e6b",
   "metadata": {
    "slideshow": {
     "slide_type": "fragment"
    }
   },
   "source": [
    "--------------------------------------- \n",
    "<font color='blue'><b>Tree view</b></font>: \n",
    "* <font color='salmon'><i><b>salmon</b></i></font> colored node: paths in the **agenda** (wait to be extended), e.g. A\n",
    "\n",
    "\n",
    "<center><img src=\"https://leo.host.cs.st-andrews.ac.uk/figs/figs4CS5010/searching/grid1.png\" width = \"800\" height=\"400\"/></center>    "
   ]
  },
  {
   "cell_type": "markdown",
   "id": "65c79b20",
   "metadata": {
    "slideshow": {
     "slide_type": "subslide"
    }
   },
   "source": [
    "<font color='blue'><b>Step 1</b></font>: while loop: check `agenda` is not empty \n",
    "\n",
    "    path = agenda.pop()      // path = [A]\n",
    "    goal test on A           // false; \n",
    "                             // goal tested so far: A\n",
    "    extend path: [A,B] [A,D] // A has two successer: B, D (clock-wise expansion)\n",
    "    push extended paths to agenda\n",
    "---------------------------------------    \n"
   ]
  },
  {
   "cell_type": "markdown",
   "id": "ace923a6",
   "metadata": {
    "slideshow": {
     "slide_type": "fragment"
    }
   },
   "source": [
    "<font color='blue'><b>Agenda status</b></font>: \n",
    "\n",
    "|step | agenda|\n",
    "| :-| :-|\n",
    "|  0:     |    ~~[A]~~   |\n",
    "|   <font color='blue'><b>1:</b></font>     |    <font color='blue'><b>[A,B], [A,D]</b></font> |\n",
    "\n",
    "--------------------------------------- \n",
    "<font color='blue'><b>Tree view</b></font>: \n",
    "* <font color='salmon'><i><b>salmon</b></i></font> colored node: paths in the **agenda**, e.g. B,D\n",
    "* <font color='blue'><i><b>blue</b></i></font> node: **extended** nodes (or nodes have been popped), e.g. A\n",
    "* <font color='gray'><i><b>blank</b></i></font> node: nodes not yet expanded nor in agenda (or others)\n",
    "\n",
    "<center><img src=\"https://leo.host.cs.st-andrews.ac.uk/figs/figs4CS5010/searching/grid2.png\" width = \"800\" height=\"400\"/></center>    "
   ]
  },
  {
   "cell_type": "markdown",
   "id": "efbd98c4",
   "metadata": {
    "slideshow": {
     "slide_type": "subslide"
    }
   },
   "source": [
    "<font color='blue'><b>Step 2</b></font>: while loop: check `agenda` is not empty \n",
    "\n",
    "    path = agenda.pop()          // path = [A, B], pop the front of the queue\n",
    "    goal test on B               // B is path's ending state and B is not the goal, \n",
    "                                 // goal tested so far A,B\n",
    "    extend path: [A,B,A] [A,B,C] [A,B,E] // B has three successers: A,C,E\n",
    "    push extended paths to agenda \n",
    "---------------------------------------    \n"
   ]
  },
  {
   "cell_type": "markdown",
   "id": "8ee0e190",
   "metadata": {
    "slideshow": {
     "slide_type": "fragment"
    }
   },
   "source": [
    "<font color='blue'><b>Agenda status</b></font>: \n",
    "\n",
    "|step | agenda|\n",
    "| :-| :-|\n",
    "|  0:     |    [A]   |\n",
    "|  1:     |    ~~[A,B]~~, [A,D]|\n",
    "|  <font color='blue'><b>2:</b></font>     |     [A,D], <font color='blue'><b>[A,B,A], [A,B,C], [A,B,E]</b></font>|\n",
    "\n",
    "\n",
    "--------------------------------------- \n",
    "<font color='blue'><b>Tree view</b></font>: \n",
    "* <font color='salmon'><i><b>salmon</b></i></font> colored node: paths in the **agenda**, e.g. D,A,C,E\n",
    "* <font color='blue'><i><b>blue</b></i></font> node: **extended** nodes (or nodes have been popped/extended), e.g. A,B\n",
    "* <font color='gray'><i><b>blank</b></i></font> node: nodes not yet expanded nor in agenda (or others)\n",
    "\n",
    "<center><img src=\"https://leo.host.cs.st-andrews.ac.uk/figs/figs4CS5010/searching/grid3.png\" width = \"800\" height=\"400\"/></center>    "
   ]
  },
  {
   "cell_type": "markdown",
   "id": "e63b0886",
   "metadata": {
    "slideshow": {
     "slide_type": "subslide"
    }
   },
   "source": [
    "<font color='blue'><b>Step 3</b></font>: : while loop: check `agenda` is not empty \n",
    "\n",
    "    path = agenda.pop()          // path = [A, D], pop the front of the queue\n",
    "    goal test on D               // D is path's ending state and D is not the goal; \n",
    "                                 // goal tested so far A,B,D\n",
    "    extend path: [A,D,A] [A,D,E] [A,D,G] // B has two successers: A,E,G\n",
    "    push extended paths to agenda\n",
    "---------------------------------------    \n",
    "\n"
   ]
  },
  {
   "cell_type": "markdown",
   "id": "1035132d",
   "metadata": {
    "slideshow": {
     "slide_type": "fragment"
    }
   },
   "source": [
    "<font color='blue'><b>Agenda status</b></font>: \n",
    "\n",
    "\n",
    "\n",
    "|step | agenda|\n",
    "| :-| :-|\n",
    "|  0:     |    [A]   |\n",
    "|  1:     |    [A,B], [A,D]|\n",
    "|  2:     |    ~~[A,D]~~, [A,B,A], [A,B,C], [A,B,E]|\n",
    "|   <font color='blue'><b>3:</b></font>     |     [A,B,A], [A,B,C], [A,B,E], <font color='blue'><b>[A,D,A], [A,D,E], [A,D,G]</b></font>|\n",
    "\n",
    "\n",
    "--------------------------------------- \n",
    "<font color='blue'><b>Tree view</b></font>: \n",
    "* <font color='salmon'><i><b>salmon</b></i></font> colored node: paths in the **agenda** yet to be considered\n",
    "* <font color='blue'><i><b>blue</b></i></font> node: **extended** nodes (or nodes have been popped/extended), \n",
    "* <font color='gray'><i><b>blank</b></i></font> node: nodes not yet expanded nor in agenda (or others)\n",
    "\n",
    "<center><img src=\"https://leo.host.cs.st-andrews.ac.uk/figs/figs4CS5010/searching/grid4.png\" width = \"800\" height=\"400\"/></center>    "
   ]
  },
  {
   "cell_type": "markdown",
   "id": "5002035d",
   "metadata": {
    "slideshow": {
     "slide_type": "subslide"
    }
   },
   "source": [
    "<font color='blue'><b>Step 4</b></font>: : while loop: check `agenda` is not empty \n",
    "\n",
    "    path = agenda.pop()          // path = [A, B, A], pop the front of the queue\n",
    "    goal test on A               // A is path's ending state and A is not the goal; \n",
    "                                 // goal tested so far A,B,D,A (repeated)\n",
    "    extend path: [A,B,A,B], [A,B,A,D] // A has two successers: B,D\n",
    "    push extended paths to agenda\n",
    "---------------------------------------    \n"
   ]
  },
  {
   "cell_type": "markdown",
   "id": "231011a8",
   "metadata": {
    "slideshow": {
     "slide_type": "fragment"
    }
   },
   "source": [
    "<font color='blue'><b>Agenda status</b></font>: \n",
    "\n",
    "\n",
    "\n",
    "|step | agenda|\n",
    "| :-| :-|\n",
    "|  0:     |    [A]   |\n",
    "|  1:     |    [A,B], [A,D]|\n",
    "|  2:     |    [A,D], [A,B,A], [A,B,C], [A,B,E]|\n",
    "|  3:     |    ~~[A,B,A]~~, [A,B,C], [A,B,E], [A,D,A], [A,D,E], [A,D,G]|\n",
    "|   <font color='blue'><b>4:</b></font>     |     [A,B,C], [A,B,E], [A,D,A], [A,D,E], [A,D,G], <font color='blue'><b>[A,B,A,B], [A,B,A,D]</b></font>|\n",
    "\n",
    "\n",
    "--------------------------------------- \n",
    "<font color='blue'><b>Tree view</b></font>: \n",
    "* <font color='salmon'><i><b>salmon</b></i></font> colored node: paths in the **agenda**, e.g. D,A,C,E\n",
    "* <font color='blue'><i><b>blue</b></i></font> node: **extended** nodes (or nodes have been popped/extended), e.g. A,B\n",
    "* <font color='gray'><i><b>blank</b></i></font> node: nodes not yet expanded nor in agenda (or others)\n",
    "\n",
    "<center><img src=\"https://leo.host.cs.st-andrews.ac.uk/figs/figs4CS5010/searching/grid5.png\" width = \"800\" height=\"400\"/></center>    "
   ]
  },
  {
   "cell_type": "markdown",
   "id": "65d2e5cf",
   "metadata": {
    "slideshow": {
     "slide_type": "subslide"
    }
   },
   "source": [
    "fast forward to step 9\n",
    "\n",
    "<font color='blue'><b>Step 9</b></font>: : while loop: check `agenda` is not empty \n",
    "\n",
    "    path = agenda.pop()          // path = [A, D, G], pop the front of the queue\n",
    "    goal test on G               // G is the goal! \n",
    "                                 // goal tested so far A,B,D,A,C,E,A,E,G\n",
    "    return path\n",
    "---------------------------------------    \n",
    "<font color='blue'><b>Agenda status</b></font>: \n",
    "\n",
    "\n",
    "\n",
    "|step | agenda|\n",
    "| :-| :-|\n",
    "|   <font color='blue'><b>9:</b></font>     |    ~~[A,D,G]~~, [A,B,A,B], [A,B,A,D], [A,B,C,B], [A,B,C,F] ...|\n",
    "\n",
    "--------------------------------------- \n",
    "<font color='blue'><b>Tree view</b></font>: \n",
    "* <font color='salmon'><i><b>salmon</b></i></font> colored node: paths in the **agenda**, e.g. D,A,C,E\n",
    "* <font color='blue'><i><b>blue</b></i></font> node: **extended** nodes (or nodes have been popped/extended), e.g. A,B\n",
    "* <font color='gray'><i><b>blank</b></i></font> node: nodes not yet expanded nor in agenda (or others)\n",
    "\n",
    "<center><img src=\"https://leo.host.cs.st-andrews.ac.uk/figs/figs4CS5010/searching/grid6.png\" width = \"800\" height=\"400\"/></center>   "
   ]
  },
  {
   "cell_type": "markdown",
   "id": "6a8ddaf4",
   "metadata": {
    "slideshow": {
     "slide_type": "slide"
    }
   },
   "source": [
    "# Performance analysis of BFS\n",
    "\n",
    "\n",
    "**Complete**: if there is a solution, guaranteed to find it or not ?\n",
    "  * Yes! assume we have enough memory to store the agenda, the solution path will eventually be popped and checked\n",
    "\n"
   ]
  },
  {
   "cell_type": "markdown",
   "id": "d9aad0bb",
   "metadata": {
    "slideshow": {
     "slide_type": "subslide"
    }
   },
   "source": [
    "**Optimal**: is the solution found optimal ?\n",
    "  * Yes for this question. Guaranteed to return the shallowest node \n",
    "    * or in other words if costs are uniform; the BFS is optimal: e.g. 8 puzzle\n",
    "  * **No** in general!\n",
    "    * how about route finding problem ?"
   ]
  },
  {
   "cell_type": "code",
   "execution_count": 10,
   "id": "84f417cb",
   "metadata": {
    "slideshow": {
     "slide_type": "fragment"
    }
   },
   "outputs": [
    {
     "data": {
      "text/plain": [
       "['A', 'S', 'F', 'B']"
      ]
     },
     "execution_count": 10,
     "metadata": {},
     "output_type": "execute_result"
    }
   ],
   "source": [
    "# formulate the route finding problem: Arad to Bucharest\n",
    "r1 = RouteProblem('A', 'B', map=romania)\n",
    "path_states(my_breadth_first_tree_search(r1))"
   ]
  },
  {
   "cell_type": "markdown",
   "id": "248f619f",
   "metadata": {
    "slideshow": {
     "slide_type": "fragment"
    }
   },
   "source": [
    "BFS finds a solution [A, S, F, B]: with the fewest step but not lowest cost;\n",
    "  * the path cost is 450\n",
    "\n",
    "The optimal solution is [A, S, R, P, B]: \n",
    "  * more hops but with lower cost: **418**"
   ]
  },
  {
   "cell_type": "markdown",
   "id": "4adf1bc5",
   "metadata": {
    "slideshow": {
     "slide_type": "subslide"
    }
   },
   "source": [
    "**Time complexity**: depends on how many tree nodes been generated \n",
    "  * $O(b^d)$: b is the branching factor, d is the depth of the solution\n",
    "  * $\\underbrace{1}_{\\text{root}}+ \\underbrace{b}_{\\text{depth 1}} + \\underbrace{b^2}_{\\text{depth 2}} + b^3 +\\ldots, b^d = \\frac{b^{d+1} -1}{b-1}=O(b^d)$\n",
    "  \n",
    "\n",
    "  <center><img src=\"https://leo.host.cs.st-andrews.ac.uk/figs/figs4CS5010/searching/grid6.png\" width = \"800\" height=\"400\"/></center>       "
   ]
  },
  {
   "cell_type": "markdown",
   "id": "b5c14551",
   "metadata": {
    "slideshow": {
     "slide_type": "fragment"
    }
   },
   "source": [
    "**Space complexity**: how much memory is needed \n",
    "  * still $O(b^d)$: b is the branching factor, d is the depth of the solution\n",
    "    * popped node still needed later for solution building so cannot be freed up \n",
    "    * even popped nodes were not kept in memory, the size of **agenda** is still $O(b^{d})$\n",
    "      * how many salmon nodes are there: roughly $b^{d+1} = b^3$: the size of agenda is the dominating term\n",
    "    \n"
   ]
  },
  {
   "cell_type": "markdown",
   "id": "3ed85f30",
   "metadata": {
    "slideshow": {
     "slide_type": "slide"
    }
   },
   "source": [
    "# Avoid repeated states \n",
    "\n",
    "The BFS algorithm presented so far does a lot repetitive extension and goal checking \n",
    "  * e.g. **A** has been extended again at step 4; and it will be extended again later (A-D-A route)\n",
    "  * same applies to a lot of others, B, D etc\n",
    "\n",
    "<center><img src=\"https://leo.host.cs.st-andrews.ac.uk/figs/figs4CS5010/searching/grid5.png\" width = \"800\" height=\"400\"/></center>    "
   ]
  },
  {
   "cell_type": "markdown",
   "id": "38872133",
   "metadata": {
    "slideshow": {
     "slide_type": "subslide"
    }
   },
   "source": [
    "There are two* possible solutions \n",
    "\n",
    "**Option 1**: check cyclic path before pushing into agenda\n",
    "  * we should reject [A,B,A] as it contains a cycle!\n",
    "  * no extra storage cost\n",
    "  * a lot of implementations trace back to some fixed level of ancesters, say 2 or 3 (not up to the root)"
   ]
  },
  {
   "cell_type": "markdown",
   "id": "fd176724",
   "metadata": {
    "slideshow": {
     "slide_type": "fragment"
    }
   },
   "source": [
    "**Option 2**: maintain an **extended list** that keep track all extended nodes and do not add them to agenda if has been extended\n",
    "  * after extend to [A,B,A]: it should not be added to the agenda\n",
    "  * extra storage cost, which can grow very fast!"
   ]
  },
  {
   "cell_type": "markdown",
   "id": "42cee3ef",
   "metadata": {
    "slideshow": {
     "slide_type": "fragment"
    }
   },
   "source": [
    "The AIAMA book has used a similar idea: `reached` node rather than `extended list`\n",
    "  * the idea is similar, reached nodes keep track of nodes have been added to the agenda: \n",
    "    * i.e. keep **open list**'s history: agenda also called open list \n",
    "    * (open as yet to be explored)\n",
    "  * extended list check nodes that have been popped and extended \n",
    "    * i.e. keep **closed list**'s history: extended list also called closed list \n",
    "    * (closed as been considered already)"
   ]
  },
  {
   "cell_type": "markdown",
   "id": "7ec80fab",
   "metadata": {
    "slideshow": {
     "slide_type": "subslide"
    }
   },
   "source": [
    "Pseudo-code of BFS that avoids repeated nodes or cyclic paths\n",
    "\n",
    "<!-- <div style=\"background-color:rgba(0, 0, 0, 0.0470588); padding:10px 0;font-family:monospace;\">\n",
    "    \n",
    "step 0: Initialize\n",
    "   \n",
    "    agenda = FIFOQueue();\n",
    "    agenda.push([start]);\n",
    "    [extended_list = {};]  // can be a set; optional\n",
    "    \n",
    "while agenda is not empty:\n",
    "    \n",
    "    1. path = agenda.pop()\n",
    "    2. if is-path-to-goal(path, goal)\n",
    "        return path\n",
    "    3. otherwise extend path [if the ending node is not in the extended_list] \n",
    "        [add the ending node to extended_list]\n",
    "        for each connected node (child node of the ending node of path)\n",
    "            make a new_path that extends the connected node\n",
    "            if new_path contains NO cylce \n",
    "                agenda.push(new_path)\n",
    "fail    \n",
    "</div> -->\n",
    "\n",
    "<center><img src=\"https://leo.host.cs.st-andrews.ac.uk/figs/figs4CS5010/searching/bfspseudo.png\" width = \"800\" height=\"400\"/></center>  \n",
    "\n",
    "The [...] parts are optional depends on whether extended list is in use or not."
   ]
  },
  {
   "cell_type": "code",
   "execution_count": 11,
   "id": "6bc6dff8",
   "metadata": {
    "slideshow": {
     "slide_type": "subslide"
    }
   },
   "outputs": [],
   "source": [
    "def my_breadth_first_search(problem, use_extendedList = True):\n",
    "    agenda = FIFOQueue([Node(problem.initial)])\n",
    "#   extended list to keep what states have been extended\n",
    "    extended_list = set()\n",
    "    while agenda:\n",
    "        node = agenda.pop()\n",
    "        if problem.is_goal(node.state):\n",
    "            return node\n",
    "        if use_extendedList:\n",
    "            if node.state not in extended_list:\n",
    "                extended_list.add(node.state)\n",
    "                for child in expand(problem, node):\n",
    "                    if not is_cycle(child):\n",
    "                        agenda.appendleft(child)\n",
    "        else:\n",
    "            for child in expand(problem, node):\n",
    "                if not is_cycle(child):\n",
    "                    agenda.appendleft(child)\n",
    "    return failure"
   ]
  },
  {
   "cell_type": "markdown",
   "id": "47e61755",
   "metadata": {
    "slideshow": {
     "slide_type": "slide"
    }
   },
   "source": [
    "# Demonstration of complexity \n",
    "\n",
    "\n",
    "Check Panopto lecture pre-recording."
   ]
  },
  {
   "cell_type": "markdown",
   "id": "24bc1132",
   "metadata": {
    "slideshow": {
     "slide_type": "slide"
    }
   },
   "source": [
    "# A second searching algorithm: Depth-first-search (DFS)\n",
    "\n",
    "\n",
    "We can obtain a second searching algorithm easily by changing the agenda's data structure\n",
    "\n",
    "\n",
    "Only need to change one thing in the pseudo-code:\n",
    "\n",
    "for **agenda** : \n",
    "$\\text{Queue} \\Rightarrow \\text{Stack}$\n",
    "\n",
    "  * stack is FILO or (LIFO)\n",
    "  * or just add extended paths to the front of the queue (rather than back)\n",
    "  \n",
    "<center><img src=\"https://upload.wikimedia.org/wikipedia/commons/thumb/2/29/Data_stack.svg/391px-Data_stack.svg.png\" width = \"800\" height=\"400\"/></center>  \n"
   ]
  },
  {
   "cell_type": "markdown",
   "id": "1ff98ecb",
   "metadata": {
    "slideshow": {
     "slide_type": "subslide"
    }
   },
   "source": [
    "Pseudo-code of DFS that checks cyclic \n",
    "\n",
    "<!-- <div style=\"background-color:rgba(0, 0, 0, 0.0470588); padding:10px 0;font-family:monospace;\">\n",
    "    \n",
    "step 0: Initialize\n",
    "   \n",
    "    agenda = LIFOStack();\n",
    "    agenda.push([start]);\n",
    "    [extended_list = {};]  // can be a set; optional\n",
    "    \n",
    "while agenda is not empty:\n",
    "    \n",
    "    1. path = agenda.pop()\n",
    "    2. if is-path-to-goal(path, goal)\n",
    "           return path\n",
    "    3. otherwise extend path [if the ending node is not in extended_list]\n",
    "       [add the ending node to extended_list]\n",
    "       for each connected node (child node of the ending node of path)\n",
    "           make a new_path that extends the connected node\n",
    "           if new_path contains NO cylce\n",
    "               agenda.push(new_path)\n",
    "fail  \n",
    "</div> -->\n",
    "\n",
    "<center><img src=\"https://leo.host.cs.st-andrews.ac.uk/figs/figs4CS5010/searching/dfspseudo.png\" width = \"800\" height=\"400\"/></center>  \n",
    "\n",
    "The [...] parts are optional depends on whether extended list is in use or not."
   ]
  },
  {
   "cell_type": "code",
   "execution_count": 12,
   "id": "b65dedd7",
   "metadata": {
    "slideshow": {
     "slide_type": "subslide"
    }
   },
   "outputs": [],
   "source": [
    "# Python implementation of DFS\n",
    "def my_depth_first_search(problem):\n",
    "    agenda = StackAgenda([Node(problem.initial)])\n",
    "    while agenda:\n",
    "        node = agenda.pop()\n",
    "        if problem.is_goal(node.state):\n",
    "            return node\n",
    "        else:\n",
    "            for child in expand(problem, node):\n",
    "                if not is_cycle(child):\n",
    "                    agenda.append(child)\n",
    "    return failure"
   ]
  },
  {
   "cell_type": "markdown",
   "id": "7f1d44eb",
   "metadata": {
    "slideshow": {
     "slide_type": "slide"
    }
   },
   "source": [
    "# DFS vs BFS\n",
    "\n",
    "<center><img src=\"https://leo.host.cs.st-andrews.ac.uk/figs/figs4CS5010/searching/bfsdfs.png\" width = \"1100\" height=\"400\"/></center>  \n",
    "\n",
    "\n",
    "\n",
    "**Breadth first search (BFS)**\n",
    "  * pushes uniformly into the tree; or floods the tree\n",
    "    \n",
    "\n",
    "\n",
    "**Depth first search (DFS)** is a very dedicated and determined solver\n",
    "  * **dives into one branch of the tree** and do **not look back** until reaching a dead end (a node cannot be extended, e.g. 4) then it **backtrack** to previous unexplored junction\n",
    "    * therefore, cyclic check (or extended list) is essential\n",
    "    * otherwise, it expand and check A-B-A-B-A-B forever! not complete for sure "
   ]
  },
  {
   "cell_type": "markdown",
   "id": "09c46bf2",
   "metadata": {
    "slideshow": {
     "slide_type": "subslide"
    }
   },
   "source": [
    "### State space graph of the grid example\n",
    "<center><img src=\"https://leo.host.cs.st-andrews.ac.uk/figs/figs4CS5010/searching/grid.png\" width = \"300\" height=\"400\"/></center>  \n",
    "\n",
    "### DFS search tree without cyclic path checking: A-B-A-B-A-B-...\n",
    "\n",
    "<center><img src=\"https://leo.host.cs.st-andrews.ac.uk/figs/figs4CS5010/searching/treecycle.png\" width = \"500\" height=\"400\"/></center>  "
   ]
  },
  {
   "cell_type": "markdown",
   "id": "862a888a",
   "metadata": {
    "slideshow": {
     "slide_type": "subslide"
    }
   },
   "source": [
    "The solution found by DFS for the grid problem: from A to G : A-B-C-F-E-D-G (definitely not optimal)\n",
    "\n",
    "<center><img src=\"https://leo.host.cs.st-andrews.ac.uk/figs/figs4CS5010/searching/treedfs1.png\" width = \"600\" height=\"400\"/></center>  "
   ]
  },
  {
   "cell_type": "markdown",
   "id": "34627130",
   "metadata": {
    "slideshow": {
     "slide_type": "slide"
    }
   },
   "source": [
    "# Performance analysis of DFS\n",
    "\n",
    "**Complete**: if there is a solution, guaranteed to find it or not ?\n",
    "  * **No!** 100% for DFS without cycle check !\n",
    "  * still **No!** for problems with infinite state space\n",
    "    * for example, an infinite grid, DFS might dive to the left forever but solution might on the r.h.s\n",
    "\n",
    "\n",
    "**Optimal**: optimal solution found ?\n",
    "  * **No** it dives into one branch not likely to be the best one \n",
    "  * e.g. Arad to Bucharest routing problem; the solution path found is much longer (costier as well)!"
   ]
  },
  {
   "cell_type": "code",
   "execution_count": 13,
   "id": "57bf0956",
   "metadata": {
    "slideshow": {
     "slide_type": "fragment"
    }
   },
   "outputs": [
    {
     "data": {
      "text/plain": [
       "['A', 'T', 'L', 'M', 'D', 'C', 'P', 'B']"
      ]
     },
     "execution_count": 13,
     "metadata": {},
     "output_type": "execute_result"
    }
   ],
   "source": [
    "# formulate the route finding problem: Arad to Bucharest\n",
    "r1 = RouteProblem('A', 'B', map=romania)\n",
    "path_states(my_depth_first_search(r1))"
   ]
  },
  {
   "cell_type": "markdown",
   "id": "3cf66f44",
   "metadata": {
    "slideshow": {
     "slide_type": "subslide"
    }
   },
   "source": [
    "**Time complexity**: still $O(b^d)$\n",
    "  * still need to expand and check this number of nodes before finding the solution (assume the state space is finite)\n",
    "  \n",
    "  \n",
    "**Space complexity**: linear $O(bd)$!\n",
    "  * we only keep one branch: d levels of nodes, each level has roughly $b$ nodes \n",
    "  * after backtrack: searched branches can be discarded safely\n",
    "    * goal state's solution only depends on the current branch\n",
    "  * that's why `extended_list` is usually not used with DFS (cycle check is good enough)\n",
    "    * if keeping the list, the space complexity is no longer linear !\n",
    "    * no point using DFS anymore"
   ]
  },
  {
   "cell_type": "markdown",
   "id": "44dc3a93",
   "metadata": {
    "slideshow": {
     "slide_type": "slide"
    }
   },
   "source": [
    "# Demonstration \n",
    "\n",
    "Check Panopto lecture pre-recording."
   ]
  },
  {
   "cell_type": "markdown",
   "id": "2499b301",
   "metadata": {
    "slideshow": {
     "slide_type": "slide"
    }
   },
   "source": [
    "# Summary\n",
    "\n",
    "* Searching problem\n",
    "* Searching algorithm\n",
    "  * performance measure\n",
    "  * BFS\n",
    "  * DFS"
   ]
  }
 ],
 "metadata": {
  "celltoolbar": "Slideshow",
  "kernelspec": {
   "display_name": "Python 3 (ipykernel)",
   "language": "python",
   "name": "python3"
  },
  "language_info": {
   "codemirror_mode": {
    "name": "ipython",
    "version": 3
   },
   "file_extension": ".py",
   "mimetype": "text/x-python",
   "name": "python",
   "nbconvert_exporter": "python",
   "pygments_lexer": "ipython3",
   "version": "3.9.7"
  }
 },
 "nbformat": 4,
 "nbformat_minor": 5
}
