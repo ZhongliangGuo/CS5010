{
 "cells": [
  {
   "cell_type": "code",
   "execution_count": 1,
   "id": "4c22df6b",
   "metadata": {
    "slideshow": {
     "slide_type": "skip"
    }
   },
   "outputs": [],
   "source": [
    "import matplotlib.pyplot as plt\n",
    "from scipy.stats import binom\n",
    "import numpy as np\n",
    "import math\n",
    "import scipy.stats as stats\n",
    "# to use hedgehog, one needs to install two packages vose and hedgehog\n",
    "# pip install git+https://github.com/MaxHalford/vose\n",
    "# pip install git+https://github.com/MaxHalford/hedgehog\n",
    "# you may also need to install graphviz to plot PGM\n",
    "# conda install -c conda-forge python-graphviz \n",
    "import pandas as pd\n",
    "from scipy.special import logsumexp\n",
    "from IPython.display import Markdown as md\n",
    "from random import randrange\n",
    "def hide_code_in_slideshow():   \n",
    "    from IPython import display\n",
    "    import binascii\n",
    "    import os\n",
    "    uid = binascii.hexlify(os.urandom(8)).decode()    \n",
    "    html = \"\"\"<div id=\"%s\"></div>\n",
    "    <script type=\"text/javascript\">\n",
    "        $(function(){\n",
    "            var p = $(\"#%s\");\n",
    "            if (p.length==0) return;\n",
    "            while (!p.hasClass(\"cell\")) {\n",
    "                p=p.parent();\n",
    "                if (p.prop(\"tagName\") ==\"body\") return;\n",
    "            }\n",
    "            var cell = p;\n",
    "            cell.find(\".input\").addClass(\"hide-in-slideshow\")\n",
    "        });\n",
    "    </script>\"\"\" % (uid, uid)\n",
    "    display.display_html(html, raw=True)\n",
    "#  a hack to hide code from cell: https://github.com/damianavila/RISE/issues/32    "
   ]
  },
  {
   "cell_type": "code",
   "execution_count": 2,
   "id": "b51cd1ec",
   "metadata": {
    "slideshow": {
     "slide_type": "skip"
    }
   },
   "outputs": [
    {
     "data": {
      "text/html": [
       "<style>\n",
       " .container.slides .celltoolbar, .container.slides .hide-in-slideshow {\n",
       "    display: None ! important;\n",
       "}\n",
       "    \n",
       "table, th, td {\n",
       "  border: 1px solid black;\n",
       "  border-collapse: collapse;\n",
       "}\n",
       "th, td {\n",
       "  padding: 5px;\n",
       "}\n",
       "th {\n",
       "  text-align: left;\n",
       "}\n",
       "</style>\n"
      ],
      "text/plain": [
       "<IPython.core.display.HTML object>"
      ]
     },
     "metadata": {},
     "output_type": "display_data"
    }
   ],
   "source": [
    "%%html\n",
    "<style>\n",
    " .container.slides .celltoolbar, .container.slides .hide-in-slideshow {\n",
    "    display: None ! important;\n",
    "}\n",
    "    \n",
    "table, th, td {\n",
    "  border: 1px solid black;\n",
    "  border-collapse: collapse;\n",
    "}\n",
    "th, td {\n",
    "  padding: 5px;\n",
    "}\n",
    "th {\n",
    "  text-align: left;\n",
    "}\n",
    "</style>"
   ]
  },
  {
   "cell_type": "code",
   "execution_count": 3,
   "id": "a4625dcd",
   "metadata": {
    "slideshow": {
     "slide_type": "skip"
    }
   },
   "outputs": [
    {
     "data": {
      "text/html": [
       "\n",
       "<style>\n",
       ".output_png {\n",
       "    display: table-cell;\n",
       "    text-align: center;\n",
       "    vertical-align: middle;\n",
       "}\n",
       "</style>\n"
      ],
      "text/plain": [
       "<IPython.core.display.HTML object>"
      ]
     },
     "execution_count": 3,
     "metadata": {},
     "output_type": "execute_result"
    }
   ],
   "source": [
    "from IPython.core.display import HTML\n",
    "HTML(\"\"\"\n",
    "<style>\n",
    ".output_png {\n",
    "    display: table-cell;\n",
    "    text-align: center;\n",
    "    vertical-align: middle;\n",
    "}\n",
    "</style>\n",
    "\"\"\")"
   ]
  },
  {
   "cell_type": "markdown",
   "id": "a8339414",
   "metadata": {
    "slideshow": {
     "slide_type": "skip"
    }
   },
   "source": [
    "# Foreword \n",
    "\n",
    "The following code are used for this lecture\n",
    "  * most of the code have been adapted from https://github.com/aimacode/aima-python"
   ]
  },
  {
   "cell_type": "code",
   "execution_count": 4,
   "id": "ae4bbb2b",
   "metadata": {
    "slideshow": {
     "slide_type": "skip"
    }
   },
   "outputs": [],
   "source": [
    "%matplotlib inline\n",
    "import matplotlib.pyplot as plt\n",
    "import random\n",
    "import heapq\n",
    "import math\n",
    "import sys\n",
    "from collections import defaultdict, deque, Counter\n",
    "from itertools import combinations\n",
    "\n",
    "\n",
    "class Problem(object):\n",
    "    \"\"\"The abstract class for a formal problem. A new domain subclasses this,\n",
    "    overriding `actions` and `results`, and perhaps other methods.\n",
    "    The default heuristic is 0 and the default action cost is 1 for all states.\n",
    "    When yiou create an instance of a subclass, specify `initial`, and `goal` states \n",
    "    (or give an `is_goal` method) and perhaps other keyword args for the subclass.\"\"\"\n",
    "\n",
    "    def __init__(self, initial=None, goal=None, **kwds): \n",
    "        self.__dict__.update(initial=initial, goal=goal, **kwds) \n",
    "        \n",
    "    def actions(self, state):        raise NotImplementedError\n",
    "    def result(self, state, action): raise NotImplementedError\n",
    "    def is_goal(self, state):        return state == self.goal\n",
    "    def action_cost(self, s, a, s1): return 1\n",
    "    def h(self, node):               return 0\n",
    "    \n",
    "    def __str__(self):\n",
    "        return '{}({!r}, {!r})'.format(\n",
    "            type(self).__name__, self.initial, self.goal)\n",
    "    \n",
    "def g(n): return n.path_cost    \n",
    "\n",
    "class Node:\n",
    "    \"A Node in a search tree.\"\n",
    "    def __init__(self, state, parent=None, action=None, path_cost=0):\n",
    "        self.__dict__.update(state=state, parent=parent, action=action, path_cost=path_cost)\n",
    "\n",
    "    def __repr__(self): return '<{}>'.format(self.state)\n",
    "    def __len__(self): return 0 if self.parent is None else (1 + len(self.parent))\n",
    "    def __lt__(self, other): return self.path_cost < other.path_cost\n",
    "    \n",
    "    \n",
    "failure = Node('failure', path_cost=math.inf) # Indicates an algorithm couldn't find a solution.\n",
    "cutoff  = Node('cutoff',  path_cost=math.inf) # Indicates iterative deepening search was cut off.\n",
    "    \n",
    "    \n",
    "def expand(problem, node):\n",
    "    \"Expand a node, generating the children nodes.\"\n",
    "    s = node.state\n",
    "    for action in problem.actions(s):\n",
    "        s1 = problem.result(s, action)\n",
    "        cost = node.path_cost + problem.action_cost(s, action, s1)\n",
    "        yield Node(s1, node, action, cost)\n",
    "        \n",
    "\n",
    "def path_actions(node):\n",
    "    \"The sequence of actions to get to this node.\"\n",
    "    if node.parent is None:\n",
    "        return []  \n",
    "    return path_actions(node.parent) + [node.action]\n",
    "\n",
    "\n",
    "def path_states(node):\n",
    "    \"The sequence of states to get to this node.\"\n",
    "    if node in (cutoff, failure, None): \n",
    "        return []\n",
    "    return path_states(node.parent) + [node.state]\n",
    "\n",
    "\n",
    "\n",
    "def is_cycle(node, k=30):\n",
    "    \"Does this node form a cycle of length k or less?\"\n",
    "    def find_cycle(ancestor, k):\n",
    "        return (ancestor is not None and k > 0 and\n",
    "                (ancestor.state == node.state or find_cycle(ancestor.parent, k - 1)))\n",
    "    return find_cycle(node.parent, k)"
   ]
  },
  {
   "cell_type": "code",
   "execution_count": 5,
   "id": "a8e93d87",
   "metadata": {
    "slideshow": {
     "slide_type": "skip"
    }
   },
   "outputs": [],
   "source": [
    "FIFOQueue = deque\n",
    "\n",
    "LIFOQueue = list\n",
    "\n",
    "StackAgenda = list\n",
    "\n",
    "class PriorityQueue:\n",
    "    \"\"\"A queue in which the item with minimum f(item) is always popped first.\"\"\"\n",
    "\n",
    "    def __init__(self, items=(), key=lambda x: x): \n",
    "        self.key = key\n",
    "        self.items = [] # a heap of (score, item) pairs\n",
    "        for item in items:\n",
    "            self.add(item)\n",
    "         \n",
    "    def add(self, item):\n",
    "        \"\"\"Add item to the queuez.\"\"\"\n",
    "        pair = (self.key(item), item)\n",
    "        heapq.heappush(self.items, pair)\n",
    "\n",
    "    def pop(self):\n",
    "        \"\"\"Pop and return the item with min f(item) value.\"\"\"\n",
    "        return heapq.heappop(self.items)[1]\n",
    "    \n",
    "    def top(self): return self.items[0][1]\n",
    "\n",
    "    def __len__(self): return len(self.items)"
   ]
  },
  {
   "cell_type": "code",
   "execution_count": 6,
   "id": "29e3af4b",
   "metadata": {
    "slideshow": {
     "slide_type": "skip"
    }
   },
   "outputs": [],
   "source": [
    "class RouteProblem(Problem):\n",
    "    \"\"\"A problem to find a route between locations on a `Map`.\n",
    "    Create a problem with RouteProblem(start, goal, map=Map(...)}).\n",
    "    States are the vertexes in the Map graph; actions are destination states.\"\"\"\n",
    "    \n",
    "    def actions(self, state): \n",
    "        \"\"\"The places neighboring `state`.\"\"\"\n",
    "        return self.map.neighbors[state]\n",
    "    \n",
    "    def result(self, state, action):\n",
    "        \"\"\"Go to the `action` place, if the map says that is possible.\"\"\"\n",
    "        return action if action in self.map.neighbors[state] else state\n",
    "    \n",
    "    def action_cost(self, s, action, s1):\n",
    "        \"\"\"The distance (cost) to go from s to s1.\"\"\"\n",
    "        return self.map.distances[s, s1]\n",
    "    \n",
    "    def h(self, node):\n",
    "        \"Straight-line distance between state and the goal.\"\n",
    "        locs = self.map.locations\n",
    "        return straight_line_distance(locs[node.state], locs[self.goal])\n",
    "    \n",
    "    \n",
    "def straight_line_distance(A, B):\n",
    "    \"Straight-line distance between two points.\"\n",
    "    return sum(abs(a - b)**2 for (a, b) in zip(A, B)) ** 0.5"
   ]
  },
  {
   "cell_type": "code",
   "execution_count": 7,
   "id": "239ff6d1",
   "metadata": {
    "slideshow": {
     "slide_type": "skip"
    }
   },
   "outputs": [],
   "source": [
    "class Map:\n",
    "    \"\"\"A map of places in a 2D world: a graph with vertexes and links between them. \n",
    "    In `Map(links, locations)`, `links` can be either [(v1, v2)...] pairs, \n",
    "    or a {(v1, v2): distance...} dict. Optional `locations` can be {v1: (x, y)} \n",
    "    If `directed=False` then for every (v1, v2) link, we add a (v2, v1) link.\"\"\"\n",
    "\n",
    "    def __init__(self, links, locations=None, directed=False):\n",
    "        if not hasattr(links, 'items'): # Distances are 1 by default\n",
    "            links = {link: 1 for link in links}\n",
    "        if not directed:\n",
    "            for (v1, v2) in list(links):\n",
    "                links[v2, v1] = links[v1, v2]\n",
    "        self.distances = links\n",
    "        self.neighbors = multimap(links)\n",
    "        self.locations = locations or defaultdict(lambda: (0, 0))\n",
    "\n",
    "        \n",
    "def multimap(pairs) -> dict:\n",
    "    \"Given (key, val) pairs, make a dict of {key: [val,...]}.\"\n",
    "    result = defaultdict(list)\n",
    "    for key, val in pairs:\n",
    "        result[key].append(val)\n",
    "    return result"
   ]
  },
  {
   "cell_type": "code",
   "execution_count": 8,
   "id": "b8b096a4",
   "metadata": {
    "slideshow": {
     "slide_type": "skip"
    }
   },
   "outputs": [],
   "source": [
    "# Some specific RouteProblems\n",
    "\n",
    "romania = Map(\n",
    "    {('O', 'Z'):  71, ('O', 'S'): 151, ('A', 'Z'): 75, ('A', 'S'): 140, ('A', 'T'): 118, \n",
    "     ('L', 'T'): 111, ('L', 'M'):  70, ('D', 'M'): 75, ('C', 'D'): 120, ('C', 'R'): 146, \n",
    "     ('C', 'P'): 138, ('R', 'S'):  80, ('F', 'S'): 99, ('B', 'F'): 211, ('B', 'P'): 101, \n",
    "     ('B', 'G'):  90, ('B', 'U'):  85, ('H', 'U'): 98, ('E', 'H'):  86, ('U', 'V'): 142, \n",
    "     ('I', 'V'):  92, ('I', 'N'):  87, ('P', 'R'): 97},\n",
    "    {'A': ( 76, 497), 'B': (400, 327), 'C': (246, 285), 'D': (160, 296), 'E': (558, 294), \n",
    "     'F': (285, 460), 'G': (368, 257), 'H': (548, 355), 'I': (488, 535), 'L': (162, 379),\n",
    "     'M': (160, 343), 'N': (407, 561), 'O': (117, 580), 'P': (311, 372), 'R': (227, 412),\n",
    "     'S': (187, 463), 'T': ( 83, 414), 'U': (471, 363), 'V': (535, 473), 'Z': (92, 539)})\n",
    "\n",
    "\n",
    "r0 = RouteProblem('A', 'A', map=romania)\n",
    "# r1 = RouteProblem('A', 'B', map=romania)\n",
    "# r2 = RouteProblem('N', 'L', map=romania)\n",
    "# r3 = RouteProblem('E', 'T', map=romania)\n",
    "# r4 = RouteProblem('O', 'M', map=romania)"
   ]
  },
  {
   "cell_type": "code",
   "execution_count": 9,
   "id": "2d2dafbc",
   "metadata": {
    "slideshow": {
     "slide_type": "skip"
    }
   },
   "outputs": [],
   "source": [
    "threeGrid = Map(\n",
    "    {('A', 'B'):  1, ('A', 'D'): 1, ('B', 'C'): 1, ('B', 'E'): 1, ('C', 'F'): 1, \n",
    "     ('D', 'E'): 1, ('D', 'G'):  1, ('E', 'F'): 1, ('E', 'H'): 1, ('F', 'I'): 1, \n",
    "     ('G', 'H'): 1, ('H', 'I'):  1},\n",
    "    {'A': ( -1, 1), 'B': (0, 1), 'C': (1, 1), 'D': (-1, 0), 'E': (0, 0), \n",
    "     'F': (1, 0), 'G': (-1, -1), 'H': (0, -1), 'I': (1, -1)})"
   ]
  },
  {
   "cell_type": "markdown",
   "id": "6b330035",
   "metadata": {
    "slideshow": {
     "slide_type": "slide"
    }
   },
   "source": [
    "# CS5010 Artificial Intelligence Principles\n",
    "### Lecture 17 Uninformed Search \n",
    "\n",
    "##### Variants of uninformed searching algorithms\n",
    "Lei Fang\n",
    "\n",
    "University of St Andrews"
   ]
  },
  {
   "cell_type": "markdown",
   "id": "48be4d1a",
   "metadata": {
    "slideshow": {
     "slide_type": "slide"
    }
   },
   "source": [
    "# Last time\n",
    "\n",
    "* Searching problem and algorithm\n",
    "  * superimpose a tree on top of the state space graph\n",
    "  \n",
    "* Breadth first search\n",
    "  * visit nodes based on hops from the root (initial state)\n",
    "\n",
    "* Depth first search\n",
    "  * dive into one branch and backtrack\n",
    "  "
   ]
  },
  {
   "cell_type": "markdown",
   "id": "6a32c568",
   "metadata": {
    "slideshow": {
     "slide_type": "slide"
    }
   },
   "source": [
    "# Today\n",
    "\n",
    "* A general searching algorithm template\n",
    "  * BFS and DFS as specific cases\n",
    "  \n",
    "* New variants of searching algorithms based on the template\n",
    "  * Non-deterministic search\n",
    "  * Uniform cost searching"
   ]
  },
  {
   "cell_type": "markdown",
   "id": "c4435d21",
   "metadata": {
    "slideshow": {
     "slide_type": "slide"
    }
   },
   "source": [
    "# A general searching algorithm \n",
    "\n",
    "\n",
    "All algorithms we study follow a template\n",
    "  * shouldn't be surprising: they all super-impose a search tree on the state space graph \n",
    "  * only differ in how the tree is constructed or super-imposed\n",
    "\n",
    "Can be considered as the *mother* of all searching algorithms introduced here"
   ]
  },
  {
   "cell_type": "markdown",
   "id": "fcfbded1",
   "metadata": {
    "slideshow": {
     "slide_type": "subslide"
    }
   },
   "source": [
    "<div style=\"background-color:rgba(0, 0, 0, 0.0470588); padding:10px 0;font-family:monospace;\">\n",
    "<font color=\"blue\">0.</font>: initialize  <br> \n",
    "&nbsp; &nbsp; <font color=\"purple\"><i>agenda</i></font> = [ [start] ]    &nbsp; &nbsp; &nbsp; &nbsp;&nbsp;    # a list of paths or partial solutions  <br>\n",
    "&nbsp; &nbsp; [<font color=\"purple\"><i>extended_list</i></font> = {};]   &nbsp; &nbsp; &nbsp; &nbsp;    # optional: closed list of nodes   <br>     \n",
    "&nbsp; &nbsp; <font color=\"green\"><b>while</b></font> <font color=\"purple\"><i>agenda</i></font> is not empty:<br>\n",
    "&nbsp; &nbsp; &nbsp; &nbsp;<font color=\"blue\">1.</font> <font color=\"purple\"><i>path</i></font> = <font color=\"purple\"><i>agenda</i></font>.pop(0)    &nbsp;&nbsp; # remove first element from agenda <br>\n",
    "&nbsp; &nbsp; &nbsp; &nbsp;<font color=\"blue\">2.</font> <font color=\"green\"><b>if</b></font> is-path-to-goal(<font color=\"purple\"><i>path</i></font>, goal)<br>\n",
    "&nbsp; &nbsp; &nbsp; &nbsp;&nbsp;&nbsp;&nbsp;&nbsp;&nbsp;&nbsp;&nbsp;<font color=\"green\"><b>return</b></font> <font color=\"purple\"><i>path</i></font><br>\n",
    "&nbsp; &nbsp; &nbsp; &nbsp;<font color=\"blue\">3.</font> <font color=\"green\"><b>otherwise</b></font> extend <font color=\"purple\"><i>path</i></font> [if the ending node is not in <font color=\"purple\"><i>extended_list</i></font>] <br>\n",
    "&nbsp; &nbsp; &nbsp; &nbsp;&nbsp; &nbsp; &nbsp; &nbsp;[add the ending node to <font color=\"purple\"><i>extended_list</i></font>]<br>\n",
    "&nbsp; &nbsp; &nbsp; &nbsp;&nbsp; &nbsp; &nbsp; &nbsp;<font color=\"green\"><b>for each</b></font> connected node (child node of the ending node of <font color=\"purple\"><i>path</i></font>)<br>\n",
    "&nbsp; &nbsp; &nbsp; &nbsp;&nbsp; &nbsp; &nbsp; &nbsp;&nbsp; &nbsp; &nbsp; &nbsp;            make a <font color=\"purple\"><i>new path</i></font> that extends the connected node<br>\n",
    "&nbsp; &nbsp; &nbsp; &nbsp;<font color=\"blue\">4.</font> reject all <font color=\"purple\"><i>new paths</i></font> from step <font color=\"blue\">3</font> that contain <i>cycles</i><br> \n",
    "&nbsp; &nbsp; &nbsp; &nbsp;<font color=\"blue\">5.</font> add <font color=\"purple\"><i>new paths</i></font> from step <font color=\"blue\">4</font> to <font color=\"purple\"><i>agenda</i></font> and reorganise <font color=\"purple\"><i>agenda</i></font><br>   \n",
    "&nbsp; &nbsp; &nbsp; &nbsp;&nbsp; &nbsp; &nbsp; &nbsp;&nbsp; &nbsp; &nbsp; &nbsp;&nbsp; &nbsp; &nbsp; &nbsp;&nbsp; &nbsp;&nbsp;&nbsp;      # algorithms differ here!  <br> \n",
    "<font color=\"blue\">6.</font> <font color=\"green\"><b>return</b></font> <font color=\"purple\"><i>failure</i></font><br>  \n",
    "</div>\n",
    "\n"
   ]
  },
  {
   "cell_type": "markdown",
   "id": "d6860e01",
   "metadata": {
    "slideshow": {
     "slide_type": "fragment"
    }
   },
   "source": [
    "* **agenda**: also called **open list**, **frontier**; agenda keeps all paths (potential solution) yet to be considered;\n",
    "* **cyclic paths**: paths that contains cycles e.g. [A,B,A,B], [A,B,C,D,B]\n",
    "* **exiting the search**: either a solution found (step 2) or exhausted all options and found nothing, i.e. empty agenda (step 6)\n",
    "* **extended_list**: also called **closed list**; nodes that have already been extended (i.e. popped and extended step 1 and 3); this is optional; if not used, remove all lines with \"[]\" "
   ]
  },
  {
   "cell_type": "markdown",
   "id": "1473a684",
   "metadata": {
    "slideshow": {
     "slide_type": "slide"
    }
   },
   "source": [
    "# DFS and BFS\n",
    "\n",
    "Steps 0 to 4 are the same !\n",
    "  * initialise with a one-element (initial state) agenda\n",
    "  * keep popping from the agenda \n",
    "  * until a solution is found or nothing left in the agenda\n",
    "  \n",
    "\n",
    "![](https://leo.host.cs.st-andrews.ac.uk/figs/figs4CS5010/searching/queuestack.png)"
   ]
  },
  {
   "cell_type": "markdown",
   "id": "f71319f2",
   "metadata": {
    "slideshow": {
     "slide_type": "subslide"
    }
   },
   "source": [
    "DFS and BFS only differ in step 5: **how the agenda is reorganised**\n",
    "  * DFS: newly extended paths are added at the **front** of the **agenda**; agenda is a LIFO stack\n",
    "  * BFS: newly extended paths are added at the **back** of the **agenda**; equivalently, agenda is a FIFO queue\n",
    "\n",
    "\n",
    "DFS       |  BFS\n",
    ":-------------------------:|:-------------------------:\n",
    "![](https://leo.host.cs.st-andrews.ac.uk/figs/figs4CS5010/searching/dfsagenda.png) |  ![](https://leo.host.cs.st-andrews.ac.uk/figs/figs4CS5010/searching/bfsagenda.png)"
   ]
  },
  {
   "cell_type": "code",
   "execution_count": 16,
   "id": "878f6941",
   "metadata": {
    "slideshow": {
     "slide_type": "subslide"
    }
   },
   "outputs": [],
   "source": [
    "def my_breadth_first_search(problem, use_extendedList = True):\n",
    "    agenda = FIFOQueue([Node(problem.initial)])\n",
    "#   extended list to keep what states have been extended\n",
    "    extended_list = set()\n",
    "    while agenda:\n",
    "        node = agenda.pop()\n",
    "        if problem.is_goal(node.state):\n",
    "            return node\n",
    "        if use_extendedList:\n",
    "            if node.state not in extended_list:\n",
    "                extended_list.add(node.state)\n",
    "                for child in expand(problem, node):\n",
    "                    if not is_cycle(child):\n",
    "                        agenda.appendleft(child)\n",
    "        else:\n",
    "            for child in expand(problem, node):\n",
    "                if not is_cycle(child):\n",
    "                    agenda.appendleft(child)\n",
    "    return failure"
   ]
  },
  {
   "cell_type": "code",
   "execution_count": 17,
   "id": "6781ec19",
   "metadata": {
    "slideshow": {
     "slide_type": "fragment"
    }
   },
   "outputs": [],
   "source": [
    "# Python implementation of DFS\n",
    "def my_depth_first_search(problem, use_extendedList= False):\n",
    "    agenda = ([Node(problem.initial)])\n",
    "    #   extended list to keep what states have been extended\n",
    "    extended_list = set()\n",
    "    while agenda:\n",
    "#       by default: pop() return the element at -1 (the end of the list)  \n",
    "        node = agenda.pop()\n",
    "        if problem.is_goal(node.state):\n",
    "            return node\n",
    "        if use_extendedList:\n",
    "            if node.state not in extended_list:\n",
    "                extended_list.add(node.state)\n",
    "                for child in expand(problem, node):\n",
    "                    if not is_cycle(child):\n",
    "#                       append at the end in Python has the same effect as adding at the front\n",
    "#                       as pop() return from -1 by default\n",
    "                        agenda.append(child)\n",
    "        else:\n",
    "            for child in expand(problem, node):\n",
    "                if not is_cycle(child):\n",
    "                    agenda.append(child)\n",
    "    return failure"
   ]
  },
  {
   "cell_type": "markdown",
   "id": "a873790d",
   "metadata": {
    "slideshow": {
     "slide_type": "slide"
    }
   },
   "source": [
    "# Performance of DFS and BFS\n",
    "\n",
    "DFS       |  BFS\n",
    ":-------------------------:|:-------------------------:\n",
    "![](https://leo.host.cs.st-andrews.ac.uk/figs/figs4CS5010/searching/dfscomplex.png) |  ![](https://leo.host.cs.st-andrews.ac.uk/figs/figs4CS5010/searching/bfscomplex.png)\n",
    "\n",
    "\n",
    "| | Complete| Optimal | Time complexity| Space complexity |\n",
    "|:---|:---|:---|:---|:---|\n",
    "| DFS| No | No | $O(b^d)$| $O(bd)$|\n",
    "| BFS| Yes | No in general | $O(b^d)$| $O(b^d)$|\n",
    "\n",
    "* $d$ is the depth (tiers) of optimal solution \n",
    "  * for DFS, you can swap with $m$ as it may not be lucky to start with the right branch\n",
    "  * for BFS, $d$ is $s$\n",
    "* $b$ is branching factor\n",
    "\n",
    "*The figures are taken from https://inst.eecs.berkeley.edu/~cs188/su21/assets/notes/n1.pdf*"
   ]
  },
  {
   "cell_type": "markdown",
   "id": "06a78c24",
   "metadata": {
    "slideshow": {
     "slide_type": "slide"
    }
   },
   "source": [
    "## Variants of searching algorithm\n",
    "\n",
    "Various of new searching algorithms can be \"**invented**\" by modifying step 5: \n",
    "\n",
    "*how the agenda is reorganised*\n"
   ]
  },
  {
   "cell_type": "markdown",
   "id": "41547091",
   "metadata": {
    "slideshow": {
     "slide_type": "subslide"
    }
   },
   "source": [
    "# Non-deterministic searching: a mixture of both DFS and BFS\n",
    "\n",
    "Instead of searching in some pre-determined fixed order\n",
    "  * insert infront or back\n",
    "  * one can carry out some random search\n",
    "\n",
    "**Non-deterministic searching (NDS)**: randomly inject the newly extended paths to the existing agenda\n",
    "\n",
    "\n",
    "|DFS       |  BFS |      NDS|\n",
    "|:-------------------------:|:-------------------------:| :--------------------------:|\n",
    "|![](https://leo.host.cs.st-andrews.ac.uk/figs/figs4CS5010/searching/dfsagenda.png) |  ![](https://leo.host.cs.st-andrews.ac.uk/figs/figs4CS5010/searching/bfsagenda.png) | ![](https://leo.host.cs.st-andrews.ac.uk/figs/figs4CS5010/searching/nondagenda.png)|"
   ]
  },
  {
   "cell_type": "markdown",
   "id": "74d809e9",
   "metadata": {
    "slideshow": {
     "slide_type": "subslide"
    }
   },
   "source": [
    "**Non-deterministic searching** pseudo-code\n",
    "\n",
    "<div style=\"background-color:rgba(0, 0, 0, 0.0470588); padding:10px 0;font-family:monospace;\">\n",
    "<font color=\"blue\">0.</font>: initialize  <br> \n",
    "&nbsp; &nbsp; <font color=\"purple\"><i>agenda</i></font> = [ [start] ]    &nbsp; &nbsp; &nbsp; &nbsp;&nbsp;    # a list of paths or partial solutions  <br>\n",
    "&nbsp; &nbsp; [<font color=\"purple\"><i>extended_list</i></font> = {};]   &nbsp; &nbsp; &nbsp; &nbsp;    # optional: closed list of nodes   <br>     \n",
    "&nbsp; &nbsp; <font color=\"green\"><b>while</b></font> <font color=\"purple\"><i>agenda</i></font> is not empty:<br>\n",
    "&nbsp; &nbsp; &nbsp; &nbsp;<font color=\"blue\">1.</font> <font color=\"purple\"><i>path</i></font> = <font color=\"purple\"><i>agenda</i></font>.pop(0)    &nbsp;&nbsp; # remove first element from agenda <br>\n",
    "&nbsp; &nbsp; &nbsp; &nbsp;<font color=\"blue\">2.</font> <font color=\"green\"><b>if</b></font> is-path-to-goal(<font color=\"purple\"><i>path</i></font>, goal)<br>\n",
    "&nbsp; &nbsp; &nbsp; &nbsp;&nbsp;&nbsp;&nbsp;&nbsp;&nbsp;&nbsp;&nbsp;<font color=\"green\"><b>return</b></font> <font color=\"purple\"><i>path</i></font><br>\n",
    "&nbsp; &nbsp; &nbsp; &nbsp;<font color=\"blue\">3.</font> <font color=\"green\"><b>otherwise</b></font> extend <font color=\"purple\"><i>path</i></font> [if the ending node is not in <font color=\"purple\"><i>extended_list</i></font>] <br>\n",
    "&nbsp; &nbsp; &nbsp; &nbsp;&nbsp; &nbsp; &nbsp; &nbsp;[add the ending node to <font color=\"purple\"><i>extended_list</i></font>]<br>\n",
    "&nbsp; &nbsp; &nbsp; &nbsp;&nbsp; &nbsp; &nbsp; &nbsp;<font color=\"green\"><b>for each</b></font> connected node (child node of the ending node of <font color=\"purple\"><i>path</i></font>)<br>\n",
    "&nbsp; &nbsp; &nbsp; &nbsp;&nbsp; &nbsp; &nbsp; &nbsp;&nbsp; &nbsp; &nbsp; &nbsp;            make a <font color=\"purple\"><i>new_path</i></font> that extends the connected node<br>\n",
    "&nbsp; &nbsp; &nbsp; &nbsp;<font color=\"blue\">4.</font> reject all <font color=\"purple\"><i>new paths</i></font> from step <font color=\"blue\">3</font> that contain <i>cycles</i><br> \n",
    "&nbsp; &nbsp; &nbsp; &nbsp;<font color=\"blue\">5.</font><b> randomly insert <font color=\"purple\"><i>new paths</i></font> from step <font color=\"blue\">4</font> to <font color=\"purple\"><i>agenda</i></font> </b>\n",
    "&nbsp;# <b>yay ! a new algorithm is \"invented\" </b> <br> \n",
    "<font color=\"blue\">6.</font> <font color=\"green\"><b>return</b></font> <font color=\"purple\"><i>failure</i></font><br>  \n",
    "</div>\n"
   ]
  },
  {
   "cell_type": "code",
   "execution_count": 27,
   "id": "00f17be3",
   "metadata": {
    "slideshow": {
     "slide_type": "subslide"
    }
   },
   "outputs": [],
   "source": [
    "# Python implementation\n",
    "def my_nondeterministic_search(problem, use_extendedList = True):\n",
    "    agenda = list([Node(problem.initial)])\n",
    "#   extended list to keep what states have been extended\n",
    "    extended_list = set()\n",
    "    while agenda:\n",
    "        node = agenda.pop()\n",
    "        if problem.is_goal(node.state):\n",
    "            return node\n",
    "        if use_extendedList:\n",
    "            if node.state not in extended_list:\n",
    "                extended_list.add(node.state)\n",
    "                for child in expand(problem, node):\n",
    "                    if not is_cycle(child):\n",
    "#                       random insertion\n",
    "                        agenda.insert(randrange(len(agenda)+1), child) \n",
    "        else:\n",
    "            for child in expand(problem, node):  \n",
    "                if not is_cycle(child):\n",
    "#                   random insertion\n",
    "                    agenda.insert(randrange(len(agenda)+1), child)\n",
    "    return failure"
   ]
  },
  {
   "cell_type": "markdown",
   "id": "7f9c4a24",
   "metadata": {
    "slideshow": {
     "slide_type": "slide"
    }
   },
   "source": [
    "# Non-deterministic search any good ?\n",
    "\n",
    "\n",
    "**complete**: not guranteed! \n",
    "  * the worst scenario is it inserts all paths at the beginning (very unlikely but worst scenario); \n",
    "  * then reduce to DFS\n",
    "\n",
    "**optimal**: not guranteed; \n",
    "  * again, the worst case is it may return a solution similar to DFS\n",
    "\n",
    "\n"
   ]
  },
  {
   "cell_type": "markdown",
   "id": "08eaeafd",
   "metadata": {
    "slideshow": {
     "slide_type": "subslide"
    }
   },
   "source": [
    "**time complexity**: still $O(b^d)$; \n",
    "  * if you are unlucky, you still need to expand all nodes to find the solution; \n",
    "  * remember we care the worst case performance\n",
    "\n",
    "**space complexity**: also $O(b^d)$; \n",
    "  * again if you are unlucky, you may insert everything to the back! \n",
    "  * reduce to BFS;\n",
    "\n",
    "\n",
    "The above are **worst case** performance"
   ]
  },
  {
   "cell_type": "markdown",
   "id": "815a423c",
   "metadata": {
    "slideshow": {
     "slide_type": "subslide"
    }
   },
   "source": [
    "But the **expected (or on average)** performance should be better ! \n",
    "\n",
    "Similar to the analysis of *quicksort* (another famous non-deterministic algorithm with \n",
    "  * a worst complexity of $O(N^2)$ \n",
    "  * but expected complexity $O(N\\log N)$"
   ]
  },
  {
   "cell_type": "markdown",
   "id": "f6d55b16",
   "metadata": {
    "slideshow": {
     "slide_type": "subslide"
    }
   },
   "source": [
    "# Demonstration on 3 by 3 grid problem\n",
    "\n",
    "<center><img src=\"https://leo.host.cs.st-andrews.ac.uk/figs/figs4CS5010/searching/grid.png\" width = \"300\" height=\"300\"/></center>  \n",
    "\n",
    "Formulate a route finding problem that starts from A and ends in B"
   ]
  },
  {
   "cell_type": "code",
   "execution_count": 28,
   "id": "547b04ac",
   "metadata": {
    "slideshow": {
     "slide_type": "fragment"
    }
   },
   "outputs": [],
   "source": [
    "rgrid0 = RouteProblem('A', 'B', map=threeGrid)\n",
    "rgrid1 = RouteProblem('A', 'F', map=threeGrid) "
   ]
  },
  {
   "cell_type": "code",
   "execution_count": 29,
   "id": "2e7db44d",
   "metadata": {
    "slideshow": {
     "slide_type": "fragment"
    }
   },
   "outputs": [
    {
     "name": "stdout",
     "output_type": "stream",
     "text": [
      "BFS's path for A to B is:  ['A', 'B']\n",
      "BFS's path for A to F is:  ['A', 'B', 'C', 'F']\n"
     ]
    }
   ],
   "source": [
    "print(\"BFS's path for A to B is: \", path_states(my_breadth_first_search(rgrid0)))\n",
    "print(\"BFS's path for A to F is: \", path_states(my_breadth_first_search(rgrid1)))"
   ]
  },
  {
   "cell_type": "code",
   "execution_count": 30,
   "id": "7e089a1b",
   "metadata": {
    "slideshow": {
     "slide_type": "fragment"
    }
   },
   "outputs": [
    {
     "name": "stdout",
     "output_type": "stream",
     "text": [
      "DFS's path for A to B is:  ['A', 'D', 'G', 'H', 'E', 'B']\n",
      "DFS's path for A to F is:  ['A', 'D', 'G', 'H', 'E', 'B', 'C', 'F']\n"
     ]
    }
   ],
   "source": [
    "print(\"DFS's path for A to B is: \", path_states(my_depth_first_search(rgrid0)))\n",
    "print(\"DFS's path for A to F is: \", path_states(my_depth_first_search(rgrid1, use_extendedList=False)))"
   ]
  },
  {
   "cell_type": "markdown",
   "id": "74ea033a",
   "metadata": {
    "slideshow": {
     "slide_type": "subslide"
    }
   },
   "source": [
    "### Nondeterministic search: each run might return a different solution\n",
    "\n",
    "As expected, the results returned can be random\n",
    "  * that's why not optimal (worst case scenario)\n",
    "  * on average perform well though"
   ]
  },
  {
   "cell_type": "code",
   "execution_count": 35,
   "id": "e14fe4dc",
   "metadata": {
    "scrolled": true,
    "slideshow": {
     "slide_type": "fragment"
    }
   },
   "outputs": [
    {
     "name": "stdout",
     "output_type": "stream",
     "text": [
      "['A', 'B']\n",
      "['A', 'B']\n",
      "['A', 'D', 'E', 'B']\n",
      "['A', 'B']\n",
      "['A', 'B']\n",
      "['A', 'B']\n",
      "['A', 'B']\n",
      "['A', 'B']\n",
      "['A', 'B']\n",
      "['A', 'B']\n",
      "['A', 'D', 'E', 'B']\n",
      "['A', 'D', 'E', 'B']\n",
      "['A', 'D', 'G', 'H', 'E', 'F', 'C', 'B']\n",
      "['A', 'B']\n",
      "['A', 'B']\n",
      "['A', 'B']\n",
      "['A', 'B']\n",
      "['A', 'B']\n",
      "['A', 'D', 'E', 'B']\n",
      "['A', 'B']\n"
     ]
    }
   ],
   "source": [
    "# run 20 times of nondeterminisitc search\n",
    "for i in range(20):\n",
    "    print(path_states(my_nondeterministic_search(rgrid0)))"
   ]
  },
  {
   "cell_type": "code",
   "execution_count": 38,
   "id": "4f90e848",
   "metadata": {
    "slideshow": {
     "slide_type": "subslide"
    }
   },
   "outputs": [
    {
     "name": "stdout",
     "output_type": "stream",
     "text": [
      "['A', 'D', 'E', 'F']\n",
      "['A', 'D', 'G', 'H', 'E', 'F']\n",
      "['A', 'D', 'E', 'F']\n",
      "['A', 'D', 'G', 'H', 'I', 'F']\n",
      "['A', 'D', 'E', 'F']\n",
      "['A', 'B', 'E', 'H', 'I', 'F']\n",
      "['A', 'B', 'E', 'F']\n",
      "['A', 'D', 'E', 'F']\n",
      "['A', 'B', 'C', 'F']\n",
      "['A', 'B', 'E', 'F']\n",
      "['A', 'B', 'E', 'F']\n",
      "['A', 'D', 'E', 'F']\n",
      "['A', 'B', 'C', 'F']\n",
      "['A', 'B', 'C', 'F']\n",
      "['A', 'D', 'E', 'F']\n",
      "['A', 'D', 'E', 'F']\n",
      "['A', 'B', 'C', 'F']\n",
      "['A', 'D', 'E', 'F']\n",
      "['A', 'B', 'E', 'F']\n",
      "['A', 'D', 'E', 'B', 'C', 'F']\n"
     ]
    }
   ],
   "source": [
    "# run 20 times of nondeterminisitc search for A to F\n",
    "for i in range(20):\n",
    "    print(path_states(my_nondeterministic_search(rgrid1)))"
   ]
  },
  {
   "cell_type": "markdown",
   "id": "bcb3b4a0",
   "metadata": {
    "slideshow": {
     "slide_type": "subslide"
    }
   },
   "source": [
    "#### Non-deterministic search on Romanian route \n",
    "\n",
    "* it finds the optimal solution (418) ! \n",
    "* although optimality is not guaranteed"
   ]
  },
  {
   "cell_type": "code",
   "execution_count": 51,
   "id": "395ba1f0",
   "metadata": {
    "slideshow": {
     "slide_type": "fragment"
    }
   },
   "outputs": [
    {
     "name": "stdout",
     "output_type": "stream",
     "text": [
      "Path: ['A', 'S', 'F', 'B'] Cost: 450\n",
      "Path: ['A', 'S', 'R', 'P', 'B'] Cost: 418\n",
      "Path: ['A', 'S', 'F', 'B'] Cost: 450\n",
      "Path: ['A', 'S', 'R', 'P', 'B'] Cost: 418\n",
      "Path: ['A', 'Z', 'O', 'S', 'F', 'B'] Cost: 607\n",
      "Path: ['A', 'S', 'F', 'B'] Cost: 450\n",
      "Path: ['A', 'Z', 'O', 'S', 'F', 'B'] Cost: 607\n",
      "Path: ['A', 'S', 'F', 'B'] Cost: 450\n",
      "Path: ['A', 'S', 'R', 'P', 'B'] Cost: 418\n",
      "Path: ['A', 'S', 'R', 'P', 'B'] Cost: 418\n",
      "Path: ['A', 'S', 'F', 'B'] Cost: 450\n",
      "Path: ['A', 'S', 'F', 'B'] Cost: 450\n",
      "Path: ['A', 'S', 'F', 'B'] Cost: 450\n",
      "Path: ['A', 'S', 'F', 'B'] Cost: 450\n",
      "Path: ['A', 'T', 'L', 'M', 'D', 'C', 'P', 'B'] Cost: 733\n",
      "Path: ['A', 'S', 'F', 'B'] Cost: 450\n",
      "Path: ['A', 'S', 'F', 'B'] Cost: 450\n",
      "Path: ['A', 'Z', 'O', 'S', 'F', 'B'] Cost: 607\n",
      "Path: ['A', 'S', 'F', 'B'] Cost: 450\n",
      "Path: ['A', 'S', 'F', 'B'] Cost: 450\n"
     ]
    }
   ],
   "source": [
    "# formulate the route finding problem: Arad to Bucharest\n",
    "# use non-deterministic search to a path 20 times\n",
    "r1 = RouteProblem('A', 'B', map=romania)\n",
    "for i in range(20):\n",
    "    node = my_nondeterministic_search(r1)\n",
    "    print(\"Path:\", path_states(node), \"Cost:\", g(node))"
   ]
  },
  {
   "cell_type": "markdown",
   "id": "2dbd3f0f",
   "metadata": {
    "slideshow": {
     "slide_type": "slide"
    }
   },
   "source": [
    "# Another variant : Uniform Cost Search (UCS)\n",
    "\n",
    "\n",
    "So far we have seen the following **agenda** re-organisation methods:\n",
    "  * DFS: insert in front\n",
    "  * BFS: insert in back\n",
    "  * non-deterministic: random insertion\n",
    "\n",
    "\n",
    "\n",
    "Another variant **Uniform Cost Searching** (UCS): **sort the agenda based on the path costs !**\n",
    "  * why sorting ? not every path in the agenda should be treated equally\n",
    "  * focus on the promising ones first!"
   ]
  },
  {
   "cell_type": "markdown",
   "id": "d25eb067",
   "metadata": {
    "slideshow": {
     "slide_type": "subslide"
    }
   },
   "source": [
    "UCS pseudo-code:\n",
    "\n",
    "\n",
    "<div style=\"background-color:rgba(0, 0, 0, 0.0470588); padding:10px 0;font-family:monospace;\">\n",
    "<font color=\"blue\">0.</font>: initialize  <br> \n",
    "&nbsp; &nbsp; <font color=\"purple\"><i>agenda</i></font> = [ [start] ]    &nbsp; &nbsp; &nbsp; &nbsp;&nbsp;    # a list of paths or partial solutions  <br>\n",
    "&nbsp; &nbsp; [<font color=\"purple\"><i>extended_list</i></font> = {};]   &nbsp; &nbsp; &nbsp; &nbsp;    # optional: closed list of nodes   <br>     \n",
    "&nbsp; &nbsp; <font color=\"green\"><b>while</b></font> <font color=\"purple\"><i>agenda</i></font> is not empty:<br>\n",
    "&nbsp; &nbsp; &nbsp; &nbsp;<font color=\"blue\">1.</font> <font color=\"purple\"><i>path</i></font> = <font color=\"purple\"><i>agenda</i></font>.pop(0)    &nbsp;&nbsp; # remove first element from agenda <br>\n",
    "&nbsp; &nbsp; &nbsp; &nbsp;<font color=\"blue\">2.</font> <font color=\"green\"><b>if</b></font> is-path-to-goal(<font color=\"purple\"><i>path</i></font>, goal)<br>\n",
    "&nbsp; &nbsp; &nbsp; &nbsp;&nbsp;&nbsp;&nbsp;&nbsp;&nbsp;&nbsp;&nbsp;<font color=\"green\"><b>return</b></font> <font color=\"purple\"><i>path</i></font><br>\n",
    "&nbsp; &nbsp; &nbsp; &nbsp;<font color=\"blue\">3.</font> <font color=\"green\"><b>otherwise</b></font> extend <font color=\"purple\"><i>path</i></font> [if the ending node is not in <font color=\"purple\"><i>extended_list</i></font>] <br>\n",
    "&nbsp; &nbsp; &nbsp; &nbsp;&nbsp; &nbsp; &nbsp; &nbsp;[add the ending node to <font color=\"purple\"><i>extended_list</i></font>]<br>\n",
    "&nbsp; &nbsp; &nbsp; &nbsp;&nbsp; &nbsp; &nbsp; &nbsp;<font color=\"green\"><b>for each</b></font> connected node (child node of the ending node of <font color=\"purple\"><i>path</i></font>)<br>\n",
    "&nbsp; &nbsp; &nbsp; &nbsp;&nbsp; &nbsp; &nbsp; &nbsp;&nbsp; &nbsp; &nbsp; &nbsp;            make a <font color=\"purple\"><i>new_path</i></font> that extends the connected node<br>\n",
    "&nbsp; &nbsp; &nbsp; &nbsp;<font color=\"blue\">4.</font> reject all <font color=\"purple\"><i>new paths</i></font> from step <font color=\"blue\">3</font> that contain <i>cycles</i><br> \n",
    "&nbsp; &nbsp; &nbsp; &nbsp;<font color=\"blue\">5.</font><b> add <font color=\"purple\"><i>new paths</i></font> from step <font color=\"blue\">4</font> to <font color=\"purple\"><i>agenda</i></font> then sort the agenda based on the path costs</b><br>\n",
    "&nbsp;&nbsp; &nbsp; &nbsp; &nbsp;&nbsp;&nbsp; &nbsp; &nbsp; &nbsp;&nbsp;&nbsp; &nbsp; &nbsp; &nbsp;&nbsp;&nbsp; &nbsp; &nbsp; &nbsp;       # <b>yay ! another algorithm is \"invented\" </b> <br> \n",
    "<font color=\"blue\">6.</font> <font color=\"green\"><b>return</b></font> <font color=\"purple\"><i>failure</i></font><br>  \n",
    "</div>"
   ]
  },
  {
   "cell_type": "markdown",
   "id": "bb49421f",
   "metadata": {
    "slideshow": {
     "slide_type": "slide"
    }
   },
   "source": [
    "# Implementation of UCS\n",
    "\n",
    "Sorting the agenda in each iteration is not ideal \n",
    "  * best sorting complexity is $O(N\\log N)$, $N$ is the size of the agenda\n",
    "  * becomes expensive for each iteration! \n",
    "\n",
    "Note the agenda has been sorted in previous iteration\n",
    "  * insert new extended paths to their correct place rather than sorting the whole agenda again\n",
    "  * e.g. like one step of *insertion sort*: the complexity of insertion is: $O(N)$ though\n",
    "  \n",
    "Priority Queue (PQ) is suitable for this kind of task: the complexity for insertion is $O(\\log N)$; \n",
    "  * The underlying data structure of a PQ is usually\n",
    "    * Heap tree\n",
    "    * or Balanced binary search tree, say AVL tree\n",
    " "
   ]
  },
  {
   "cell_type": "code",
   "execution_count": 52,
   "id": "dc5f7ccb",
   "metadata": {
    "slideshow": {
     "slide_type": "subslide"
    }
   },
   "outputs": [],
   "source": [
    "# Python implementation of uniform cost search\n",
    "def my_uniform_cost_search(problem, use_extendedList= True):\n",
    "    agenda = PriorityQueue([Node(problem.initial)], key=g)\n",
    "    #   extended list to keep what states have been extended\n",
    "    extended_list = set()\n",
    "    while agenda:\n",
    "#       PQ.pop() returns the node with the least cost \n",
    "        node = agenda.pop()\n",
    "        if problem.is_goal(node.state):\n",
    "            return node\n",
    "        if use_extendedList:\n",
    "            if node.state not in extended_list:\n",
    "                extended_list.add(node.state)\n",
    "                for child in expand(problem, node):\n",
    "                    if not is_cycle(child):\n",
    "#                       PriorityQueue taks care of this by inserting to \n",
    "#                       an appropriate location that is efficient for further operation\n",
    "                        agenda.add(child)\n",
    "        else:\n",
    "            for child in expand(problem, node):\n",
    "                if not is_cycle(child):\n",
    "                    agenda.add(child)\n",
    "    return failure"
   ]
  },
  {
   "cell_type": "markdown",
   "id": "c84ab662",
   "metadata": {
    "slideshow": {
     "slide_type": "slide"
    }
   },
   "source": [
    "# UCS walk through\n",
    "\n",
    "Romania routing problem: find a route between Arad to Bucharest\n",
    "<center><img src=\"https://leo.host.cs.st-andrews.ac.uk/figs/figs4CS5010/searching/romania.png\" width = \"900\" height=\"300\"/></center>  "
   ]
  },
  {
   "cell_type": "markdown",
   "id": "9d1f58a1",
   "metadata": {
    "slideshow": {
     "slide_type": "subslide"
    }
   },
   "source": [
    "<font color='blue'><b>Step 0</b></font>: **initialisation:**\n",
    "\n",
    "--------------------------\n",
    "<font color='blue'><b>Tree view</b></font>: \n",
    "\n",
    "<center><img src=\"https://leo.host.cs.st-andrews.ac.uk/figs/figs4CS5010/searching/romUCS0.png\" width = \"50\" height=\"300\"/></center>  \n",
    "\n",
    "\n",
    "--------------------------\n",
    "* <font color=\"salmon\"><b> Salmon</b> </font> nodes: nodes in the agenda (open list): initially $[A]$ is in the agenda (still yet to be checked and extended)\n",
    "* <font color=\"blue\"><b> Blue</b> </font> nodes: nodes that have been popped and extended (close list)"
   ]
  },
  {
   "cell_type": "markdown",
   "id": "059aeb74",
   "metadata": {
    "slideshow": {
     "slide_type": "subslide"
    }
   },
   "source": [
    "<font color='blue'><b>Step 1</b></font>:\n",
    "\n",
    "Extend the first node in the agenda (which is **A**);\n",
    "\n",
    "The next one to be popped and extended is **Z** (75), the most promising path \n",
    "\n",
    "\n",
    "--------------------------\n",
    "<font color='blue'><b>Tree view</b></font>: \n",
    "\n",
    "<center><img src=\"https://leo.host.cs.st-andrews.ac.uk/figs/figs4CS5010/searching/romUCS1.png\" width = \"800\" height=\"300\"/></center>  \n",
    "\n",
    "--------------------------\n",
    "* <font color=\"salmon\"><b> Salmon</b> </font> nodes: nodes in the agenda (open list)\n",
    "* <font color=\"blue\"><b> Blue</b> </font> nodes: nodes that have been popped and extended (close list)"
   ]
  },
  {
   "cell_type": "markdown",
   "id": "220cbb6e",
   "metadata": {
    "slideshow": {
     "slide_type": "subslide"
    }
   },
   "source": [
    "<font color='blue'><b>Step 2</b></font>:\n",
    "\n",
    "After extended **Z**\n",
    "\n",
    "The next one to be popped, checked and extended becomes **T**\n",
    "\n",
    "--------------------------\n",
    "<font color='blue'><b>Tree view</b></font>: \n",
    "\n",
    "<center><img src=\"https://leo.host.cs.st-andrews.ac.uk/figs/figs4CS5010/searching/romUCS2.png\" width = \"800\" height=\"300\"/></center>  \n",
    "\n",
    "--------------------------\n",
    "* <font color=\"salmon\"><b> Salmon</b> </font> nodes: nodes in the agenda (open list)\n",
    "* <font color=\"blue\"><b> Blue</b> </font> nodes: nodes that have been popped and extended (close list)"
   ]
  },
  {
   "cell_type": "markdown",
   "id": "d7b046a3",
   "metadata": {
    "slideshow": {
     "slide_type": "subslide"
    }
   },
   "source": [
    "<font color='blue'><b>Step 3</b></font>:\n",
    "\n",
    "--------------------------\n",
    "<font color='blue'><b>Tree view</b></font>: \n",
    "\n",
    "<center><img src=\"https://leo.host.cs.st-andrews.ac.uk/figs/figs4CS5010/searching/romUCS3.png\" width = \"800\" height=\"300\"/></center>  \n",
    "\n",
    "--------------------------\n",
    "* <font color=\"salmon\"><b> Salmon</b> </font> nodes: nodes in the agenda (open list)\n",
    "* <font color=\"blue\"><b> Blue</b> </font> nodes: nodes that have been popped and extended (close list)"
   ]
  },
  {
   "cell_type": "markdown",
   "id": "34225c41",
   "metadata": {
    "slideshow": {
     "slide_type": "subslide"
    }
   },
   "source": [
    "<font color='blue'><b>Step 4</b></font>:\n",
    "\n",
    "--------------------------\n",
    "<font color='blue'><b>Tree view</b></font>: \n",
    "\n",
    "<center><img src=\"https://leo.host.cs.st-andrews.ac.uk/figs/figs4CS5010/searching/romUCS4.png\" width = \"800\" height=\"300\"/></center>  \n",
    "\n",
    "--------------------------\n",
    "* <font color=\"salmon\"><b> Salmon</b> </font> nodes: nodes in the agenda (open list)\n",
    "* <font color=\"blue\"><b> Blue</b> </font> nodes: nodes that have been popped and extended (close list)"
   ]
  },
  {
   "cell_type": "markdown",
   "id": "de03d3d3",
   "metadata": {
    "slideshow": {
     "slide_type": "subslide"
    }
   },
   "source": [
    "<font color='blue'><b>Step 5</b></font>:\n",
    "\n",
    "--------------------------\n",
    "<font color='blue'><b>Tree view</b></font>: \n",
    "\n",
    "<center><img src=\"https://leo.host.cs.st-andrews.ac.uk/figs/figs4CS5010/searching/romUCS5.png\" width = \"800\" height=\"300\"/></center>  \n",
    "\n",
    "--------------------------\n",
    "* <font color=\"salmon\"><b> Salmon</b> </font> nodes: nodes in the agenda (open list)\n",
    "* <font color=\"blue\"><b> Blue</b> </font> nodes: nodes that have been popped and extended (close list)"
   ]
  },
  {
   "cell_type": "markdown",
   "id": "44559fa3",
   "metadata": {
    "slideshow": {
     "slide_type": "subslide"
    }
   },
   "source": [
    "<font color='blue'><b>Step 6</b></font>:\n",
    "\n",
    "--------------------------\n",
    "<font color='blue'><b>Agenda status</b></font>: \n",
    "\n",
    "<center><img src=\"https://leo.host.cs.st-andrews.ac.uk/figs/figs4CS5010/searching/romUCS6.png\" width = \"800\" height=\"300\"/></center>  \n",
    "\n",
    "--------------------------\n",
    "* <font color=\"salmon\"><b> Salmon</b> </font> nodes: nodes in the agenda (open list)\n",
    "* <font color=\"blue\"><b> Blue</b> </font> nodes: nodes that have been popped and extended (close list)"
   ]
  },
  {
   "cell_type": "markdown",
   "id": "4ecb3faf",
   "metadata": {
    "slideshow": {
     "slide_type": "subslide"
    }
   },
   "source": [
    "<font color='blue'><b>Step 7</b></font>:\n",
    "\n",
    "--------------------------\n",
    "<font color='blue'><b>Tree view</b></font>: \n",
    "\n",
    "<center><img src=\"https://leo.host.cs.st-andrews.ac.uk/figs/figs4CS5010/searching/romUCS8.png\" width = \"800\" height=\"300\"/></center>  \n",
    "\n",
    "--------------------------\n",
    "* <font color=\"salmon\"><b> Salmon</b> </font> nodes: nodes in the agenda (open list)\n",
    "* <font color=\"blue\"><b> Blue</b> </font> nodes: nodes that have been popped and extended (close list)"
   ]
  },
  {
   "cell_type": "markdown",
   "id": "04ea5448",
   "metadata": {
    "slideshow": {
     "slide_type": "subslide"
    }
   },
   "source": [
    "<font color='blue'><b>Step 8</b></font>:\n",
    "\n",
    "\n",
    "Note that one solution has been found and added to the agenda: [A,S,F,B] (450) \n",
    "  * the solution returned by BFS !\n",
    "\n",
    "\n",
    "**BUT** it is not returned yet (we don't do early check as per algorithm)\n",
    "  * why ? there might be other better options out there !\n",
    "\n",
    "The next to be extended is [A,S,O] (291) actually!\n",
    "\n",
    "--------------------------\n",
    "<font color='blue'><b>Tree view</b></font>: \n",
    "\n",
    "<center><img src=\"https://leo.host.cs.st-andrews.ac.uk/figs/figs4CS5010/searching/romUCS9.png\" width = \"800\" height=\"300\"/></center>\n",
    "\n",
    "--------------------------\n",
    "* <font color=\"salmon\"><b> Salmon</b> </font> nodes: nodes in the agenda (open list)\n",
    "* <font color=\"blue\"><b> Blue</b> </font> nodes: nodes that have been popped and extended (close list)"
   ]
  },
  {
   "cell_type": "markdown",
   "id": "5e7ea36a",
   "metadata": {
    "slideshow": {
     "slide_type": "subslide"
    }
   },
   "source": [
    "<font color='blue'><b>Fast forward a few steps</b></font>:\n",
    "\n",
    "--------------------------\n",
    "<font color='blue'><b>Tree view</b></font>: \n",
    "\n",
    "<center><img src=\"https://leo.host.cs.st-andrews.ac.uk/figs/figs4CS5010/searching/romUCS9_.png\" width = \"800\" height=\"300\"/></center>  \n",
    "\n",
    "\n",
    "--------------------------\n",
    "* <font color=\"salmon\"><b> Salmon</b> </font> nodes: nodes in the agenda (open list)\n",
    "* <font color=\"blue\"><b> Blue</b> </font> nodes: nodes that have been popped and extended (close list)"
   ]
  },
  {
   "cell_type": "markdown",
   "id": "dfd23df9",
   "metadata": {
    "slideshow": {
     "slide_type": "subslide"
    }
   },
   "source": [
    "<font color='blue'><b>Next step</b></font>:\n",
    "\n",
    "Note the final return solution has been found and inserted to agenda ! **[A,S,R,P,B]** with optimal cost **418**\n",
    "\n",
    "**BUT** we cannot return it yet !\n",
    "  * next to be popped and checked is **[A,S,O,Z] (362)**! (the most promising one in the agenda)\n",
    "\n",
    "--------------------------\n",
    "<font color='blue'><b>Tree view</b></font>: \n",
    "\n",
    "<center><img src=\"https://leo.host.cs.st-andrews.ac.uk/figs/figs4CS5010/searching/romUCS10.png\" width = \"800\" height=\"300\"/></center> \n",
    "\n",
    "\n",
    "--------------------------\n",
    "* <font color=\"salmon\"><b> Salmon</b> </font> nodes: nodes in the agenda (open list)\n",
    "* <font color=\"blue\"><b> Blue</b> </font> nodes: nodes that have been popped and extended (close list)"
   ]
  },
  {
   "cell_type": "markdown",
   "id": "1fef7153",
   "metadata": {
    "slideshow": {
     "slide_type": "subslide"
    }
   },
   "source": [
    "<font color='blue'><b>Final return step</b></font>:\n",
    "\n",
    "After we open all other promising routes, we are finally about to check **[A,S,R,P,B]** (418)\n",
    "  * all other routes are officially worse\n",
    "--------------------------\n",
    "<font color='blue'><b>Tree view</b></font>: \n",
    "\n",
    "<center><img src=\"https://leo.host.cs.st-andrews.ac.uk/figs/figs4CS5010/searching/romUCS11.png\" width = \"800\" height=\"300\"/></center>  \n",
    "\n",
    "\n",
    "--------------------------\n",
    "* <font color=\"salmon\"><b> Salmon</b> </font> nodes: nodes in the agenda (open list)\n",
    "* <font color=\"blue\"><b> Blue</b> </font> nodes: nodes that have been popped and extended (close list)"
   ]
  },
  {
   "cell_type": "markdown",
   "id": "b654def6",
   "metadata": {
    "slideshow": {
     "slide_type": "slide"
    }
   },
   "source": [
    "# Demonstration of UCS\n",
    "\n",
    "3 by 3 grid problem: UCS returns the optimal solution"
   ]
  },
  {
   "cell_type": "code",
   "execution_count": 53,
   "id": "f36c1fd9",
   "metadata": {
    "scrolled": true,
    "slideshow": {
     "slide_type": "fragment"
    }
   },
   "outputs": [
    {
     "name": "stdout",
     "output_type": "stream",
     "text": [
      "['A', 'B']\n",
      "['A', 'B', 'C', 'F']\n"
     ]
    }
   ],
   "source": [
    "print(path_states(my_uniform_cost_search(rgrid0, use_extendedList=False)))\n",
    "print(path_states(my_uniform_cost_search(rgrid1, use_extendedList=False)))"
   ]
  },
  {
   "cell_type": "markdown",
   "id": "6830ea37",
   "metadata": {
    "slideshow": {
     "slide_type": "subslide"
    }
   },
   "source": [
    "Romania routing problem: find a route between Arad to Bucharest\n",
    "<center><img src=\"https://leo.host.cs.st-andrews.ac.uk/figs/figs4CS5010/searching/romania.png\" width = \"900\" height=\"300\"/></center>  "
   ]
  },
  {
   "cell_type": "code",
   "execution_count": 54,
   "id": "9ae1d35b",
   "metadata": {
    "slideshow": {
     "slide_type": "fragment"
    }
   },
   "outputs": [
    {
     "name": "stdout",
     "output_type": "stream",
     "text": [
      "The path found by UCS: ['A', 'S', 'R', 'P', 'B']\n",
      "418\n"
     ]
    }
   ],
   "source": [
    "print(\"The path found by UCS:\", path_states(my_uniform_cost_search(r1, use_extendedList=False)))\n",
    "print(g(my_uniform_cost_search(r1, use_extendedList=False)))"
   ]
  },
  {
   "cell_type": "code",
   "execution_count": 58,
   "id": "3722f9e9",
   "metadata": {
    "scrolled": true,
    "slideshow": {
     "slide_type": "fragment"
    }
   },
   "outputs": [
    {
     "name": "stdout",
     "output_type": "stream",
     "text": [
      "The cost of the path found by UCS is: 418\n",
      "The cost of the path found by BFS is: 450\n",
      "The cost of the path found by DFS is: 733\n",
      "The cost of the path found by NDS is: 450\n"
     ]
    }
   ],
   "source": [
    "print(\"The cost of the path found by UCS is:\" , g(my_uniform_cost_search(r1, use_extendedList=False)))\n",
    "print(\"The cost of the path found by BFS is:\", g(my_breadth_first_search(r1, use_extendedList=False)))\n",
    "print(\"The cost of the path found by DFS is:\", g(my_depth_first_search(r1, use_extendedList=False)))\n",
    "print(\"The cost of the path found by NDS is:\", g(my_nondeterministic_search(r1, use_extendedList=False)))"
   ]
  },
  {
   "cell_type": "markdown",
   "id": "68b56d36",
   "metadata": {
    "slideshow": {
     "slide_type": "subslide"
    }
   },
   "source": [
    "Again, UCS has found the optimal solution between Arad to Bucharest (418 cost)\n",
    "  * remember BFS's solution is not optimal (but with the least transitions)\n",
    "  \n",
    "Can we conclude UCS is **optimal** ?  \n",
    "  * inventing an algorithm is *easy* but proving it works as desired is a bit harder"
   ]
  },
  {
   "cell_type": "markdown",
   "id": "bfc0a423",
   "metadata": {
    "slideshow": {
     "slide_type": "slide"
    }
   },
   "source": [
    "# UCS is optimal (?) !\n",
    "\n",
    "\n",
    "Does the path returned by UCS is always **optimal** ?\n",
    "\n",
    "Let's consider the case that extended_list is **not** in use first:\n",
    "  * only cyclic solutions are discarded\n",
    "  * it means extended nodes will be extended again and put back to the agenda \n",
    "  * the agenda is *complete* in the sense all possible solutions are kept (no early rejection) comparing with the case that extension_list in use\n",
    "  \n",
    "\n",
    "UCS will return the **first** path that **passes the goal test**\n",
    "  * when the popped path ends with a goal state, it is returned immediately\n",
    "  "
   ]
  },
  {
   "cell_type": "markdown",
   "id": "edb3bdf6",
   "metadata": {
    "slideshow": {
     "slide_type": "subslide"
    }
   },
   "source": [
    "To prove **optimality**, one only needs to show all other paths left in the agenda **cannot** beat the **first** popped goal path \n",
    "\n"
   ]
  },
  {
   "cell_type": "markdown",
   "id": "fd6cc2c7",
   "metadata": {
    "slideshow": {
     "slide_type": "fragment"
    }
   },
   "source": [
    "Take a look at the agenda the moment it is about to return a solution\n",
    "\n",
    "$$\\text{agenda} = [(P_1,c_1), (P_2, c_2), (P_3, c_3), \\ldots ]$$\n",
    "  * $P_i$ path, $c_i$ is $P_i$'s cost"
   ]
  },
  {
   "cell_type": "markdown",
   "id": "68ded925",
   "metadata": {
    "slideshow": {
     "slide_type": "fragment"
    }
   },
   "source": [
    "* as the agenda is sorted: $$c_1 \\leq c_2 \\leq c_3 \\leq \\ldots$$"
   ]
  },
  {
   "cell_type": "markdown",
   "id": "d6b81701",
   "metadata": {
    "slideshow": {
     "slide_type": "fragment"
    }
   },
   "source": [
    "$P_1$ ends with a goal state, UCS is about to return $P_1$ as a solution"
   ]
  },
  {
   "cell_type": "markdown",
   "id": "9dbff718",
   "metadata": {
    "slideshow": {
     "slide_type": "fragment"
    }
   },
   "source": [
    "* all other paths $P_2, P_3, \\ldots$ are worse than $P_1$: $c_1 \\leq c_2 \\leq c_3 \\leq \\ldots$!"
   ]
  },
  {
   "cell_type": "markdown",
   "id": "99924222",
   "metadata": {
    "slideshow": {
     "slide_type": "subslide"
    }
   },
   "source": [
    "<center><img src=\"https://leo.host.cs.st-andrews.ac.uk/figs/figs4CS5010/searching/romUCS11.png\" width = \"800\" height=\"300\"/></center>  \n",
    "\n",
    "\n",
    "* if there is some $P_i$ ends with a goal state (B here in the figure above): they **cannot beat** $P_1$ \n",
    "  * *so do we need to keep redundant paths that end with the same state ?* probably not!\n",
    "* and for other paths with non goal state, they are more hopeless\n",
    "  * action costs are non-negative ! their costs will only get worse (if we continue the while loop)"
   ]
  },
  {
   "cell_type": "markdown",
   "id": "c8e7cdd2",
   "metadata": {
    "slideshow": {
     "slide_type": "subslide"
    }
   },
   "source": [
    "Conclusion, we are safe to stop here! **UCS is optimal** *when extended_list is not in use*"
   ]
  },
  {
   "cell_type": "markdown",
   "id": "96bb137e",
   "metadata": {
    "slideshow": {
     "slide_type": "subslide"
    }
   },
   "source": [
    "### How about using extended_list ?\n",
    "\n",
    "Does use extended_list affact the optimality ?\n",
    "\n",
    "What extended_list do? \n",
    "  * it will stop extending already extended nodes"
   ]
  },
  {
   "cell_type": "markdown",
   "id": "5b35b184",
   "metadata": {
    "slideshow": {
     "slide_type": "subslide"
    }
   },
   "source": [
    "Take a look at the agenda at any iteration (not immediately before return)\n",
    "\n",
    "$$\\text{agenda} = [(P_1,c_1), (P_2, c_2), (P_3, c_3), \\ldots ]$$\n",
    "* the agenda is sorted, so we know $$c_1 \\leq c_2 \\leq c_3 \\leq \\ldots$$"
   ]
  },
  {
   "cell_type": "markdown",
   "id": "8c714d40",
   "metadata": {
    "slideshow": {
     "slide_type": "fragment"
    }
   },
   "source": [
    "$P_1= [A,B,C,D]$ is popped next and $D$ is extended, then $D$ is added to extended list\n",
    "\n",
    "The question is: whether further *paths ending with $D$* can be **exempted** from extension (and not affect optimality)?\n",
    "  * for example, when we later extend $P_2 = [\\ldots, D]$, and $P_2$ happen to end with $D$\n",
    "  * can we skip $P_2$'s extension ?"
   ]
  },
  {
   "cell_type": "markdown",
   "id": "cabb54e5",
   "metadata": {
    "slideshow": {
     "slide_type": "fragment"
    }
   },
   "source": [
    "* yes! all later paths (no matter ending with $D$ or not) will have costs $>c_1$\n",
    "  * only lead to inferior solution!\n",
    "* no point extending them"
   ]
  },
  {
   "cell_type": "markdown",
   "id": "eb96f50e",
   "metadata": {
    "slideshow": {
     "slide_type": "subslide"
    }
   },
   "source": [
    "\n",
    "# UCS is optimal ~~~(?)~~~ !\n",
    "\n",
    "Key observation: the optimal path from $A$ to $G$ via $D$ is \n",
    "  * the optimal path from $A$ to $D$ (the first one found by UCS!)\n",
    "  * plus the optimal path from $D$ to $G$\n",
    "  * we only need to remember the best path to each node ! which is guaranteed by UCS\n",
    "    * this is called **dynamic programming principle**  \n",
    "\n",
    "  \n",
    "Conclusion: **UCS is optimal** regardlessly whether extended list is used or not"
   ]
  },
  {
   "cell_type": "markdown",
   "id": "5e20a3d1",
   "metadata": {
    "slideshow": {
     "slide_type": "slide"
    }
   },
   "source": [
    "# Modified UCS based on dynamic programming principle\n",
    "\n",
    "Based on the observation, we can add another small agenda reorganisation step to further improve efficiency\n",
    "  * we only need to keep one path (with the lowest cost) in agenda (remove those ones with inferior costs)\n",
    "  * less paths to consider in agenda, slightly better efficiency "
   ]
  },
  {
   "cell_type": "markdown",
   "id": "508aa4ee",
   "metadata": {
    "slideshow": {
     "slide_type": "fragment"
    }
   },
   "source": [
    "<div style=\"background-color:rgba(0, 0, 0, 0.0470588); padding:10px 0;font-family:monospace;\">\n",
    "<font color=\"blue\">0.</font>: initialize  <br> \n",
    "&nbsp; &nbsp; <font color=\"purple\"><i>agenda</i></font> = [ [start] ]    &nbsp; &nbsp; &nbsp; &nbsp;&nbsp;    # a list of paths or partial solutions  <br>\n",
    "&nbsp; &nbsp; [<font color=\"purple\"><i>extended_list</i></font> = {};]   &nbsp; &nbsp; &nbsp; &nbsp;    # optional: closed list of nodes   <br>     \n",
    "&nbsp; &nbsp; <font color=\"green\"><b>while</b></font> <font color=\"purple\"><i>agenda</i></font> is not empty:<br>\n",
    "&nbsp; &nbsp; &nbsp; &nbsp;<font color=\"blue\">1.</font> <font color=\"purple\"><i>path</i></font> = <font color=\"purple\"><i>agenda</i></font>.pop(0)    &nbsp;&nbsp; # remove first element from agenda <br>\n",
    "&nbsp; &nbsp; &nbsp; &nbsp;<font color=\"blue\">2.</font> <font color=\"green\"><b>if</b></font> is-path-to-goal(<font color=\"purple\"><i>path</i></font>, goal)<br>\n",
    "&nbsp; &nbsp; &nbsp; &nbsp;&nbsp;&nbsp;&nbsp;&nbsp;&nbsp;&nbsp;&nbsp;<font color=\"green\"><b>return</b></font> <font color=\"purple\"><i>path</i></font><br>\n",
    "&nbsp; &nbsp; &nbsp; &nbsp;<font color=\"blue\">3.</font> <font color=\"green\"><b>otherwise</b></font> extend <font color=\"purple\"><i>path</i></font> [if the ending node is not in <font color=\"purple\"><i>extended_list</i></font>] <br>\n",
    "&nbsp; &nbsp; &nbsp; &nbsp;&nbsp; &nbsp; &nbsp; &nbsp;[add the ending node to <font color=\"purple\"><i>extended_list</i></font>]<br>\n",
    "&nbsp; &nbsp; &nbsp; &nbsp;&nbsp; &nbsp; &nbsp; &nbsp;<font color=\"green\"><b>for each</b></font> connected node (child node of the ending node of <font color=\"purple\"><i>path</i></font>)<br>\n",
    "&nbsp; &nbsp; &nbsp; &nbsp;&nbsp; &nbsp; &nbsp; &nbsp;&nbsp; &nbsp; &nbsp; &nbsp;            make a <font color=\"purple\"><i>new_path</i></font> that extends the connected node<br>\n",
    "&nbsp; &nbsp; &nbsp; &nbsp;<font color=\"blue\">4.</font> reject all <font color=\"purple\"><i>new paths</i></font> from step <font color=\"blue\">3</font> that contain <i>cycles</i><br> \n",
    "&nbsp; &nbsp; &nbsp; &nbsp;<font color=\"blue\">5.</font><b> add <font color=\"purple\"><i>new paths</i></font> from step <font color=\"blue\">4</font> to <font color=\"purple\"><i>agenda</i></font> <br>\n",
    "&nbsp; &nbsp; &nbsp; &nbsp;&nbsp;&nbsp;&nbsp;then sort <font color=\"purple\"><i>agenda</i></font> based on the costs <br>\n",
    "&nbsp; &nbsp; &nbsp; &nbsp;&nbsp;&nbsp;&nbsp;and for paths ending with the same node only keep the optimal one</b>\n",
    "&nbsp; &nbsp; &nbsp;        <br> \n",
    "<font color=\"blue\">6.</font> <font color=\"green\"><b>return</b></font> <font color=\"purple\"><i>failure</i></font><br>  \n",
    "</div>"
   ]
  },
  {
   "cell_type": "markdown",
   "id": "c535c790",
   "metadata": {
    "slideshow": {
     "slide_type": "slide"
    }
   },
   "source": [
    "# Question \n",
    "\n",
    "What is the relationship between UCS and BFS ?\n",
    "\n",
    "Can you implement a BFS algorithm by using UCS or with PriorityQueue as agenda?"
   ]
  },
  {
   "cell_type": "markdown",
   "id": "70ae8ecd",
   "metadata": {
    "slideshow": {
     "slide_type": "slide"
    }
   },
   "source": [
    "# Performance of UCS\n",
    "\n",
    "BFS       |  UCS\n",
    ":-------------------------:|:-------------------------:\n",
    "![](https://leo.host.cs.st-andrews.ac.uk/figs/figs4CS5010/searching/bfscomplex.png) |  ![](https://leo.host.cs.st-andrews.ac.uk/figs/figs4CS5010/searching/ucscomplex.png)\n",
    "\n",
    "**Complete**: UCS is similar to BFS, it pushes into the tree (based on path cost) \n",
    "  * so yes! if there is a solution, it will return it\n",
    "\n",
    "**Optimal**: yes! it will return the best solution; we have shown it in previous slides at length!\n",
    "\n"
   ]
  },
  {
   "cell_type": "markdown",
   "id": "736132df",
   "metadata": {
    "slideshow": {
     "slide_type": "subslide"
    }
   },
   "source": [
    "<center><img src=\"https://leo.host.cs.st-andrews.ac.uk/figs/figs4CS5010/searching/ucscomplex.png\" width = \"500\" height=\"300\"/></center>  \n",
    "\n",
    "\n",
    "**Time complexity**: UCS is similar to BFS, it pushes into the tree (based on path cost)\n",
    "  * the complexity is determined by the number of nodes expanded or goal checked (critical step)\n",
    "  * denote $C^{*}$ the optimal cost, $\\epsilon$ the lower bound of action costs\n",
    "  * we can roughly estimate the optimal depth $d = C^{*}/\\epsilon$ (or tiers in the diagram)\n",
    "  * complexity is $O(b^{C^{*}/\\epsilon})$ (compare with $O(b^d)$ for BFS: where $C^{*}=d$ and $\\epsilon=1$)\n",
    "\n",
    "\n",
    "**Space complexity**: again similar to BFS, it needs to keep all those tree nodes that it has \"pushed into\"\n",
    "  * $O(b^{C^{*}/\\epsilon})$\n",
    "  \n",
    "*The diagram is taken from https://inst.eecs.berkeley.edu/~cs188/su21/assets/notes/n1.pdf*"
   ]
  },
  {
   "cell_type": "markdown",
   "id": "907a065f",
   "metadata": {
    "slideshow": {
     "slide_type": "slide"
    }
   },
   "source": [
    "# A quick summary of uninformed seach algorithms discussed so far\n",
    "\n",
    "  | | Complete| Optimal | Time complexity| Space complexity | agenda reorganisation\n",
    "|:---|:---|:---|:---|:---|:---|\n",
    "| DFS| No | No | $O(b^d)$| $O(bd)$| paths added to the front agenda; or stack agenda|\n",
    "| BFS| Yes | No in general | $O(b^d)$| $O(b^d)$| paths added to the back of agenda; or queue agenda |\n",
    "| NDS| No | No  | $O(b^d)$| $O(b^d)$| paths randomly inserted to the agenda |\n",
    "| UCS| Yes | Yes | $O(b^{C^{*}/\\epsilon})$| $O(b^{C^{*}/\\epsilon})$| paths added agenda then sort the agenda based on path costs (optional: trim down agenda by only retaining the most promising ones, i.e. if there are multiple paths ending with the same node, keep the one with the optimal cost); or PriorityQueue agenda|\n",
    "\n",
    "We have an optimal searching algorithm now, but not efficient (still exponential complexity)! \n",
    "\n",
    "Can we do better ?\n",
    "  * next week's topic! *informed search*"
   ]
  },
  {
   "cell_type": "markdown",
   "id": "2499b301",
   "metadata": {
    "slideshow": {
     "slide_type": "slide"
    }
   },
   "source": [
    "# Summary\n",
    "\n",
    "* A general searching algorithm template\n",
    "* Searching algorithm variants\n",
    "  * Non-deterministic search\n",
    "  * Uniform cost searching"
   ]
  }
 ],
 "metadata": {
  "celltoolbar": "Slideshow",
  "kernelspec": {
   "display_name": "Python 3",
   "language": "python",
   "name": "python3"
  },
  "language_info": {
   "codemirror_mode": {
    "name": "ipython",
    "version": 3
   },
   "file_extension": ".py",
   "mimetype": "text/x-python",
   "name": "python",
   "nbconvert_exporter": "python",
   "pygments_lexer": "ipython3",
   "version": "3.9.2"
  }
 },
 "nbformat": 4,
 "nbformat_minor": 5
}
