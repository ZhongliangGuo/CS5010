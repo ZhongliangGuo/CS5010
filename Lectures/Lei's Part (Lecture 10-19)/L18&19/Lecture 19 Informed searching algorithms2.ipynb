{
 "cells": [
  {
   "cell_type": "code",
   "execution_count": 15,
   "id": "4c22df6b",
   "metadata": {
    "slideshow": {
     "slide_type": "skip"
    }
   },
   "outputs": [],
   "source": [
    "import matplotlib.pyplot as plt\n",
    "from scipy.stats import binom\n",
    "import numpy as np\n",
    "import math\n",
    "import scipy.stats as stats\n",
    "# to use hedgehog, one needs to install two packages vose and hedgehog\n",
    "# pip install git+https://github.com/MaxHalford/vose\n",
    "# pip install git+https://github.com/MaxHalford/hedgehog\n",
    "# you may also need to install graphviz to plot PGM\n",
    "# conda install -c conda-forge python-graphviz \n",
    "import pandas as pd\n",
    "from scipy.special import logsumexp\n",
    "from IPython.display import Markdown as md\n",
    "from random import randrange\n",
    "def hide_code_in_slideshow():   \n",
    "    from IPython import display\n",
    "    import binascii\n",
    "    import os\n",
    "    uid = binascii.hexlify(os.urandom(8)).decode()    \n",
    "    html = \"\"\"<div id=\"%s\"></div>\n",
    "    <script type=\"text/javascript\">\n",
    "        $(function(){\n",
    "            var p = $(\"#%s\");\n",
    "            if (p.length==0) return;\n",
    "            while (!p.hasClass(\"cell\")) {\n",
    "                p=p.parent();\n",
    "                if (p.prop(\"tagName\") ==\"body\") return;\n",
    "            }\n",
    "            var cell = p;\n",
    "            cell.find(\".input\").addClass(\"hide-in-slideshow\")\n",
    "        });\n",
    "    </script>\"\"\" % (uid, uid)\n",
    "    display.display_html(html, raw=True)\n",
    "#  a hack to hide code from cell: https://github.com/damianavila/RISE/issues/32    "
   ]
  },
  {
   "cell_type": "code",
   "execution_count": 16,
   "id": "b51cd1ec",
   "metadata": {
    "slideshow": {
     "slide_type": "skip"
    }
   },
   "outputs": [
    {
     "data": {
      "text/html": [
       "<style>\n",
       " .container.slides .celltoolbar, .container.slides .hide-in-slideshow {\n",
       "    display: None ! important;\n",
       "}\n",
       "    \n",
       "table, th, td {\n",
       "  border: 1px solid black;\n",
       "  border-collapse: collapse;\n",
       "}\n",
       "th, td {\n",
       "  padding: 5px;\n",
       "}\n",
       "th {\n",
       "  text-align: left;\n",
       "}\n",
       "</style>\n"
      ],
      "text/plain": [
       "<IPython.core.display.HTML object>"
      ]
     },
     "metadata": {},
     "output_type": "display_data"
    }
   ],
   "source": [
    "%%html\n",
    "<style>\n",
    " .container.slides .celltoolbar, .container.slides .hide-in-slideshow {\n",
    "    display: None ! important;\n",
    "}\n",
    "    \n",
    "table, th, td {\n",
    "  border: 1px solid black;\n",
    "  border-collapse: collapse;\n",
    "}\n",
    "th, td {\n",
    "  padding: 5px;\n",
    "}\n",
    "th {\n",
    "  text-align: left;\n",
    "}\n",
    "</style>"
   ]
  },
  {
   "cell_type": "code",
   "execution_count": 17,
   "id": "a4625dcd",
   "metadata": {
    "slideshow": {
     "slide_type": "skip"
    }
   },
   "outputs": [
    {
     "data": {
      "text/html": [
       "\n",
       "<style>\n",
       ".output_png {\n",
       "    display: table-cell;\n",
       "    text-align: center;\n",
       "    vertical-align: middle;\n",
       "}\n",
       "</style>\n"
      ],
      "text/plain": [
       "<IPython.core.display.HTML object>"
      ]
     },
     "execution_count": 17,
     "metadata": {},
     "output_type": "execute_result"
    }
   ],
   "source": [
    "from IPython.core.display import HTML\n",
    "HTML(\"\"\"\n",
    "<style>\n",
    ".output_png {\n",
    "    display: table-cell;\n",
    "    text-align: center;\n",
    "    vertical-align: middle;\n",
    "}\n",
    "</style>\n",
    "\"\"\")"
   ]
  },
  {
   "cell_type": "markdown",
   "id": "a8339414",
   "metadata": {
    "slideshow": {
     "slide_type": "skip"
    }
   },
   "source": [
    "# Foreword \n",
    "\n",
    "The following code are used for this lecture\n",
    "  * most of the code have been adapted from https://github.com/aimacode/aima-python"
   ]
  },
  {
   "cell_type": "code",
   "execution_count": 18,
   "id": "ae4bbb2b",
   "metadata": {
    "slideshow": {
     "slide_type": "skip"
    }
   },
   "outputs": [],
   "source": [
    "%matplotlib inline\n",
    "import matplotlib.pyplot as plt\n",
    "import random\n",
    "import heapq\n",
    "import math\n",
    "import sys\n",
    "from collections import defaultdict, deque, Counter\n",
    "from itertools import combinations\n",
    "\n",
    "\n",
    "class Problem(object):\n",
    "    \"\"\"The abstract class for a formal problem. A new domain subclasses this,\n",
    "    overriding `actions` and `results`, and perhaps other methods.\n",
    "    The default heuristic is 0 and the default action cost is 1 for all states.\n",
    "    When yiou create an instance of a subclass, specify `initial`, and `goal` states \n",
    "    (or give an `is_goal` method) and perhaps other keyword args for the subclass.\"\"\"\n",
    "\n",
    "    def __init__(self, initial=None, goal=None, **kwds): \n",
    "        self.__dict__.update(initial=initial, goal=goal, **kwds) \n",
    "        \n",
    "    def actions(self, state):        raise NotImplementedError\n",
    "    def result(self, state, action): raise NotImplementedError\n",
    "    def is_goal(self, state):        return state == self.goal\n",
    "    def action_cost(self, s, a, s1): return 1\n",
    "    def h(self, node):               return 0\n",
    "    \n",
    "    def __str__(self):\n",
    "        return '{}({!r}, {!r})'.format(\n",
    "            type(self).__name__, self.initial, self.goal)\n",
    "    \n",
    "def g(n): return n.path_cost    \n",
    "\n",
    "class Node:\n",
    "    \"A Node in a search tree.\"\n",
    "    def __init__(self, state, parent=None, action=None, path_cost=0):\n",
    "        self.__dict__.update(state=state, parent=parent, action=action, path_cost=path_cost)\n",
    "\n",
    "    def __repr__(self): return '<{}>'.format(self.state)\n",
    "    def __len__(self): return 0 if self.parent is None else (1 + len(self.parent))\n",
    "    def __lt__(self, other): return self.path_cost < other.path_cost\n",
    "    \n",
    "    \n",
    "failure = Node('failure', path_cost=math.inf) # Indicates an algorithm couldn't find a solution.\n",
    "cutoff  = Node('cutoff',  path_cost=math.inf) # Indicates iterative deepening search was cut off.\n",
    "    \n",
    "    \n",
    "def expand(problem, node):\n",
    "    \"Expand a node, generating the children nodes.\"\n",
    "    s = node.state\n",
    "    for action in problem.actions(s):\n",
    "        s1 = problem.result(s, action)\n",
    "        cost = node.path_cost + problem.action_cost(s, action, s1)\n",
    "        yield Node(s1, node, action, cost)\n",
    "        \n",
    "\n",
    "def path_actions(node):\n",
    "    \"The sequence of actions to get to this node.\"\n",
    "    if node.parent is None:\n",
    "        return []  \n",
    "    return path_actions(node.parent) + [node.action]\n",
    "\n",
    "\n",
    "def path_states(node):\n",
    "    \"The sequence of states to get to this node.\"\n",
    "    if node in (cutoff, failure, None): \n",
    "        return []\n",
    "    return path_states(node.parent) + [node.state]\n",
    "\n",
    "\n",
    "\n",
    "def is_cycle(node, k=30):\n",
    "    \"Does this node form a cycle of length k or less?\"\n",
    "    def find_cycle(ancestor, k):\n",
    "        return (ancestor is not None and k > 0 and\n",
    "                (ancestor.state == node.state or find_cycle(ancestor.parent, k - 1)))\n",
    "    return find_cycle(node.parent, k)"
   ]
  },
  {
   "cell_type": "code",
   "execution_count": 19,
   "id": "a8e93d87",
   "metadata": {
    "slideshow": {
     "slide_type": "skip"
    }
   },
   "outputs": [],
   "source": [
    "FIFOQueue = deque\n",
    "\n",
    "LIFOQueue = list\n",
    "\n",
    "StackAgenda = list\n",
    "\n",
    "class PriorityQueue:\n",
    "    \"\"\"A queue in which the item with minimum f(item) is always popped first.\"\"\"\n",
    "\n",
    "    def __init__(self, items=(), key=lambda x: x): \n",
    "        self.key = key\n",
    "        self.items = [] # a heap of (score, item) pairs\n",
    "        for item in items:\n",
    "            self.add(item)\n",
    "         \n",
    "    def add(self, item):\n",
    "        \"\"\"Add item to the queuez.\"\"\"\n",
    "        pair = (self.key(item), item)\n",
    "        heapq.heappush(self.items, pair)\n",
    "\n",
    "    def pop(self):\n",
    "        \"\"\"Pop and return the item with min f(item) value.\"\"\"\n",
    "        return heapq.heappop(self.items)[1]\n",
    "    \n",
    "    def top(self): return self.items[0][1]\n",
    "\n",
    "    def __len__(self): return len(self.items)"
   ]
  },
  {
   "cell_type": "code",
   "execution_count": 20,
   "id": "29e3af4b",
   "metadata": {
    "slideshow": {
     "slide_type": "skip"
    }
   },
   "outputs": [],
   "source": [
    "class RouteProblem(Problem):\n",
    "    \"\"\"A problem to find a route between locations on a `Map`.\n",
    "    Create a problem with RouteProblem(start, goal, map=Map(...)}).\n",
    "    States are the vertexes in the Map graph; actions are destination states.\"\"\"\n",
    "    \n",
    "    def actions(self, state): \n",
    "        \"\"\"The places neighboring `state`.\"\"\"\n",
    "        return self.map.neighbors[state]\n",
    "    \n",
    "    def result(self, state, action):\n",
    "        \"\"\"Go to the `action` place, if the map says that is possible.\"\"\"\n",
    "        return action if action in self.map.neighbors[state] else state\n",
    "    \n",
    "    def action_cost(self, s, action, s1):\n",
    "        \"\"\"The distance (cost) to go from s to s1.\"\"\"\n",
    "        return self.map.distances[s, s1]\n",
    "    \n",
    "    def h(self, node):\n",
    "        \"Straight-line distance between state and the goal.\"\n",
    "        locs = self.map.locations\n",
    "        return straight_line_distance(locs[node.state], locs[self.goal])\n",
    "    \n",
    "    \n",
    "def straight_line_distance(A, B):\n",
    "    \"Straight-line distance between two points.\"\n",
    "    return sum(abs(a - b)**2 for (a, b) in zip(A, B)) ** 0.5"
   ]
  },
  {
   "cell_type": "code",
   "execution_count": 21,
   "id": "239ff6d1",
   "metadata": {
    "slideshow": {
     "slide_type": "skip"
    }
   },
   "outputs": [],
   "source": [
    "class Map:\n",
    "    \"\"\"A map of places in a 2D world: a graph with vertexes and links between them. \n",
    "    In `Map(links, locations)`, `links` can be either [(v1, v2)...] pairs, \n",
    "    or a {(v1, v2): distance...} dict. Optional `locations` can be {v1: (x, y)} \n",
    "    If `directed=False` then for every (v1, v2) link, we add a (v2, v1) link.\"\"\"\n",
    "\n",
    "    def __init__(self, links, locations=None, directed=False):\n",
    "        if not hasattr(links, 'items'): # Distances are 1 by default\n",
    "            links = {link: 1 for link in links}\n",
    "        if not directed:\n",
    "            for (v1, v2) in list(links):\n",
    "                links[v2, v1] = links[v1, v2]\n",
    "        self.distances = links\n",
    "        self.neighbors = multimap(links)\n",
    "        self.locations = locations or defaultdict(lambda: (0, 0))\n",
    "\n",
    "        \n",
    "def multimap(pairs) -> dict:\n",
    "    \"Given (key, val) pairs, make a dict of {key: [val,...]}.\"\n",
    "    result = defaultdict(list)\n",
    "    for key, val in pairs:\n",
    "        result[key].append(val)\n",
    "    return result"
   ]
  },
  {
   "cell_type": "code",
   "execution_count": 22,
   "id": "b8b096a4",
   "metadata": {
    "slideshow": {
     "slide_type": "skip"
    }
   },
   "outputs": [],
   "source": [
    "# Some specific RouteProblems\n",
    "\n",
    "romania = Map(\n",
    "    {('O', 'Z'):  71, ('O', 'S'): 151, ('A', 'Z'): 75, ('A', 'S'): 140, ('A', 'T'): 118, \n",
    "     ('L', 'T'): 111, ('L', 'M'):  70, ('D', 'M'): 75, ('C', 'D'): 120, ('C', 'R'): 146, \n",
    "     ('C', 'P'): 138, ('R', 'S'):  80, ('F', 'S'): 99, ('B', 'F'): 211, ('B', 'P'): 101, \n",
    "     ('B', 'G'):  90, ('B', 'U'):  85, ('H', 'U'): 98, ('E', 'H'):  86, ('U', 'V'): 142, \n",
    "     ('I', 'V'):  92, ('I', 'N'):  87, ('P', 'R'): 97},\n",
    "    {'A': ( 76, 497), 'B': (400, 327), 'C': (246, 285), 'D': (160, 296), 'E': (558, 294), \n",
    "     'F': (285, 460), 'G': (368, 257), 'H': (548, 355), 'I': (488, 535), 'L': (162, 379),\n",
    "     'M': (160, 343), 'N': (407, 561), 'O': (117, 580), 'P': (311, 372), 'R': (227, 412),\n",
    "     'S': (187, 463), 'T': ( 83, 414), 'U': (471, 363), 'V': (535, 473), 'Z': (92, 539)})\n",
    "\n",
    "\n",
    "r0 = RouteProblem('A', 'A', map=romania)\n",
    "# r1 = RouteProblem('A', 'B', map=romania)\n",
    "# r2 = RouteProblem('N', 'L', map=romania)\n",
    "# r3 = RouteProblem('E', 'T', map=romania)\n",
    "# r4 = RouteProblem('O', 'M', map=romania)"
   ]
  },
  {
   "cell_type": "code",
   "execution_count": 26,
   "id": "3968009f",
   "metadata": {
    "slideshow": {
     "slide_type": "slide"
    }
   },
   "outputs": [],
   "source": [
    "class EightPuzzle(Problem):\n",
    "    \"\"\" The problem of sliding tiles numbered from 1 to 8 on a 3x3 board,\n",
    "    where one of the squares is a blank, trying to reach a goal configuration.\n",
    "    A board state is represented as a tuple of length 9, where the element at index i \n",
    "    represents the tile number at index i, or 0 if for the empty square, e.g. the goal:\n",
    "        1 2 3\n",
    "        4 5 6 ==> (1, 2, 3, 4, 5, 6, 7, 8, 0)\n",
    "        7 8 _\n",
    "    \"\"\"\n",
    "\n",
    "    def __init__(self, initial, goal=(0, 1, 2, 3, 4, 5, 6, 7, 8)):\n",
    "        assert inversions(initial) % 2 == inversions(goal) % 2 # Parity check\n",
    "        self.initial, self.goal = initial, goal\n",
    "    \n",
    "    def actions(self, state):\n",
    "        \"\"\"The indexes of the squares that the blank can move to.\"\"\"\n",
    "        moves = ((1, 3),    (0, 2, 4),    (1, 5),\n",
    "                 (0, 4, 6), (1, 3, 5, 7), (2, 4, 8),\n",
    "                 (3, 7),    (4, 6, 8),    (7, 5))\n",
    "        blank = state.index(0)\n",
    "        return moves[blank]\n",
    "    \n",
    "    def result(self, state, action):\n",
    "        \"\"\"Swap the blank with the square numbered `action`.\"\"\"\n",
    "        s = list(state)\n",
    "        blank = state.index(0)\n",
    "        s[action], s[blank] = s[blank], s[action]\n",
    "        return tuple(s)\n",
    "    \n",
    "    def h1(self, node):\n",
    "        \"\"\"The misplaced tiles heuristic.\"\"\"\n",
    "        return hamming_distance(node.state, self.goal)\n",
    "    \n",
    "    def h2(self, node):\n",
    "        \"\"\"The Manhattan heuristic.\"\"\"\n",
    "        X = (0, 1, 2, 0, 1, 2, 0, 1, 2)\n",
    "        Y = (0, 0, 0, 1, 1, 1, 2, 2, 2)\n",
    "        return sum(abs(X[s] - X[g]) + abs(Y[s] - Y[g])\n",
    "                   for (s, g) in zip(node.state, self.goal) if s != 0)\n",
    "    \n",
    "    def h(self, node): return self.h2(node)\n",
    "    \n",
    "    \n",
    "def hamming_distance(A, B):\n",
    "    \"Number of positions where vectors A and B are different.\"\n",
    "    return sum(a != b for a, b in zip(A, B))\n",
    "    \n",
    "\n",
    "def inversions(board):\n",
    "    \"The number of times a piece is a smaller number than a following piece.\"\n",
    "    return sum((a > b and a != 0 and b != 0) for (a, b) in combinations(board, 2))\n",
    "    \n",
    "    \n",
    "def board8(board, fmt=(3 * '{} {} {}\\n')):\n",
    "    \"A string representing an 8-puzzle board\"\n",
    "    return fmt.format(*board).replace('0', '_')\n",
    "\n",
    "class Board(defaultdict):\n",
    "    empty = '.'\n",
    "    off = '#'\n",
    "    def __init__(self, board=None, width=8, height=8, to_move=None, **kwds):\n",
    "        if board is not None:\n",
    "            self.update(board)\n",
    "            self.width, self.height = (board.width, board.height) \n",
    "        else:\n",
    "            self.width, self.height = (width, height)\n",
    "        self.to_move = to_move\n",
    "\n",
    "    def __missing__(self, key):\n",
    "        x, y = key\n",
    "        if x < 0 or x >= self.width or y < 0 or y >= self.height:\n",
    "            return self.off\n",
    "        else:\n",
    "            return self.empty\n",
    "        \n",
    "    def __repr__(self):\n",
    "        def row(y): return ' '.join(self[x, y] for x in range(self.width))\n",
    "        return '\\n'.join(row(y) for y in range(self.height))\n",
    "            \n",
    "    def __hash__(self): \n",
    "        return hash(tuple(sorted(self.items()))) + hash(self.to_move)\n",
    "    \n",
    "    \n",
    "e1 = EightPuzzle((1, 4, 2, 0, 7, 5, 3, 6, 8))\n",
    "e2 = EightPuzzle((1, 2, 3, 4, 5, 6, 7, 8, 0))\n",
    "e3 = EightPuzzle((4, 0, 2, 5, 1, 3, 7, 8, 6))\n",
    "e4 = EightPuzzle((7, 2, 4, 5, 0, 6, 8, 3, 1))\n",
    "e5 = EightPuzzle((8, 6, 7, 2, 5, 4, 3, 0, 1))    "
   ]
  },
  {
   "cell_type": "code",
   "execution_count": 27,
   "id": "9cd97cad",
   "metadata": {
    "slideshow": {
     "slide_type": "slide"
    }
   },
   "outputs": [],
   "source": [
    "class CountCalls:\n",
    "    \"\"\"Delegate all attribute gets to the object, and count them in ._counts\"\"\"\n",
    "    def __init__(self, obj):\n",
    "        self._object = obj\n",
    "        self._counts = Counter()\n",
    "        \n",
    "    def __getattr__(self, attr):\n",
    "        \"Delegate to the original object, after incrementing a counter.\"\n",
    "        self._counts[attr] += 1\n",
    "        return getattr(self._object, attr)\n",
    "\n",
    "        \n",
    "def report(searchers, problems, verbose=True):\n",
    "    \"\"\"Show summary statistics for each searcher (and on each problem unless verbose is false).\"\"\"\n",
    "    for searcher in searchers:\n",
    "        print(searcher.__name__ + ':')\n",
    "        total_counts = Counter()\n",
    "        for p in problems:\n",
    "            prob   = CountCalls(p)\n",
    "            soln   = searcher(prob)\n",
    "            counts = prob._counts; \n",
    "            counts.update(length=len(soln), cost=soln.path_cost)\n",
    "            total_counts += counts\n",
    "            if verbose: report_counts(counts, str(p)[:40])\n",
    "        report_counts(total_counts, 'TOTAL\\n')\n",
    "        \n",
    "def report_counts(counts, name):\n",
    "    \"\"\"Print one line of the counts report.\"\"\"\n",
    "    print('{:9,d} node extended|{:9,d} goal tested|{:5.0f} cost |{:8,d} length | {}'.format(\n",
    "          counts['result'], counts['is_goal'], counts['cost'], counts['length'], name))"
   ]
  },
  {
   "cell_type": "code",
   "execution_count": 37,
   "id": "dc5f7ccb",
   "metadata": {
    "slideshow": {
     "slide_type": "subslide"
    }
   },
   "outputs": [],
   "source": [
    "# Python implementation of uniform cost search\n",
    "def my_uniform_cost_search(problem, use_extendedList= True):\n",
    "    agenda = PriorityQueue([Node(problem.initial)], key=g)\n",
    "    #   extended list to keep what states have been extended\n",
    "    extended_list = set()\n",
    "    while agenda:\n",
    "#       PQ.pop() returns the node with the least cost \n",
    "        node = agenda.pop()\n",
    "        if problem.is_goal(node.state):\n",
    "            return node\n",
    "        if use_extendedList:\n",
    "            if node.state not in extended_list:\n",
    "                extended_list.add(node.state)\n",
    "                for child in expand(problem, node):\n",
    "                    if not is_cycle(child):\n",
    "#                       PriorityQueue taks care of this by inserting to \n",
    "#                       an appropriate location that is efficient for further operation\n",
    "                        agenda.add(child)\n",
    "        else:\n",
    "            for child in expand(problem, node):\n",
    "                if not is_cycle(child):\n",
    "                    agenda.add(child)\n",
    "    return failure"
   ]
  },
  {
   "cell_type": "code",
   "execution_count": 36,
   "id": "1edf8854",
   "metadata": {
    "slideshow": {
     "slide_type": "subslide"
    }
   },
   "outputs": [],
   "source": [
    "def my_breadth_first_search(problem, use_extendedList = False):\n",
    "    agenda = FIFOQueue([Node(problem.initial)])\n",
    "#   extended list to keep what states have been extended\n",
    "    extended_list = set()\n",
    "    while agenda:\n",
    "        node = agenda.pop()\n",
    "        if problem.is_goal(node.state):\n",
    "            return node\n",
    "        if use_extendedList:\n",
    "            if node.state not in extended_list:\n",
    "                extended_list.add(node.state)\n",
    "                for child in expand(problem, node):\n",
    "                    if not is_cycle(child):\n",
    "                        agenda.appendleft(child)\n",
    "        else:\n",
    "            for child in expand(problem, node):\n",
    "                if not is_cycle(child):\n",
    "                    agenda.appendleft(child)\n",
    "    return failure"
   ]
  },
  {
   "cell_type": "code",
   "execution_count": 35,
   "id": "7f43eb9a",
   "metadata": {
    "slideshow": {
     "slide_type": "subslide"
    }
   },
   "outputs": [],
   "source": [
    "# Python implementation of best first search (based on heuristic only)\n",
    "def my_best_first_search(problem, use_extendedList= False):\n",
    "    agenda = PriorityQueue([Node(problem.initial)], key=problem.h)\n",
    "    #   extended list to keep what states have been extended\n",
    "    extended_list = set()\n",
    "    while agenda:\n",
    "#       PQ.pop() returns the node with the least cost \n",
    "        node = agenda.pop()\n",
    "        if problem.is_goal(node.state):\n",
    "            return node\n",
    "        if use_extendedList:\n",
    "            if node.state not in extended_list:\n",
    "                extended_list.add(node.state)\n",
    "                for child in expand(problem, node):\n",
    "                    if not is_cycle(child):\n",
    "#                       PriorityQueue taks care of this by inserting to \n",
    "#                       an appropriate location that is efficient for further operation\n",
    "                        agenda.add(child)\n",
    "        else:\n",
    "            for child in expand(problem, node):\n",
    "                if not is_cycle(child):\n",
    "                    agenda.add(child)\n",
    "    return failure"
   ]
  },
  {
   "cell_type": "markdown",
   "id": "6b330035",
   "metadata": {
    "slideshow": {
     "slide_type": "slide"
    }
   },
   "source": [
    "# CS5010 Artificial Intelligence Principles\n",
    "### Lecture 19 A* search \n",
    "\n",
    "\n",
    "Lei Fang\n",
    "\n",
    "University of St Andrews"
   ]
  },
  {
   "cell_type": "markdown",
   "id": "5e362d2f",
   "metadata": {
    "slideshow": {
     "slide_type": "slide"
    }
   },
   "source": [
    "# Last time\n",
    "\n",
    "Informed searching algorithm variants\n",
    "  * Greedy search or Best first search (informed version of UCS)\n",
    "  * Hill climbing (informed version of DFS)\n",
    "  * Beam search (informed version of BFS)"
   ]
  },
  {
   "cell_type": "markdown",
   "id": "6a32c568",
   "metadata": {
    "slideshow": {
     "slide_type": "slide"
    }
   },
   "source": [
    "# Today\n",
    "\n",
    "* A* search: an optimal informed search algorithm\n",
    "  * a hybrid of UCS and Greedy search\n",
    "  * where we make use of heuristics+costs\n",
    "\n",
    "* Heuristic \n",
    "  * admissible heuristic guarantees optimal search result\n",
    "  * qualities of heuristic matters"
   ]
  },
  {
   "cell_type": "markdown",
   "id": "2dbd3f0f",
   "metadata": {
    "slideshow": {
     "slide_type": "slide"
    }
   },
   "source": [
    "# Recap : Uniform Cost Search (UCS)\n",
    "\n",
    "\n",
    "**Uniform Cost Searching** (UCS), the agenda reorganisation step is\n",
    "\n",
    "<center><b>sort</b> the agenda based on the <b>costs</b> of the paths</center>\n",
    "  \n",
    "* denote cost function as $g$: given a path, $g(\\cdot)$ returns the cost associated with the path\n",
    "\n",
    "* e.g. for path [A,S,F]: $g(F) = \\underbrace{140}_{A \\text{ to } S} + \\underbrace{99}_{S \\text{ to } F}= 239$ \n",
    "* remember a node in a search tree represents a path !\n",
    "  \n",
    "**UCS** is also known as **Branch and Bound**"
   ]
  },
  {
   "cell_type": "markdown",
   "id": "d25eb067",
   "metadata": {
    "slideshow": {
     "slide_type": "subslide"
    }
   },
   "source": [
    "UCS pseudo-code:\n",
    "\n",
    "\n",
    "<div style=\"background-color:rgba(0, 0, 0, 0.0470588); padding:10px 0;font-family:monospace;\">\n",
    "<font color=\"blue\">0.</font>: initialize  <br> \n",
    "&nbsp; &nbsp; <font color=\"purple\"><i>agenda</i></font> = [ [start] ]    &nbsp; &nbsp; &nbsp; &nbsp;&nbsp;    # a list of paths or partial solutions  <br>\n",
    "&nbsp; &nbsp; [<font color=\"purple\"><i>extended_list</i></font> = {};]   &nbsp; &nbsp; &nbsp; &nbsp;    # optional: closed list of nodes   <br>     \n",
    "&nbsp; &nbsp; <font color=\"green\"><b>while</b></font> <font color=\"purple\"><i>agenda</i></font> is not empty:<br>\n",
    "&nbsp; &nbsp; &nbsp; &nbsp;<font color=\"blue\">1.</font> <font color=\"purple\"><i>path</i></font> = <font color=\"purple\"><i>agenda</i></font>.pop(0)    &nbsp;&nbsp; # remove first element from agenda <br>\n",
    "&nbsp; &nbsp; &nbsp; &nbsp;<font color=\"blue\">2.</font> <font color=\"green\"><b>if</b></font> is-path-to-goal(<font color=\"purple\"><i>path</i></font>, goal)<br>\n",
    "&nbsp; &nbsp; &nbsp; &nbsp;&nbsp;&nbsp;&nbsp;&nbsp;&nbsp;&nbsp;&nbsp;<font color=\"green\"><b>return</b></font> <font color=\"purple\"><i>path</i></font><br>\n",
    "&nbsp; &nbsp; &nbsp; &nbsp;<font color=\"blue\">3.</font> <font color=\"green\"><b>otherwise</b></font> extend <font color=\"purple\"><i>path</i></font> [if the ending node is not in <font color=\"purple\"><i>extended_list</i></font>] <br>\n",
    "&nbsp; &nbsp; &nbsp; &nbsp;&nbsp; &nbsp; &nbsp; &nbsp;[add the ending node to <font color=\"purple\"><i>extended_list</i></font>]<br>\n",
    "&nbsp; &nbsp; &nbsp; &nbsp;&nbsp; &nbsp; &nbsp; &nbsp;<font color=\"green\"><b>for each</b></font> connected node (child node of the ending node of <font color=\"purple\"><i>path</i></font>)<br>\n",
    "&nbsp; &nbsp; &nbsp; &nbsp;&nbsp; &nbsp; &nbsp; &nbsp;&nbsp; &nbsp; &nbsp; &nbsp;            make a <font color=\"purple\"><i>new_path</i></font> that extends the connected node<br>\n",
    "&nbsp; &nbsp; &nbsp; &nbsp;<font color=\"blue\">4.</font> reject all <font color=\"purple\"><i>new paths</i></font> from step <font color=\"blue\">3</font> that contain <i>cycles</i><br> \n",
    "&nbsp; &nbsp; &nbsp; &nbsp;<font color=\"blue\">5.</font><b> add <font color=\"purple\"><i>new paths</i></font> from step <font color=\"blue\">4</font> to <font color=\"purple\"><i>agenda</i></font> then sort the agenda based on the path costs</b><br>\n",
    "&nbsp;&nbsp; &nbsp; &nbsp; &nbsp;&nbsp;&nbsp; &nbsp; &nbsp; &nbsp;&nbsp;&nbsp; &nbsp; &nbsp; &nbsp;&nbsp;&nbsp; &nbsp; &nbsp; &nbsp;       # <b>yay ! another algorithm is \"invented\" </b> <br> \n",
    "<font color=\"blue\">6.</font> <font color=\"green\"><b>return</b></font> <font color=\"purple\"><i>failure</i></font><br>  \n",
    "</div>"
   ]
  },
  {
   "cell_type": "markdown",
   "id": "c84ab662",
   "metadata": {
    "slideshow": {
     "slide_type": "slide"
    }
   },
   "source": [
    "# Recap: UCS walk through\n",
    "\n",
    "Romania routing problem: find a route between Arad to Bucharest\n",
    "<center><img src=\"https://leo.host.cs.st-andrews.ac.uk/figs/figs4CS5010/searching/romania.png\" width = \"900\" height=\"300\"/></center>  "
   ]
  },
  {
   "cell_type": "markdown",
   "id": "059aeb74",
   "metadata": {
    "slideshow": {
     "slide_type": "subslide"
    }
   },
   "source": [
    "<font color='blue'><b>Step 1</b></font>: after extending A\n",
    "\n",
    "The next one to be popped and extended is **Z** (75)\n",
    "* which is the cost of the path so far ! **no heuristic** is used\n",
    "\n",
    "\n",
    "--------------------------\n",
    "<font color='blue'><b>Tree view</b></font>: \n",
    "\n",
    "<center><img src=\"https://leo.host.cs.st-andrews.ac.uk/figs/figs4CS5010/searching/romUCS1.png\" width = \"800\" height=\"300\"/></center>  \n",
    "\n",
    "--------------------------\n",
    "* <font color=\"salmon\"><b> Salmon</b> </font> nodes: nodes in the agenda (open list)\n",
    "* <font color=\"blue\"><b> Blue</b> </font> nodes: nodes that have been popped and extended (close list)\n",
    "--------------------------"
   ]
  },
  {
   "cell_type": "markdown",
   "id": "220cbb6e",
   "metadata": {
    "slideshow": {
     "slide_type": "subslide"
    }
   },
   "source": [
    "<font color='blue'><b>Step 2</b></font>: After extending **Z**\n",
    "\n",
    "The next one to be popped, checked and extended becomes **T**: $g([A,T]) = 118$\n",
    "\n",
    "--------------------------\n",
    "<font color='blue'><b>Tree view</b></font>: \n",
    "\n",
    "<center><img src=\"https://leo.host.cs.st-andrews.ac.uk/figs/figs4CS5010/searching/romUCS2.png\" width = \"800\" height=\"300\"/></center>  \n",
    "\n",
    "--------------------------\n",
    "* <font color=\"salmon\"><b> Salmon</b> </font> nodes: nodes in the agenda (open list)\n",
    "* <font color=\"blue\"><b> Blue</b> </font> nodes: nodes that have been popped and extended (close list)\n",
    "--------------------------"
   ]
  },
  {
   "cell_type": "markdown",
   "id": "04ea5448",
   "metadata": {
    "slideshow": {
     "slide_type": "subslide"
    }
   },
   "source": [
    "<font color='blue'><b>Fast forward to Step 8</b></font>: after extending F\n",
    "\n",
    "\n",
    "Note that one solution **[A,S,F,B]** with cost $g([A,S,F,B]) = 450$ has just been added to the agenda\n",
    "  * which will not be returned immediately\n",
    "  * why ? there might be other better options out there !\n",
    "  * need to check them all before we return\n",
    "\n",
    "--------------------------\n",
    "<font color='blue'><b>Tree view</b></font>: \n",
    "\n",
    "<center><img src=\"https://leo.host.cs.st-andrews.ac.uk/figs/figs4CS5010/searching/romUCS9.png\" width = \"800\" height=\"300\"/></center>\n",
    "\n",
    "--------------------------\n",
    "* <font color=\"salmon\"><b> Salmon</b> </font> nodes: nodes in the agenda (open list)\n",
    "* <font color=\"blue\"><b> Blue</b> </font> nodes: nodes that have been popped and extended (close list)"
   ]
  },
  {
   "cell_type": "markdown",
   "id": "1fef7153",
   "metadata": {
    "slideshow": {
     "slide_type": "subslide"
    }
   },
   "source": [
    "<font color='blue'><b>Fast forward to the final return step</b></font>:\n",
    "\n",
    "We are finally about to check **[A,S,R,P,B]** (418)\n",
    "  * it passes the goal test and it will return as the solution\n",
    "  * note that all other routes are officially worse $>418$\n",
    "--------------------------\n",
    "<font color='blue'><b>Tree view</b></font>: \n",
    "\n",
    "<center><img src=\"https://leo.host.cs.st-andrews.ac.uk/figs/figs4CS5010/searching/romUCS11.png\" width = \"800\" height=\"300\"/></center>  \n",
    "\n",
    "\n",
    "--------------------------\n",
    "* <font color=\"salmon\"><b> Salmon</b> </font> nodes: nodes in the agenda (open list)\n",
    "* <font color=\"blue\"><b> Blue</b> </font> nodes: nodes that have been popped and extended (close list)"
   ]
  },
  {
   "cell_type": "markdown",
   "id": "06b1a6bb",
   "metadata": {
    "slideshow": {
     "slide_type": "slide"
    }
   },
   "source": [
    "# Recap: UCS is optimal \n"
   ]
  },
  {
   "cell_type": "markdown",
   "id": "99924222",
   "metadata": {
    "slideshow": {
     "slide_type": "subslide"
    }
   },
   "source": [
    "<center><img src=\"https://leo.host.cs.st-andrews.ac.uk/figs/figs4CS5010/searching/romUCS11_2.png\" width = \"800\" height=\"300\"/></center>  \n",
    "\n",
    "\n",
    "* we are safe to stop here as all other are officially inferior\n",
    "* what UCS has found is optimal"
   ]
  },
  {
   "cell_type": "markdown",
   "id": "fac3f0eb",
   "metadata": {
    "slideshow": {
     "slide_type": "slide"
    }
   },
   "source": [
    "# How can we incorporate heuristic to our searching strategy\n",
    "\n",
    "Note that UCS does not use heuristic at all (it is an uninformed search algorithm)\n",
    "  * purely based on the path cost so far $g$\n",
    "  * reorgnisation step: sort agenda based on $g$\n",
    "  * which is optimal but expensive"
   ]
  },
  {
   "cell_type": "markdown",
   "id": "b7b1114f",
   "metadata": {
    "slideshow": {
     "slide_type": "subslide"
    }
   },
   "source": [
    "We have also seen a heuristic only approach: i.e. **Greedy search** or Best first search\n",
    "  * purely based on heuristic: we use straight line distance here\n",
    "  * reorgnisation step: sort agenda based on $h_{SLD}$\n",
    "  * which is not optimal but very fast \n",
    "  \n",
    "  \n",
    "\n"
   ]
  },
  {
   "cell_type": "markdown",
   "id": "c2f99943",
   "metadata": {
    "slideshow": {
     "slide_type": "fragment"
    }
   },
   "source": [
    "Greedy search finds a solution within 3 steps!\n",
    "* the number below each node represents the heuristic value, i.e. straight-line distance\n",
    "\n",
    "--------------------------\n",
    "\n",
    "\n",
    "\n",
    "|Greedy Search Tree view after 3 steps    |  Distance heuristic |   \n",
    "|:-------------------------:|:-------------------------:|\n",
    "|![](https://leo.host.cs.st-andrews.ac.uk/figs/figs4CS5010/searching/romBst3_.png) |  ![](https://leo.host.cs.st-andrews.ac.uk/figs/figs4CS5010/searching/distances.png) | \n",
    "\n",
    "--------------------------"
   ]
  },
  {
   "cell_type": "markdown",
   "id": "d5ae581e",
   "metadata": {
    "slideshow": {
     "slide_type": "slide"
    }
   },
   "source": [
    "# A* search\n",
    "\n",
    "**A* search** can be viewed as a hybrid of both, it makes use of both path cost so far $g(\\cdot)$ and heuristic $h(\\cdot)$\n",
    "\n",
    "$$f(n) = g(n) + h(n)$$\n",
    "\n",
    "* it considers both the cost so far: from the starting point to $n$\n",
    "* plus the *expected* further cost $h(n)$: i.e. cost from $n$ to the goal !\n",
    "* the sum $f(n)$ therefore represents some expected **cost to reach the goal via $n$**"
   ]
  },
  {
   "cell_type": "markdown",
   "id": "857a7efe",
   "metadata": {
    "slideshow": {
     "slide_type": "subslide"
    }
   },
   "source": [
    "\n",
    "  | | Complete| Optimal | agenda reorganisation\n",
    "|:---|:---|:---|:---|\n",
    "| Uniform Cost Search| Yes | Yes | add paths to agenda then sort the agenda based on $f(n) = g(n)$, or path cost|\n",
    "| Greedy Search/BestFS| No | No |  add paths to agenda then sort the agenda based on $f(n) = h(n)$, or heuristic|\n",
    "| A* search| ? | ?  | add paths to agenda then sort the agenda based on $f(n) = g(n) +h(n)$; the sum of path cost and heuristic|\n",
    "\n",
    "\n",
    "$?$: it depends on the quality of heuristic, more on at the end"
   ]
  },
  {
   "cell_type": "markdown",
   "id": "af1fd78f",
   "metadata": {
    "slideshow": {
     "slide_type": "slide"
    }
   },
   "source": [
    "A* Search pseudo-code:\n",
    "\n",
    "\n",
    "<div style=\"background-color:rgba(0, 0, 0, 0.0470588); padding:10px 0;font-family:monospace;\">\n",
    "<font color=\"blue\">0.</font>: initialize  <br> \n",
    "&nbsp; &nbsp; <font color=\"purple\"><i>agenda</i></font> = [ [start] ]    &nbsp; &nbsp; &nbsp; &nbsp;&nbsp;    # a list of paths or partial solutions  <br>\n",
    "&nbsp; &nbsp; [<font color=\"purple\"><i>extended_list</i></font> = {};]   &nbsp; &nbsp; &nbsp; &nbsp;    # optional: closed list of nodes   <br>     \n",
    "&nbsp; &nbsp; <font color=\"green\"><b>while</b></font> <font color=\"purple\"><i>agenda</i></font> is not empty:<br>\n",
    "&nbsp; &nbsp; &nbsp; &nbsp;<font color=\"blue\">1.</font> <font color=\"purple\"><i>path</i></font> = <font color=\"purple\"><i>agenda</i></font>.pop(0)    &nbsp;&nbsp; # remove first element from agenda <br>\n",
    "&nbsp; &nbsp; &nbsp; &nbsp;<font color=\"blue\">2.</font> <font color=\"green\"><b>if</b></font> is-path-to-goal(<font color=\"purple\"><i>path</i></font>, goal)<br>\n",
    "&nbsp; &nbsp; &nbsp; &nbsp;&nbsp;&nbsp;&nbsp;&nbsp;&nbsp;&nbsp;&nbsp;<font color=\"green\"><b>return</b></font> <font color=\"purple\"><i>path</i></font><br>\n",
    "&nbsp; &nbsp; &nbsp; &nbsp;<font color=\"blue\">3.</font> <font color=\"green\"><b>otherwise</b></font> extend <font color=\"purple\"><i>path</i></font> [if the ending node is not in <font color=\"purple\"><i>extended_list</i></font>] <br>\n",
    "&nbsp; &nbsp; &nbsp; &nbsp;&nbsp; &nbsp; &nbsp; &nbsp;[add the ending node to <font color=\"purple\"><i>extended_list</i></font>]<br>\n",
    "&nbsp; &nbsp; &nbsp; &nbsp;&nbsp; &nbsp; &nbsp; &nbsp;<font color=\"green\"><b>for each</b></font> connected node (child node of the ending node of <font color=\"purple\"><i>path</i></font>)<br>\n",
    "&nbsp; &nbsp; &nbsp; &nbsp;&nbsp; &nbsp; &nbsp; &nbsp;&nbsp; &nbsp; &nbsp; &nbsp;            make a <font color=\"purple\"><i>new_path</i></font> that extends the connected node<br>\n",
    "&nbsp; &nbsp; &nbsp; &nbsp;<font color=\"blue\">4.</font> reject all <font color=\"purple\"><i>new paths</i></font> from step <font color=\"blue\">3</font> that contain <i>cycles</i><br> \n",
    "&nbsp; &nbsp; &nbsp; &nbsp;<font color=\"blue\">5.</font><b> add <font color=\"purple\"><i>new paths</i></font> from step <font color=\"blue\">4</font> to <font color=\"purple\"><i>agenda</i></font> then sort the agenda based on heuristic plus path costs or f(n)</b><br>\n",
    "&nbsp;&nbsp; &nbsp; &nbsp; &nbsp;&nbsp;&nbsp; &nbsp; &nbsp; &nbsp;&nbsp;&nbsp; &nbsp; &nbsp; &nbsp;&nbsp;&nbsp; &nbsp; &nbsp; &nbsp;       # <b>yay ! another algorithm is \"invented\" </b> <br> \n",
    "<font color=\"blue\">6.</font> <font color=\"green\"><b>return</b></font> <font color=\"purple\"><i>failure</i></font><br>  \n",
    "</div>\n"
   ]
  },
  {
   "cell_type": "code",
   "execution_count": 49,
   "id": "5bcac654",
   "metadata": {
    "slideshow": {
     "slide_type": "subslide"
    }
   },
   "outputs": [],
   "source": [
    "# Python implementation of best first search (based on heuristic only)\n",
    "def my_astar_search(problem, h = None, use_extendedList= False):\n",
    "    \"\"\"Search nodes with minimum f(n) = g(n) + h(n).\"\"\"\n",
    "    h = h or problem.h\n",
    "    agenda = PriorityQueue([Node(problem.initial)], key= lambda n: g(n)+h(n))\n",
    "    #   extended list to keep what states have been extended\n",
    "    extended_list = set() \n",
    "    while agenda:\n",
    "#       PQ.pop() returns the node with the least cost \n",
    "        node = agenda.pop()\n",
    "        if problem.is_goal(node.state):\n",
    "            return node\n",
    "        if use_extendedList:\n",
    "            if node.state not in extended_list:\n",
    "                extended_list.add(node.state)\n",
    "                for child in expand(problem, node):\n",
    "                    if not is_cycle(child):\n",
    "#                       PriorityQueue taks care of this by inserting to \n",
    "#                       an appropriate location that is efficient for further operation\n",
    "                        agenda.add(child)\n",
    "        else:\n",
    "            for child in expand(problem, node):\n",
    "                if not is_cycle(child):\n",
    "                    agenda.add(child)\n",
    "    return failure"
   ]
  },
  {
   "cell_type": "markdown",
   "id": "f7abd460",
   "metadata": {
    "slideshow": {
     "slide_type": "slide"
    }
   },
   "source": [
    "# A walk-through example of A* search\n",
    "\n",
    "Skip initialisation step;\n",
    "\n",
    "<font color='blue'><b>Step 1</b></font>:\n",
    "\n",
    "Based on the path + heuristic, the next node to extend is Sibiu, or path [A,S]\n",
    "  * its path cost is 140\n",
    "  * the heuristic value of Sibiu is 253\n",
    "\n",
    "It is the most promising option considering both the existing cost and \"future cost\"\n",
    "\n",
    "--------------------------\n",
    "<font color='blue'><b>Tree view</b></font>: \n",
    "![](https://leo.host.cs.st-andrews.ac.uk/figs/figs4CS5010/searching/romAstar1.png)\n",
    "\n",
    "--------------------------"
   ]
  },
  {
   "cell_type": "markdown",
   "id": "ab45ff2b",
   "metadata": {
    "slideshow": {
     "slide_type": "subslide"
    }
   },
   "source": [
    "<font color='blue'><b>Step 2</b></font>: after extending Sibiu\n",
    "\n",
    "Based on the path + heuristic, the next node to extend is R, or path [A,S,R]\n",
    "  * its path cost so far is 220\n",
    "  * the heuristic value of R is 193: straight-line distance from R to Bucharest\n",
    "\n",
    "It is the most promising option considering both the existing cost and \"future cost\"\n",
    "\n",
    "--------------------------\n",
    "<font color='blue'><b>Tree view</b></font>: \n",
    "![](https://leo.host.cs.st-andrews.ac.uk/figs/figs4CS5010/searching/romAstar2.png)\n",
    "\n",
    "--------------------------"
   ]
  },
  {
   "cell_type": "markdown",
   "id": "ab28d46a",
   "metadata": {
    "slideshow": {
     "slide_type": "subslide"
    }
   },
   "source": [
    "<font color='blue'><b>Step 3</b></font>: after extending R\n",
    "\n",
    "Based on the path + heuristic, the next node to extend is F, or path [A,S,F]\n",
    "  * its path cost so far is 239\n",
    "  * the heuristic value of F is 176: straight-line distance from F to Bucharest\n",
    "\n",
    "It is the most promising option considering both the existing cost and \"future cost\"\n",
    "\n",
    "--------------------------\n",
    "<font color='blue'><b>Tree view</b></font>: \n",
    "![](https://leo.host.cs.st-andrews.ac.uk/figs/figs4CS5010/searching/romAstar3.png)\n",
    "\n",
    "--------------------------"
   ]
  },
  {
   "cell_type": "markdown",
   "id": "8ef5ff56",
   "metadata": {
    "slideshow": {
     "slide_type": "subslide"
    }
   },
   "source": [
    "<font color='blue'><b>Step 4</b></font>: after extending F\n",
    "\n",
    "Note that one solution (to Bucharest) has been inserted to the agenda !\n",
    "  * [A,S,F,B] with combined evaluation 450!\n",
    "  * similar to UCS, it is not returned immediately, need to open the rest\n",
    "\n",
    "Based on the path + heuristic, the next node to extend is P, or path [A,S,R,P]\n",
    "  * its path cost so far is 317\n",
    "  * the heuristic value of P is 100: straight-line distance from P to Bucharest\n",
    "\n",
    "It is the most promising option considering both the existing cost and \"future cost\"\n",
    "\n",
    "--------------------------\n",
    "<font color='blue'><b>Tree view</b></font>: \n",
    "![](https://leo.host.cs.st-andrews.ac.uk/figs/figs4CS5010/searching/romAstar4.png)\n",
    "\n",
    "--------------------------"
   ]
  },
  {
   "cell_type": "markdown",
   "id": "743a3d05",
   "metadata": {
    "slideshow": {
     "slide_type": "subslide"
    }
   },
   "source": [
    "<font color='blue'><b>Step 5</b></font>: after extending P\n",
    "\n",
    "Another (the optimal) solution (to Bucharest) has been inserted to the agenda !\n",
    "  * [A,S,R,P,B] with combined evaluation 418!\n",
    "\n",
    "Based on the path + heuristic, the next node to extend is B, or path [A,S,R,P,B], the **goal state** !\n",
    "  * it will be returned as the solution!\n",
    "  * also note all other routes are worse \n",
    "--------------------------\n",
    "<font color='blue'><b>Tree view</b></font>: \n",
    "![](https://leo.host.cs.st-andrews.ac.uk/figs/figs4CS5010/searching/romAstar5_.png)\n",
    "\n",
    "--------------------------"
   ]
  },
  {
   "cell_type": "markdown",
   "id": "680d69da",
   "metadata": {
    "slideshow": {
     "slide_type": "slide"
    }
   },
   "source": [
    "# Using heuristic greatly reduce the searching tree\n",
    "\n",
    "Compare the three search trees at return\n",
    "\n",
    "**A* search** returns the optimal result but has a smaller searching tree comparing with **UCS** \n",
    "\n",
    "  * therefore, more efficient in both space and time\n",
    "\n",
    "--------------------------\n",
    "\n",
    "\n",
    "| Greedy Search tree at return  |  UCS tree at return  |   A* search tree at return |\n",
    "|:-------------------------:|:-------------------------:|:-------------------------:|\n",
    "|![](https://leo.host.cs.st-andrews.ac.uk/figs/figs4CS5010/searching/romBst3_.png) |  ![](https://leo.host.cs.st-andrews.ac.uk/figs/figs4CS5010/searching/romUCS11_3.png) |  ![](https://leo.host.cs.st-andrews.ac.uk/figs/figs4CS5010/searching/romAstar5_.png) | \n",
    "\n",
    "--------------------------"
   ]
  },
  {
   "cell_type": "markdown",
   "id": "941f4411",
   "metadata": {
    "slideshow": {
     "slide_type": "fragment"
    }
   },
   "source": [
    "Thanks to heuristic, a lot of less optimal options are not added to agenda, e.g.[A,T] and [A,Z] branches\n",
    "* you won't consider Aberdeen first if the destination is London !\n",
    "* but you may eventually consider it if there is no other better options though \n",
    "  * e.g. all roads from Edinburgh/Glasgow to London have been blocked\n",
    "  * then you may consider travelling via Aberdeen then fly to London"
   ]
  },
  {
   "cell_type": "markdown",
   "id": "72992acd",
   "metadata": {
    "slideshow": {
     "slide_type": "slide"
    }
   },
   "source": [
    "# Is A* optimal ?\n",
    "\n",
    "It depends on the quality heuristic; if the heuristic is **admissible**, then **A* (without extension list) is optimal**\n",
    "\n",
    "\n",
    "**Admissible** heuristic is **optimistic**: it always **under-estimates** the cost !\n",
    "  * e.g. straight-line distance, $h_{SLD}$, the actual cost is always more expensive \n",
    " \n",
    " \n",
    "**Question** is $h(n) = 0$ for all nodes admissible for a route finding problem ? "
   ]
  },
  {
   "cell_type": "markdown",
   "id": "d646678d",
   "metadata": {
    "slideshow": {
     "slide_type": "fragment"
    }
   },
   "source": [
    "  * yes ! extremely optimistic, it believes it costs 0 from everywhere to the goal state\n",
    "  * therefore, **UCS** can be viewed as special case of **A*** with 0 heuristic \n",
    "  \n",
    "  $$f(n) = g(n) + 0$$"
   ]
  },
  {
   "cell_type": "markdown",
   "id": "55d93b4f",
   "metadata": {
    "slideshow": {
     "slide_type": "slide"
    }
   },
   "source": [
    "# Why under-estimated heuristics lead to optimality ?\n",
    "\n",
    "\n",
    "--------------------------\n",
    "\n",
    "\n",
    "\n",
    "|  UCS tree at return  |   A* search tree at return |\n",
    "|:-------------------------:|:-------------------------:|\n",
    "|  ![](https://leo.host.cs.st-andrews.ac.uk/figs/figs4CS5010/searching/romUCS11_3.png) |  ![](https://leo.host.cs.st-andrews.ac.uk/figs/figs4CS5010/searching/romAstar5_.png) | \n",
    "\n",
    "--------------------------\n",
    "\n",
    "We already know UCS returns an optimal solution (check Lecture 17)\n"
   ]
  },
  {
   "cell_type": "markdown",
   "id": "69572b57",
   "metadata": {
    "slideshow": {
     "slide_type": "fragment"
    }
   },
   "source": [
    "So the questions boils down to whether those routes **not considered** would affect the final result ?\n",
    "  * e.g. [A,T,...],[A,Z,...], [A,S,O,...], etc\n"
   ]
  },
  {
   "cell_type": "markdown",
   "id": "4e4097e7",
   "metadata": {
    "slideshow": {
     "slide_type": "subslide"
    }
   },
   "source": [
    "**No! considering them is a waste of time!**\n",
    "* under-estimated heuristic gives us a lower bound of the cost via a node, which translates to \n",
    "  * the actual cost via n to the goal state is **at best** $f(n)$\n",
    "* check the right hand side for what the lower bound means !"
   ]
  },
  {
   "cell_type": "markdown",
   "id": "132f6bc0",
   "metadata": {
    "slideshow": {
     "slide_type": "fragment"
    }
   },
   "source": [
    "--------------------------\n",
    "\n",
    "\n",
    "|  UCS tree   |   UCS tree really means |\n",
    "|:-------------------------:|:-------------------------:|\n",
    "|  ![](https://leo.host.cs.st-andrews.ac.uk/figs/figs4CS5010/searching/romAstar5_.png) |  ![](https://leo.host.cs.st-andrews.ac.uk/figs/figs4CS5010/searching/romAstar5_2.png) | \n",
    "\n",
    "--------------------------\n",
    "\n",
    "We are safe to stop here, all further routes are **officially worse**\n",
    "\n",
    "In other words, A* is optimal if heuristic is admissible"
   ]
  },
  {
   "cell_type": "markdown",
   "id": "fafc3ba3",
   "metadata": {
    "slideshow": {
     "slide_type": "slide"
    }
   },
   "source": [
    "# How about A* with extended_list ?\n",
    "\n",
    "\n",
    "A* search algorithm with extended list is no longer optimal even the heuristic is admissible !\n",
    "\n",
    "Check the following example. I will leave it as an exercise for you to verify. \n",
    "\n",
    "* first verify the heuristic is admissible \n",
    "* apply A* with extended list, what path it finds ? is that optimal ?\n",
    "* such a heuristic is admissible but **inconsistent**, check its definition in AIAMA \n",
    "\n",
    "![](https://leo.host.cs.st-andrews.ac.uk/figs/figs4CS5010/searching/inconsistent.png)"
   ]
  },
  {
   "cell_type": "markdown",
   "id": "af2f8a9e",
   "metadata": {
    "slideshow": {
     "slide_type": "slide"
    }
   },
   "source": [
    "# Heuristic functions matters !\n",
    "\n",
    "It should not surprise you that the quality of heuristic function matters !\n",
    "\n",
    "\n",
    "For example, one possible heuristic for routing problem could be $h(n) = 0$\n",
    "  * then we have UCS as a result \n",
    "  * which is complete and optimal\n",
    "  * but leads to time and space complexity $O(b^{C^*/\\epsilon})$"
   ]
  },
  {
   "cell_type": "markdown",
   "id": "e24d245c",
   "metadata": {
    "slideshow": {
     "slide_type": "subslide"
    }
   },
   "source": [
    "A rule of thumb: **good heuristic should be admissible but also reflect the true cost as much as possible!**"
   ]
  },
  {
   "cell_type": "markdown",
   "id": "dc5b3108",
   "metadata": {
    "slideshow": {
     "slide_type": "slide"
    }
   },
   "source": [
    "# 8 puzzle as an example \n",
    "\n",
    "\n",
    "<center><img src=\"https://leo.host.cs.st-andrews.ac.uk/figs/figs4CS5010/searching/eightpuzzle.png\" width = \"600\" height=\"400\"/></center>"
   ]
  },
  {
   "cell_type": "markdown",
   "id": "997fc3bb",
   "metadata": {
    "slideshow": {
     "slide_type": "fragment"
    }
   },
   "source": [
    "There are two possible heuristic functions being compared here\n",
    "    \n",
    "$h_1$: number of misplaced tiles\n",
    "  * $h_1$ = 8 for the start state: all 8 tiles are out of position\n",
    "  * $h_1$ is admissible, since it is obvious every tile needs to be moved at least once "
   ]
  },
  {
   "cell_type": "markdown",
   "id": "94e2bfbf",
   "metadata": {
    "slideshow": {
     "slide_type": "subslide"
    }
   },
   "source": [
    "<center><img src=\"https://leo.host.cs.st-andrews.ac.uk/figs/figs4CS5010/searching/eightpuzzle.png\" width = \"600\" height=\"400\"/></center>\n",
    "\n",
    "![](https://uploads-cdn.omnicalculator.com/images/manhattan_distance.png?width=850&enlarge=0&format=webp)  \n",
    "\n",
    "$h_2$: Manhattan distance heuristic\n",
    "  * $h_2 = \\underbrace{3}_{\\text{tile }1}+\\underbrace{1}_{\\text{tile }2}+\\underbrace{2}_{\\text{tile }3}+2+2+3+3+2=18$ \n",
    "  * it is also admissible: each tile at least needs this amount of moves\n",
    "  \n",
    "  \n",
    "Clearly $h_2$ is of **better quality**: it is a closer estimate of the real cost  "
   ]
  },
  {
   "cell_type": "markdown",
   "id": "290be91d",
   "metadata": {
    "slideshow": {
     "slide_type": "slide"
    }
   },
   "source": [
    "# Demonstration "
   ]
  },
  {
   "cell_type": "code",
   "execution_count": 50,
   "id": "5a17786f",
   "metadata": {
    "scrolled": true,
    "slideshow": {
     "slide_type": "subslide"
    }
   },
   "outputs": [
    {
     "name": "stdout",
     "output_type": "stream",
     "text": [
      "my_uniform_cost_search:\n",
      "      124 node extended|       46 goal tested|    5 cost |       5 length | EightPuzzle((1, 4, 2, 0, 7, 5, 3, 6, 8),\n",
      "  222,942 node extended|  104,468 goal tested|   22 cost |      22 length | EightPuzzle((1, 2, 3, 4, 5, 6, 7, 8, 0),\n",
      "  296,419 node extended|  147,241 goal tested|   23 cost |      23 length | EightPuzzle((4, 0, 2, 5, 1, 3, 7, 8, 6),\n",
      "  457,038 node extended|  264,813 goal tested|   26 cost |      26 length | EightPuzzle((7, 2, 4, 5, 0, 6, 8, 3, 1),\n",
      "  471,601 node extended|  280,892 goal tested|   27 cost |      27 length | EightPuzzle((8, 6, 7, 2, 5, 4, 3, 0, 1),\n",
      "1,448,124 node extended|  797,460 goal tested|  103 cost |     103 length | TOTAL\n",
      "\n",
      "my_astar_misplaced_tiles:\n",
      "       17 node extended|        7 goal tested|    5 cost |       5 length | EightPuzzle((1, 4, 2, 0, 7, 5, 3, 6, 8),\n",
      "   47,142 node extended|   17,559 goal tested|   22 cost |      22 length | EightPuzzle((1, 2, 3, 4, 5, 6, 7, 8, 0),\n",
      "   90,785 node extended|   33,875 goal tested|   23 cost |      23 length | EightPuzzle((4, 0, 2, 5, 1, 3, 7, 8, 6),\n",
      "  454,994 node extended|  169,820 goal tested|   26 cost |      26 length | EightPuzzle((7, 2, 4, 5, 0, 6, 8, 3, 1),\n",
      "  640,443 node extended|  239,508 goal tested|   27 cost |      27 length | EightPuzzle((8, 6, 7, 2, 5, 4, 3, 0, 1),\n",
      "1,233,381 node extended|  460,769 goal tested|  103 cost |     103 length | TOTAL\n",
      "\n",
      "my_astar_search:\n",
      "       15 node extended|        6 goal tested|    5 cost |       5 length | EightPuzzle((1, 4, 2, 0, 7, 5, 3, 6, 8),\n",
      "    5,384 node extended|    2,000 goal tested|   22 cost |      22 length | EightPuzzle((1, 2, 3, 4, 5, 6, 7, 8, 0),\n",
      "    9,116 node extended|    3,404 goal tested|   23 cost |      23 length | EightPuzzle((4, 0, 2, 5, 1, 3, 7, 8, 6),\n",
      "   19,084 node extended|    7,185 goal tested|   26 cost |      26 length | EightPuzzle((7, 2, 4, 5, 0, 6, 8, 3, 1),\n",
      "   21,126 node extended|    7,992 goal tested|   27 cost |      27 length | EightPuzzle((8, 6, 7, 2, 5, 4, 3, 0, 1),\n",
      "   54,725 node extended|   20,587 goal tested|  103 cost |     103 length | TOTAL\n",
      "\n"
     ]
    }
   ],
   "source": [
    "def my_astar_misplaced_tiles(problem): return my_astar_search(problem, h=problem.h1)\n",
    "\n",
    "report([my_uniform_cost_search, my_astar_misplaced_tiles, my_astar_search], \n",
    "       [e1, e2, e3, e4, e5])"
   ]
  },
  {
   "cell_type": "markdown",
   "id": "1e18f8c8",
   "metadata": {
    "slideshow": {
     "slide_type": "subslide"
    }
   },
   "source": [
    "As expected, $h_2$ is much faster and effective \n",
    "* it has extended and goal tested roughly 1/21 of nodes \n",
    "\n",
    "\n",
    "But informed searches (with both heuristic) in general perform better than uninformed search (UCS)\n",
    "* also note all three are optimal !"
   ]
  },
  {
   "cell_type": "markdown",
   "id": "2499b301",
   "metadata": {
    "slideshow": {
     "slide_type": "slide"
    }
   },
   "source": [
    "# Summary\n",
    "\n",
    "* A* search is optimal when adimissible heuristic is used\n",
    "* Heuristic qualities matter"
   ]
  }
 ],
 "metadata": {
  "celltoolbar": "Slideshow",
  "kernelspec": {
   "display_name": "Python 3",
   "language": "python",
   "name": "python3"
  },
  "language_info": {
   "codemirror_mode": {
    "name": "ipython",
    "version": 3
   },
   "file_extension": ".py",
   "mimetype": "text/x-python",
   "name": "python",
   "nbconvert_exporter": "python",
   "pygments_lexer": "ipython3",
   "version": "3.9.2"
  }
 },
 "nbformat": 4,
 "nbformat_minor": 5
}
