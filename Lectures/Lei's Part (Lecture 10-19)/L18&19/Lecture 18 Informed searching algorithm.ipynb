{
 "cells": [
  {
   "cell_type": "code",
   "execution_count": 1,
   "id": "4c22df6b",
   "metadata": {
    "slideshow": {
     "slide_type": "skip"
    }
   },
   "outputs": [],
   "source": [
    "from IPython.display import Markdown as md\n",
    "from random import randrange\n",
    "def hide_code_in_slideshow():   \n",
    "    from IPython import display\n",
    "    import binascii\n",
    "    import os\n",
    "    uid = binascii.hexlify(os.urandom(8)).decode()    \n",
    "    html = \"\"\"<div id=\"%s\"></div>\n",
    "    <script type=\"text/javascript\">\n",
    "        $(function(){\n",
    "            var p = $(\"#%s\");\n",
    "            if (p.length==0) return;\n",
    "            while (!p.hasClass(\"cell\")) {\n",
    "                p=p.parent();\n",
    "                if (p.prop(\"tagName\") ==\"body\") return;\n",
    "            }\n",
    "            var cell = p;\n",
    "            cell.find(\".input\").addClass(\"hide-in-slideshow\")\n",
    "        });\n",
    "    </script>\"\"\" % (uid, uid)\n",
    "    display.display_html(html, raw=True)\n",
    "#  a hack to hide code from cell: https://github.com/damianavila/RISE/issues/32    "
   ]
  },
  {
   "cell_type": "code",
   "execution_count": 2,
   "id": "b51cd1ec",
   "metadata": {
    "slideshow": {
     "slide_type": "skip"
    }
   },
   "outputs": [
    {
     "data": {
      "text/html": [
       "<style>\n",
       " .container.slides .celltoolbar, .container.slides .hide-in-slideshow {\n",
       "    display: None ! important;\n",
       "}\n",
       "    \n",
       "table, th, td {\n",
       "  border: 1px solid black;\n",
       "  border-collapse: collapse;\n",
       "}\n",
       "th, td {\n",
       "  padding: 5px;\n",
       "}\n",
       "th {\n",
       "  text-align: left;\n",
       "}\n",
       "</style>\n"
      ],
      "text/plain": [
       "<IPython.core.display.HTML object>"
      ]
     },
     "metadata": {},
     "output_type": "display_data"
    }
   ],
   "source": [
    "%%html\n",
    "<style>\n",
    " .container.slides .celltoolbar, .container.slides .hide-in-slideshow {\n",
    "    display: None ! important;\n",
    "}\n",
    "    \n",
    "table, th, td {\n",
    "  border: 1px solid black;\n",
    "  border-collapse: collapse;\n",
    "}\n",
    "th, td {\n",
    "  padding: 5px;\n",
    "}\n",
    "th {\n",
    "  text-align: left;\n",
    "}\n",
    "</style>"
   ]
  },
  {
   "cell_type": "code",
   "execution_count": 3,
   "id": "a4625dcd",
   "metadata": {
    "slideshow": {
     "slide_type": "skip"
    }
   },
   "outputs": [
    {
     "data": {
      "text/html": [
       "\n",
       "<style>\n",
       ".output_png {\n",
       "    display: table-cell;\n",
       "    text-align: center;\n",
       "    vertical-align: middle;\n",
       "}\n",
       "</style>\n"
      ],
      "text/plain": [
       "<IPython.core.display.HTML object>"
      ]
     },
     "execution_count": 3,
     "metadata": {},
     "output_type": "execute_result"
    }
   ],
   "source": [
    "from IPython.core.display import HTML\n",
    "HTML(\"\"\"\n",
    "<style>\n",
    ".output_png {\n",
    "    display: table-cell;\n",
    "    text-align: center;\n",
    "    vertical-align: middle;\n",
    "}\n",
    "</style>\n",
    "\"\"\")"
   ]
  },
  {
   "cell_type": "markdown",
   "id": "a8339414",
   "metadata": {
    "slideshow": {
     "slide_type": "skip"
    }
   },
   "source": [
    "# Foreword \n",
    "\n",
    "The following code are used for this lecture\n",
    "  * most of the code have been adapted from https://github.com/aimacode/aima-python"
   ]
  },
  {
   "cell_type": "code",
   "execution_count": 4,
   "id": "ae4bbb2b",
   "metadata": {
    "slideshow": {
     "slide_type": "skip"
    }
   },
   "outputs": [],
   "source": [
    "%matplotlib inline\n",
    "import matplotlib.pyplot as plt\n",
    "import random\n",
    "import heapq\n",
    "import math\n",
    "import sys\n",
    "from collections import defaultdict, deque, Counter\n",
    "from itertools import combinations\n",
    "\n",
    "\n",
    "class Problem(object):\n",
    "    \"\"\"The abstract class for a formal problem. A new domain subclasses this,\n",
    "    overriding `actions` and `results`, and perhaps other methods.\n",
    "    The default heuristic is 0 and the default action cost is 1 for all states.\n",
    "    When yiou create an instance of a subclass, specify `initial`, and `goal` states \n",
    "    (or give an `is_goal` method) and perhaps other keyword args for the subclass.\"\"\"\n",
    "\n",
    "    def __init__(self, initial=None, goal=None, **kwds): \n",
    "        self.__dict__.update(initial=initial, goal=goal, **kwds) \n",
    "        \n",
    "    def actions(self, state):        raise NotImplementedError\n",
    "    def result(self, state, action): raise NotImplementedError\n",
    "    def is_goal(self, state):        return state == self.goal\n",
    "    def action_cost(self, s, a, s1): return 1\n",
    "    def h(self, node):               return 0\n",
    "    \n",
    "    def __str__(self):\n",
    "        return '{}({!r}, {!r})'.format(\n",
    "            type(self).__name__, self.initial, self.goal)\n",
    "    \n",
    "def g(n): return n.path_cost    \n",
    "\n",
    "class Node:\n",
    "    \"A Node in a search tree.\"\n",
    "    def __init__(self, state, parent=None, action=None, path_cost=0):\n",
    "        self.__dict__.update(state=state, parent=parent, action=action, path_cost=path_cost)\n",
    "\n",
    "    def __repr__(self): return '<{}>'.format(self.state)\n",
    "    def __len__(self): return 0 if self.parent is None else (1 + len(self.parent))\n",
    "    def __lt__(self, other): return self.path_cost < other.path_cost\n",
    "    \n",
    "    \n",
    "failure = Node('failure', path_cost=math.inf) # Indicates an algorithm couldn't find a solution.\n",
    "cutoff  = Node('cutoff',  path_cost=math.inf) # Indicates iterative deepening search was cut off.\n",
    "    \n",
    "    \n",
    "def expand(problem, node):\n",
    "    \"Expand a node, generating the children nodes.\"\n",
    "    s = node.state\n",
    "    for action in problem.actions(s):\n",
    "        s1 = problem.result(s, action)\n",
    "        cost = node.path_cost + problem.action_cost(s, action, s1)\n",
    "        yield Node(s1, node, action, cost)\n",
    "        \n",
    "\n",
    "def path_actions(node):\n",
    "    \"The sequence of actions to get to this node.\"\n",
    "    if node.parent is None:\n",
    "        return []  \n",
    "    return path_actions(node.parent) + [node.action]\n",
    "\n",
    "\n",
    "def path_states(node):\n",
    "    \"The sequence of states to get to this node.\"\n",
    "    if node in (cutoff, failure, None): \n",
    "        return []\n",
    "    return path_states(node.parent) + [node.state]\n",
    "\n",
    "\n",
    "\n",
    "def is_cycle(node, k=30):\n",
    "    \"Does this node form a cycle of length k or less?\"\n",
    "    def find_cycle(ancestor, k):\n",
    "        return (ancestor is not None and k > 0 and\n",
    "                (ancestor.state == node.state or find_cycle(ancestor.parent, k - 1)))\n",
    "    return find_cycle(node.parent, k)"
   ]
  },
  {
   "cell_type": "code",
   "execution_count": 5,
   "id": "a8e93d87",
   "metadata": {
    "slideshow": {
     "slide_type": "skip"
    }
   },
   "outputs": [],
   "source": [
    "FIFOQueue = deque\n",
    "\n",
    "LIFOQueue = list\n",
    "\n",
    "StackAgenda = list\n",
    "\n",
    "class PriorityQueue:\n",
    "    \"\"\"A queue in which the item with minimum f(item) is always popped first.\"\"\"\n",
    "\n",
    "    def __init__(self, items=(), key=lambda x: x): \n",
    "        self.key = key\n",
    "        self.items = [] # a heap of (score, item) pairs\n",
    "        for item in items:\n",
    "            self.add(item)\n",
    "         \n",
    "    def add(self, item):\n",
    "        \"\"\"Add item to the queuez.\"\"\"\n",
    "        pair = (self.key(item), item)\n",
    "        heapq.heappush(self.items, pair)\n",
    "\n",
    "    def pop(self):\n",
    "        \"\"\"Pop and return the item with min f(item) value.\"\"\"\n",
    "        return heapq.heappop(self.items)[1]\n",
    "    \n",
    "    def top(self): return self.items[0][1]\n",
    "\n",
    "    def __len__(self): return len(self.items)"
   ]
  },
  {
   "cell_type": "code",
   "execution_count": 6,
   "id": "29e3af4b",
   "metadata": {
    "slideshow": {
     "slide_type": "skip"
    }
   },
   "outputs": [],
   "source": [
    "class RouteProblem(Problem):\n",
    "    \"\"\"A problem to find a route between locations on a `Map`.\n",
    "    Create a problem with RouteProblem(start, goal, map=Map(...)}).\n",
    "    States are the vertexes in the Map graph; actions are destination states.\"\"\"\n",
    "    \n",
    "    def actions(self, state): \n",
    "        \"\"\"The places neighboring `state`.\"\"\"\n",
    "        return self.map.neighbors[state]\n",
    "    \n",
    "    def result(self, state, action):\n",
    "        \"\"\"Go to the `action` place, if the map says that is possible.\"\"\"\n",
    "        return action if action in self.map.neighbors[state] else state\n",
    "    \n",
    "    def action_cost(self, s, action, s1):\n",
    "        \"\"\"The distance (cost) to go from s to s1.\"\"\"\n",
    "        return self.map.distances[s, s1]\n",
    "    \n",
    "    def h(self, node):\n",
    "        \"Straight-line distance between state and the goal.\"\n",
    "        locs = self.map.locations\n",
    "        return straight_line_distance(locs[node.state], locs[self.goal])\n",
    "    \n",
    "    \n",
    "def straight_line_distance(A, B):\n",
    "    \"Straight-line distance between two points.\"\n",
    "    return sum(abs(a - b)**2 for (a, b) in zip(A, B)) ** 0.5"
   ]
  },
  {
   "cell_type": "code",
   "execution_count": 7,
   "id": "239ff6d1",
   "metadata": {
    "slideshow": {
     "slide_type": "skip"
    }
   },
   "outputs": [],
   "source": [
    "class Map:\n",
    "    \"\"\"A map of places in a 2D world: a graph with vertexes and links between them. \n",
    "    In `Map(links, locations)`, `links` can be either [(v1, v2)...] pairs, \n",
    "    or a {(v1, v2): distance...} dict. Optional `locations` can be {v1: (x, y)} \n",
    "    If `directed=False` then for every (v1, v2) link, we add a (v2, v1) link.\"\"\"\n",
    "\n",
    "    def __init__(self, links, locations=None, directed=False):\n",
    "        if not hasattr(links, 'items'): # Distances are 1 by default\n",
    "            links = {link: 1 for link in links}\n",
    "        if not directed:\n",
    "            for (v1, v2) in list(links):\n",
    "                links[v2, v1] = links[v1, v2]\n",
    "        self.distances = links\n",
    "        self.neighbors = multimap(links)\n",
    "        self.locations = locations or defaultdict(lambda: (0, 0))\n",
    "\n",
    "        \n",
    "def multimap(pairs) -> dict:\n",
    "    \"Given (key, val) pairs, make a dict of {key: [val,...]}.\"\n",
    "    result = defaultdict(list)\n",
    "    for key, val in pairs:\n",
    "        result[key].append(val)\n",
    "    return result"
   ]
  },
  {
   "cell_type": "code",
   "execution_count": 8,
   "id": "4431eba6",
   "metadata": {
    "slideshow": {
     "slide_type": "slide"
    }
   },
   "outputs": [],
   "source": [
    "class CountCalls:\n",
    "    \"\"\"Delegate all attribute gets to the object, and count them in ._counts\"\"\"\n",
    "    def __init__(self, obj):\n",
    "        self._object = obj\n",
    "        self._counts = Counter()\n",
    "        \n",
    "    def __getattr__(self, attr):\n",
    "        \"Delegate to the original object, after incrementing a counter.\"\n",
    "        self._counts[attr] += 1\n",
    "        return getattr(self._object, attr)\n",
    "\n",
    "        \n",
    "def report(searchers, problems, verbose=True):\n",
    "    \"\"\"Show summary statistics for each searcher (and on each problem unless verbose is false).\"\"\"\n",
    "    for searcher in searchers:\n",
    "        print(searcher.__name__ + ':')\n",
    "        total_counts = Counter()\n",
    "        for p in problems:\n",
    "            prob   = CountCalls(p)\n",
    "            soln   = searcher(prob)\n",
    "            counts = prob._counts; \n",
    "            counts.update(length=len(soln), cost=soln.path_cost)\n",
    "            total_counts += counts\n",
    "            if verbose: report_counts(counts, str(p)[:40])\n",
    "        report_counts(total_counts, 'TOTAL\\n')\n",
    "        \n",
    "def report_counts(counts, name):\n",
    "    \"\"\"Print one line of the counts report.\"\"\"\n",
    "    print('{:9,d} node extended|{:9,d} goal tested|{:5.0f} cost |{:8,d} length | {}'.format(\n",
    "          counts['result'], counts['is_goal'], counts['cost'], counts['length'], name))"
   ]
  },
  {
   "cell_type": "code",
   "execution_count": 9,
   "id": "b8b096a4",
   "metadata": {
    "slideshow": {
     "slide_type": "skip"
    }
   },
   "outputs": [],
   "source": [
    "# Some specific RouteProblems\n",
    "\n",
    "romania = Map(\n",
    "    {('O', 'Z'):  71, ('O', 'S'): 151, ('A', 'Z'): 75, ('A', 'S'): 140, ('A', 'T'): 118, \n",
    "     ('L', 'T'): 111, ('L', 'M'):  70, ('D', 'M'): 75, ('C', 'D'): 120, ('C', 'R'): 146, \n",
    "     ('C', 'P'): 138, ('R', 'S'):  80, ('F', 'S'): 99, ('B', 'F'): 211, ('B', 'P'): 101, \n",
    "     ('B', 'G'):  90, ('B', 'U'):  85, ('H', 'U'): 98, ('E', 'H'):  86, ('U', 'V'): 142, \n",
    "     ('I', 'V'):  92, ('I', 'N'):  87, ('P', 'R'): 97},\n",
    "    {'A': ( 76, 497), 'B': (400, 327), 'C': (246, 285), 'D': (160, 296), 'E': (558, 294), \n",
    "     'F': (285, 460), 'G': (368, 257), 'H': (548, 355), 'I': (488, 535), 'L': (162, 379),\n",
    "     'M': (160, 343), 'N': (407, 561), 'O': (117, 580), 'P': (311, 372), 'R': (227, 412),\n",
    "     'S': (187, 463), 'T': ( 83, 414), 'U': (471, 363), 'V': (535, 473), 'Z': (92, 539)})\n",
    "\n",
    "\n",
    "r0 = RouteProblem('A', 'A', map=romania)\n",
    "r1 = RouteProblem('A', 'B', map=romania)\n",
    "r2 = RouteProblem('N', 'L', map=romania)\n",
    "r3 = RouteProblem('E', 'T', map=romania)\n",
    "r4 = RouteProblem('O', 'M', map=romania)\n",
    "r5 = RouteProblem('S', 'E', map=romania)"
   ]
  },
  {
   "cell_type": "code",
   "execution_count": 10,
   "id": "878f6941",
   "metadata": {
    "slideshow": {
     "slide_type": "subslide"
    }
   },
   "outputs": [],
   "source": [
    "def my_breadth_first_search(problem, use_extendedList = False):\n",
    "    agenda = FIFOQueue([Node(problem.initial)])\n",
    "#   extended list to keep what states have been extended\n",
    "    extended_list = set()\n",
    "    while agenda:\n",
    "        node = agenda.pop()\n",
    "        if problem.is_goal(node.state):\n",
    "            return node\n",
    "        if use_extendedList:\n",
    "            if node.state not in extended_list:\n",
    "                extended_list.add(node.state)\n",
    "                for child in expand(problem, node):\n",
    "                    if not is_cycle(child):\n",
    "                        agenda.appendleft(child)\n",
    "        else:\n",
    "            for child in expand(problem, node):\n",
    "                if not is_cycle(child):\n",
    "                    agenda.appendleft(child)\n",
    "    return failure"
   ]
  },
  {
   "cell_type": "code",
   "execution_count": 11,
   "id": "6781ec19",
   "metadata": {
    "slideshow": {
     "slide_type": "fragment"
    }
   },
   "outputs": [],
   "source": [
    "# Python implementation of DFS\n",
    "def my_depth_first_search(problem, use_extendedList= False):\n",
    "    agenda = StackAgenda([Node(problem.initial)])\n",
    "    #   extended list to keep what states have been extended\n",
    "    extended_list = set()\n",
    "    while agenda:\n",
    "#       by default: pop() return the element at -1 (the end of the list)  \n",
    "        node = agenda.pop()\n",
    "        if problem.is_goal(node.state):\n",
    "            return node\n",
    "        if use_extendedList:\n",
    "            if node.state not in extended_list:\n",
    "                extended_list.add(node.state)\n",
    "                for child in expand(problem, node):\n",
    "                    if not is_cycle(child):\n",
    "#                       append at the end in Python has the same effect as adding at the front\n",
    "#                       as pop() return from -1 by default\n",
    "                        agenda.append(child)\n",
    "        else:\n",
    "            for child in expand(problem, node):\n",
    "                if not is_cycle(child):\n",
    "                    agenda.append(child)\n",
    "    return failure"
   ]
  },
  {
   "cell_type": "code",
   "execution_count": 12,
   "id": "34d565c0",
   "metadata": {
    "slideshow": {
     "slide_type": "subslide"
    }
   },
   "outputs": [],
   "source": [
    "# Python implementation of uniform cost search\n",
    "def my_uniform_cost_search(problem, use_extendedList= False):\n",
    "    agenda = PriorityQueue([Node(problem.initial)], key=g)\n",
    "    #   extended list to keep what states have been extended\n",
    "    extended_list = set()\n",
    "    while agenda:\n",
    "#       PQ.pop() returns the node with the least cost \n",
    "        node = agenda.pop()\n",
    "        if problem.is_goal(node.state):\n",
    "            return node\n",
    "        if use_extendedList:\n",
    "            if node.state not in extended_list:\n",
    "                extended_list.add(node.state)\n",
    "                for child in expand(problem, node):\n",
    "                    if not is_cycle(child):\n",
    "#                       PriorityQueue taks care of this by inserting to \n",
    "#                       an appropriate location that is efficient for further operation\n",
    "                        agenda.add(child)\n",
    "        else:\n",
    "            for child in expand(problem, node):\n",
    "                if not is_cycle(child):\n",
    "                    agenda.add(child)\n",
    "    return failure"
   ]
  },
  {
   "cell_type": "markdown",
   "id": "6b330035",
   "metadata": {
    "slideshow": {
     "slide_type": "slide"
    }
   },
   "source": [
    "# CS5010 Artificial Intelligence Principles\n",
    "### Lecture 18 Informed Search \n",
    "\n",
    "Lei Fang\n",
    "\n",
    "University of St Andrews"
   ]
  },
  {
   "cell_type": "markdown",
   "id": "6a32c568",
   "metadata": {
    "slideshow": {
     "slide_type": "slide"
    }
   },
   "source": [
    "# Last week\n",
    "\n",
    "* Uninformed searching problem\n",
    "\n",
    "* A general searching algorithm template\n",
    "  * BFS and DFS as specific cases\n",
    "  \n",
    "* Various searching algorithms based on the template\n",
    "  * DFS\n",
    "  * BFS\n",
    "  * Depth limited search (tutorial)\n",
    "  * Non-deterministic search\n",
    "  * Uniform cost searching"
   ]
  },
  {
   "cell_type": "markdown",
   "id": "c4435d21",
   "metadata": {
    "slideshow": {
     "slide_type": "slide"
    }
   },
   "source": [
    "# Recap: a general searching algorithm \n",
    "\n",
    "\n",
    "All algorithms we study follow a template\n",
    "  * shouldn't be surprising: they all super-impose a search tree on the state space graph \n",
    "  * only differ in how the tree is constructed or super-imposed\n",
    "\n",
    "Can be considered as the *mother* of all searching algorithms introduced here"
   ]
  },
  {
   "cell_type": "markdown",
   "id": "fcfbded1",
   "metadata": {
    "slideshow": {
     "slide_type": "subslide"
    }
   },
   "source": [
    "<div style=\"background-color:rgba(0, 0, 0, 0.0470588); padding:10px 0;font-family:monospace;\">\n",
    "<font color=\"blue\">0.</font>: initialize  <br> \n",
    "&nbsp; &nbsp; <font color=\"purple\"><i>agenda</i></font> = [ [start] ]    &nbsp; &nbsp; &nbsp; &nbsp;&nbsp;    # a list of paths or partial solutions  <br>\n",
    "&nbsp; &nbsp; [<font color=\"purple\"><i>extended_list</i></font> = {};]   &nbsp; &nbsp; &nbsp; &nbsp;    # optional: closed list of nodes   <br>     \n",
    "&nbsp; &nbsp; <font color=\"green\"><b>while</b></font> <font color=\"purple\"><i>agenda</i></font> is not empty:<br>\n",
    "&nbsp; &nbsp; &nbsp; &nbsp;<font color=\"blue\">1.</font> <font color=\"purple\"><i>path</i></font> = <font color=\"purple\"><i>agenda</i></font>.pop(0)    &nbsp;&nbsp; # remove first element from agenda <br>\n",
    "&nbsp; &nbsp; &nbsp; &nbsp;<font color=\"blue\">2.</font> <font color=\"green\"><b>if</b></font> is-path-to-goal(<font color=\"purple\"><i>path</i></font>, goal)<br>\n",
    "&nbsp; &nbsp; &nbsp; &nbsp;&nbsp;&nbsp;&nbsp;&nbsp;&nbsp;&nbsp;&nbsp;<font color=\"green\"><b>return</b></font> <font color=\"purple\"><i>path</i></font><br>\n",
    "&nbsp; &nbsp; &nbsp; &nbsp;<font color=\"blue\">3.</font> <font color=\"green\"><b>otherwise</b></font> extend <font color=\"purple\"><i>path</i></font> [if the ending node is not in <font color=\"purple\"><i>extended_list</i></font>] <br>\n",
    "&nbsp; &nbsp; &nbsp; &nbsp;&nbsp; &nbsp; &nbsp; &nbsp;[add the ending node to <font color=\"purple\"><i>extended_list</i></font>]<br>\n",
    "&nbsp; &nbsp; &nbsp; &nbsp;&nbsp; &nbsp; &nbsp; &nbsp;<font color=\"green\"><b>for each</b></font> connected node (child node of the ending node of <font color=\"purple\"><i>path</i></font>)<br>\n",
    "&nbsp; &nbsp; &nbsp; &nbsp;&nbsp; &nbsp; &nbsp; &nbsp;&nbsp; &nbsp; &nbsp; &nbsp;            make a <font color=\"purple\"><i>new path</i></font> that extends the connected node<br>\n",
    "&nbsp; &nbsp; &nbsp; &nbsp;<font color=\"blue\">4.</font> reject all <font color=\"purple\"><i>new paths</i></font> from step <font color=\"blue\">3</font> that contain <i>cycles</i><br> \n",
    "&nbsp; &nbsp; &nbsp; &nbsp;<font color=\"blue\">5.</font> add <font color=\"purple\"><i>new paths</i></font> from step <font color=\"blue\">4</font> to <font color=\"purple\"><i>agenda</i></font> and reorganise <font color=\"purple\"><i>agenda</i></font><br>   \n",
    "&nbsp; &nbsp; &nbsp; &nbsp;&nbsp; &nbsp; &nbsp; &nbsp;&nbsp; &nbsp; &nbsp; &nbsp;&nbsp; &nbsp; &nbsp; &nbsp;&nbsp; &nbsp;&nbsp;&nbsp;      # algorithms differ here!  <br> \n",
    "<font color=\"blue\">6.</font> <font color=\"green\"><b>return</b></font> <font color=\"purple\"><i>failure</i></font><br>  \n",
    "</div>\n",
    "\n"
   ]
  },
  {
   "cell_type": "markdown",
   "id": "41547091",
   "metadata": {
    "slideshow": {
     "slide_type": "subslide"
    }
   },
   "source": [
    "# Variants of uninformed search\n",
    "\n",
    "Differ in step 5:\n",
    "* **DFS**: insert to the front of agenda\n",
    "* **BFS**: insert to the back of the agenda \n",
    "* **Non-deterministic searching (NDS)**: randomly inject the newly extended paths to the existing agenda\n",
    "* **Uniform cost search (UCS)**: insert then sort the agenda based on path cost\n",
    "* **Depth limited search (DLS)**: reject all paths with length greather than the limit then insert\n",
    "\n",
    "\n",
    "|DFS       |  BFS |      NDS|\n",
    "|:-------------------------:|:-------------------------:| :--------------------------:|\n",
    "|![](https://leo.host.cs.st-andrews.ac.uk/figs/figs4CS5010/searching/dfsagenda.png) |  ![](https://leo.host.cs.st-andrews.ac.uk/figs/figs4CS5010/searching/bfsagenda.png) | ![](https://leo.host.cs.st-andrews.ac.uk/figs/figs4CS5010/searching/nondagenda.png)|"
   ]
  },
  {
   "cell_type": "markdown",
   "id": "17f13e49",
   "metadata": {
    "slideshow": {
     "slide_type": "slide"
    }
   },
   "source": [
    "# This time\n",
    "\n",
    "* Informed search, aka Heuristic search\n",
    "  * heuristics: extra information\n",
    "\n",
    "* A few basic informed search algorithms \n",
    "  * Beam search\n",
    "  * Greedy search\n",
    "  * Hill climbing\n",
    "  \n",
    "  \n",
    "* Next time: optimal search with heuristics\n",
    "  * A* search\n",
    "  * Heuristic functions "
   ]
  },
  {
   "cell_type": "markdown",
   "id": "92a67d1f",
   "metadata": {
    "slideshow": {
     "slide_type": "slide"
    }
   },
   "source": [
    "# Uninformed search and Informed search\n",
    "\n",
    "Take route finding problem as an example:\n",
    "\n",
    "**Uninformed search**\n",
    "* e.g. you are dropped to Mars and need to find the base-station\n",
    "  * no extra information/heuristic at all\n",
    "  * the best you can do is to blindly try all options available to you\n",
    "\n",
    "\n",
    "**Informed search** also called *heuristic search* \n",
    "* e.g. from St Andrews to London  (assume you know  a tiny bit about the UK's geography)\n",
    "  * Aberdeen or Shetland are probably not good choices for your next stop! you are making some *informed* search\n",
    "  * Edinburgh makes better sense (as you know it is closer to London)"
   ]
  },
  {
   "cell_type": "markdown",
   "id": "79dcad8d",
   "metadata": {
    "slideshow": {
     "slide_type": "subslide"
    }
   },
   "source": [
    "# Demonstration\n",
    "\n",
    "* check Panopto video "
   ]
  },
  {
   "cell_type": "markdown",
   "id": "7e58cf16",
   "metadata": {
    "slideshow": {
     "slide_type": "slide"
    }
   },
   "source": [
    "# Heuristics\n",
    "\n",
    "\n",
    "A simple **heuristic** for route finding problem is, e.g.\n",
    "  * **straight-line distance** between a node to the goal state (Bucharest), e.g.\n",
    "  $$h_{SLD}(Arad) = 366$$\n",
    "    * straight-distance between Arad and Bucharest is 366 miles\n",
    "    * easily available and provides some sense of *direction*   \n",
    "      * *Zerind* with a distance 374 probably is not a good choice to extend next!\n",
    "    \n",
    "    \n",
    "    "
   ]
  },
  {
   "cell_type": "markdown",
   "id": "c5a8730c",
   "metadata": {
    "slideshow": {
     "slide_type": "subslide"
    }
   },
   "source": [
    "\n",
    "|Romanian  map    |  Distance heuristic |   \n",
    "|:-------------------------:|:-------------------------:|\n",
    "|![](https://leo.host.cs.st-andrews.ac.uk/figs/figs4CS5010/searching/romania.png) |  ![](https://leo.host.cs.st-andrews.ac.uk/figs/figs4CS5010/searching/distances.png) | "
   ]
  },
  {
   "cell_type": "markdown",
   "id": "d0ec7d67",
   "metadata": {
    "slideshow": {
     "slide_type": "slide"
    }
   },
   "source": [
    "# Best first search (BFS) (based on heuristic only) aka Greedy Search\n",
    "\n",
    "Best First Search (BestFS) is very similar to Uniform Cost Search (UCS)\n",
    "  * they both sort the entire **agenda** after insertion of the extended paths\n",
    "  * the only difference is BFS sort agenda based on **heuristic** only rather than the actual cost\n",
    "  * also known as Greedy search"
   ]
  },
  {
   "cell_type": "markdown",
   "id": "4da010c1",
   "metadata": {
    "slideshow": {
     "slide_type": "subslide"
    }
   },
   "source": [
    "Best First Search (based on heuristic only) pseudo-code:\n",
    "\n",
    "\n",
    "<div style=\"background-color:rgba(0, 0, 0, 0.0470588); padding:10px 0;font-family:monospace;\">\n",
    "<font color=\"blue\">0.</font>: initialize  <br> \n",
    "&nbsp; &nbsp; <font color=\"purple\"><i>agenda</i></font> = [ [start] ]    &nbsp; &nbsp; &nbsp; &nbsp;&nbsp;    # a list of paths or partial solutions  <br>\n",
    "&nbsp; &nbsp; [<font color=\"purple\"><i>extended_list</i></font> = {};]   &nbsp; &nbsp; &nbsp; &nbsp;    # optional: closed list of nodes   <br>     \n",
    "&nbsp; &nbsp; <font color=\"green\"><b>while</b></font> <font color=\"purple\"><i>agenda</i></font> is not empty:<br>\n",
    "&nbsp; &nbsp; &nbsp; &nbsp;<font color=\"blue\">1.</font> <font color=\"purple\"><i>path</i></font> = <font color=\"purple\"><i>agenda</i></font>.pop(0)    &nbsp;&nbsp; # remove first element from agenda <br>\n",
    "&nbsp; &nbsp; &nbsp; &nbsp;<font color=\"blue\">2.</font> <font color=\"green\"><b>if</b></font> is-path-to-goal(<font color=\"purple\"><i>path</i></font>, goal)<br>\n",
    "&nbsp; &nbsp; &nbsp; &nbsp;&nbsp;&nbsp;&nbsp;&nbsp;&nbsp;&nbsp;&nbsp;<font color=\"green\"><b>return</b></font> <font color=\"purple\"><i>path</i></font><br>\n",
    "&nbsp; &nbsp; &nbsp; &nbsp;<font color=\"blue\">3.</font> <font color=\"green\"><b>otherwise</b></font> extend <font color=\"purple\"><i>path</i></font> [if the ending node is not in <font color=\"purple\"><i>extended_list</i></font>] <br>\n",
    "&nbsp; &nbsp; &nbsp; &nbsp;&nbsp; &nbsp; &nbsp; &nbsp;[add the ending node to <font color=\"purple\"><i>extended_list</i></font>]<br>\n",
    "&nbsp; &nbsp; &nbsp; &nbsp;&nbsp; &nbsp; &nbsp; &nbsp;<font color=\"green\"><b>for each</b></font> connected node (child node of the ending node of <font color=\"purple\"><i>path</i></font>)<br>\n",
    "&nbsp; &nbsp; &nbsp; &nbsp;&nbsp; &nbsp; &nbsp; &nbsp;&nbsp; &nbsp; &nbsp; &nbsp;            make a <font color=\"purple\"><i>new_path</i></font> that extends the connected node<br>\n",
    "&nbsp; &nbsp; &nbsp; &nbsp;<font color=\"blue\">4.</font> reject all <font color=\"purple\"><i>new paths</i></font> from step <font color=\"blue\">3</font> that contain <i>cycles</i><br> \n",
    "&nbsp; &nbsp; &nbsp; &nbsp;<font color=\"blue\">5.</font><b> add <font color=\"purple\"><i>new paths</i></font> from step <font color=\"blue\">4</font> to <font color=\"purple\"><i>agenda</i></font> then sort the agenda based on heuristic</b><br>\n",
    "&nbsp;&nbsp; &nbsp; &nbsp; &nbsp;&nbsp;&nbsp; &nbsp; &nbsp; &nbsp;&nbsp;&nbsp; &nbsp; &nbsp; &nbsp;&nbsp;&nbsp; &nbsp; &nbsp; &nbsp;       # <b>yay ! another algorithm is \"invented\" </b> <br> \n",
    "<font color=\"blue\">6.</font> <font color=\"green\"><b>return</b></font> <font color=\"purple\"><i>failure</i></font><br>  \n",
    "</div>\n",
    "\n",
    "Note the only difference is which criteria is used to sort the whole agenda!"
   ]
  },
  {
   "cell_type": "code",
   "execution_count": 13,
   "id": "85c07da7",
   "metadata": {
    "slideshow": {
     "slide_type": "subslide"
    }
   },
   "outputs": [],
   "source": [
    "# Python implementation of best first search (based on heuristic only)\n",
    "def my_best_first_search(problem, use_extendedList= False):\n",
    "    agenda = PriorityQueue([Node(problem.initial)], key=problem.h)\n",
    "    #   extended list to keep what states have been extended\n",
    "    extended_list = set()\n",
    "    while agenda:\n",
    "#       PQ.pop() returns the node with the least cost \n",
    "        node = agenda.pop()\n",
    "        if problem.is_goal(node.state):\n",
    "            return node\n",
    "        if use_extendedList:\n",
    "            if node.state not in extended_list:\n",
    "                extended_list.add(node.state)\n",
    "                for child in expand(problem, node):\n",
    "                    if not is_cycle(child):\n",
    "#                       PriorityQueue taks care of this by inserting to \n",
    "#                       an appropriate location that is efficient for further operation\n",
    "                        agenda.add(child)\n",
    "        else:\n",
    "            for child in expand(problem, node):\n",
    "                if not is_cycle(child):\n",
    "                    agenda.add(child)\n",
    "    return failure"
   ]
  },
  {
   "cell_type": "code",
   "execution_count": 14,
   "id": "2b08882c",
   "metadata": {
    "slideshow": {
     "slide_type": "subslide"
    }
   },
   "outputs": [
    {
     "name": "stdout",
     "output_type": "stream",
     "text": [
      "The path found by Best First Search: ['A', 'S', 'F', 'B']\n",
      "450\n"
     ]
    }
   ],
   "source": [
    "print(\"The path found by Best First Search:\", path_states(my_best_first_search(r1, use_extendedList=False)))\n",
    "print(g(my_best_first_search(r1, use_extendedList=False)))"
   ]
  },
  {
   "cell_type": "markdown",
   "id": "4a0d5634",
   "metadata": {
    "slideshow": {
     "slide_type": "slide"
    }
   },
   "source": [
    "# A quick walk-through\n",
    "\n",
    "Skip initialisation step;\n",
    "\n",
    "<font color='blue'><b>Step 1</b></font>:\n",
    "\n",
    "Based on the heuristic, the next node to extended is Sibiu, or path [A,S]\n",
    "  * it is the closest to the goal state Bucharest based on straight-line distance heuristic\n",
    "\n",
    "--------------------------\n",
    "<font color='blue'><b>Tree view</b></font>: \n",
    "![](https://leo.host.cs.st-andrews.ac.uk/figs/figs4CS5010/searching/romBst1.png)\n",
    "\n",
    "--------------------------"
   ]
  },
  {
   "cell_type": "markdown",
   "id": "59d339eb",
   "metadata": {
    "slideshow": {
     "slide_type": "subslide"
    }
   },
   "source": [
    "<font color='blue'><b>Step 2</b></font>:\n",
    "\n",
    "After insertion, resort the agenda based on the heuristic, the next to pop, check and extend is *Fagaras*\n",
    "\n",
    "--------------------------\n",
    "<font color='blue'><b>Tree view</b></font>: \n",
    "![](https://leo.host.cs.st-andrews.ac.uk/figs/figs4CS5010/searching/romBst2_.png)\n",
    "\n",
    "--------------------------"
   ]
  },
  {
   "cell_type": "markdown",
   "id": "c97fa38f",
   "metadata": {
    "slideshow": {
     "slide_type": "subslide"
    }
   },
   "source": [
    "<font color='blue'><b>Step 3</b></font>:\n",
    "\n",
    "Within 3 steps, we have found the solution !\n",
    "\n",
    "The next one to be popped and checked is the destination \n",
    "  * with a distance to itself zero\n",
    "  \n",
    "So BestFS is not optimal but seems very *straight to the point*\n",
    "  * so given the name Greedy search \n",
    "  * make greedy decision each round\n",
    "\n",
    "--------------------------\n",
    "<font color='blue'><b>Tree view</b></font>: \n",
    "![](https://leo.host.cs.st-andrews.ac.uk/figs/figs4CS5010/searching/romBst3_.png)\n",
    "\n",
    "--------------------------"
   ]
  },
  {
   "cell_type": "markdown",
   "id": "a134b780",
   "metadata": {
    "slideshow": {
     "slide_type": "slide"
    }
   },
   "source": [
    "# Demonstration of Best First Search\n",
    "\n",
    "* Check Panopto video\n",
    "* the search is no longer *clueless* but very *directed*"
   ]
  },
  {
   "cell_type": "markdown",
   "id": "b9ce5afe",
   "metadata": {
    "slideshow": {
     "slide_type": "slide"
    }
   },
   "source": [
    "# Hill Climbing \n",
    "\n",
    "\n",
    "If you do not want to sort the **whole** agenda, an alternative is \n",
    "  * to sort only the **newly extended paths** \n",
    "  * and add the sorted paths to the front of the **agenda**\n"
   ]
  },
  {
   "cell_type": "markdown",
   "id": "8dc880ed",
   "metadata": {
    "slideshow": {
     "slide_type": "fragment"
    }
   },
   "source": [
    "Note the difference to Greedy or Best first search\n",
    "  * it only sort the newly extended paths not the whole agenda !\n",
    "\n",
    "The algorithm is called **Hill Climbing**\n",
    "  * similar to DFS (adding to the front)\n",
    "  * but with the help of heuristic \n",
    "  * basically the informed version of DFS"
   ]
  },
  {
   "cell_type": "markdown",
   "id": "710e15b9",
   "metadata": {
    "slideshow": {
     "slide_type": "subslide"
    }
   },
   "source": [
    "Hill Climbing (based on heuristic only) pseudo-code:\n",
    "\n",
    "\n",
    "<div style=\"background-color:rgba(0, 0, 0, 0.0470588); padding:10px 0;font-family:monospace;\">\n",
    "<font color=\"blue\">0.</font>: initialize  <br> \n",
    "&nbsp; &nbsp; <font color=\"purple\"><i>agenda</i></font> = [ [start] ]    &nbsp; &nbsp; &nbsp; &nbsp;&nbsp;    # a list of paths or partial solutions  <br>\n",
    "&nbsp; &nbsp; [<font color=\"purple\"><i>extended_list</i></font> = {};]   &nbsp; &nbsp; &nbsp; &nbsp;    # optional: closed list of nodes   <br>     \n",
    "&nbsp; &nbsp; <font color=\"green\"><b>while</b></font> <font color=\"purple\"><i>agenda</i></font> is not empty:<br>\n",
    "&nbsp; &nbsp; &nbsp; &nbsp;<font color=\"blue\">1.</font> <font color=\"purple\"><i>path</i></font> = <font color=\"purple\"><i>agenda</i></font>.pop(0)    &nbsp;&nbsp; # remove first element from agenda <br>\n",
    "&nbsp; &nbsp; &nbsp; &nbsp;<font color=\"blue\">2.</font> <font color=\"green\"><b>if</b></font> is-path-to-goal(<font color=\"purple\"><i>path</i></font>, goal)<br>\n",
    "&nbsp; &nbsp; &nbsp; &nbsp;&nbsp;&nbsp;&nbsp;&nbsp;&nbsp;&nbsp;&nbsp;<font color=\"green\"><b>return</b></font> <font color=\"purple\"><i>path</i></font><br>\n",
    "&nbsp; &nbsp; &nbsp; &nbsp;<font color=\"blue\">3.</font> <font color=\"green\"><b>otherwise</b></font> extend <font color=\"purple\"><i>path</i></font> [if the ending node is not in <font color=\"purple\"><i>extended_list</i></font>] <br>\n",
    "&nbsp; &nbsp; &nbsp; &nbsp;&nbsp; &nbsp; &nbsp; &nbsp;[add the ending node to <font color=\"purple\"><i>extended_list</i></font>]<br>\n",
    "&nbsp; &nbsp; &nbsp; &nbsp;&nbsp; &nbsp; &nbsp; &nbsp;<font color=\"green\"><b>for each</b></font> connected node (child node of the ending node of <font color=\"purple\"><i>path</i></font>)<br>\n",
    "&nbsp; &nbsp; &nbsp; &nbsp;&nbsp; &nbsp; &nbsp; &nbsp;&nbsp; &nbsp; &nbsp; &nbsp;            make a <font color=\"purple\"><i>new_path</i></font> that extends the connected node<br>\n",
    "&nbsp; &nbsp; &nbsp; &nbsp;<font color=\"blue\">4.</font> reject all <font color=\"purple\"><i>new paths</i></font> from step <font color=\"blue\">3</font> that contain <i>cycles</i><br> \n",
    "&nbsp; &nbsp; &nbsp; &nbsp;<font color=\"blue\">5.</font><b> sort <font color=\"purple\"><i>new paths</i></font> from step <font color=\"blue\">4</font> based on heuristic then add them to the front of <font color=\"purple\"><i>agenda</i></font></b><br>\n",
    "&nbsp;&nbsp; &nbsp; &nbsp; &nbsp;&nbsp;&nbsp; &nbsp; &nbsp; &nbsp;&nbsp;&nbsp; &nbsp; &nbsp; &nbsp;&nbsp;&nbsp; &nbsp; &nbsp; &nbsp;       # <b>yay ! another algorithm is \"invented\" </b> <br> \n",
    "<font color=\"blue\">6.</font> <font color=\"green\"><b>return</b></font> <font color=\"purple\"><i>failure</i></font><br>  \n",
    "</div>\n",
    "\n",
    "Note the only difference is which criteria is used to sort the whole agenda!"
   ]
  },
  {
   "cell_type": "code",
   "execution_count": 15,
   "id": "7c1455df",
   "metadata": {
    "slideshow": {
     "slide_type": "subslide"
    }
   },
   "outputs": [],
   "source": [
    "# Python implementation of best first search (based on heuristic only)\n",
    "def my_hill_climbing_search(problem, use_extendedList= False):\n",
    "    agenda = StackAgenda([Node(problem.initial)])\n",
    "    #   extended list to keep what states have been extended\n",
    "    extended_list = set()\n",
    "    while agenda:\n",
    "#       by default: pop() return the element at -1 (the end of the list)  \n",
    "        node = agenda.pop()\n",
    "        if problem.is_goal(node.state):\n",
    "            return node\n",
    "        if use_extendedList:\n",
    "            if node.state not in extended_list:\n",
    "                extended_list.add(node.state)\n",
    "                children = []\n",
    "                for child in expand(problem, node):\n",
    "                    if not is_cycle(child):\n",
    "#                       append at the end in Python has the same effect as adding at the front\n",
    "#                       as pop() return from -1 by default\n",
    "                        children.append(child)\n",
    "                children.sort(reverse=True, key=problem.h)\n",
    "                agenda.extend(children)\n",
    "        else:\n",
    "            children = []\n",
    "            for child in expand(problem, node):\n",
    "                if not is_cycle(child):\n",
    "                    children.append(child)\n",
    "            children.sort(reverse=True, key=problem.h)\n",
    "            agenda.extend(children)\n",
    "    return failure"
   ]
  },
  {
   "cell_type": "markdown",
   "id": "78d0fe8e",
   "metadata": {
    "slideshow": {
     "slide_type": "subslide"
    }
   },
   "source": [
    "# Demo of Hill Climbing\n",
    "\n",
    "Note the difference between DFS and Hill Climbing\n",
    "  * with the help of heuristic, Hill Climbing no longer finds the detoured route"
   ]
  },
  {
   "cell_type": "code",
   "execution_count": 16,
   "id": "d364e77c",
   "metadata": {
    "slideshow": {
     "slide_type": "fragment"
    }
   },
   "outputs": [
    {
     "name": "stdout",
     "output_type": "stream",
     "text": [
      "The path found by UCS is: ['A', 'S', 'R', 'P', 'B']\n",
      "The path found by DFS is: ['A', 'T', 'L', 'M', 'D', 'C', 'P', 'B']\n",
      "The path found by Hill Climbing is: ['A', 'S', 'F', 'B']\n",
      "The cost of the path found by UCS is: 418\n",
      "The cost of the path found by DFS is: 733\n",
      "The cost of the path found by Hill Climbing is: 450\n"
     ]
    }
   ],
   "source": [
    "print(\"The path found by UCS is:\",path_states(my_uniform_cost_search(r1, use_extendedList=False)))\n",
    "print(\"The path found by DFS is:\", path_states(my_depth_first_search(r1, use_extendedList=False)))\n",
    "print(\"The path found by Hill Climbing is:\", path_states(my_hill_climbing_search(r1, use_extendedList=False)))\n",
    "\n",
    "print(\"The cost of the path found by UCS is:\",g(my_uniform_cost_search(r1, use_extendedList=False)))\n",
    "print(\"The cost of the path found by DFS is:\", g(my_depth_first_search(r1, use_extendedList=False)))\n",
    "print(\"The cost of the path found by Hill Climbing is:\", g(my_hill_climbing_search(r1, use_extendedList=False)))"
   ]
  },
  {
   "cell_type": "markdown",
   "id": "b2a735c9",
   "metadata": {
    "slideshow": {
     "slide_type": "subslide"
    }
   },
   "source": [
    "# Why called Hill Climbing ?\n",
    "   \n",
    "\n",
    "Hill Climbing is very similar to DFS\n",
    "  * new **(sorted)** paths are added to the front of agenda\n",
    "  * it inherits most properties of DFS  \n",
    "    * go as far as possible \n",
    "    * but guided by heuristic at each location\n",
    "  \n",
    "\n",
    "As a result, the searching behaves like climbing a **hill** that is closest to the starting point\n",
    "  * go as far as possible \n",
    "    * at each junction/location, choose the best next direction (climb a hill of the current branch)\n",
    "  * no return to check another hill might be better \n",
    "  * what it find might be local optimum !"
   ]
  },
  {
   "cell_type": "markdown",
   "id": "24f06859",
   "metadata": {
    "slideshow": {
     "slide_type": "subslide"
    }
   },
   "source": [
    "If the state space is continuous, **Hill Climbing**'s equivalence is **Gradient Ascent**\n",
    "  * solution found by Hill Climbing depends on the starting point\n",
    "  * likely to return a local optimum rather than the optimal \n",
    "  \n",
    "Remedy is to restart the search a few times from multiple random intial positions\n",
    "  * return the optimal among optimals\n",
    "\n",
    "![](https://leo.host.cs.st-andrews.ac.uk/figs/figs4CS5010/searching/hillclimbing.png)"
   ]
  },
  {
   "cell_type": "code",
   "execution_count": 17,
   "id": "d497c48d",
   "metadata": {
    "slideshow": {
     "slide_type": "slide"
    }
   },
   "outputs": [
    {
     "name": "stdout",
     "output_type": "stream",
     "text": [
      "my_breadth_first_search:\n",
      "       34 node extended|       14 goal tested|  450 cost |       3 length | RouteProblem('A', 'B')\n",
      "       83 node extended|       34 goal tested| 1085 cost |       9 length | RouteProblem('N', 'L')\n",
      "       55 node extended|       23 goal tested|  837 cost |       7 length | RouteProblem('E', 'T')\n",
      "       77 node extended|       29 goal tested|  445 cost |       5 length | RouteProblem('O', 'M')\n",
      "      112 node extended|       47 goal tested|  579 cost |       5 length | RouteProblem('S', 'E')\n",
      "      361 node extended|      147 goal tested| 3396 cost |      29 length | TOTAL\n",
      "\n",
      "my_depth_first_search:\n",
      "       17 node extended|        8 goal tested|  733 cost |       7 length | RouteProblem('A', 'B')\n",
      "       36 node extended|       16 goal tested| 1240 cost |      11 length | RouteProblem('N', 'L')\n",
      "       29 node extended|       12 goal tested|  992 cost |       9 length | RouteProblem('E', 'T')\n",
      "       35 node extended|       16 goal tested|  895 cost |       7 length | RouteProblem('O', 'M')\n",
      "       15 node extended|        6 goal tested|  579 cost |       5 length | RouteProblem('S', 'E')\n",
      "      132 node extended|       58 goal tested| 4439 cost |      39 length | TOTAL\n",
      "\n",
      "my_uniform_cost_search:\n",
      "       43 node extended|       18 goal tested|  418 cost |       4 length | RouteProblem('A', 'B')\n",
      "       73 node extended|       30 goal tested|  910 cost |       9 length | RouteProblem('N', 'L')\n",
      "       79 node extended|       33 goal tested|  805 cost |       8 length | RouteProblem('E', 'T')\n",
      "       46 node extended|       18 goal tested|  445 cost |       5 length | RouteProblem('O', 'M')\n",
      "       93 node extended|       39 goal tested|  547 cost |       6 length | RouteProblem('S', 'E')\n",
      "      334 node extended|      138 goal tested| 3125 cost |      32 length | TOTAL\n",
      "\n",
      "my_best_first_search:\n",
      "        9 node extended|        4 goal tested|  450 cost |       3 length | RouteProblem('A', 'B')\n",
      "       28 node extended|       12 goal tested| 1207 cost |      11 length | RouteProblem('N', 'L')\n",
      "       19 node extended|        8 goal tested|  837 cost |       7 length | RouteProblem('E', 'T')\n",
      "       14 node extended|        6 goal tested|  572 cost |       5 length | RouteProblem('O', 'M')\n",
      "       15 node extended|        6 goal tested|  579 cost |       5 length | RouteProblem('S', 'E')\n",
      "       85 node extended|       36 goal tested| 3645 cost |      31 length | TOTAL\n",
      "\n",
      "my_hill_climbing_search:\n",
      "        9 node extended|        4 goal tested|  450 cost |       3 length | RouteProblem('A', 'B')\n",
      "       28 node extended|       12 goal tested| 1207 cost |      11 length | RouteProblem('N', 'L')\n",
      "       19 node extended|        8 goal tested|  837 cost |       7 length | RouteProblem('E', 'T')\n",
      "       14 node extended|        6 goal tested|  572 cost |       5 length | RouteProblem('O', 'M')\n",
      "       15 node extended|        6 goal tested|  579 cost |       5 length | RouteProblem('S', 'E')\n",
      "       85 node extended|       36 goal tested| 3645 cost |      31 length | TOTAL\n",
      "\n"
     ]
    }
   ],
   "source": [
    "report([my_breadth_first_search, my_depth_first_search, my_uniform_cost_search, my_best_first_search, my_hill_climbing_search], [r1,r2,r3,r4,r5])  "
   ]
  },
  {
   "cell_type": "markdown",
   "id": "d3393539",
   "metadata": {
    "slideshow": {
     "slide_type": "slide"
    }
   },
   "source": [
    "# Beam Search\n",
    "\n",
    "\n",
    "Beam search is the informed version of Breadth first search (BFS)\n",
    "  * visit nodes based on the number of hops away from the root: $l$ tiers first then $l+1$\n",
    "  * but is it significantly more space efficient\n",
    "\n",
    "It achieves this by trimming the search tree based on heuristic \n",
    "\n",
    "It requires an extra parameter called **beam size**: K\n",
    "  * trim less optimal paths early on "
   ]
  },
  {
   "cell_type": "markdown",
   "id": "bf671069",
   "metadata": {
    "slideshow": {
     "slide_type": "fragment"
    }
   },
   "source": [
    "Specifically, Beam Search's agenda reorganisation step (step 5) is:\n",
    "\n",
    "* only keep the **best K paths** of each tier $l$\n",
    "\n",
    "\n",
    "So the space complexity if linear $O(kd)$"
   ]
  },
  {
   "cell_type": "markdown",
   "id": "b3a58b83",
   "metadata": {
    "slideshow": {
     "slide_type": "subslide"
    }
   },
   "source": [
    "![](https://ars.els-cdn.com/content/image/1-s2.0-S0377221798003191-gr1.gif)"
   ]
  },
  {
   "cell_type": "markdown",
   "id": "ce1f55ce",
   "metadata": {
    "slideshow": {
     "slide_type": "subslide"
    }
   },
   "source": [
    "Beam Search pseudo-code:\n",
    "\n",
    "\n",
    "<div style=\"background-color:rgba(0, 0, 0, 0.0470588); padding:10px 0;font-family:monospace;\">\n",
    "<font color=\"blue\">0.</font>: initialize  <br> \n",
    "&nbsp; &nbsp; <font color=\"purple\"><i>agenda</i></font> = [ [start] ]    &nbsp; &nbsp; &nbsp; &nbsp;&nbsp;    # a list of paths or partial solutions  <br>\n",
    "&nbsp; &nbsp; [<font color=\"purple\"><i>extended_list</i></font> = {};]   &nbsp; &nbsp; &nbsp; &nbsp;    # optional: closed list of nodes   <br>     \n",
    "&nbsp; &nbsp; <font color=\"green\"><b>while</b></font> <font color=\"purple\"><i>agenda</i></font> is not empty:<br>\n",
    "&nbsp; &nbsp; &nbsp; &nbsp;<font color=\"blue\">1.</font> <font color=\"purple\"><i>path</i></font> = <font color=\"purple\"><i>agenda</i></font>.pop(0)    &nbsp;&nbsp; # remove first element from agenda <br>\n",
    "&nbsp; &nbsp; &nbsp; &nbsp;<font color=\"blue\">2.</font> <font color=\"green\"><b>if</b></font> is-path-to-goal(<font color=\"purple\"><i>path</i></font>, goal)<br>\n",
    "&nbsp; &nbsp; &nbsp; &nbsp;&nbsp;&nbsp;&nbsp;&nbsp;&nbsp;&nbsp;&nbsp;<font color=\"green\"><b>return</b></font> <font color=\"purple\"><i>path</i></font><br>\n",
    "&nbsp; &nbsp; &nbsp; &nbsp;<font color=\"blue\">3.</font> <font color=\"green\"><b>otherwise</b></font> extend <font color=\"purple\"><i>path</i></font> [if the ending node is not in <font color=\"purple\"><i>extended_list</i></font>] <br>\n",
    "&nbsp; &nbsp; &nbsp; &nbsp;&nbsp; &nbsp; &nbsp; &nbsp;[add the ending node to <font color=\"purple\"><i>extended_list</i></font>]<br>\n",
    "&nbsp; &nbsp; &nbsp; &nbsp;&nbsp; &nbsp; &nbsp; &nbsp;<font color=\"green\"><b>for each</b></font> connected node (child node of the ending node of <font color=\"purple\"><i>path</i></font>)<br>\n",
    "&nbsp; &nbsp; &nbsp; &nbsp;&nbsp; &nbsp; &nbsp; &nbsp;&nbsp; &nbsp; &nbsp; &nbsp;            make a <font color=\"purple\"><i>new_path</i></font> that extends the connected node<br>\n",
    "&nbsp; &nbsp; &nbsp; &nbsp;<font color=\"blue\">4.</font> reject all <font color=\"purple\"><i>new paths</i></font> from step <font color=\"blue\">3</font> that contain <i>cycles</i><br> \n",
    "&nbsp; &nbsp; &nbsp; &nbsp;<font color=\"blue\">5.</font><b> add <font color=\"purple\"><i>new paths</i></font> (the length of new paths is $l$) from step <font color=\"blue\">4</font> to the back of <font color=\"purple\"><i>agenda</i></font>; only keep the best K path of length $l$ based on heuristic</b><br>\n",
    "&nbsp;&nbsp; &nbsp; &nbsp; &nbsp;&nbsp;&nbsp; &nbsp; &nbsp; &nbsp;&nbsp;&nbsp; &nbsp; &nbsp; &nbsp;&nbsp;&nbsp; &nbsp; &nbsp; &nbsp;       # <b>yay ! another algorithm is \"invented\" </b> <br> \n",
    "<font color=\"blue\">6.</font> <font color=\"green\"><b>return</b></font> <font color=\"purple\"><i>failure</i></font><br>  \n",
    "</div>\n",
    "\n",
    "At each tier, we have only $K$ best paths left in agenda!"
   ]
  },
  {
   "cell_type": "markdown",
   "id": "2499b301",
   "metadata": {
    "slideshow": {
     "slide_type": "slide"
    }
   },
   "source": [
    "# Summary\n",
    "\n",
    "* Informed searching algorithm variants\n",
    "  * Greedy search or Best first search (informed version of UCS)\n",
    "  * Hill climbing (informed version of DFS)\n",
    "  * Beam search (informed version of BFS)"
   ]
  }
 ],
 "metadata": {
  "celltoolbar": "Slideshow",
  "kernelspec": {
   "display_name": "Python 3",
   "language": "python",
   "name": "python3"
  },
  "language_info": {
   "codemirror_mode": {
    "name": "ipython",
    "version": 3
   },
   "file_extension": ".py",
   "mimetype": "text/x-python",
   "name": "python",
   "nbconvert_exporter": "python",
   "pygments_lexer": "ipython3",
   "version": "3.8.8"
  }
 },
 "nbformat": 4,
 "nbformat_minor": 5
}
