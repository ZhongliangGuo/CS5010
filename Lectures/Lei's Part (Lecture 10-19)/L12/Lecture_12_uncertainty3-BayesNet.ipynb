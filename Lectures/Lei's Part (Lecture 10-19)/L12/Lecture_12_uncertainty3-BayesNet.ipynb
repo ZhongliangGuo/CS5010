{
 "cells": [
  {
   "cell_type": "code",
   "execution_count": 1,
   "id": "2f5d0fbc",
   "metadata": {
    "slideshow": {
     "slide_type": "skip"
    }
   },
   "outputs": [],
   "source": [
    "import matplotlib.pyplot as plt\n",
    "from scipy.stats import binom\n",
    "import numpy as np\n",
    "import math\n",
    "import scipy.stats as stats\n",
    "# to use hedgehog, one needs to install two packages vose and hedgehog\n",
    "# pip install git+https://github.com/MaxHalford/vose\n",
    "# pip install git+https://github.com/MaxHalford/hedgehog\n",
    "# you may also need to install graphviz to plot PGM\n",
    "# conda install -c conda-forge python-graphviz \n",
    "import hedgehog as hh\n",
    "import pandas as pd\n",
    "from scipy.special import logsumexp\n",
    "from IPython.display import Markdown as md\n",
    "def hide_code_in_slideshow():   \n",
    "    from IPython import display\n",
    "    import binascii\n",
    "    import os\n",
    "    uid = binascii.hexlify(os.urandom(8)).decode()    \n",
    "    html = \"\"\"<div id=\"%s\"></div>\n",
    "    <script type=\"text/javascript\">\n",
    "        $(function(){\n",
    "            var p = $(\"#%s\");\n",
    "            if (p.length==0) return;\n",
    "            while (!p.hasClass(\"cell\")) {\n",
    "                p=p.parent();\n",
    "                if (p.prop(\"tagName\") ==\"body\") return;\n",
    "            }\n",
    "            var cell = p;\n",
    "            cell.find(\".input\").addClass(\"hide-in-slideshow\")\n",
    "        });\n",
    "    </script>\"\"\" % (uid, uid)\n",
    "    display.display_html(html, raw=True)\n",
    "#  a hack to hide code from cell: https://github.com/damianavila/RISE/issues/32    "
   ]
  },
  {
   "cell_type": "code",
   "execution_count": 2,
   "id": "ab557735",
   "metadata": {
    "slideshow": {
     "slide_type": "skip"
    }
   },
   "outputs": [
    {
     "data": {
      "text/plain": "<IPython.core.display.HTML object>",
      "text/html": "<style>\n .container.slides .celltoolbar, .container.slides .hide-in-slideshow {\n    display: None ! important;\n}\n</style>\n\n"
     },
     "metadata": {},
     "output_type": "display_data"
    }
   ],
   "source": [
    "%%html\n",
    "<style>\n",
    " .container.slides .celltoolbar, .container.slides .hide-in-slideshow {\n",
    "    display: None ! important;\n",
    "}\n",
    "</style>"
   ]
  },
  {
   "cell_type": "code",
   "execution_count": 3,
   "id": "92ccd2dd",
   "metadata": {
    "slideshow": {
     "slide_type": "skip"
    }
   },
   "outputs": [
    {
     "data": {
      "text/plain": "<IPython.core.display.HTML object>",
      "text/html": "\n<style>\n.output_png {\n    display: table-cell;\n    text-align: center;\n    vertical-align: middle;\n}\n</style>\n"
     },
     "execution_count": 3,
     "metadata": {},
     "output_type": "execute_result"
    }
   ],
   "source": [
    "from IPython.core.display import HTML\n",
    "HTML(\"\"\"\n",
    "<style>\n",
    ".output_png {\n",
    "    display: table-cell;\n",
    "    text-align: center;\n",
    "    vertical-align: middle;\n",
    "}\n",
    "</style>\n",
    "\"\"\")"
   ]
  },
  {
   "cell_type": "markdown",
   "id": "2e4d7080",
   "metadata": {
    "slideshow": {
     "slide_type": "slide"
    }
   },
   "source": [
    "# CS5010 Artificial Intelligence Principles\n",
    "### Lecture 12 Uncertainty 3\n",
    "#### Bayesian (Belief) Networks \n",
    "\n",
    "Lei Fang\n",
    "\n",
    "University of St Andrews"
   ]
  },
  {
   "cell_type": "markdown",
   "id": "a5eefd83",
   "metadata": {
    "slideshow": {
     "slide_type": "slide"
    }
   },
   "source": [
    "# Last time\n",
    "\n",
    "\n",
    "* Probabilistic inference: $P(\\text{Query}|\\text{Evidence})$\n",
    "\n",
    "* Conditional independence assumption: $P(X_1, X_2|C) = P(X_1|C) P(X_2|C)$ or equivalently $P(X_1|C, X_2) = P(X_1|C)$\n",
    "  * e.g. knowing you are infected with COVID, two tests results become indepedent \n",
    "  * marginally, they are dependent! one positive result influence the other:\n",
    "  $P(X_1, X_2)\\neq P(X_1)P(X_2)$"
   ]
  },
  {
   "cell_type": "markdown",
   "id": "ffc4f42a",
   "metadata": {
    "slideshow": {
     "slide_type": "slide"
    }
   },
   "source": [
    "# This time\n",
    "\n",
    "- Bayesian network: a graphical representation of probabilistic model\n",
    "  * also known as: directed probabilistic graphical model, Baye's net, Bayesian belief networks ...\n",
    "  * easier for human to model\n",
    "  * make automated machine inference/learning possible (automated inference $\\Rightarrow$ AI)\n",
    " \n",
    "- Exact inference of Bayesian network"
   ]
  },
  {
   "cell_type": "markdown",
   "id": "3b84c94d",
   "metadata": {
    "slideshow": {
     "slide_type": "slide"
    }
   },
   "source": [
    "# Recap: coin tossing example \n",
    "\n",
    "Two coins with $p_1 = 0.5$ and $p_2 = 0.2$, your friend randomly picks one and flipping that coin three times and records the result. "
   ]
  },
  {
   "cell_type": "markdown",
   "id": "33cd1c4b",
   "metadata": {
    "slideshow": {
     "slide_type": "fragment"
    }
   },
   "source": [
    "Random variables: $C, Y_1, Y_2, Y_3$\n",
    "  * $C = 1,2$: coin choice\n",
    "  * $Y_1, Y_2, Y_3$: tossing results, each either `head` or `tail`\n",
    "\n",
    "Rememember the notation: \n",
    "  * capital letters, e.g. $C$, $Y_1$, are random variables, \n",
    "  * smaller cases, e.g. `head`, `tail`, are the realisations or values the r.v.s take; "
   ]
  },
  {
   "cell_type": "markdown",
   "id": "852f5e02",
   "metadata": {
    "slideshow": {
     "slide_type": "subslide"
    }
   },
   "source": [
    "# Recap: conditional Independence (CI)\n",
    "\n",
    "* For the coin example, the conditional independence assumption: knowing the coin in use, the tosses become independent: $$P(Y_1, Y_2, Y_3|C) = P(Y_1|C)P(Y_2|C)P(Y_3|C)$$\n",
    "\n",
    "* Equivalently, CI also means: $P(Y_1 |C, Y_2, Y_3) = P(Y_1|C)$, $P(Y_1 |C, Y_2) = P(Y_1|C)$, $P(Y_1 |C, Y_3) = P(Y_1|C)$\n",
    "  * intuition: $C$ provides all the information required, adding more does *not* affect the distribution"
   ]
  },
  {
   "cell_type": "markdown",
   "id": "dce035d0",
   "metadata": {
    "slideshow": {
     "slide_type": "subslide"
    }
   },
   "source": [
    "Note that **marginally**, or without the condition, the tosses are not independent ! $$P(Y_1, Y_2, Y_3) \\neq P(Y_1)P(Y_2)P(Y_3)$$\n",
    "\n",
    "E.g. "
   ]
  },
  {
   "cell_type": "markdown",
   "id": "52a0b5c4",
   "metadata": {
    "slideshow": {
     "slide_type": "fragment"
    }
   },
   "source": [
    "* by sum rule, then chain rule, then CI assumption:\n",
    "  $$\\begin{align}P(Y_1=t, Y_2=t, Y_3=t) &= \\sum_{c=1,2} P(C=c, Y_1=t, Y_2=t, Y_3=t) \\\\\n",
    "  &= \\sum_{c=1,2} P(c)P(t, t, t|c) \\\\\n",
    "  &= \\sum_{c=1,2} P(c)P(t|c)P(t|c)P(t|c)\\\\\n",
    "  &= 0.5\\cdot 0.5^3 + 0.5\\cdot 0.8^3 = \\textbf{0.319}\\end{align}$$"
   ]
  },
  {
   "cell_type": "markdown",
   "id": "c9a45cc1",
   "metadata": {
    "slideshow": {
     "slide_type": "fragment"
    }
   },
   "source": [
    "* to calculate $P(Y_1)$, we follow the same: sum (more to marginalise here)+chain+CI:\n",
    "$$\\begin{align}P(Y_1=t) &= \\sum_{c=1,2}\\sum_{y_2=h,t}\\sum_{y_3=h,t} P(c)P(Y_1=t|c)P(y_2|c)P(y_3|c) = \\sum_{c=1,2}P(c)P(Y_1=t|c) \\sum_{y_2}\\sum_{y_3} P(y_2|c)P(y_3|c)\\\\\n",
    "&= \\sum_{c=1,2}P(c)P(Y_1=t|c) \\underbrace{\\sum_{y_2}P(y_2|c) \\sum_{y_3} P(y_3|c)}_{1\\times 1}= 0.65\\end{align}$$\n",
    "$P(Y_2=t) = P(Y_3=t) = 0.65; \\text{so }P(Y_1=t)P(Y_2=t)P(Y_3=t) = 0.65^3 = \\textbf{0.275}$\n",
    "\n",
    "* not independent: $P(Y_1=t, Y_2=t, Y_3=t) \\neq P(Y_1=t) P(Y_2=t) P(Y_3=t)$"
   ]
  },
  {
   "cell_type": "markdown",
   "id": "0dbf51da",
   "metadata": {
    "slideshow": {
     "slide_type": "subslide"
    }
   },
   "source": [
    "Alternatively, you can simply verify e.g.\n",
    "\n",
    "$$P(Y_3=t|Y_2=t, Y_1=t) \\neq P(Y_3=t|Y_1=t) \\neq P(Y_3=t)$$\n",
    "\n",
    "Because of the other independence definition: if $X,Y$ are independent, then $P(X|Y) = P(X)$\n",
    "\n",
    "You should try it as an exercise!"
   ]
  },
  {
   "cell_type": "markdown",
   "id": "b47db865",
   "metadata": {
    "slideshow": {
     "slide_type": "slide"
    }
   },
   "source": [
    "# Recap: CI assumption simplifies joint distribution\n",
    "\n",
    "Due to chain rule $$P(C, Y_1, Y_2, Y_3) = P(C)P(Y_1, Y_2,Y_3|C)$$\n",
    "\n",
    "\n",
    "Due to the conditional independence (CI) assumption we have\n",
    "\n",
    "$$P(C, Y_1, Y_2,Y_3) = P(C)\\prod_{i=1}^3P(Y_i|C)$$\n",
    "\n",
    "Reduce the number of parameters from $2^4-1$ to $3$"
   ]
  },
  {
   "cell_type": "markdown",
   "id": "f98bb013",
   "metadata": {
    "slideshow": {
     "slide_type": "fragment"
    }
   },
   "source": [
    "# Recap: probabilistic inference\n",
    "\n",
    "Probabilistic inference: $$P(\\text{Query}|\\text{Evidence}): P(Y_3|Y_1=\\text{head}, Y_2=\\text{head})$$"
   ]
  },
  {
   "cell_type": "markdown",
   "id": "94f494aa",
   "metadata": {
    "slideshow": {
     "slide_type": "fragment"
    }
   },
   "source": [
    "Evidence: $\\{Y_1, Y_2 \\}$"
   ]
  },
  {
   "cell_type": "markdown",
   "id": "e1c4e3e8",
   "metadata": {
    "slideshow": {
     "slide_type": "fragment"
    }
   },
   "source": [
    "Query: $\\{Y_3\\}$"
   ]
  },
  {
   "cell_type": "markdown",
   "id": "074430bf",
   "metadata": {
    "slideshow": {
     "slide_type": "fragment"
    }
   },
   "source": [
    "Hidden (Nuisance) r.v.: $\\{C\\}$\n",
    "  * $\\{\\text{All}\\}/ (\\text{Evidence } \\cup \\text{ Query})$"
   ]
  },
  {
   "cell_type": "markdown",
   "id": "9572ac60",
   "metadata": {
    "slideshow": {
     "slide_type": "slide"
    }
   },
   "source": [
    "# Digress: Graph and Directed Acyclic Graph (DAG)\n",
    "\n",
    "Graph is a data structure consists of: $$G = \\{V, E\\}$$\n",
    "  * a set of **vertices** $V=\\{X, Y, Z\\}$, \n",
    "  * a set of **edges** $E=\\{(X,Y), (Y,Z)\\}$: \n",
    "    * an edge is an un-ordered pairs of nodes e.g $(X, Y)$ $(Y,X)$ is the same\n",
    "    * the relationship is mutual or symmetric: e.g. neighour, friendship (?)\n",
    "    \n",
    "<center><img src=\"./figs/graph.png\" width = \"600\" height=\"500\"/></center>  "
   ]
  },
  {
   "cell_type": "markdown",
   "id": "9050a903",
   "metadata": {
    "slideshow": {
     "slide_type": "subslide"
    }
   },
   "source": [
    "A **directed** graph is a a graph with **directed** edges, i.e. the edges are **ordered** pairs\n",
    "  * direction matters: $(X, Y)$ are not the same as $(Y, X)$\n",
    "  * asymmetric relationship: parent to child relationship (reverse is not true)\n",
    "    \n",
    "<center><img src=\"./figs/directedGraph.png\" width = \"600\" height=\"500\"/></center>  \n",
    "\n",
    "$\\textbf{parent}(\\cdot)$ returns the set of parent nodes, e.g.\n",
    "\n",
    "$$\\text{parent}(Y) = \\{X, Z\\}$$"
   ]
  },
  {
   "cell_type": "markdown",
   "id": "1b412224",
   "metadata": {
    "slideshow": {
     "slide_type": "subslide"
    }
   },
   "source": [
    "A directed **acyclic** graph (DAG) is a directed graph **without** cycles \n",
    "  * a cycle: directed path starts and ends at the same node"
   ]
  },
  {
   "cell_type": "markdown",
   "id": "3122c51f",
   "metadata": {
    "slideshow": {
     "slide_type": "fragment"
    }
   },
   "source": [
    "**NOT a DAG**: cycles NOT allowed\n",
    "\n",
    "$Y_1 \\Rightarrow X$, then cycle: $X\\Rightarrow Y_1\\Rightarrow X$, （would be an **invalid** Baye's net!）\n",
    "\n",
    "<center><img src=\"./figs/diceExampleDCG.png\" width = \"400\" height=\"500\"/></center>"
   ]
  },
  {
   "cell_type": "markdown",
   "id": "685d87dc",
   "metadata": {
    "slideshow": {
     "slide_type": "subslide"
    }
   },
   "source": [
    "A valid DAG: multiple paths are allowed\n",
    "  * two possible paths from $X$ to $Y_2$: $X\\Rightarrow Y_2$ and $X \\Rightarrow Y_1 \\Rightarrow Y_2$\n",
    "  * still **acyclic** though\n",
    "\n",
    "<center><img src=\"./figs/diceExampleDAG.png\" width = \"400\" height=\"500\"/></center>"
   ]
  },
  {
   "cell_type": "markdown",
   "id": "038da9d0",
   "metadata": {
    "slideshow": {
     "slide_type": "slide"
    }
   },
   "source": [
    "# Bayesian net: a DAG with CPTs $\\text{bn} = \\{G, \\{P\\}\\}$\n",
    "\n",
    "\n",
    "A Bayesian network is a graphical representation of a probabilistic model\n",
    "\n",
    "\n",
    "It consists of a **Directed Acyclic Graph (DAG)**, $G$ together with conditional probability tables **CPTs**, $\\{P(X_i|\\ldots)\\}$\n",
    "  * DAG **G**: \n",
    "    * $V=\\{X_1, X_2, \\ldots, X_n\\}$, one random variable per vertex (also called node) \n",
    "    * $E$, directed edges represent (conditional) dependences between r.v.s\n",
    "  * **CPTs**: $P(X_i|\\text{parent}(X_i))$, one $P$ for each vertex or r.v.\n",
    "\n",
    "<!-- Why we need a Bayesian network ? \n",
    "  * easier for human to model (we prefer visual graphical syntax to math equations after all)\n",
    "  * also easier for machine computation (make automated algorithmic inference) -->"
   ]
  },
  {
   "cell_type": "markdown",
   "id": "f2fcbcc7",
   "metadata": {
    "slideshow": {
     "slide_type": "fragment"
    }
   },
   "source": [
    "For our previous example, the BN representation would contain 4 nodes (one for each r.v.)\n",
    "\n",
    "<center><img src=\"./figs/diceExample0.png\" width = \"600\" height=\"500\"/></center>"
   ]
  },
  {
   "cell_type": "markdown",
   "id": "3dab63b7",
   "metadata": {
    "slideshow": {
     "slide_type": "subslide"
    }
   },
   "source": [
    "**Edges** are added for the conditional independence structure \n",
    "<center><img src=\"./figs/diceExample.png\" width = \"400\" height=\"500\"/></center>\n",
    "\n",
    "Recall $P(C, Y_1, Y_2,\\ldots, Y_5) = P(C)\\prod_{i=1}^n P(Y_i|C)$\n",
    "\n",
    "  * edge here means _direct influence_ from parent nodes to child nodes\n",
    "  * the result of $Y_i$ depends on the coin choice $C$"
   ]
  },
  {
   "cell_type": "markdown",
   "id": "28a4c67d",
   "metadata": {
    "slideshow": {
     "slide_type": "slide"
    }
   },
   "source": [
    "# Conditional probability tables (CPT)\n",
    "\n",
    "For each random variable (or node), there is one conditional probability distribution to specify\n",
    "  $$P(X_i|\\text{parent}(X_i))$$\n",
    "  * $\\text{parent}(X_i)$ return the parent nodes of $X_i$\n",
    "\n",
    "How many parameters do we need for $P(X_i|\\text{parent}(X_i))$?"
   ]
  },
  {
   "cell_type": "markdown",
   "id": "d1230133",
   "metadata": {
    "slideshow": {
     "slide_type": "fragment"
    }
   },
   "source": [
    "  * remember conditional distribution are distributions as well\n",
    "  * depends on the dize of $\\text{parent}(X)$: $O((k-1)\\cdot k^{|\\text{parent}(X)|})$\n",
    "    * where $k$ is the average possible values a r.v can take\n",
    "      * e.g. $k=2$ for binary choice, like $C, Y_i$\n",
    "    * ${|\\text{parent}(X)|}$ is the number of parents of $X$  \n",
    "    * one for each combination of $X$'s parent nodes' realisation\n",
    "      * if all r.v. are binary, $O(2^{|\\text{parent}(X)|})$"
   ]
  },
  {
   "cell_type": "markdown",
   "id": "31f798e3",
   "metadata": {
    "slideshow": {
     "slide_type": "fragment"
    }
   },
   "source": [
    "Basically, CPTs are a set of distribution tables (one for each node or r.v.), denoted as $\\{P\\}$"
   ]
  },
  {
   "cell_type": "markdown",
   "id": "9e30a480",
   "metadata": {
    "slideshow": {
     "slide_type": "slide"
    }
   },
   "source": [
    "# Example: Conditional Probability Tables (CPT)\n",
    "\n",
    "<center><img src=\"./figs/diceExample.png\" width = \"400\" height=\"500\"/></center>\n",
    "\n",
    "For node Coin Choice (short-handed as $C$), the CPT is $P(C)$\n",
    "  * as there is no parent, there is no conditions to worry about\n",
    "\n",
    "|C   | P(C=c) |\n",
    "| --- | ---  | \n",
    "| 1   | 0.5 | \n",
    "| 2   | 0.5 | "
   ]
  },
  {
   "cell_type": "markdown",
   "id": "f164f862",
   "metadata": {
    "slideshow": {
     "slide_type": "fragment"
    }
   },
   "source": [
    "One may also represent the CPT as a **fat** or **short** table \n",
    "\n",
    "| C=1  | C=2 |\n",
    "| --- | ---  | \n",
    "| 0.5   | 0.5 | "
   ]
  },
  {
   "cell_type": "markdown",
   "id": "319abee5",
   "metadata": {
    "slideshow": {
     "slide_type": "fragment"
    }
   },
   "source": [
    "  * for $P(C)$, just one parameter is needed as $C$ is binary\n",
    "    * the other is just $P(C=2)=1-P(C=1)$"
   ]
  },
  {
   "cell_type": "markdown",
   "id": "7ac366ca",
   "metadata": {
    "slideshow": {
     "slide_type": "subslide"
    }
   },
   "source": [
    "<center><img src=\"./figs/diceExample.png\" width = \"400\" height=\"500\"/></center>\n",
    "\n",
    "For node $Y_i$, the CPT $P(Y_i|C)$\n",
    "  \n",
    "|C   | $Y_i$ |P($Y_i$\\|C=c) |\n",
    "| ---| ---   | ---     |\n",
    "| 1  | head | 0.5 |\n",
    "| 1  | tail | 0.5 |\n",
    "| 2  | head | 0.2 |\n",
    "| 2  | tail | 0.8 |\n",
    "\n",
    "or **fat/short** CPT table \n",
    "\n",
    "|C   | head | tail |\n",
    "| ---| ---   | ---     |\n",
    "| 1  | 0.5 | 0.5 |\n",
    "| 1  | 0.2 | 0.8 |\n",
    "\n",
    "\n",
    "  * only one parent node, i.e. $\\text{parent}(Y_i) = \\{C\\}$\n",
    "  * we need $2^1$ distrubtions to specify: namely $P(Y_i|C=1)$ and $P(Y_i|C=2)$\n",
    "    * one parameter for each: conditional distributions are distributions"
   ]
  },
  {
   "cell_type": "markdown",
   "id": "5e581c11",
   "metadata": {
    "slideshow": {
     "slide_type": "slide"
    }
   },
   "source": [
    "# Draw everything together: a full BN\n",
    "\n",
    "A Baye's net is: the DAG together with the (fat) CPTs, or $\\text{bn}=\\{G, \\{P\\}\\}$\n",
    "\n",
    "<center><img src=\"./figs/coinBN2.png\" width = \"500\" height=\"500\"/></center>"
   ]
  },
  {
   "cell_type": "markdown",
   "id": "d37aeec4",
   "metadata": {
    "slideshow": {
     "slide_type": "fragment"
    }
   },
   "source": [
    "In total, for this model, we only need 1+2 = 3 parameters\n",
    "  * one for $P(C)$ and two for all $P(Y_i|C)$\n",
    "  * remember $P(Y_i|C)$ are shared among all $Y_i$"
   ]
  },
  {
   "cell_type": "markdown",
   "id": "cb64639b",
   "metadata": {
    "slideshow": {
     "slide_type": "subslide"
    }
   },
   "source": [
    "# Plate notation to simplify repeated models\n",
    "\n",
    "You may also see \"plate\" notation to simplify the graphical representation\n",
    "\n",
    "For independent and identically distributed r.v.s e.g. $P(Y_i|C)$ for $i =1,2,3$, plate notation is handy\n",
    "\n",
    "Just like a for loop, the two represent the same thing.\n",
    "\n",
    "<center><img src=\"./figs/coinPlate.png\" width = \"300\" height=\"400\"/></center>"
   ]
  },
  {
   "cell_type": "markdown",
   "id": "7a8d5fa1",
   "metadata": {
    "slideshow": {
     "slide_type": "slide"
    }
   },
   "source": [
    "# Another Baye's network example\n",
    "\n",
    "I’m at work. My neighbor John calls to say my alarm is ringing but neighbor\n",
    "Mary doesn’t call. Sometimes the alarm is set off by minor earthquake. So Is there a\n",
    "burglar?\n",
    "\n",
    "\n",
    "What are the random variables ?"
   ]
  },
  {
   "cell_type": "markdown",
   "id": "35f01a52",
   "metadata": {
    "slideshow": {
     "slide_type": "fragment"
    }
   },
   "source": [
    "Burglar, Earthquake, Alarm, John Calls, Mary Calls\n",
    "  * all of them are binary: true or false"
   ]
  },
  {
   "cell_type": "markdown",
   "id": "46666982",
   "metadata": {
    "slideshow": {
     "slide_type": "fragment"
    }
   },
   "source": [
    "A network topology reflects \"causal\" inflence relationships\n",
    "  * a burglar can set the alarm off\n",
    "  * an earthquake can set the alarm off\n",
    "  * the alarm can cause Mary to call me\n",
    "  * the alarm can cause John to call me "
   ]
  },
  {
   "cell_type": "markdown",
   "id": "02dd3d7a",
   "metadata": {
    "slideshow": {
     "slide_type": "subslide"
    }
   },
   "source": [
    "# Example continued\n",
    "\n",
    "\n",
    "<center><img src=\"./figs/burglar.png\" width = \"400\" height=\"500\"/></center>"
   ]
  },
  {
   "cell_type": "markdown",
   "id": "7a560215",
   "metadata": {
    "slideshow": {
     "slide_type": "subslide"
    }
   },
   "source": [
    "# Example continued (with CPTs)\n",
    "\n",
    "We have used **compact representations** of the CPTs (redundant parameters are not shown)\n",
    "\n",
    "Pay attention to CPT of $\\text{Alarm}$, it has two parents\n",
    "  * one conditional distribution per $\\text{Burglary}\\times \\text{Earhquake}$ conbination\n",
    "  * $2^2 = 4$ parameters\n",
    "\n",
    "<center><img src=\"./figs/burglarCPTs.png\" width = \"600\" height=\"400\"/></center>"
   ]
  },
  {
   "cell_type": "markdown",
   "id": "5fc58c27",
   "metadata": {
    "slideshow": {
     "slide_type": "fragment"
    }
   },
   "source": [
    "In total, for this Bayesian network, we need 10 parameters for the CPTs $\\{P\\}$: 1+1+4+2+2=10"
   ]
  },
  {
   "cell_type": "markdown",
   "id": "6b9425c9",
   "metadata": {
    "slideshow": {
     "slide_type": "slide"
    }
   },
   "source": [
    "# Baye's network encodes conditional independence relationships\n",
    "\n",
    "Bayesian network encodes **conditional independence** graphically: the simplest one is\n",
    "\n",
    "    \n",
    "<div class=\"alert alert-block alert-info\">\n",
    "<center> <b>Given its parents, a node is independent from all other nodes except its descendants</b> </center>\n",
    "</div>"
   ]
  },
  {
   "cell_type": "markdown",
   "id": "3a72a9bd",
   "metadata": {
    "slideshow": {
     "slide_type": "fragment"
    }
   },
   "source": [
    "For example, \n",
    "\n",
    "<center><img src=\"./figs/burglar.png\" width = \"400\" height=\"400\"/></center>\n",
    "\n",
    "John Calls is indepedent of Burglar and Earthquake given Alarm (Mary Calls is the same):\n",
    "\n",
    "$$JohnCall \\perp \\{Burglar, Earthquake, Mary Calls\\} \\mid Alarm$$\n",
    "  * `Alarm` is the parent of `JohnCalls`\n",
    "  \n",
    "which implies $\\require{cancel} P(\\text{JohnCalls}|\\text{Alarm}, \\cancel{Burglary, Earthquake, MaryCalls}) = P(\\text{JohnCalls}|\\text{Alarm})$"
   ]
  },
  {
   "cell_type": "markdown",
   "id": "37572770",
   "metadata": {
    "slideshow": {
     "slide_type": "subslide"
    }
   },
   "source": [
    "<center><img src=\"./figs/burglar.png\" width = \"400\" height=\"400\"/></center>\n",
    "\n",
    "We can also state the following CI relationships:\n",
    "$$Burglary \\perp  Earthquake|\\emptyset, \\text{ or simply}\\;\\; Burglary \\perp  Earthquake$$\n",
    "  * $Burglary$'s parent is $\\emptyset$: $\\{A,J, M\\}$ are $B$'s descendants, $E$ is the other r.v.\n",
    "\n",
    "Actually, all nodes without parents are independent: $\\{Burglary, Earthquake\\}$ "
   ]
  },
  {
   "cell_type": "markdown",
   "id": "a4e35d8e",
   "metadata": {
    "slideshow": {
     "slide_type": "fragment"
    }
   },
   "source": [
    "and more $$John calls \\perp Mary calls |Alarm$$\n",
    "  * the CI implies: $P(\\text{Mary calls}|\\text{Alarm},\\text{John calls}) = P(\\text{Mary calls}|\\text{Alarm})$"
   ]
  },
  {
   "cell_type": "markdown",
   "id": "6323ba41",
   "metadata": {
    "slideshow": {
     "slide_type": "slide"
    }
   },
   "source": [
    "# Bayesian network: joint distribution factorisation\n",
    "\n",
    "Due to the conditional independence relationship encoded in a BN, an important property emerges (**factoring property**):\n",
    "\n",
    "<div class=\"alert alert-block alert-info\">\n",
    "<center> <b>Joint distribution factorises as the product of CPTs: $P(X_1, X_2,\\ldots, X_n) = \\prod_{i=1}^n P(X_i|\\text{parent}(X_i))$</b> </center>\n",
    "</div>"
   ]
  },
  {
   "cell_type": "markdown",
   "id": "c3e5843a",
   "metadata": {
    "slideshow": {
     "slide_type": "subslide"
    }
   },
   "source": [
    "For example, due to chain rule, the joint distribution can be decomposed as\n",
    "    $$P(B, E, A,J,M) = P(B)P(E|B)P(A|B,E)P(J|B,E,A)P(M|B,E,A,J)$$"
   ]
  },
  {
   "cell_type": "markdown",
   "id": "e5d9b79d",
   "metadata": {
    "slideshow": {
     "slide_type": "fragment"
    }
   },
   "source": [
    "<center><img src=\"./figs/burglarCPTs.png\" width = \"650\" height=\"400\"/></center>"
   ]
  },
  {
   "cell_type": "markdown",
   "id": "90fd0302",
   "metadata": {
    "slideshow": {
     "slide_type": "fragment"
    }
   },
   "source": [
    "Due to CI assumptions encoded in the BN:\n",
    "\n",
    "$$\\begin{align}P(B,E, A,J,M) \n",
    "&= P(B)P(E|\\cancel{B})P(A|B,E)P(J|\\cancel{B,E},A)P(M|\\cancel{B,E},A,\\cancel{J})\\\\\n",
    "&=\\underbrace{P(B)P(E)P(A|B,E)P(J|A)P(M|A)}_{\\prod \\text{CPTs}}\\end{align}$$\n",
    "\n",
    "\n",
    "<div class=\"alert alert-block alert-info\">\n",
    "<center> <b>Joint distribution factorises as the product of CPTs: $P(X_1, X_2,\\ldots, X_n) = \\prod_{i=1}^n P(X_i|\\text{parent}(X_i))$</b> </center>\n",
    "</div>"
   ]
  },
  {
   "cell_type": "markdown",
   "id": "62f12a8f",
   "metadata": {
    "slideshow": {
     "slide_type": "slide"
    }
   },
   "source": [
    "# How to construct a Bayesian Network\n",
    "\n",
    "One thing we yet to mention is how a Bayesian Network can be constructed\n",
    "\n",
    "In light of the probability chain rule \n",
    "\n",
    "<div class=\"alert alert-block alert-info\">\n",
    "    <center> <b>$P(X_1, X_2,\\ldots, X_n) = P(X_1)P(X_2|X_1)P(X_3|X_2, X_1)\\ldots P(X_n|X_{n-1}, \\ldots)=\\prod_{i=1}^n P(X_i|X_{i-1}, \\ldots, X_1)$</b> </center>\n",
    "</div>\n",
    "\n",
    "and the factoring property encoded by a BN \n",
    "<div class=\"alert alert-block alert-info\">\n",
    "<center> <b>Joint distribution factorises as the product of CPTs: $P(X_1, X_2,\\ldots, X_n) = \\prod_{i=1}^n P(X_i|\\text{parent}(X_i))$</b> </center>\n",
    "</div>"
   ]
  },
  {
   "cell_type": "markdown",
   "id": "48c895c5",
   "metadata": {
    "slideshow": {
     "slide_type": "fragment"
    }
   },
   "source": [
    "To construct a BN (that satisfies the semantics):\n",
    "  * identify and number the random variables in *some* order $X_1, X_2, \\ldots, X_n$"
   ]
  },
  {
   "cell_type": "markdown",
   "id": "7529e383",
   "metadata": {
    "slideshow": {
     "slide_type": "fragment"
    }
   },
   "source": [
    "  * for each $X_i$ in the chosen order $1,2,\\ldots,n$\n",
    "    * identify $\\text{parent}(X_i) \\subseteq \\{X_{i-1}, X_{i-2}, \\ldots, X_1\\}$ then add the links\n",
    "      * only need to consider preceding nodes, *aka* topological order\n",
    "      * also avoid cycles (DAG: acyclic)\n",
    "    * add CPTs  "
   ]
  },
  {
   "cell_type": "markdown",
   "id": "aeb4bca5",
   "metadata": {
    "slideshow": {
     "slide_type": "slide"
    }
   },
   "source": [
    "# An example with a good order\n",
    "\n",
    "The order we choose matters, the general rule is\n",
    "  * causes precede effects \n",
    "\n",
    "Consider the Burglary example with order: \\[Burglar, Earthquake, Alarm, John Calls, Mary Calls\\]\n",
    "\n",
    "The process goes \n",
    "1. Adding `Burglar`: No parents"
   ]
  },
  {
   "cell_type": "markdown",
   "id": "bd980de9",
   "metadata": {
    "slideshow": {
     "slide_type": "fragment"
    }
   },
   "source": [
    "2. Adding `Earthquake`: No parents (only need to consider `Burglary`: no reason to believe influence exists)"
   ]
  },
  {
   "cell_type": "markdown",
   "id": "27ece237",
   "metadata": {
    "slideshow": {
     "slide_type": "fragment"
    }
   },
   "source": [
    "3. Adding `Alarm`: and $\\text{parent}$(`Alarm`) = {`Burglary`, `Earthquake`}\n",
    "  * both have direct influence\n",
    "  * add directed edges (`Burglary`,`Alarm`), (`Earthquake`,`Alarm`)"
   ]
  },
  {
   "cell_type": "markdown",
   "id": "4a04c268",
   "metadata": {
    "slideshow": {
     "slide_type": "subslide"
    }
   },
   "source": [
    "4. Adding `JohnCalls`: and $\\text{parent}$(`JohnCalls`) = {`Alarm`}\n",
    "  * direct influence: `JohnCall` becomes conditional independent from `Burglary` and `Earthquake` given `Alarm`\n",
    "    * you may add `Earthquake` as parent as well: he may not make the call if there is an earthquake\n",
    "    * all models are wrong but some are useful \n",
    "  * add directed edges (`Alarm`,`JohnCalls`)"
   ]
  },
  {
   "cell_type": "markdown",
   "id": "179707fb",
   "metadata": {
    "slideshow": {
     "slide_type": "fragment"
    }
   },
   "source": [
    "5. Adding `MaryCalls`: and $\\text{parent}$(`MaryCalls`) = {`Alarm`}  \n"
   ]
  },
  {
   "cell_type": "markdown",
   "id": "d572440b",
   "metadata": {
    "slideshow": {
     "slide_type": "slide"
    }
   },
   "source": [
    "# An example with a bad order\n",
    "\n",
    "* Consider order \\[`MaryCalls`, `JohnCalls`, `Alarm`, `Burglar`, `Earthquake`\\]\n",
    "  * left BN \n",
    "  * numbers next nodes are required parameters for the CPT)\n",
    "    * in total 13 parameters \n",
    "* Consider order \\[`MaryCalls`, `JohnCalls`, `Earthquake`, `Burglar`, `Alarm` \\]\n",
    "  * right BN\n",
    "    * in total 31 parameters !\n",
    "\n",
    "<center><img src=\"./figs/wrongorders.png\" width = \"800\" height=\"400\"/></center>"
   ]
  },
  {
   "cell_type": "markdown",
   "id": "14fed2cb",
   "metadata": {
    "slideshow": {
     "slide_type": "subslide"
    }
   },
   "source": [
    "Conclusion: bad order leads to overly complicated model\n",
    "  * less compact: the orginal model has only 10 parameters\n",
    "  * harder to specify or learn the CPTs as well!\n",
    "  * too many parameters might also lead to overfitting"
   ]
  },
  {
   "cell_type": "markdown",
   "id": "a5f66997",
   "metadata": {
    "slideshow": {
     "slide_type": "subslide"
    }
   },
   "source": [
    "# Only causal relationships ?\n",
    "\n",
    "\n",
    "Consider the case: `Traffic` and `Rain`\n",
    "* Rain causes Traffic: so Traffic depends on Rain\n",
    "<center><img src=\"./figs/bnRainTraffic1.png\" width = \"400\" height=\"400\"/></center>\n",
    "\n",
    "We can calculate the joint distrubtion by $P(R,T)=P(R)P(T|R)$\n",
    "\n",
    "|R   | T |P(R,T) |\n",
    "| ---| ---   | ---     |\n",
    "| t  | t | 3/16 |\n",
    "| t  | f | 1/16 |\n",
    "| f  | t | 6/16 |\n",
    "| f  | f | 6/16 |"
   ]
  },
  {
   "cell_type": "markdown",
   "id": "94c6e45e",
   "metadata": {
    "slideshow": {
     "slide_type": "subslide"
    }
   },
   "source": [
    "We can also construct a BN the other way around `Traffic` to `Rain`:\n",
    "<center><img src=\"./figs/bnRainTraffic2.png\" width = \"400\" height=\"400\"/></center>\n",
    "\n",
    "* the joint distribution is $P(R,T)=P(T)P(R|T)$\n",
    "\n",
    "|R   | T |P(R,T) |\n",
    "| ---| ---   | ---|\n",
    "| t  | t | 3/16 |\n",
    "| t  | f | 1/16 |\n",
    "| f  | t | 6/16 |\n",
    "| f  | f | 6/16 |\n",
    "\n",
    "* the two Bayesian networks are **consistent**: as the $P(R,T)$ are the same\n",
    "  * all possible inference results are the same\n",
    "  \n",
    "* but the first one is much easier to specify, explanable, reasonable.   "
   ]
  },
  {
   "cell_type": "markdown",
   "id": "48ad8506",
   "metadata": {
    "slideshow": {
     "slide_type": "slide"
    }
   },
   "source": [
    "# Causality topological order\n",
    "\n",
    "If BN constructed in a causal order\n",
    "  * simpler (less edges, less parameters for CPTs)\n",
    "  * easier to elicit from experts\n",
    "  * better model interpretation\n",
    "  \n",
    "Meanwhile, BN needs not to be specified by causal order\n",
    "  * still consistent\n",
    "  * edges are **correlations** but not causality\n",
    "  \n",
    "So an edge of a BN after all   \n",
    "  * might encode causal relationship\n",
    "  * but mostly just conditional independence relationships (correlations)"
   ]
  },
  {
   "cell_type": "markdown",
   "id": "e6d5612f",
   "metadata": {
    "slideshow": {
     "slide_type": "slide"
    }
   },
   "source": [
    "# Summary\n",
    "\n",
    "* Bayesian networks \n",
    "  * each node is a r.v.\n",
    "  * edges encode CI relationships between r.v.s\n",
    "* How to construct a BN\n",
    "  * Topological order that follows cause-effect order makes compact BN"
   ]
  },
  {
   "cell_type": "markdown",
   "id": "0e59b5fe",
   "metadata": {
    "slideshow": {
     "slide_type": "slide"
    }
   },
   "source": [
    "# Next time\n",
    "\n",
    "* Exact inference: enumeration algorithm\n",
    "* Use software package to create BN\n",
    "* Case study of Sally Clark's case\n",
    "* Approximate inference (next week)\n",
    "  * sampling based algorithm (MCMC)"
   ]
  }
 ],
 "metadata": {
  "celltoolbar": "Slideshow",
  "kernelspec": {
   "display_name": "Python 3",
   "language": "python",
   "name": "python3"
  },
  "language_info": {
   "codemirror_mode": {
    "name": "ipython",
    "version": 3
   },
   "file_extension": ".py",
   "mimetype": "text/x-python",
   "name": "python",
   "nbconvert_exporter": "python",
   "pygments_lexer": "ipython3",
   "version": "3.9.2"
  },
  "rise": {
   "autolaunch": true,
   "enable_chalkboard": true
  }
 },
 "nbformat": 4,
 "nbformat_minor": 5
}